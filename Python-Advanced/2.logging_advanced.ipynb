{
 "cells": [
  {
   "cell_type": "markdown",
   "metadata": {},
   "source": [
    "# [Logging Advanced](https://www.youtube.com/watch?v=jxmzY9soFXg&t=53s)\n",
    "\n",
    "As we have not specified a logger by default __root__ will be taken as the logger. This is ok for small app/codes.\n",
    "![](images\\2.png)\n",
    "\n",
    "But it is not a good practice/idea for bigger apps/codes. Also, if the employee module is also imported in the beginning, by default the logger will be of __employee.py__ file. And the logging in __log_sample.py__ file i.e, __test.log__ at the end will not come up.\n",
    "\n",
    "```\n",
    "import logging\n",
    "import employee\n",
    "\n",
    "logging.basicConfig(filename=\"test.log\", level=logging.DEBUG,\n",
    "                    format = '%(asctime)s:%(levelname)s:%(message)s')\n",
    ".\n",
    ".\n",
    ".\n",
    ".\n",
    "```\n"
   ]
  },
  {
   "cell_type": "markdown",
   "metadata": {},
   "source": [
    "![](images\\5.png)"
   ]
  },
  {
   "cell_type": "markdown",
   "metadata": {},
   "source": [
    "Now the reason why the logs at the end of __1.log_sample.py__ is not coming up because in the employee module its at INFO level whereas at the end its in DEBUG level. So if we change `logging.debug()` to `logging.info()` statements we can see their logs too.\n",
    "\n",
    "![](images\\6.png)\n",
    "\n",
    "So even though we got the logs but its still in mess as its:\n",
    "- not in the log file we want.\n",
    "- not in the log levels we want,\n",
    "- not in the formatting we want. \n",
    "\n",
    "So unable to configure both of them seperately."
   ]
  },
  {
   "cell_type": "code",
   "execution_count": null,
   "metadata": {},
   "outputs": [],
   "source": []
  },
  {
   "cell_type": "code",
   "execution_count": null,
   "metadata": {},
   "outputs": [],
   "source": []
  },
  {
   "cell_type": "code",
   "execution_count": null,
   "metadata": {},
   "outputs": [],
   "source": []
  },
  {
   "cell_type": "code",
   "execution_count": null,
   "metadata": {},
   "outputs": [],
   "source": []
  }
 ],
 "metadata": {
  "kernelspec": {
   "display_name": "Python 3 (ipykernel)",
   "language": "python",
   "name": "python3"
  },
  "language_info": {
   "codemirror_mode": {
    "name": "ipython",
    "version": 3
   },
   "file_extension": ".py",
   "mimetype": "text/x-python",
   "name": "python",
   "nbconvert_exporter": "python",
   "pygments_lexer": "ipython3",
   "version": "3.9.7"
  }
 },
 "nbformat": 4,
 "nbformat_minor": 2
}
