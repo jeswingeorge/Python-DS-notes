{
 "cells": [
  {
   "cell_type": "markdown",
   "metadata": {},
   "source": [
    "### Learning Objectives \n",
    "At the end of this course, you should be able to:\n",
    "1. Define multivariate and bivariate analysis\n",
    "2. Describe association analysis\n",
    "3. Select associations between variables for analysis based on scatter plot\n",
    "4. Determine the covariance between two variables\n",
    "5. Define correlation\n",
    "6. Determine the correlation between two variables\n",
    "7. Distinguish between Pearson, Spearman and Kendall correlation coefficients\n",
    "8. Test the association between two categorical variables using the Chi-squared test\n",
    "9. Explain market basket analysis\n",
    "10. Find association rules in market basket analysis using support, confidence and lift\n",
    "11. Determine association rules using Apriori algorithm"
   ]
  },
  {
   "cell_type": "code",
   "execution_count": 1,
   "metadata": {
    "ExecuteTime": {
     "end_time": "2020-04-17T13:00:20.695555Z",
     "start_time": "2020-04-17T12:59:40.303887Z"
    }
   },
   "outputs": [],
   "source": [
    "import pandas as pd\n",
    "import numpy as np\n",
    "import matplotlib.pyplot as plt\n",
    "import seaborn as sns\n",
    "%matplotlib inline\n",
    "sns.set()\n",
    "\n",
    "# pandas defaults\n",
    "pd.options.display.max_columns = 500\n",
    "pd.options.display.max_rows = 500"
   ]
  },
  {
   "cell_type": "markdown",
   "metadata": {},
   "source": [
    "# Multivariate Analysis\n",
    "\n",
    "The design team at ABCarz Inc. is trying to come up with a new design for their upcoming automobile. Before the design begins, they collected data about various automobiles to understand what parameters in a car are likely to influence its turning radius, mileage and type like sports, van.\n",
    "\n",
    "Data about price, mileage, drive-train-type, engine-size, horsepower, fuel-tank-capacity, length, width, wheel-base etc. of about 90 cars is collected for this analysis."
   ]
  },
  {
   "cell_type": "code",
   "execution_count": 2,
   "metadata": {
    "ExecuteTime": {
     "end_time": "2020-04-17T13:00:21.036651Z",
     "start_time": "2020-04-17T13:00:20.695555Z"
    }
   },
   "outputs": [
    {
     "data": {
      "text/html": [
       "<div>\n",
       "<style scoped>\n",
       "    .dataframe tbody tr th:only-of-type {\n",
       "        vertical-align: middle;\n",
       "    }\n",
       "\n",
       "    .dataframe tbody tr th {\n",
       "        vertical-align: top;\n",
       "    }\n",
       "\n",
       "    .dataframe thead th {\n",
       "        text-align: right;\n",
       "    }\n",
       "</style>\n",
       "<table border=\"1\" class=\"dataframe\">\n",
       "  <thead>\n",
       "    <tr style=\"text-align: right;\">\n",
       "      <th></th>\n",
       "      <th>Manufacturer</th>\n",
       "      <th>Model</th>\n",
       "      <th>Type</th>\n",
       "      <th>Min.Price</th>\n",
       "      <th>Price</th>\n",
       "      <th>Max.Price</th>\n",
       "      <th>MPG.city</th>\n",
       "      <th>MPG.highway</th>\n",
       "      <th>AirBags</th>\n",
       "      <th>DriveTrain</th>\n",
       "      <th>Cylinders</th>\n",
       "      <th>EngineSize</th>\n",
       "      <th>Horsepower</th>\n",
       "      <th>RPM</th>\n",
       "      <th>Rev.per.mile</th>\n",
       "      <th>Man.trans.avail</th>\n",
       "      <th>Fuel.tank.capacity</th>\n",
       "      <th>Passengers</th>\n",
       "      <th>Length</th>\n",
       "      <th>Wheelbase</th>\n",
       "      <th>Width</th>\n",
       "      <th>Turn.circle</th>\n",
       "      <th>Rear.seat.room</th>\n",
       "      <th>Luggage.room</th>\n",
       "      <th>Weight</th>\n",
       "      <th>Origin</th>\n",
       "      <th>Make</th>\n",
       "    </tr>\n",
       "  </thead>\n",
       "  <tbody>\n",
       "    <tr>\n",
       "      <th>0</th>\n",
       "      <td>Acura</td>\n",
       "      <td>Integra</td>\n",
       "      <td>Small</td>\n",
       "      <td>12.9</td>\n",
       "      <td>15.9</td>\n",
       "      <td>18.8</td>\n",
       "      <td>25</td>\n",
       "      <td>31</td>\n",
       "      <td>None</td>\n",
       "      <td>Front</td>\n",
       "      <td>4</td>\n",
       "      <td>1.8</td>\n",
       "      <td>140</td>\n",
       "      <td>6300</td>\n",
       "      <td>2890</td>\n",
       "      <td>Yes</td>\n",
       "      <td>13.2</td>\n",
       "      <td>5</td>\n",
       "      <td>177</td>\n",
       "      <td>102</td>\n",
       "      <td>68</td>\n",
       "      <td>37</td>\n",
       "      <td>26.5</td>\n",
       "      <td>11.0</td>\n",
       "      <td>2705</td>\n",
       "      <td>non-USA</td>\n",
       "      <td>Acura Integra</td>\n",
       "    </tr>\n",
       "    <tr>\n",
       "      <th>1</th>\n",
       "      <td>Acura</td>\n",
       "      <td>Legend</td>\n",
       "      <td>Midsize</td>\n",
       "      <td>29.2</td>\n",
       "      <td>33.9</td>\n",
       "      <td>38.7</td>\n",
       "      <td>18</td>\n",
       "      <td>25</td>\n",
       "      <td>Driver &amp; Passenger</td>\n",
       "      <td>Front</td>\n",
       "      <td>6</td>\n",
       "      <td>3.2</td>\n",
       "      <td>200</td>\n",
       "      <td>5500</td>\n",
       "      <td>2335</td>\n",
       "      <td>Yes</td>\n",
       "      <td>18.0</td>\n",
       "      <td>5</td>\n",
       "      <td>195</td>\n",
       "      <td>115</td>\n",
       "      <td>71</td>\n",
       "      <td>38</td>\n",
       "      <td>30.0</td>\n",
       "      <td>15.0</td>\n",
       "      <td>3560</td>\n",
       "      <td>non-USA</td>\n",
       "      <td>Acura Legend</td>\n",
       "    </tr>\n",
       "    <tr>\n",
       "      <th>2</th>\n",
       "      <td>Audi</td>\n",
       "      <td>90</td>\n",
       "      <td>Compact</td>\n",
       "      <td>25.9</td>\n",
       "      <td>29.1</td>\n",
       "      <td>32.3</td>\n",
       "      <td>20</td>\n",
       "      <td>26</td>\n",
       "      <td>Driver only</td>\n",
       "      <td>Front</td>\n",
       "      <td>6</td>\n",
       "      <td>2.8</td>\n",
       "      <td>172</td>\n",
       "      <td>5500</td>\n",
       "      <td>2280</td>\n",
       "      <td>Yes</td>\n",
       "      <td>16.9</td>\n",
       "      <td>5</td>\n",
       "      <td>180</td>\n",
       "      <td>102</td>\n",
       "      <td>67</td>\n",
       "      <td>37</td>\n",
       "      <td>28.0</td>\n",
       "      <td>14.0</td>\n",
       "      <td>3375</td>\n",
       "      <td>non-USA</td>\n",
       "      <td>Audi 90</td>\n",
       "    </tr>\n",
       "    <tr>\n",
       "      <th>3</th>\n",
       "      <td>Audi</td>\n",
       "      <td>100</td>\n",
       "      <td>Midsize</td>\n",
       "      <td>30.8</td>\n",
       "      <td>37.7</td>\n",
       "      <td>44.6</td>\n",
       "      <td>19</td>\n",
       "      <td>26</td>\n",
       "      <td>Driver &amp; Passenger</td>\n",
       "      <td>Front</td>\n",
       "      <td>6</td>\n",
       "      <td>2.8</td>\n",
       "      <td>172</td>\n",
       "      <td>5500</td>\n",
       "      <td>2535</td>\n",
       "      <td>Yes</td>\n",
       "      <td>21.1</td>\n",
       "      <td>6</td>\n",
       "      <td>193</td>\n",
       "      <td>106</td>\n",
       "      <td>70</td>\n",
       "      <td>37</td>\n",
       "      <td>31.0</td>\n",
       "      <td>17.0</td>\n",
       "      <td>3405</td>\n",
       "      <td>non-USA</td>\n",
       "      <td>Audi 100</td>\n",
       "    </tr>\n",
       "    <tr>\n",
       "      <th>4</th>\n",
       "      <td>BMW</td>\n",
       "      <td>535i</td>\n",
       "      <td>Midsize</td>\n",
       "      <td>23.7</td>\n",
       "      <td>30.0</td>\n",
       "      <td>36.2</td>\n",
       "      <td>22</td>\n",
       "      <td>30</td>\n",
       "      <td>Driver only</td>\n",
       "      <td>Rear</td>\n",
       "      <td>4</td>\n",
       "      <td>3.5</td>\n",
       "      <td>208</td>\n",
       "      <td>5700</td>\n",
       "      <td>2545</td>\n",
       "      <td>Yes</td>\n",
       "      <td>21.1</td>\n",
       "      <td>4</td>\n",
       "      <td>186</td>\n",
       "      <td>109</td>\n",
       "      <td>69</td>\n",
       "      <td>39</td>\n",
       "      <td>27.0</td>\n",
       "      <td>13.0</td>\n",
       "      <td>3640</td>\n",
       "      <td>non-USA</td>\n",
       "      <td>BMW 535i</td>\n",
       "    </tr>\n",
       "  </tbody>\n",
       "</table>\n",
       "</div>"
      ],
      "text/plain": [
       "  Manufacturer    Model     Type  Min.Price  Price  Max.Price  MPG.city  \\\n",
       "0        Acura  Integra    Small       12.9   15.9       18.8        25   \n",
       "1        Acura   Legend  Midsize       29.2   33.9       38.7        18   \n",
       "2         Audi       90  Compact       25.9   29.1       32.3        20   \n",
       "3         Audi      100  Midsize       30.8   37.7       44.6        19   \n",
       "4          BMW     535i  Midsize       23.7   30.0       36.2        22   \n",
       "\n",
       "   MPG.highway             AirBags DriveTrain Cylinders  EngineSize  \\\n",
       "0           31                None      Front         4         1.8   \n",
       "1           25  Driver & Passenger      Front         6         3.2   \n",
       "2           26         Driver only      Front         6         2.8   \n",
       "3           26  Driver & Passenger      Front         6         2.8   \n",
       "4           30         Driver only       Rear         4         3.5   \n",
       "\n",
       "   Horsepower   RPM  Rev.per.mile Man.trans.avail  Fuel.tank.capacity  \\\n",
       "0         140  6300          2890             Yes                13.2   \n",
       "1         200  5500          2335             Yes                18.0   \n",
       "2         172  5500          2280             Yes                16.9   \n",
       "3         172  5500          2535             Yes                21.1   \n",
       "4         208  5700          2545             Yes                21.1   \n",
       "\n",
       "   Passengers  Length  Wheelbase  Width  Turn.circle  Rear.seat.room  \\\n",
       "0           5     177        102     68           37            26.5   \n",
       "1           5     195        115     71           38            30.0   \n",
       "2           5     180        102     67           37            28.0   \n",
       "3           6     193        106     70           37            31.0   \n",
       "4           4     186        109     69           39            27.0   \n",
       "\n",
       "   Luggage.room  Weight   Origin           Make  \n",
       "0          11.0    2705  non-USA  Acura Integra  \n",
       "1          15.0    3560  non-USA   Acura Legend  \n",
       "2          14.0    3375  non-USA        Audi 90  \n",
       "3          17.0    3405  non-USA       Audi 100  \n",
       "4          13.0    3640  non-USA       BMW 535i  "
      ]
     },
     "execution_count": 2,
     "metadata": {},
     "output_type": "execute_result"
    }
   ],
   "source": [
    "df = pd.read_csv(\"Cars93.csv\").drop(columns='Unnamed: 0')\n",
    "df.head()"
   ]
  },
  {
   "cell_type": "markdown",
   "metadata": {},
   "source": [
    "Cars were selected at random from among 1993 passenger car models that were listed in both the \"Consumer Reports\" issue and the \"PACE Buying Guide\". Pickup trucks and Sport/Utility vehicles were eliminated due to incomplete information in the Consumer Reports source. Duplicate models (e.g., Dodge Shadow and Plymouth Sundance) were listed at most once.\n",
    "\n",
    "The Cars93 data frame has 93 rows and 27 columns. The details of the 27 columns are as follows:\n",
    "\n",
    "Manufacturer: Manufacturer of the car such as Audi, BMW, Cadillac, Chevrolet etc.\n",
    "\n",
    "Model: Model of the car such as Corvette (Chevrolet), 535i (BMW) etc.\n",
    "\n",
    "Type: Indicates the type of the car. Is a factor with levels \"Small\", \"Sporty\", \"Compact\", \"Midsize\", \"Large\" and \"Van\"\n",
    "\n",
    "Min.Price: Minimum Price (in $1,000): price for a basic version of the car.\n",
    "\n",
    "Price: Midrange Price (in $1,000): average of Min.Price and Max.Price.\n",
    "\n",
    "Max.Price: Maximum Price (in $1,000): price for \"a premium version\" of the car.\n",
    "\n",
    "MPG.city: City MPG (miles per US gallon by EPA rating).\n",
    "\n",
    "MPG.highway: Highway MPG (miles per US gallon by EPA rating).\n",
    "\n",
    "AirBags: Is a factor with levels \"none\", \"driver only\", and \"driver & passenger\".\n",
    "\n",
    "DriveTrain: Indicates the drive train type of the car. Is a factor with levels: rear wheel, front wheel and 4WD.\n",
    "\n",
    "Cylinders: Number of cylinders in the engine.\n",
    "\n",
    "EngineSize: Size of the engine (litres).\n",
    "\n",
    "Horsepower: Maximum horsepower of the car.\n",
    "\n",
    "RPM: Revolutions per minute (RPM) at maximum horsepower.\n",
    "\n",
    "Rev.per.mile: Engine revolutions per mile (in highest gear).\n",
    "\n",
    "Man.trans.avail: Indicates if a manual transmission version is available. Is a factor with level yes or no.\n",
    "\n",
    "Fuel.tank.capacity: Fuel tank capacity (US gallons).\n",
    "\n",
    "Passengers: Passenger capacity (persons)\n",
    "\n",
    "Length: Length of the car (inches).\n",
    "\n",
    "Wheelbase: Wheelbase (inches).\n",
    "\n",
    "Width: Width of the car (inches).\n",
    "\n",
    "Turn.circle: U-turn space (feet).\n",
    "\n",
    "Rear.seat.room: Rear seat room (inches)\n",
    "\n",
    "Luggage.room: Luggage capacity (cubic feet).\n",
    "\n",
    "Weight: Weight of the car (pounds).\n",
    "\n",
    "Origin: Indicates the origin of the manufacturer. Is a factor with levels non-USA or USA.\n",
    "\n",
    "Make: Combination of Manufacturer and Model.\n",
    "\n",
    "***\n",
    "\n",
    "#### Exploring the data set\n",
    "\n",
    "This is a multivariate data as it has multiple parameters such as price, mileage, drive train type, engine size, horsepower, fuel tank capacity, length, width, and wheelbase.\n",
    "\n",
    "The given dataset contains both categorical and numeric parameters. Type, DriveTrain, AirBags, Cylinders, Man.trans.avail and Origin are some of the categorical parameters whereas Length, Width, Wheelbase, Turn.cirlce, EngineSize, Horsepower, RPM, and MPG.city are some of the numerical parameters available.\n",
    "\n",
    "Recall that parameters in a data set can be considered as variables which can be dependent or independent in nature. A variable is said to be dependent if its value changes based on another variable.\n",
    "\n",
    "***\n",
    "\n",
    "#### Parameters of interest\n",
    "The design team has a high interest in analyzing parameters that are likely to influence the mileage of a car, its turn circle and its type. Considering the above viewpoint let us eliminate the following parameters.\n",
    "\n",
    "1. Manufacturer, Model, Make: Analysis is being done independently of the manufacturer, model and make.\n",
    "2. Min.Price, Max.Price, Price: Analysis is being done independently of the price of a car\n",
    "3. MPG.Highway: MPG.city and MPG.Highway are seen to follow a similar trend for a car. Hence only one of these are being considered i.e. MPG.city.\n",
    "4. No. of passengers, rear seat room, luggage room, origin, manual transmission availability.\n",
    "\n",
    "After eliminating the above said 12 parameters from the data set, the remaining 15 parameters are being considered for further study.\n"
   ]
  },
  {
   "cell_type": "code",
   "execution_count": 3,
   "metadata": {
    "ExecuteTime": {
     "end_time": "2020-04-17T13:00:21.068641Z",
     "start_time": "2020-04-17T13:00:21.044649Z"
    }
   },
   "outputs": [],
   "source": [
    "cars93reduced = df[[\"Type\",\"MPG.city\",\"AirBags\",\"DriveTrain\",\"Cylinders\",\"EngineSize\",\"Horsepower\",\"RPM\",\"Rev.per.mile\",\n",
    "                    \"Fuel.tank.capacity\",\"Length\",\"Wheelbase\",\"Width\",\"Turn.circle\",\"Weight\"]]"
   ]
  },
  {
   "cell_type": "markdown",
   "metadata": {},
   "source": [
    "Of these 15 parameters, 12 are numeric and 3 are categorical. Few rows of this data are shown below."
   ]
  },
  {
   "cell_type": "code",
   "execution_count": 4,
   "metadata": {
    "ExecuteTime": {
     "end_time": "2020-04-17T13:00:21.247155Z",
     "start_time": "2020-04-17T13:00:21.072639Z"
    }
   },
   "outputs": [
    {
     "data": {
      "text/html": [
       "<div>\n",
       "<style scoped>\n",
       "    .dataframe tbody tr th:only-of-type {\n",
       "        vertical-align: middle;\n",
       "    }\n",
       "\n",
       "    .dataframe tbody tr th {\n",
       "        vertical-align: top;\n",
       "    }\n",
       "\n",
       "    .dataframe thead th {\n",
       "        text-align: right;\n",
       "    }\n",
       "</style>\n",
       "<table border=\"1\" class=\"dataframe\">\n",
       "  <thead>\n",
       "    <tr style=\"text-align: right;\">\n",
       "      <th></th>\n",
       "      <th>Type</th>\n",
       "      <th>MPG.city</th>\n",
       "      <th>AirBags</th>\n",
       "      <th>DriveTrain</th>\n",
       "      <th>Cylinders</th>\n",
       "      <th>EngineSize</th>\n",
       "      <th>Horsepower</th>\n",
       "      <th>RPM</th>\n",
       "      <th>Rev.per.mile</th>\n",
       "      <th>Fuel.tank.capacity</th>\n",
       "      <th>Length</th>\n",
       "      <th>Wheelbase</th>\n",
       "      <th>Width</th>\n",
       "      <th>Turn.circle</th>\n",
       "      <th>Weight</th>\n",
       "    </tr>\n",
       "  </thead>\n",
       "  <tbody>\n",
       "    <tr>\n",
       "      <th>0</th>\n",
       "      <td>Small</td>\n",
       "      <td>25</td>\n",
       "      <td>None</td>\n",
       "      <td>Front</td>\n",
       "      <td>4</td>\n",
       "      <td>1.8</td>\n",
       "      <td>140</td>\n",
       "      <td>6300</td>\n",
       "      <td>2890</td>\n",
       "      <td>13.2</td>\n",
       "      <td>177</td>\n",
       "      <td>102</td>\n",
       "      <td>68</td>\n",
       "      <td>37</td>\n",
       "      <td>2705</td>\n",
       "    </tr>\n",
       "    <tr>\n",
       "      <th>1</th>\n",
       "      <td>Midsize</td>\n",
       "      <td>18</td>\n",
       "      <td>Driver &amp; Passenger</td>\n",
       "      <td>Front</td>\n",
       "      <td>6</td>\n",
       "      <td>3.2</td>\n",
       "      <td>200</td>\n",
       "      <td>5500</td>\n",
       "      <td>2335</td>\n",
       "      <td>18.0</td>\n",
       "      <td>195</td>\n",
       "      <td>115</td>\n",
       "      <td>71</td>\n",
       "      <td>38</td>\n",
       "      <td>3560</td>\n",
       "    </tr>\n",
       "    <tr>\n",
       "      <th>2</th>\n",
       "      <td>Compact</td>\n",
       "      <td>20</td>\n",
       "      <td>Driver only</td>\n",
       "      <td>Front</td>\n",
       "      <td>6</td>\n",
       "      <td>2.8</td>\n",
       "      <td>172</td>\n",
       "      <td>5500</td>\n",
       "      <td>2280</td>\n",
       "      <td>16.9</td>\n",
       "      <td>180</td>\n",
       "      <td>102</td>\n",
       "      <td>67</td>\n",
       "      <td>37</td>\n",
       "      <td>3375</td>\n",
       "    </tr>\n",
       "    <tr>\n",
       "      <th>3</th>\n",
       "      <td>Midsize</td>\n",
       "      <td>19</td>\n",
       "      <td>Driver &amp; Passenger</td>\n",
       "      <td>Front</td>\n",
       "      <td>6</td>\n",
       "      <td>2.8</td>\n",
       "      <td>172</td>\n",
       "      <td>5500</td>\n",
       "      <td>2535</td>\n",
       "      <td>21.1</td>\n",
       "      <td>193</td>\n",
       "      <td>106</td>\n",
       "      <td>70</td>\n",
       "      <td>37</td>\n",
       "      <td>3405</td>\n",
       "    </tr>\n",
       "    <tr>\n",
       "      <th>4</th>\n",
       "      <td>Midsize</td>\n",
       "      <td>22</td>\n",
       "      <td>Driver only</td>\n",
       "      <td>Rear</td>\n",
       "      <td>4</td>\n",
       "      <td>3.5</td>\n",
       "      <td>208</td>\n",
       "      <td>5700</td>\n",
       "      <td>2545</td>\n",
       "      <td>21.1</td>\n",
       "      <td>186</td>\n",
       "      <td>109</td>\n",
       "      <td>69</td>\n",
       "      <td>39</td>\n",
       "      <td>3640</td>\n",
       "    </tr>\n",
       "  </tbody>\n",
       "</table>\n",
       "</div>"
      ],
      "text/plain": [
       "      Type  MPG.city             AirBags DriveTrain Cylinders  EngineSize  \\\n",
       "0    Small        25                None      Front         4         1.8   \n",
       "1  Midsize        18  Driver & Passenger      Front         6         3.2   \n",
       "2  Compact        20         Driver only      Front         6         2.8   \n",
       "3  Midsize        19  Driver & Passenger      Front         6         2.8   \n",
       "4  Midsize        22         Driver only       Rear         4         3.5   \n",
       "\n",
       "   Horsepower   RPM  Rev.per.mile  Fuel.tank.capacity  Length  Wheelbase  \\\n",
       "0         140  6300          2890                13.2     177        102   \n",
       "1         200  5500          2335                18.0     195        115   \n",
       "2         172  5500          2280                16.9     180        102   \n",
       "3         172  5500          2535                21.1     193        106   \n",
       "4         208  5700          2545                21.1     186        109   \n",
       "\n",
       "   Width  Turn.circle  Weight  \n",
       "0     68           37    2705  \n",
       "1     71           38    3560  \n",
       "2     67           37    3375  \n",
       "3     70           37    3405  \n",
       "4     69           39    3640  "
      ]
     },
     "execution_count": 4,
     "metadata": {},
     "output_type": "execute_result"
    }
   ],
   "source": [
    "cars93reduced.head()"
   ]
  },
  {
   "cell_type": "code",
   "execution_count": 5,
   "metadata": {
    "ExecuteTime": {
     "end_time": "2020-04-17T13:00:21.435130Z",
     "start_time": "2020-04-17T13:00:21.259155Z"
    }
   },
   "outputs": [
    {
     "name": "stdout",
     "output_type": "stream",
     "text": [
      "<class 'pandas.core.frame.DataFrame'>\n",
      "RangeIndex: 93 entries, 0 to 92\n",
      "Data columns (total 15 columns):\n",
      " #   Column              Non-Null Count  Dtype  \n",
      "---  ------              --------------  -----  \n",
      " 0   Type                93 non-null     object \n",
      " 1   MPG.city            93 non-null     int64  \n",
      " 2   AirBags             93 non-null     object \n",
      " 3   DriveTrain          93 non-null     object \n",
      " 4   Cylinders           93 non-null     object \n",
      " 5   EngineSize          93 non-null     float64\n",
      " 6   Horsepower          93 non-null     int64  \n",
      " 7   RPM                 93 non-null     int64  \n",
      " 8   Rev.per.mile        93 non-null     int64  \n",
      " 9   Fuel.tank.capacity  93 non-null     float64\n",
      " 10  Length              93 non-null     int64  \n",
      " 11  Wheelbase           93 non-null     int64  \n",
      " 12  Width               93 non-null     int64  \n",
      " 13  Turn.circle         93 non-null     int64  \n",
      " 14  Weight              93 non-null     int64  \n",
      "dtypes: float64(2), int64(9), object(4)\n",
      "memory usage: 11.0+ KB\n"
     ]
    }
   ],
   "source": [
    "cars93reduced.info()"
   ]
  },
  {
   "cell_type": "markdown",
   "metadata": {},
   "source": [
    "The analysis of the given dataset is multivariate analysis since it takes multiple variables into consideration."
   ]
  },
  {
   "cell_type": "markdown",
   "metadata": {},
   "source": [
    "***\n",
    "\n",
    "# Association analysis\n",
    "\n",
    "Association analysis or Association rule learning is a method for discovering interesting associations between variables in datasets. Association analysis deals with finding the degree and direction of the relationship between two variables. The __degree/strength__ indicates the magnitude with which two variables may be associated. The __direction__ indicates if the association between them is directly or inversely proportional.\n",
    "\n",
    "Consider an outcome variable y and predictor variable x, the relationship between y and x can be represented as y=f(x). If y and x have a linear relationship, then f(x) may be represented as ax+b and thus y=ax+b.\n",
    "\n",
    "For a variable y which can be predicted based on x, it can be said that a change in x influences y, whereas it cannot be guaranteed that a change in y indicates a change in x. For example, if rainfall is high there may be a greater sale of umbrellas, but having a greater sale of umbrellas need not indicate higher rainfall.\n",
    "\n",
    "In the given sample dataset, if the turn-circle of a car can be influenced by its length, then turn-circle is said to be the outcome whereas length is said to be the predictor variable.\n",
    "\n",
    "To find out whether length influences the turn-circle of a car, we study the association between these variables. Such study is termed Association analysis. There are two types of analysis __multivariate and bivariate__.\n",
    "\n",
    "> __Multivariate analysis__ is the statistical process of simultaneously analyzing multiple variables. When only two variables are being analyzed then such analysis is termed as __bivariate analysis__.\n",
    "\n",
    "The variables being analyzed may either be dependent or independent in nature. A dependent variable can be called outcome or criterion, while the variable(s) on which it depends can be called predictor(s). In bivariate analysis, there is one predictor and one outcome variable.\n",
    "\n",
    "\n",
    "### Scatter Plot\n",
    "\n",
    "A scatter plot can be used to get an insight into the nature of the relationship between two numeric variables. \n",
    "\n",
    "Using a scatter plot, one can visually determine whether there exists a linear association between the two variables. The scatter plot matrix of the chosen numeric variables of the given data set is shown below. Let us see an example of MPG.city plotting with other columns except MPG.city in our cars93reduced."
   ]
  },
  {
   "cell_type": "code",
   "execution_count": 6,
   "metadata": {
    "ExecuteTime": {
     "end_time": "2020-04-17T13:00:26.779230Z",
     "start_time": "2020-04-17T13:00:21.443109Z"
    }
   },
   "outputs": [
    {
     "data": {
      "image/png": "[encoded data removed]",
      "text/plain": [
       "<Figure size 1080x1080 with 12 Axes>"
      ]
     },
     "metadata": {},
     "output_type": "display_data"
    }
   ],
   "source": [
    "import matplotlib.pyplot as plt\n",
    "selcols = [\"Type\",\"AirBags\",\"DriveTrain\",\"Cylinders\",\"EngineSize\",\"Horsepower\",\"RPM\",\"Rev.per.mile\",\"Fuel.tank.capacity\",\n",
    "           \"Length\",\"Wheelbase\",\"Width\",\"Turn.circle\",\"Weight\"]\n",
    "fig, ax = plt.subplots(4, 3,squeeze=False,figsize=(15,15))\n",
    "count = 0\n",
    "for i in range(4):\n",
    "    for j in range(3):\n",
    "        ax[i, j].scatter(cars93reduced[selcols[count]],cars93reduced[\"MPG.city\"],label=selcols[count])\n",
    "        ax[i, j].legend()\n",
    "        count+=1\n"
   ]
  },
  {
   "cell_type": "markdown",
   "metadata": {},
   "source": [
    "While performing association analysis, one might consider a subset of all possible associations between variables in a dataset because all the associations may not give insight into which feature may be important in that dataset. \n",
    "\n",
    "Using the previous scatter plot matrix, some of the relationships can be eliminated from further analysis. For example, there might be relationships between RPM and MPG.city, RPM and Wheelbase, RPM and Horsepower, Horsepower and Wheelbase, etc. as shown below."
   ]
  },
  {
   "cell_type": "code",
   "execution_count": 7,
   "metadata": {
    "ExecuteTime": {
     "end_time": "2020-04-17T13:00:31.982450Z",
     "start_time": "2020-04-17T13:00:26.783233Z"
    }
   },
   "outputs": [
    {
     "data": {
      "image/png": "[encoded data removed]",
      "text/plain": [
       "<Figure size 720x720 with 20 Axes>"
      ]
     },
     "metadata": {},
     "output_type": "display_data"
    }
   ],
   "source": [
    "sns.pairplot(cars93reduced, vars=[\"Horsepower\",\"RPM\",\"Wheelbase\",\"MPG.city\"]);"
   ]
  },
  {
   "cell_type": "markdown",
   "metadata": {},
   "source": [
    "However, the association between __RPM and MPG.City__, __Horsepower and Wheelbase__ looks interesting as compared to others as it suggests a linear relationship. Therefore, one might choose these associations (RPM and MPG.city, Horsepower and Wheelbase) for further analysis."
   ]
  },
  {
   "cell_type": "markdown",
   "metadata": {},
   "source": [
    "### Applications of association analysis\n",
    "\n",
    "Some scenarios where association analysis is being used are:\n",
    "\n",
    "1. Credit card purchases can provide insight into the type of products a customer is likely to purchase. Using the credit card statements, one can determine if the customer spends more on household items/ jewellery etc.\n",
    "\n",
    "2. Supermarkets can rearrange their shelves by understanding the combinations of frequently bought items. For example, if the supermarket observes that bread and butter are frequently purchased together, then the supermarket may choose to place these items close to each other.\n",
    "\n",
    "3. Telecommunication agencies can structure product bundles based on commonly associated options (internet packs, SMS services and other value added services) to maximize revenue.\n",
    "\n",
    "4. Click stream analysis on websites is used to observe patterns in user’s browsing behavior in order to deliver content accordingly. For example, the click stream analysis may suggest that visitors who land on a webpage X, clicked on links A, B and C more often than on links D,E and F. Such observations provide an insight on how to personalize and recommend the content to website visitors."
   ]
  },
  {
   "cell_type": "markdown",
   "metadata": {},
   "source": [
    "***\n",
    "\n",
    "## Finding associations\n",
    "\n",
    "The design team wants to figure out which parameters of the data may be related. They speculate that the following associations are possible.\n",
    "\n",
    "1. MPG.City and EngineSize\n",
    "2. MPG.City and Horsepower\n",
    "3. MPG.City and RPM\n",
    "4. EngineSize and Horsepower\n",
    "5. RPM and Horsepower\n",
    "6. Length and Wheelbase\n",
    "7. Length and Turn.Circle\n",
    "8. Wheelbase and Turn.Circle\n",
    "9. DriveTrain and Type\n",
    "10. Type and AirBags\n",
    "11. DriveTrain and MPG.City\n",
    "12. Horsepower and Type\n",
    "\n",
    "In the given data set, DriveTrain, Type and AirBags are categorical variables, whereas MPG.City, Horsepower, RPM, Turn.circle, Length, Wheelbase and EngineSize are numeric variables as shown below."
   ]
  },
  {
   "cell_type": "markdown",
   "metadata": {},
   "source": [
    "> Associations 1 to 8 suggests the association between two numeric variables, 9 and 10 suggest an association between two categorical variables whereas 11 and 12 suggest an association between a numeric and a categorical variable."
   ]
  },
  {
   "cell_type": "code",
   "execution_count": 8,
   "metadata": {
    "ExecuteTime": {
     "end_time": "2020-04-17T13:00:32.014446Z",
     "start_time": "2020-04-17T13:00:31.986450Z"
    }
   },
   "outputs": [
    {
     "data": {
      "text/html": [
       "<div>\n",
       "<style scoped>\n",
       "    .dataframe tbody tr th:only-of-type {\n",
       "        vertical-align: middle;\n",
       "    }\n",
       "\n",
       "    .dataframe tbody tr th {\n",
       "        vertical-align: top;\n",
       "    }\n",
       "\n",
       "    .dataframe thead th {\n",
       "        text-align: right;\n",
       "    }\n",
       "</style>\n",
       "<table border=\"1\" class=\"dataframe\">\n",
       "  <thead>\n",
       "    <tr style=\"text-align: right;\">\n",
       "      <th></th>\n",
       "      <th>MPG.city</th>\n",
       "      <th>EngineSize</th>\n",
       "      <th>Horsepower</th>\n",
       "      <th>RPM</th>\n",
       "      <th>Length</th>\n",
       "      <th>Wheelbase</th>\n",
       "      <th>Turn.circle</th>\n",
       "      <th>DriveTrain</th>\n",
       "      <th>Type</th>\n",
       "      <th>AirBags</th>\n",
       "    </tr>\n",
       "  </thead>\n",
       "  <tbody>\n",
       "    <tr>\n",
       "      <th>0</th>\n",
       "      <td>25</td>\n",
       "      <td>1.8</td>\n",
       "      <td>140</td>\n",
       "      <td>6300</td>\n",
       "      <td>177</td>\n",
       "      <td>102</td>\n",
       "      <td>37</td>\n",
       "      <td>Front</td>\n",
       "      <td>Small</td>\n",
       "      <td>None</td>\n",
       "    </tr>\n",
       "    <tr>\n",
       "      <th>1</th>\n",
       "      <td>18</td>\n",
       "      <td>3.2</td>\n",
       "      <td>200</td>\n",
       "      <td>5500</td>\n",
       "      <td>195</td>\n",
       "      <td>115</td>\n",
       "      <td>38</td>\n",
       "      <td>Front</td>\n",
       "      <td>Midsize</td>\n",
       "      <td>Driver &amp; Passenger</td>\n",
       "    </tr>\n",
       "    <tr>\n",
       "      <th>2</th>\n",
       "      <td>20</td>\n",
       "      <td>2.8</td>\n",
       "      <td>172</td>\n",
       "      <td>5500</td>\n",
       "      <td>180</td>\n",
       "      <td>102</td>\n",
       "      <td>37</td>\n",
       "      <td>Front</td>\n",
       "      <td>Compact</td>\n",
       "      <td>Driver only</td>\n",
       "    </tr>\n",
       "    <tr>\n",
       "      <th>3</th>\n",
       "      <td>19</td>\n",
       "      <td>2.8</td>\n",
       "      <td>172</td>\n",
       "      <td>5500</td>\n",
       "      <td>193</td>\n",
       "      <td>106</td>\n",
       "      <td>37</td>\n",
       "      <td>Front</td>\n",
       "      <td>Midsize</td>\n",
       "      <td>Driver &amp; Passenger</td>\n",
       "    </tr>\n",
       "    <tr>\n",
       "      <th>4</th>\n",
       "      <td>22</td>\n",
       "      <td>3.5</td>\n",
       "      <td>208</td>\n",
       "      <td>5700</td>\n",
       "      <td>186</td>\n",
       "      <td>109</td>\n",
       "      <td>39</td>\n",
       "      <td>Rear</td>\n",
       "      <td>Midsize</td>\n",
       "      <td>Driver only</td>\n",
       "    </tr>\n",
       "    <tr>\n",
       "      <th>5</th>\n",
       "      <td>22</td>\n",
       "      <td>2.2</td>\n",
       "      <td>110</td>\n",
       "      <td>5200</td>\n",
       "      <td>189</td>\n",
       "      <td>105</td>\n",
       "      <td>41</td>\n",
       "      <td>Front</td>\n",
       "      <td>Midsize</td>\n",
       "      <td>Driver only</td>\n",
       "    </tr>\n",
       "    <tr>\n",
       "      <th>6</th>\n",
       "      <td>19</td>\n",
       "      <td>3.8</td>\n",
       "      <td>170</td>\n",
       "      <td>4800</td>\n",
       "      <td>200</td>\n",
       "      <td>111</td>\n",
       "      <td>42</td>\n",
       "      <td>Front</td>\n",
       "      <td>Large</td>\n",
       "      <td>Driver only</td>\n",
       "    </tr>\n",
       "    <tr>\n",
       "      <th>7</th>\n",
       "      <td>16</td>\n",
       "      <td>5.7</td>\n",
       "      <td>180</td>\n",
       "      <td>4000</td>\n",
       "      <td>216</td>\n",
       "      <td>116</td>\n",
       "      <td>45</td>\n",
       "      <td>Rear</td>\n",
       "      <td>Large</td>\n",
       "      <td>Driver only</td>\n",
       "    </tr>\n",
       "    <tr>\n",
       "      <th>8</th>\n",
       "      <td>19</td>\n",
       "      <td>3.8</td>\n",
       "      <td>170</td>\n",
       "      <td>4800</td>\n",
       "      <td>198</td>\n",
       "      <td>108</td>\n",
       "      <td>41</td>\n",
       "      <td>Front</td>\n",
       "      <td>Midsize</td>\n",
       "      <td>Driver only</td>\n",
       "    </tr>\n",
       "    <tr>\n",
       "      <th>9</th>\n",
       "      <td>16</td>\n",
       "      <td>4.9</td>\n",
       "      <td>200</td>\n",
       "      <td>4100</td>\n",
       "      <td>206</td>\n",
       "      <td>114</td>\n",
       "      <td>43</td>\n",
       "      <td>Front</td>\n",
       "      <td>Large</td>\n",
       "      <td>Driver only</td>\n",
       "    </tr>\n",
       "  </tbody>\n",
       "</table>\n",
       "</div>"
      ],
      "text/plain": [
       "   MPG.city  EngineSize  Horsepower   RPM  Length  Wheelbase  Turn.circle  \\\n",
       "0        25         1.8         140  6300     177        102           37   \n",
       "1        18         3.2         200  5500     195        115           38   \n",
       "2        20         2.8         172  5500     180        102           37   \n",
       "3        19         2.8         172  5500     193        106           37   \n",
       "4        22         3.5         208  5700     186        109           39   \n",
       "5        22         2.2         110  5200     189        105           41   \n",
       "6        19         3.8         170  4800     200        111           42   \n",
       "7        16         5.7         180  4000     216        116           45   \n",
       "8        19         3.8         170  4800     198        108           41   \n",
       "9        16         4.9         200  4100     206        114           43   \n",
       "\n",
       "  DriveTrain     Type             AirBags  \n",
       "0      Front    Small                None  \n",
       "1      Front  Midsize  Driver & Passenger  \n",
       "2      Front  Compact         Driver only  \n",
       "3      Front  Midsize  Driver & Passenger  \n",
       "4       Rear  Midsize         Driver only  \n",
       "5      Front  Midsize         Driver only  \n",
       "6      Front    Large         Driver only  \n",
       "7       Rear    Large         Driver only  \n",
       "8      Front  Midsize         Driver only  \n",
       "9      Front    Large         Driver only  "
      ]
     },
     "execution_count": 8,
     "metadata": {},
     "output_type": "execute_result"
    }
   ],
   "source": [
    "columns = [\"MPG.city\",\"EngineSize\",\"Horsepower\",\"RPM\",\"Length\",\"Wheelbase\",\"Turn.circle\",\"DriveTrain\",\"Type\",\"AirBags\"]\n",
    "cars93reduced[columns].head(10)"
   ]
  },
  {
   "cell_type": "markdown",
   "metadata": {},
   "source": [
    "Recall that to find out if the association between two numeric variables may be linear, a scatter plot is drawn. The scatter plot matrix for associations 1 to 5 comprising variables MPG.city, EngineSize, Horsepower and RPM is shown below."
   ]
  },
  {
   "cell_type": "code",
   "execution_count": 9,
   "metadata": {
    "ExecuteTime": {
     "end_time": "2020-04-17T13:00:37.391738Z",
     "start_time": "2020-04-17T13:00:32.018442Z"
    }
   },
   "outputs": [
    {
     "data": {
      "image/png": "[encoded data removed]",
      "text/plain": [
       "<Figure size 720x720 with 20 Axes>"
      ]
     },
     "metadata": {},
     "output_type": "display_data"
    }
   ],
   "source": [
    "sns.pairplot(cars93reduced, vars=[\"Horsepower\",\"RPM\",\"Wheelbase\",\"MPG.city\"]);"
   ]
  },
  {
   "cell_type": "markdown",
   "metadata": {},
   "source": [
    "The following associations seem to be linear based on the scatter plot:\n",
    "1. MPG.city and EngineSize\n",
    "2. MPG.city and Horsepower\n",
    "3. MPG.city and RPM\n",
    "4. EngineSize and Horsepower\n",
    "\n",
    "Similarly, the scatter plot matrix for associations 6 to 8 comprising variables Length, Wheelbase and Turn.cirlce shown below indicates possible linear associations between\n",
    "1. Length and Wheelbase\n",
    "2. Length and Turn.circle\n",
    "3. Wheelbase and Turn.circle"
   ]
  },
  {
   "cell_type": "code",
   "execution_count": 10,
   "metadata": {
    "ExecuteTime": {
     "end_time": "2020-04-17T13:00:40.625528Z",
     "start_time": "2020-04-17T13:00:37.395733Z"
    }
   },
   "outputs": [
    {
     "data": {
      "image/png": "[encoded data removed]",
      "text/plain": [
       "<Figure size 540x540 with 12 Axes>"
      ]
     },
     "metadata": {},
     "output_type": "display_data"
    }
   ],
   "source": [
    "sns.pairplot(cars93reduced, vars=[\"Length\",\"Wheelbase\",\"Turn.circle\"]);"
   ]
  },
  {
   "cell_type": "markdown",
   "metadata": {},
   "source": [
    "Based on the observations from the scatter plots, the following associations are selected for further analysis:\n",
    "\n",
    "1. MPG.city and EngineSize\n",
    "2. MPG.city and Horsepower\n",
    "3. MPG.city and RPM\n",
    "4. EngineSize and Horsepower\n",
    "5. Length and Wheelbase\n",
    "6. Length and Turn.circle\n",
    "7. Wheelbase and Turn.circle\n",
    "\n",
    "***\n",
    "\n",
    "## Covariance\n",
    "\n",
    "Given that there are linear associations between MPG.city and Horsepower, MPG.city and RPM, and MPG.city and EngineSize, the design team at ABCarz wants to understand the degree and direction of these associations.\n",
    "\n",
    "> __Covariance is a measure of how much two random variables change together. It helps measure the direction and strength (degree) of the linear association between a pair of numeric variables.__\n",
    "\n",
    "![](1.PNG)\n",
    "\n",
    "Covariance helps to understand the association between the variables X and Y. It helps to notice the effect of the change in the value of X on Y, i.e. if the value of X increases, does the value of Y increase or decrease.\n",
    "\n",
    "__If the covariance value is positive, it indicates that while observing an increase in the value of X, the value of Y is likely to increase (directly proportional). Similarly, if the covariance value is negative, it indicates that while observing a decrease in the value of X, the value of Y is likely to increase (inversely proportional).__\n",
    "\n",
    "While covariance helps determine the direction of the association, its magnitude/strength is not easy to interpret.\n",
    "\n",
    "> In Python, the covariance of X and Y can be calculated using `X.cov(Y)` Here X and Y are Data frame objects.\n",
    "\n",
    "Covariance of MPG.city and EngineSize can be computed as follows.\n",
    "\n",
    "![](2.PNG)\n",
    "\n",
    "Here, mean(MPG.city) = 22.36559 and mean(EngineSize) = 2.667741\n",
    "\n"
   ]
  },
  {
   "cell_type": "code",
   "execution_count": 11,
   "metadata": {
    "ExecuteTime": {
     "end_time": "2020-04-17T13:00:41.063328Z",
     "start_time": "2020-04-17T13:00:40.625528Z"
    }
   },
   "outputs": [
    {
     "data": {
      "text/plain": [
       "-4.139165497896213"
      ]
     },
     "execution_count": 11,
     "metadata": {},
     "output_type": "execute_result"
    }
   ],
   "source": [
    "sum((cars93reduced[\"MPG.city\"] - cars93reduced[\"MPG.city\"].mean()) * \n",
    "    (cars93reduced[\"EngineSize\"] - (cars93reduced[\"EngineSize\"].mean()))/(cars93reduced.shape[0]-1))"
   ]
  },
  {
   "cell_type": "code",
   "execution_count": 12,
   "metadata": {
    "ExecuteTime": {
     "end_time": "2020-04-17T13:00:41.264400Z",
     "start_time": "2020-04-17T13:00:41.075307Z"
    }
   },
   "outputs": [
    {
     "data": {
      "text/plain": [
       "-4.139165497896213"
      ]
     },
     "execution_count": 12,
     "metadata": {},
     "output_type": "execute_result"
    }
   ],
   "source": [
    "cars93reduced[\"EngineSize\"].cov(cars93reduced[\"MPG.city\"])"
   ]
  },
  {
   "cell_type": "markdown",
   "metadata": {},
   "source": [
    "The obtained covariance value (-4.13916) indicates that the direction of covariance is negative and its degree/magnitude is 4.13916. \n",
    "\n",
    "The covariance of all the speculated relationships is as shown below:"
   ]
  },
  {
   "cell_type": "code",
   "execution_count": 13,
   "metadata": {
    "ExecuteTime": {
     "end_time": "2020-04-17T13:00:41.296393Z",
     "start_time": "2020-04-17T13:00:41.272398Z"
    }
   },
   "outputs": [
    {
     "data": {
      "text/plain": [
       "-197.9798971482001"
      ]
     },
     "execution_count": 13,
     "metadata": {},
     "output_type": "execute_result"
    }
   ],
   "source": [
    "cars93reduced[\"Horsepower\"].cov(cars93reduced[\"MPG.city\"])"
   ]
  },
  {
   "cell_type": "code",
   "execution_count": 14,
   "metadata": {
    "ExecuteTime": {
     "end_time": "2020-04-17T13:00:41.466789Z",
     "start_time": "2020-04-17T13:00:41.300388Z"
    }
   },
   "outputs": [
    {
     "data": {
      "text/plain": [
       "1217.4789621318369"
      ]
     },
     "execution_count": 14,
     "metadata": {},
     "output_type": "execute_result"
    }
   ],
   "source": [
    "cars93reduced[\"RPM\"].cov(cars93reduced[\"MPG.city\"])"
   ]
  },
  {
   "cell_type": "code",
   "execution_count": 15,
   "metadata": {
    "ExecuteTime": {
     "end_time": "2020-04-17T13:00:41.587763Z",
     "start_time": "2020-04-17T13:00:41.470770Z"
    }
   },
   "outputs": [
    {
     "data": {
      "text/plain": [
       "39.776998597475455"
      ]
     },
     "execution_count": 15,
     "metadata": {},
     "output_type": "execute_result"
    }
   ],
   "source": [
    "cars93reduced[\"EngineSize\"].cov(cars93reduced[\"Horsepower\"])"
   ]
  },
  {
   "cell_type": "code",
   "execution_count": 16,
   "metadata": {
    "ExecuteTime": {
     "end_time": "2020-04-17T13:00:41.764047Z",
     "start_time": "2020-04-17T13:00:41.591758Z"
    }
   },
   "outputs": [
    {
     "data": {
      "text/plain": [
       "82.02197288452543"
      ]
     },
     "execution_count": 16,
     "metadata": {},
     "output_type": "execute_result"
    }
   ],
   "source": [
    "cars93reduced[\"Length\"].cov(cars93reduced[\"Wheelbase\"])"
   ]
  },
  {
   "cell_type": "code",
   "execution_count": 17,
   "metadata": {
    "ExecuteTime": {
     "end_time": "2020-04-17T13:00:41.938859Z",
     "start_time": "2020-04-17T13:00:41.772046Z"
    }
   },
   "outputs": [
    {
     "data": {
      "text/plain": [
       "34.780621785881266"
      ]
     },
     "execution_count": 17,
     "metadata": {},
     "output_type": "execute_result"
    }
   ],
   "source": [
    "cars93reduced[\"Length\"].cov(cars93reduced[\"Turn.circle\"])"
   ]
  },
  {
   "cell_type": "code",
   "execution_count": 18,
   "metadata": {
    "ExecuteTime": {
     "end_time": "2020-04-17T13:00:42.050830Z",
     "start_time": "2020-04-17T13:00:41.946856Z"
    }
   },
   "outputs": [
    {
     "data": {
      "text/plain": [
       "15.899836372136514"
      ]
     },
     "execution_count": 18,
     "metadata": {},
     "output_type": "execute_result"
    }
   ],
   "source": [
    "cars93reduced[\"Wheelbase\"].cov(cars93reduced[\"Turn.circle\"])"
   ]
  },
  {
   "cell_type": "markdown",
   "metadata": {},
   "source": [
    "Here it is observed that:\n",
    "\n",
    "1. There is a negative association between:\n",
    "    - MPG.city and EngineSize\n",
    "    - MPG.city and Horsepower\n",
    "    \n",
    "2. There is a positive association between:\n",
    "    - MPG.city and RPM\n",
    "    - EngineSize and Horsepower\n",
    "    - Length and Wheelbase\n",
    "    - Length and Turn.circle\n",
    "    - Wheelbase and Turn.circle\n",
    "    \n",
    "This indicates that MPG.city is inversely proportional to EngineSize, inversely proportional to Horsepower, and directly proportional to RPM in the given sample dataset.\n",
    "\n",
    "Similarly, Turn.circle is directly proportional to Wheelbase and directly proportional to Length in this sample dataset.\n",
    "\n",
    "## Covariance matrix\n",
    "\n",
    "The covariance matrix captures the values of covariance between selected parameters of the data set. The covariance matrix of parameters - MPG.city, EngineSize, Horsepower and RPM in the given dataset is as shown below."
   ]
  },
  {
   "cell_type": "code",
   "execution_count": 19,
   "metadata": {
    "ExecuteTime": {
     "end_time": "2020-04-17T13:00:42.247302Z",
     "start_time": "2020-04-17T13:00:42.066146Z"
    }
   },
   "outputs": [
    {
     "data": {
      "text/html": [
       "<div>\n",
       "<style scoped>\n",
       "    .dataframe tbody tr th:only-of-type {\n",
       "        vertical-align: middle;\n",
       "    }\n",
       "\n",
       "    .dataframe tbody tr th {\n",
       "        vertical-align: top;\n",
       "    }\n",
       "\n",
       "    .dataframe thead th {\n",
       "        text-align: right;\n",
       "    }\n",
       "</style>\n",
       "<table border=\"1\" class=\"dataframe\">\n",
       "  <thead>\n",
       "    <tr style=\"text-align: right;\">\n",
       "      <th></th>\n",
       "      <th>MPG.city</th>\n",
       "      <th>EngineSize</th>\n",
       "      <th>Horsepower</th>\n",
       "      <th>RPM</th>\n",
       "    </tr>\n",
       "  </thead>\n",
       "  <tbody>\n",
       "    <tr>\n",
       "      <th>MPG.city</th>\n",
       "      <td>31.582281</td>\n",
       "      <td>-4.139165</td>\n",
       "      <td>-197.979897</td>\n",
       "      <td>1217.478962</td>\n",
       "    </tr>\n",
       "    <tr>\n",
       "      <th>EngineSize</th>\n",
       "      <td>-4.139165</td>\n",
       "      <td>1.076122</td>\n",
       "      <td>39.776999</td>\n",
       "      <td>-339.163745</td>\n",
       "    </tr>\n",
       "    <tr>\n",
       "      <th>Horsepower</th>\n",
       "      <td>-197.979897</td>\n",
       "      <td>39.776999</td>\n",
       "      <td>2743.078775</td>\n",
       "      <td>1146.633941</td>\n",
       "    </tr>\n",
       "    <tr>\n",
       "      <th>RPM</th>\n",
       "      <td>1217.478962</td>\n",
       "      <td>-339.163745</td>\n",
       "      <td>1146.633941</td>\n",
       "      <td>356088.709677</td>\n",
       "    </tr>\n",
       "  </tbody>\n",
       "</table>\n",
       "</div>"
      ],
      "text/plain": [
       "               MPG.city  EngineSize   Horsepower            RPM\n",
       "MPG.city      31.582281   -4.139165  -197.979897    1217.478962\n",
       "EngineSize    -4.139165    1.076122    39.776999    -339.163745\n",
       "Horsepower  -197.979897   39.776999  2743.078775    1146.633941\n",
       "RPM         1217.478962 -339.163745  1146.633941  356088.709677"
      ]
     },
     "execution_count": 19,
     "metadata": {},
     "output_type": "execute_result"
    }
   ],
   "source": [
    "cars93reduced[[\"MPG.city\",\"EngineSize\",\"Horsepower\",\"RPM\"]].cov()"
   ]
  },
  {
   "cell_type": "markdown",
   "metadata": {},
   "source": [
    "## Exercise:\n",
    "1. Use the iris dataset to determine the possible linear associations based on scatter plot and covariance values.\n",
    "2. Form the covariance matrix by considering all possible associations between parameters of the trees dataset. Answer the following questions based on the obtained covariance matrix. Is the obtained matrix symmetric? Is the obtained matrix positive definite? \n",
    "\n",
    "***\n",
    "# Correlation\n",
    "\n",
    "Correlation is a measure of the strength and direction of the linear association between two quantitative variables.\n",
    "\n",
    "Correlation is normalized covariance and is generally obtained by dividing the covariance by the product of standard deviation of the variables\n",
    "\n",
    "![](3.PNG)\n",
    "\n",
    "Owing to normalization, correlation always lies in the range of [-1, +1].\n",
    "- The correlation of a sample is represented using r and that of a population is represented using ρ (rho).\n",
    "- The sign of correlation indicates the direction of the association, as expressed below:\n",
    "    - positive association: r or ρ > 0\n",
    "    - negative association: r or ρ < 0\n",
    "    - no linear association: r or ρ ≈ 0\n",
    "\n",
    "> The closer r (or ρ) is to ±1, the stronger the linear association. If the correlation is closer to 0, then the variables might be statistically independent.\n",
    "\n",
    "Correlation is computed using corr method of the pandas library.\n",
    "\n",
    "## Types of correlation\n",
    "\n",
    "Based on the type of variable, the nature of its distribution and the monotonicity of the association, the appropriate correlation has to be used. Commonly used correlations are __Pearson__, __Spearman__ and __Kendall__.\n",
    "\n",
    "An association between two variables y and x where y=f(x) is said to be monotonic if and only if the value of y is either entirely increasing or decreasing as x increases.\n",
    "\n",
    "The following graphs distinguish between monotonic and non-monotonic associations.\n",
    "\n",
    "![](4.PNG)\n",
    "\n",
    "The following table summarizes the correlation that can be used based on the type of variable, nature of distribution of variable and monotonicity of the association.\n",
    "\n",
    "![](5.PNG)\n",
    "\n",
    "### Pearson correlation\n",
    "Pearson correlation coefficient is used on numeric variables pulled out of a population that is normally distributed. These numeric variables have to be of the interval or ratio scale.\n",
    "\n",
    "It is defined as \n",
    "\n",
    "![](6.PNG)\n",
    "\n",
    "[Shapiro wilk test on normality](https://www.spss-tutorials.com/spss-shapiro-wilk-test-for-normality/): The Shapiro–Wilk test tests the null hypothesis that a sample x1, ..., xn came from a normally distributed population.\n",
    "\n",
    "__Null Hypothesis $H_0$__: The population from which the sample has been taken is normally distributed.\n",
    "\n",
    "__Alternate Hypothesis $H_a$__:  The population from which the sample has been taken is  __not__normally distributed.\n",
    "\n",
    "\n",
    "> if the p value is greater than the chosen alpha level(0.05), then the null hypothesis that the data came from a normally distributed population can not be rejected\n",
    "\n",
    "The Shapiro-Wilk test on Turn.circle, Length and Wheelbase in the given data set for a significance level of 0.05 is shown below.\n",
    "\n",
    "[Python scipy Shapiro wilk test](https://docs.scipy.org/doc/scipy/reference/generated/scipy.stats.shapiro.html): returns `(W, p-value)`."
   ]
  },
  {
   "cell_type": "code",
   "execution_count": 20,
   "metadata": {
    "ExecuteTime": {
     "end_time": "2020-04-17T13:00:42.419589Z",
     "start_time": "2020-04-17T13:00:42.255302Z"
    }
   },
   "outputs": [
    {
     "data": {
      "text/plain": [
       "(0.9762530326843262, 0.08784385770559311)"
      ]
     },
     "execution_count": 20,
     "metadata": {},
     "output_type": "execute_result"
    }
   ],
   "source": [
    "from scipy.stats import shapiro\n",
    "shapiro(cars93reduced[\"Turn.circle\"])"
   ]
  },
  {
   "cell_type": "markdown",
   "metadata": {},
   "source": [
    "The p-value obtained from the Shapiro-Wilk test suggests that the underlying population could be normally distributed (p-value > chosen significance level).\n",
    "\n",
    "#### QQplot\n",
    "QQplot can also be used to determine if the underlying data is normally distributed. The QQ plot of Turn.circle, Length and Wheelbase is as shown below."
   ]
  },
  {
   "cell_type": "code",
   "execution_count": 21,
   "metadata": {
    "ExecuteTime": {
     "end_time": "2020-04-17T13:00:43.075204Z",
     "start_time": "2020-04-17T13:00:42.431587Z"
    }
   },
   "outputs": [
    {
     "data": {
      "image/png": "[encoded data removed]",
      "text/plain": [
       "<Figure size 432x288 with 1 Axes>"
      ]
     },
     "metadata": {},
     "output_type": "display_data"
    }
   ],
   "source": [
    "import scipy.stats as stats\n",
    "stats.probplot(cars93reduced[\"Turn.circle\"], dist=\"norm\", plot=plt);"
   ]
  },
  {
   "cell_type": "code",
   "execution_count": 22,
   "metadata": {
    "ExecuteTime": {
     "end_time": "2020-04-17T13:00:43.579812Z",
     "start_time": "2020-04-17T13:00:43.075204Z"
    }
   },
   "outputs": [
    {
     "data": {
      "image/png": "[encoded data removed]",
      "text/plain": [
       "<Figure size 432x288 with 1 Axes>"
      ]
     },
     "metadata": {},
     "output_type": "display_data"
    }
   ],
   "source": [
    "stats.probplot(cars93reduced[\"Length\"], dist=\"norm\", plot=plt);"
   ]
  },
  {
   "cell_type": "code",
   "execution_count": 23,
   "metadata": {
    "ExecuteTime": {
     "end_time": "2020-04-17T13:00:43.927723Z",
     "start_time": "2020-04-17T13:00:43.587808Z"
    }
   },
   "outputs": [
    {
     "data": {
      "image/png": "[encoded data removed]",
      "text/plain": [
       "<Figure size 432x288 with 1 Axes>"
      ]
     },
     "metadata": {},
     "output_type": "display_data"
    }
   ],
   "source": [
    "stats.probplot(cars93reduced[\"Wheelbase\"], dist=\"norm\", plot=plt);"
   ]
  },
  {
   "cell_type": "markdown",
   "metadata": {},
   "source": [
    "The covariance and Pearson correlation of Length and Turn.circle, Wheelbase and Turn.circle are shown below."
   ]
  },
  {
   "cell_type": "code",
   "execution_count": 24,
   "metadata": {
    "ExecuteTime": {
     "end_time": "2020-04-17T13:00:43.943719Z",
     "start_time": "2020-04-17T13:00:43.931725Z"
    }
   },
   "outputs": [
    {
     "data": {
      "text/plain": [
       "34.780621785881266"
      ]
     },
     "execution_count": 24,
     "metadata": {},
     "output_type": "execute_result"
    }
   ],
   "source": [
    "cars93reduced[\"Length\"].cov(cars93reduced[\"Turn.circle\"])"
   ]
  },
  {
   "cell_type": "code",
   "execution_count": 25,
   "metadata": {
    "ExecuteTime": {
     "end_time": "2020-04-17T13:00:44.220339Z",
     "start_time": "2020-04-17T13:00:43.947717Z"
    }
   },
   "outputs": [
    {
     "data": {
      "text/plain": [
       "0.7389545018604418"
      ]
     },
     "execution_count": 25,
     "metadata": {},
     "output_type": "execute_result"
    }
   ],
   "source": [
    "cars93reduced[\"Length\"].corr(cars93reduced[\"Turn.circle\"],method=\"pearson\")"
   ]
  },
  {
   "cell_type": "markdown",
   "metadata": {},
   "source": [
    "The covariance and Pearson correlation of Wheelbase and Turn.circle are shown below."
   ]
  },
  {
   "cell_type": "code",
   "execution_count": 26,
   "metadata": {
    "ExecuteTime": {
     "end_time": "2020-04-17T13:00:44.353339Z",
     "start_time": "2020-04-17T13:00:44.228334Z"
    }
   },
   "outputs": [
    {
     "data": {
      "text/plain": [
       "15.899836372136514"
      ]
     },
     "execution_count": 26,
     "metadata": {},
     "output_type": "execute_result"
    }
   ],
   "source": [
    "cars93reduced[\"Wheelbase\"].cov(cars93reduced[\"Turn.circle\"])"
   ]
  },
  {
   "cell_type": "code",
   "execution_count": 27,
   "metadata": {
    "ExecuteTime": {
     "end_time": "2020-04-17T13:00:44.517363Z",
     "start_time": "2020-04-17T13:00:44.357338Z"
    }
   },
   "outputs": [
    {
     "data": {
      "text/plain": [
       "0.7233244020299519"
      ]
     },
     "execution_count": 27,
     "metadata": {},
     "output_type": "execute_result"
    }
   ],
   "source": [
    "cars93reduced[\"Wheelbase\"].corr(cars93reduced[\"Turn.circle\"],method=\"pearson\")"
   ]
  },
  {
   "cell_type": "markdown",
   "metadata": {},
   "source": [
    "The correlation values of Length & Turn.circle and Wheelbase & Turn.circle, suggest that the association between these variables is strong (correlation is close to 1).\n",
    "\n",
    "### Spearman correlation\n",
    "\n",
    "The Spearman Rho correlation coefficient is a rank based coefficient, where the variables need not be normally distributed. However, it is mandatory for these variables to be either in interval, ordinal or ratio scale. In addition, it is expected that the association between the variables is monotonic.\n",
    "\n",
    "It is defined as \n",
    "\n",
    "![](7.PNG)\n",
    "\n",
    "The Shapiro-Wilk test with a significance level of 0.05 for Horsepower, RPM, EngineSize and MPG.city is as shown below."
   ]
  },
  {
   "cell_type": "code",
   "execution_count": 28,
   "metadata": {
    "ExecuteTime": {
     "end_time": "2020-04-17T13:00:44.629333Z",
     "start_time": "2020-04-17T13:00:44.529359Z"
    }
   },
   "outputs": [
    {
     "data": {
      "text/plain": [
       "(0.9358058571815491, 0.00019156414782628417)"
      ]
     },
     "execution_count": 28,
     "metadata": {},
     "output_type": "execute_result"
    }
   ],
   "source": [
    "shapiro(cars93reduced[\"Horsepower\"])"
   ]
  },
  {
   "cell_type": "code",
   "execution_count": 29,
   "metadata": {
    "ExecuteTime": {
     "end_time": "2020-04-17T13:00:44.777782Z",
     "start_time": "2020-04-17T13:00:44.633331Z"
    }
   },
   "outputs": [
    {
     "data": {
      "text/plain": [
       "(0.9739203453063965, 0.059240180999040604)"
      ]
     },
     "execution_count": 29,
     "metadata": {},
     "output_type": "execute_result"
    }
   ],
   "source": [
    "shapiro(cars93reduced[\"RPM\"])"
   ]
  },
  {
   "cell_type": "code",
   "execution_count": 30,
   "metadata": {
    "ExecuteTime": {
     "end_time": "2020-04-17T13:00:44.925742Z",
     "start_time": "2020-04-17T13:00:44.789780Z"
    }
   },
   "outputs": [
    {
     "data": {
      "text/plain": [
       "(0.9360973238945007, 0.00019901638734154403)"
      ]
     },
     "execution_count": 30,
     "metadata": {},
     "output_type": "execute_result"
    }
   ],
   "source": [
    "shapiro(cars93reduced[\"EngineSize\"])"
   ]
  },
  {
   "cell_type": "code",
   "execution_count": 31,
   "metadata": {
    "ExecuteTime": {
     "end_time": "2020-04-17T13:00:45.029722Z",
     "start_time": "2020-04-17T13:00:44.933740Z"
    }
   },
   "outputs": [
    {
     "data": {
      "text/plain": [
       "(0.8583050966262817, 5.762488086702433e-08)"
      ]
     },
     "execution_count": 31,
     "metadata": {},
     "output_type": "execute_result"
    }
   ],
   "source": [
    "shapiro(cars93reduced[\"MPG.city\"])"
   ]
  },
  {
   "cell_type": "markdown",
   "metadata": {},
   "source": [
    "The p-value here suggests that the data in the underlying population may not be normally distributed (p-value smaller than chosen significance value).\n",
    "\n",
    "Therefore the association between these variables can be measured using Spearman correlation coefficient.\n",
    "\n",
    "Rank is assigned by picking a random variable and comparing against other values of that variable in the dataset.\n",
    "\n",
    "The below code illustrates the assignment of rank for the first 10 values of Horsepower using `rank()` method in Pandas.\n",
    "\n"
   ]
  },
  {
   "cell_type": "code",
   "execution_count": 32,
   "metadata": {
    "ExecuteTime": {
     "end_time": "2020-04-17T13:00:45.144794Z",
     "start_time": "2020-04-17T13:00:45.033715Z"
    }
   },
   "outputs": [
    {
     "data": {
      "text/plain": [
       "4    208\n",
       "9    200\n",
       "1    200\n",
       "7    180\n",
       "3    172\n",
       "2    172\n",
       "8    170\n",
       "6    170\n",
       "0    140\n",
       "5    110\n",
       "Name: Horsepower, dtype: int64"
      ]
     },
     "execution_count": 32,
     "metadata": {},
     "output_type": "execute_result"
    }
   ],
   "source": [
    "first10hp = cars93reduced[\"Horsepower\"].head(10)\n",
    "first10hp = first10hp.sort_values(ascending=False)\n",
    "first10hp"
   ]
  },
  {
   "cell_type": "code",
   "execution_count": 33,
   "metadata": {
    "ExecuteTime": {
     "end_time": "2020-04-17T13:00:45.260760Z",
     "start_time": "2020-04-17T13:00:45.156789Z"
    }
   },
   "outputs": [
    {
     "name": "stdout",
     "output_type": "stream",
     "text": [
      "[10.0, 8.5, 8.5, 7.0, 5.5, 5.5, 3.5, 3.5, 2.0, 1.0]\n"
     ]
    }
   ],
   "source": [
    "rankfirst10hp = first10hp.rank()\n",
    "print(list(rankfirst10hp))  "
   ]
  },
  {
   "cell_type": "markdown",
   "metadata": {},
   "source": [
    "It can be observed that the highest value gets the highest rank. Here 208 is the highest value, among 10 values, hence it is assigned the highest rank (10.0). If a value is found to be repeating, then it is assigned the average rank. Here 200 occurs at 9th and 8th position and therefore it receives the rank 8.5 which is the average of 9 and 8. Similarly, 172 and 170 receive 5.5 and 3.5 as rank respectively.\n",
    "\n",
    "The Spearman correlation of Horsepower and MPG.city, RPM and MPG.city, and EngineSize and MPG.city are shown below"
   ]
  },
  {
   "cell_type": "code",
   "execution_count": 34,
   "metadata": {
    "ExecuteTime": {
     "end_time": "2020-04-17T13:00:45.428721Z",
     "start_time": "2020-04-17T13:00:45.264762Z"
    }
   },
   "outputs": [
    {
     "data": {
      "text/plain": [
       "-0.7893070882303793"
      ]
     },
     "execution_count": 34,
     "metadata": {},
     "output_type": "execute_result"
    }
   ],
   "source": [
    "cars93reduced[\"Horsepower\"].corr(cars93reduced[\"MPG.city\"],method=\"spearman\")"
   ]
  },
  {
   "cell_type": "code",
   "execution_count": 35,
   "metadata": {
    "ExecuteTime": {
     "end_time": "2020-04-17T13:00:45.520711Z",
     "start_time": "2020-04-17T13:00:45.440717Z"
    }
   },
   "outputs": [
    {
     "data": {
      "text/plain": [
       "0.38964509885135185"
      ]
     },
     "execution_count": 35,
     "metadata": {},
     "output_type": "execute_result"
    }
   ],
   "source": [
    "cars93reduced[\"RPM\"].corr(cars93reduced[\"MPG.city\"],method=\"spearman\")"
   ]
  },
  {
   "cell_type": "code",
   "execution_count": 36,
   "metadata": {
    "ExecuteTime": {
     "end_time": "2020-04-17T13:00:45.712650Z",
     "start_time": "2020-04-17T13:00:45.528694Z"
    }
   },
   "outputs": [
    {
     "data": {
      "text/plain": [
       "-0.8212079921743175"
      ]
     },
     "execution_count": 36,
     "metadata": {},
     "output_type": "execute_result"
    }
   ],
   "source": [
    "cars93reduced[\"EngineSize\"].corr(cars93reduced[\"MPG.city\"],method=\"spearman\")"
   ]
  },
  {
   "cell_type": "markdown",
   "metadata": {},
   "source": [
    "> The correlation values suggest that the association between EngineSize and MPG.city is stronger than the association between Horsepower and MPG.city. Here it can be noticed that the strength of the association is attributed to the magnitude of the correlation value and not the sign.\n",
    "\n",
    "#### Comparing correlation methods on sample dataset\n",
    "The Pearson and Spearman correlation of RPM & MPG.city is as shown below."
   ]
  },
  {
   "cell_type": "code",
   "execution_count": 37,
   "metadata": {
    "ExecuteTime": {
     "end_time": "2020-04-17T13:00:46.018946Z",
     "start_time": "2020-04-17T13:00:45.756656Z"
    }
   },
   "outputs": [
    {
     "data": {
      "text/plain": [
       "0.36304512864824134"
      ]
     },
     "execution_count": 37,
     "metadata": {},
     "output_type": "execute_result"
    }
   ],
   "source": [
    "cars93reduced[\"RPM\"].corr(cars93reduced[\"MPG.city\"],method=\"pearson\")"
   ]
  },
  {
   "cell_type": "code",
   "execution_count": 38,
   "metadata": {
    "ExecuteTime": {
     "end_time": "2020-04-17T13:00:46.142934Z",
     "start_time": "2020-04-17T13:00:46.022948Z"
    }
   },
   "outputs": [
    {
     "data": {
      "text/plain": [
       "0.38964509885135185"
      ]
     },
     "execution_count": 38,
     "metadata": {},
     "output_type": "execute_result"
    }
   ],
   "source": [
    "cars93reduced[\"RPM\"].corr(cars93reduced[\"MPG.city\"],method=\"spearman\")"
   ]
  },
  {
   "cell_type": "markdown",
   "metadata": {},
   "source": [
    "It can be noticed here that the correlation coefficients obtained using Pearson and Spearman for RPM and MPG.city do not differ significantly.\n",
    "\n",
    "***\n",
    "\n",
    "### Kendall Tau Correlation\n",
    "\n",
    "The Kendall Tau correlation coefficient is a rank based coefficient similar to Spearman correlation, where the variables need not be normally distributed. However, it is mandatory for these variables to be either in interval, ordinal or ratio scale. In addition, it is expected that the association between the variables is monotonic. \n",
    "\n",
    "It is defined as \n",
    "\n",
    "![](8.PNG)\n",
    "\n",
    "Let (x1, y1), (x2, y2), …, (xn, yn) be a set of observations derived from the two joint random variables X and Y.\n",
    "\n",
    "In a way that all the values of (xi) and (yi) are to be different.\n",
    "\n",
    "If both the elements of a particular pair agree(both the elements of the lesser or greater compared to the other pair) then they are called __concordant pairs__. Similarly if the elements of the pair disagree then they are called __discordant__. And they are neither concordant nor discordant if both elements are equal to the other observation.\n",
    "\n",
    "Computing the number of concordant and discordant pairs for a given data set is as illustrated below.\n",
    "\n",
    "Ranks of three entries of RPM and MPG.city from the sample dataset is given"
   ]
  },
  {
   "cell_type": "code",
   "execution_count": 39,
   "metadata": {
    "ExecuteTime": {
     "end_time": "2020-04-17T13:00:46.354871Z",
     "start_time": "2020-04-17T13:00:46.150912Z"
    }
   },
   "outputs": [
    {
     "data": {
      "text/plain": [
       "array([[18. , 12.5,  8.5],\n",
       "       [14. , 20.5, 14. ]])"
      ]
     },
     "execution_count": 39,
     "metadata": {},
     "output_type": "execute_result"
    }
   ],
   "source": [
    "first25rpm = np.array(cars93reduced[\"RPM\"].head(25).rank())\n",
    "first25mpg = np.array(cars93reduced[\"MPG.city\"].head(25).rank())\n",
    "np.array([first25rpm,first25mpg])[:,19:22]"
   ]
  },
  {
   "cell_type": "markdown",
   "metadata": {},
   "source": [
    "Here, the pair of (x1=18.0, y1=14.0) and (x2=12.5, y2=20.5) is discordant because x1 > x2 and y1 < y2. The pair of (x2=12.5, y2=20.5) and (x3=8.5, y3=14.0) is concordant because x2 > x3 and y2 > y3. The pair of (x1=18.0, y1=14.0) and (x3=8.5, y3=14.0) is neither concordant nor discordant because y2 = y3.\n",
    "\n",
    "The Kendall Tau correlation for these pairs can thus be computed as\n",
    "\n",
    "![](9.PNG)\n",
    "\n",
    "The Kendall Tau correlation for these pairs is observed to be 0 as shown below."
   ]
  },
  {
   "cell_type": "code",
   "execution_count": 40,
   "metadata": {
    "ExecuteTime": {
     "end_time": "2020-04-17T13:00:46.526822Z",
     "start_time": "2020-04-17T13:00:46.370861Z"
    }
   },
   "outputs": [
    {
     "data": {
      "text/plain": [
       "0.0"
      ]
     },
     "execution_count": 40,
     "metadata": {},
     "output_type": "execute_result"
    }
   ],
   "source": [
    "rpm_values = pd.DataFrame({\"rpm_ranks\" : [18.0 , 12.5,  8.5]})\n",
    "mpg_values = pd.DataFrame({\"mpg_ranks\" :[14.0 , 20.5, 14.0 ]})\n",
    "mpg_values[\"mpg_ranks\"].corr(rpm_values[\"rpm_ranks\"], method = \"kendall\")"
   ]
  },
  {
   "cell_type": "markdown",
   "metadata": {},
   "source": [
    "The Kendall Tau correlation coefficient of MPG.city and Horsepower, MPG.city and RPM, MPG.city and EngineSize are shown below.\n",
    "\n"
   ]
  },
  {
   "cell_type": "code",
   "execution_count": 41,
   "metadata": {
    "ExecuteTime": {
     "end_time": "2020-04-17T13:00:46.643003Z",
     "start_time": "2020-04-17T13:00:46.534817Z"
    }
   },
   "outputs": [
    {
     "data": {
      "text/plain": [
       "-0.6232924179871033"
      ]
     },
     "execution_count": 41,
     "metadata": {},
     "output_type": "execute_result"
    }
   ],
   "source": [
    "cars93reduced[\"Horsepower\"].corr(cars93reduced[\"MPG.city\"],method=\"kendall\")"
   ]
  },
  {
   "cell_type": "code",
   "execution_count": 42,
   "metadata": {
    "ExecuteTime": {
     "end_time": "2020-04-17T13:00:46.858124Z",
     "start_time": "2020-04-17T13:00:46.651014Z"
    }
   },
   "outputs": [
    {
     "data": {
      "text/plain": [
       "0.29452246826301876"
      ]
     },
     "execution_count": 42,
     "metadata": {},
     "output_type": "execute_result"
    }
   ],
   "source": [
    "cars93reduced[\"RPM\"].corr(cars93reduced[\"MPG.city\"],method=\"kendall\")"
   ]
  },
  {
   "cell_type": "code",
   "execution_count": 43,
   "metadata": {
    "ExecuteTime": {
     "end_time": "2020-04-17T13:00:46.986093Z",
     "start_time": "2020-04-17T13:00:46.874125Z"
    }
   },
   "outputs": [
    {
     "data": {
      "text/plain": [
       "-0.6820807909116785"
      ]
     },
     "execution_count": 43,
     "metadata": {},
     "output_type": "execute_result"
    }
   ],
   "source": [
    "cars93reduced[\"EngineSize\"].corr(cars93reduced[\"MPG.city\"],method=\"kendall\")"
   ]
  },
  {
   "cell_type": "markdown",
   "metadata": {},
   "source": [
    "Kendall coefficient value for a dataset is usually lower than the Spearman coefficient value for the same data set. The relationship between the Kendall Tau coefficient and Spearman Rho coefficient is given by\n",
    "\n",
    "![](10.PNG)"
   ]
  },
  {
   "cell_type": "markdown",
   "metadata": {},
   "source": [
    "***\n",
    "\n",
    "### Correlation Matrix\n",
    "For multivariate data, the correlation matrix captures the values of correlation between the selected parameters of the data set.\n",
    "\n",
    "The Pearson correlation matrix of MPG.city, EngineSize, Horsepower and RPM is shown below."
   ]
  },
  {
   "cell_type": "code",
   "execution_count": 44,
   "metadata": {
    "ExecuteTime": {
     "end_time": "2020-04-17T13:00:47.143140Z",
     "start_time": "2020-04-17T13:00:46.990094Z"
    }
   },
   "outputs": [
    {
     "data": {
      "text/html": [
       "<div>\n",
       "<style scoped>\n",
       "    .dataframe tbody tr th:only-of-type {\n",
       "        vertical-align: middle;\n",
       "    }\n",
       "\n",
       "    .dataframe tbody tr th {\n",
       "        vertical-align: top;\n",
       "    }\n",
       "\n",
       "    .dataframe thead th {\n",
       "        text-align: right;\n",
       "    }\n",
       "</style>\n",
       "<table border=\"1\" class=\"dataframe\">\n",
       "  <thead>\n",
       "    <tr style=\"text-align: right;\">\n",
       "      <th></th>\n",
       "      <th>MPG.city</th>\n",
       "      <th>EngineSize</th>\n",
       "      <th>Horsepower</th>\n",
       "      <th>RPM</th>\n",
       "    </tr>\n",
       "  </thead>\n",
       "  <tbody>\n",
       "    <tr>\n",
       "      <th>MPG.city</th>\n",
       "      <td>1.000000</td>\n",
       "      <td>-0.710003</td>\n",
       "      <td>-0.672636</td>\n",
       "      <td>0.363045</td>\n",
       "    </tr>\n",
       "    <tr>\n",
       "      <th>EngineSize</th>\n",
       "      <td>-0.710003</td>\n",
       "      <td>1.000000</td>\n",
       "      <td>0.732120</td>\n",
       "      <td>-0.547898</td>\n",
       "    </tr>\n",
       "    <tr>\n",
       "      <th>Horsepower</th>\n",
       "      <td>-0.672636</td>\n",
       "      <td>0.732120</td>\n",
       "      <td>1.000000</td>\n",
       "      <td>0.036688</td>\n",
       "    </tr>\n",
       "    <tr>\n",
       "      <th>RPM</th>\n",
       "      <td>0.363045</td>\n",
       "      <td>-0.547898</td>\n",
       "      <td>0.036688</td>\n",
       "      <td>1.000000</td>\n",
       "    </tr>\n",
       "  </tbody>\n",
       "</table>\n",
       "</div>"
      ],
      "text/plain": [
       "            MPG.city  EngineSize  Horsepower       RPM\n",
       "MPG.city    1.000000   -0.710003   -0.672636  0.363045\n",
       "EngineSize -0.710003    1.000000    0.732120 -0.547898\n",
       "Horsepower -0.672636    0.732120    1.000000  0.036688\n",
       "RPM         0.363045   -0.547898    0.036688  1.000000"
      ]
     },
     "execution_count": 44,
     "metadata": {},
     "output_type": "execute_result"
    }
   ],
   "source": [
    "cars93reduced[[\"MPG.city\",\"EngineSize\",\"Horsepower\",\"RPM\"]].corr()"
   ]
  },
  {
   "cell_type": "markdown",
   "metadata": {},
   "source": [
    "![](11.PNG)\n",
    "\n",
    "***\n",
    "\n",
    "# Association between categorical variables\n",
    "\n",
    "## Chi-Squared Test\n",
    "The design team at ABCarz speculate that DriveTrain may influence the Type of the car.\n",
    "\n",
    "Since these variables are categorical, covariance and correlation may be inappropriate metrics to determine the existence of an association between them.\n",
    "\n",
    "Two-way tables are used to examine the relationship between two categorical variables. The two-way table between DriveTrain and Type is shown below."
   ]
  },
  {
   "cell_type": "code",
   "execution_count": 45,
   "metadata": {
    "ExecuteTime": {
     "end_time": "2020-04-17T13:00:47.371087Z",
     "start_time": "2020-04-17T13:00:47.151145Z"
    }
   },
   "outputs": [
    {
     "data": {
      "text/html": [
       "<div>\n",
       "<style scoped>\n",
       "    .dataframe tbody tr th:only-of-type {\n",
       "        vertical-align: middle;\n",
       "    }\n",
       "\n",
       "    .dataframe tbody tr th {\n",
       "        vertical-align: top;\n",
       "    }\n",
       "\n",
       "    .dataframe thead th {\n",
       "        text-align: right;\n",
       "    }\n",
       "</style>\n",
       "<table border=\"1\" class=\"dataframe\">\n",
       "  <thead>\n",
       "    <tr style=\"text-align: right;\">\n",
       "      <th>Type</th>\n",
       "      <th>Compact</th>\n",
       "      <th>Large</th>\n",
       "      <th>Midsize</th>\n",
       "      <th>Small</th>\n",
       "      <th>Sporty</th>\n",
       "      <th>Van</th>\n",
       "    </tr>\n",
       "  </thead>\n",
       "  <tbody>\n",
       "    <tr>\n",
       "      <th>4WD</th>\n",
       "      <td>1</td>\n",
       "      <td>0</td>\n",
       "      <td>0</td>\n",
       "      <td>2</td>\n",
       "      <td>2</td>\n",
       "      <td>5</td>\n",
       "    </tr>\n",
       "    <tr>\n",
       "      <th>Front</th>\n",
       "      <td>13</td>\n",
       "      <td>7</td>\n",
       "      <td>17</td>\n",
       "      <td>19</td>\n",
       "      <td>7</td>\n",
       "      <td>4</td>\n",
       "    </tr>\n",
       "    <tr>\n",
       "      <th>Rear</th>\n",
       "      <td>2</td>\n",
       "      <td>4</td>\n",
       "      <td>5</td>\n",
       "      <td>0</td>\n",
       "      <td>5</td>\n",
       "      <td>0</td>\n",
       "    </tr>\n",
       "  </tbody>\n",
       "</table>\n",
       "</div>"
      ],
      "text/plain": [
       "Type   Compact  Large  Midsize  Small  Sporty  Van\n",
       "4WD          1      0        0      2       2    5\n",
       "Front       13      7       17     19       7    4\n",
       "Rear         2      4        5      0       5    0"
      ]
     },
     "execution_count": 45,
     "metadata": {},
     "output_type": "execute_result"
    }
   ],
   "source": [
    "two_way_table = pd.crosstab(index=cars93reduced[\"DriveTrain\"], columns=cars93reduced[\"Type\"])\n",
    "two_way_table.index = [\"4WD\",\"Front\",\"Rear\"]\n",
    "two_way_table"
   ]
  },
  {
   "cell_type": "markdown",
   "metadata": {},
   "source": [
    "The existence of an association can be determined by performing a __Chi-squared test__ on the two-way table.\n",
    "\n",
    "### Chi-Squared Test\n",
    "\n",
    "__Chi-squared test__ for independence is used to test if evidence pertaining to the relationship of variables in the sample is strong enough to generalize this relationship for the population.\n",
    "\n",
    "For the given dataset, the existence of a relationship between DriveTrain and Type of car can be tested using the Chi-squared test as follows.\n",
    "\n",
    "1. Define the null and the alternate hypothesis:\n",
    "    - __H0 (Null hypothesis):__ The variables are independent.\n",
    "    - __H1 (Alternate hypothesis):__ The variables are dependent.\n",
    "\n",
    "2. Select a level of significance – usually 0.05 or 0.1. For the given dataset, the level of significance is selected as 0.05.\n",
    "3. Identify the degrees of freedom. This is usually computed as, (no. of rows – 1) × (no. of columns – 1).\n",
    "4. For the relationship between DriveTrain and Type of car, the degrees of freedom is (3 – 1) × (6 – 1) = 10. Find the critical value for the given significance level and degrees of freedom from the table below\n",
    "\n",
    "![](12.PNG)\n",
    "\n",
    "For the significance level of 0.05 and the degrees of freedom as 10, the critical value is traced as 18.31.\n",
    "\n",
    "5.  Compute the chi-squared statistic \n",
    "\n",
    "    $$ \\chi^2 = \\sum\\frac{(O-E)^2}{E}  $$\n",
    "    \n",
    "    Where O is observed frequency and E is the expected frequency.\n",
    "\n",
    "    Using the two way table (under the null hypothesis), E is calculated as\n",
    "    \n",
    "    $$ E = \\frac{rsxcs}{n}$$\n",
    "    \n",
    "    where rs - row sum  \n",
    "          cs - column sum  \n",
    "          n- sample size\n",
    "          \n",
    "    In the below two way table, the expected frequency E of a compact 4WD car can be computed as\n",
    "    \n",
    "    $$E = \\frac{160}{93} = 1.72$$\n",
    "    \n",
    "    ![](13.PNG)\n",
    "\n",
    "6.  In order to reject the null hypothesis, the computed chi-squared value should be greater than the identified critical value.\n",
    "\n",
    "       Here, the computed value is 35.001 which is larger than the critical value 18.31.\n",
    "\n",
    "       Therefore, the null hypothesis is rejected, i.e. the DriveTrain and Type of a car are not independent. "
   ]
  },
  {
   "cell_type": "markdown",
   "metadata": {},
   "source": [
    "__Chi-squared test can be performed using [chi2_contingency](https://docs.scipy.org/doc/scipy/reference/generated/scipy.stats.chisquare.html), [chi2.ppf](https://docs.scipy.org/doc/scipy/reference/generated/scipy.stats.chi.html) in scipy.stats.__\n",
    "\n",
    "\n",
    "- __chi2.ppf(q,df)__: A chi continuous random variable's Percent point function (ppf).\n",
    "- __chi2_contingency__: Calculate a one-way chi-square test. The chi-square test tests the null hypothesis that the categorical data has the given frequencies. This test is invalid when the observed or expected frequencies in each category are too small. A typical rule is that all of the observed and expected frequencies should be at least 5. Returns(chisq_statistic, p-value).\n",
    "\n"
   ]
  },
  {
   "cell_type": "code",
   "execution_count": 46,
   "metadata": {
    "ExecuteTime": {
     "end_time": "2020-04-17T13:00:47.531042Z",
     "start_time": "2020-04-17T13:00:47.379083Z"
    }
   },
   "outputs": [],
   "source": [
    "from scipy.stats import chi2_contingency,chi2"
   ]
  },
  {
   "cell_type": "code",
   "execution_count": 47,
   "metadata": {
    "ExecuteTime": {
     "end_time": "2020-04-17T13:00:47.673110Z",
     "start_time": "2020-04-17T13:00:47.535049Z"
    }
   },
   "outputs": [
    {
     "data": {
      "text/plain": [
       "18.307038053275146"
      ]
     },
     "execution_count": 47,
     "metadata": {},
     "output_type": "execute_result"
    }
   ],
   "source": [
    "chi2.ppf(1-0.05, 10)  # Finding the critical value"
   ]
  },
  {
   "cell_type": "code",
   "execution_count": 48,
   "metadata": {
    "ExecuteTime": {
     "end_time": "2020-04-17T13:00:47.798221Z",
     "start_time": "2020-04-17T13:00:47.677114Z"
    }
   },
   "outputs": [
    {
     "data": {
      "text/plain": [
       "(35.00129365348582,\n",
       " 0.00012480179759447616,\n",
       " 10,\n",
       " array([[ 1.72043011,  1.1827957 ,  2.3655914 ,  2.25806452,  1.50537634,\n",
       "          0.96774194],\n",
       "        [11.52688172,  7.92473118, 15.84946237, 15.12903226, 10.08602151,\n",
       "          6.48387097],\n",
       "        [ 2.75268817,  1.89247312,  3.78494624,  3.61290323,  2.40860215,\n",
       "          1.5483871 ]]))"
      ]
     },
     "execution_count": 48,
     "metadata": {},
     "output_type": "execute_result"
    }
   ],
   "source": [
    "chi2_contingency(two_way_table)"
   ]
  },
  {
   "cell_type": "markdown",
   "metadata": {},
   "source": [
    "- The first line indicates the chi-squared value. \n",
    "- Second line indicates the p-value.\n",
    "- Third indicates the degrees of freedom\n",
    "\n",
    "It can be observed that the computed chi-squared statistic is greater than the critical value, hence the null hypothesis is rejected.\n",
    "\n",
    "Also, the p-value obtained is lesser than the chosen significance level. This is another indicator which helps determine whether to reject or accept the null hypothesis. If the obtained p-value is lower than the significance level, then the null hypothesis is rejected.\n",
    "\n",
    "##### Associations between categorical and numeric variable\n",
    "\n",
    "The below table summarizes the various tests that are used to determine associations between two variables based on their type.\n",
    "\n",
    "![](14.PNG)\n",
    "\n",
    "***\n",
    "\n",
    "## Association between two binary variables\n",
    "\n",
    "### Phi coefficient\n",
    "\n",
    "The design team is interested to know if there is any association between the availability of manual transmission in the car and the origin of the car. \n",
    "\n",
    "The snap of the data indicating the presence of manual transmission and the origin of the car is shown below. "
   ]
  },
  {
   "cell_type": "code",
   "execution_count": 49,
   "metadata": {
    "ExecuteTime": {
     "end_time": "2020-04-17T13:00:47.907304Z",
     "start_time": "2020-04-17T13:00:47.806201Z"
    }
   },
   "outputs": [
    {
     "data": {
      "text/plain": [
       "Index(['Manufacturer', 'Model', 'Type', 'Min.Price', 'Price', 'Max.Price',\n",
       "       'MPG.city', 'MPG.highway', 'AirBags', 'DriveTrain', 'Cylinders',\n",
       "       'EngineSize', 'Horsepower', 'RPM', 'Rev.per.mile', 'Man.trans.avail',\n",
       "       'Fuel.tank.capacity', 'Passengers', 'Length', 'Wheelbase', 'Width',\n",
       "       'Turn.circle', 'Rear.seat.room', 'Luggage.room', 'Weight', 'Origin',\n",
       "       'Make'],\n",
       "      dtype='object')"
      ]
     },
     "execution_count": 49,
     "metadata": {},
     "output_type": "execute_result"
    }
   ],
   "source": [
    "df.columns"
   ]
  },
  {
   "cell_type": "code",
   "execution_count": 50,
   "metadata": {
    "ExecuteTime": {
     "end_time": "2020-04-17T13:00:48.019267Z",
     "start_time": "2020-04-17T13:00:47.911282Z"
    }
   },
   "outputs": [
    {
     "data": {
      "text/html": [
       "<div>\n",
       "<style scoped>\n",
       "    .dataframe tbody tr th:only-of-type {\n",
       "        vertical-align: middle;\n",
       "    }\n",
       "\n",
       "    .dataframe tbody tr th {\n",
       "        vertical-align: top;\n",
       "    }\n",
       "\n",
       "    .dataframe thead th {\n",
       "        text-align: right;\n",
       "    }\n",
       "</style>\n",
       "<table border=\"1\" class=\"dataframe\">\n",
       "  <thead>\n",
       "    <tr style=\"text-align: right;\">\n",
       "      <th></th>\n",
       "      <th>Man.trans.avail</th>\n",
       "      <th>Origin</th>\n",
       "    </tr>\n",
       "  </thead>\n",
       "  <tbody>\n",
       "    <tr>\n",
       "      <th>0</th>\n",
       "      <td>Yes</td>\n",
       "      <td>non-USA</td>\n",
       "    </tr>\n",
       "    <tr>\n",
       "      <th>1</th>\n",
       "      <td>Yes</td>\n",
       "      <td>non-USA</td>\n",
       "    </tr>\n",
       "    <tr>\n",
       "      <th>2</th>\n",
       "      <td>Yes</td>\n",
       "      <td>non-USA</td>\n",
       "    </tr>\n",
       "    <tr>\n",
       "      <th>3</th>\n",
       "      <td>Yes</td>\n",
       "      <td>non-USA</td>\n",
       "    </tr>\n",
       "    <tr>\n",
       "      <th>4</th>\n",
       "      <td>Yes</td>\n",
       "      <td>non-USA</td>\n",
       "    </tr>\n",
       "    <tr>\n",
       "      <th>5</th>\n",
       "      <td>No</td>\n",
       "      <td>USA</td>\n",
       "    </tr>\n",
       "    <tr>\n",
       "      <th>6</th>\n",
       "      <td>No</td>\n",
       "      <td>USA</td>\n",
       "    </tr>\n",
       "    <tr>\n",
       "      <th>7</th>\n",
       "      <td>No</td>\n",
       "      <td>USA</td>\n",
       "    </tr>\n",
       "    <tr>\n",
       "      <th>8</th>\n",
       "      <td>No</td>\n",
       "      <td>USA</td>\n",
       "    </tr>\n",
       "    <tr>\n",
       "      <th>9</th>\n",
       "      <td>No</td>\n",
       "      <td>USA</td>\n",
       "    </tr>\n",
       "  </tbody>\n",
       "</table>\n",
       "</div>"
      ],
      "text/plain": [
       "  Man.trans.avail   Origin\n",
       "0             Yes  non-USA\n",
       "1             Yes  non-USA\n",
       "2             Yes  non-USA\n",
       "3             Yes  non-USA\n",
       "4             Yes  non-USA\n",
       "5              No      USA\n",
       "6              No      USA\n",
       "7              No      USA\n",
       "8              No      USA\n",
       "9              No      USA"
      ]
     },
     "execution_count": 50,
     "metadata": {},
     "output_type": "execute_result"
    }
   ],
   "source": [
    "df[[\"Man.trans.avail\",\"Origin\"]].head(10)"
   ]
  },
  {
   "cell_type": "markdown",
   "metadata": {},
   "source": [
    "Here, Man.trans.avail and Origin are binary variables and the existence of the association between binary variables can be determined using the __Phi coefficient__.\n",
    "\n",
    "![](15.PNG)\n",
    "\n",
    "#### Relationship with Chi squared\n",
    "\n",
    "The Phi coefficient is also related to the Chi-squared statistic for a 2x2 contingency table as shown below.\n",
    "\n",
    "$$ \\phi^2 = \\frac{\\chi^2}{n}  $$\n",
    "\n",
    "***\n",
    "\n",
    "[Phi Coefficient (Mean Square Contingency Coefficient)](https://www.statisticshowto.com/phi-coefficient-mean-square-contingency-coefficient/)\n",
    "\n",
    "Conditions for applying:\n",
    "- At least one variable is a nominal variable.\n",
    "- Both variables are dichotomous variables.\n",
    "\n",
    "\n",
    "> What is a Dichotomous Variable?  \n",
    "__Dichotomous variables__ are categorical variables with two categories or levels. Levels are different groups within the same independent variable. Eg: Heads or tails, Male or female, rich or poor, etc. Binary variables are a sub-type of dichotomous variable; variables assigned either a 0 or a 1 are said to be in a binary state. For example Male (0) and female (1).\n",
    "\n",
    "![](16.PNG)\n",
    "\n",
    "![](17.PNG)"
   ]
  },
  {
   "cell_type": "code",
   "execution_count": 51,
   "metadata": {
    "ExecuteTime": {
     "end_time": "2020-04-17T13:00:48.222445Z",
     "start_time": "2020-04-17T13:00:48.023249Z"
    }
   },
   "outputs": [
    {
     "data": {
      "text/html": [
       "<div>\n",
       "<style scoped>\n",
       "    .dataframe tbody tr th:only-of-type {\n",
       "        vertical-align: middle;\n",
       "    }\n",
       "\n",
       "    .dataframe tbody tr th {\n",
       "        vertical-align: top;\n",
       "    }\n",
       "\n",
       "    .dataframe thead th {\n",
       "        text-align: right;\n",
       "    }\n",
       "</style>\n",
       "<table border=\"1\" class=\"dataframe\">\n",
       "  <thead>\n",
       "    <tr style=\"text-align: right;\">\n",
       "      <th>Origin</th>\n",
       "      <th>USA</th>\n",
       "      <th>non-USA</th>\n",
       "    </tr>\n",
       "    <tr>\n",
       "      <th>Man.trans.avail</th>\n",
       "      <th></th>\n",
       "      <th></th>\n",
       "    </tr>\n",
       "  </thead>\n",
       "  <tbody>\n",
       "    <tr>\n",
       "      <th>No</th>\n",
       "      <td>26</td>\n",
       "      <td>6</td>\n",
       "    </tr>\n",
       "    <tr>\n",
       "      <th>Yes</th>\n",
       "      <td>22</td>\n",
       "      <td>39</td>\n",
       "    </tr>\n",
       "  </tbody>\n",
       "</table>\n",
       "</div>"
      ],
      "text/plain": [
       "Origin           USA  non-USA\n",
       "Man.trans.avail              \n",
       "No                26        6\n",
       "Yes               22       39"
      ]
     },
     "execution_count": 51,
     "metadata": {},
     "output_type": "execute_result"
    }
   ],
   "source": [
    "temp = pd.crosstab(df[\"Man.trans.avail\"], df[\"Origin\"])\n",
    "temp"
   ]
  },
  {
   "cell_type": "markdown",
   "metadata": {},
   "source": [
    "Function to calculate association 2 binary values i.e, their phie coefficient"
   ]
  },
  {
   "cell_type": "code",
   "execution_count": 52,
   "metadata": {
    "ExecuteTime": {
     "end_time": "2020-04-17T13:00:48.294418Z",
     "start_time": "2020-04-17T13:00:48.238438Z"
    }
   },
   "outputs": [],
   "source": [
    "def phi_coefficient(a,b):\n",
    "    temp = pd.crosstab(a,b)\n",
    "    return(((temp.iloc[1,1] * temp.iloc[0,0]) - (temp.iloc[0,1]*temp.iloc[1,0]))/\n",
    "          np.sqrt(np.prod(temp.apply(sum, axis = 'index').to_list()) * np.prod(temp.apply(sum, axis = 'columns').to_list())))\n"
   ]
  },
  {
   "cell_type": "code",
   "execution_count": 53,
   "metadata": {
    "ExecuteTime": {
     "end_time": "2020-04-17T13:00:48.522963Z",
     "start_time": "2020-04-17T13:00:48.302417Z"
    }
   },
   "outputs": [
    {
     "data": {
      "text/plain": [
       "0.4295382099074444"
      ]
     },
     "execution_count": 53,
     "metadata": {},
     "output_type": "execute_result"
    }
   ],
   "source": [
    "phi_coefficient(df[\"Man.trans.avail\"], df[\"Origin\"])"
   ]
  },
  {
   "cell_type": "markdown",
   "metadata": {},
   "source": [
    "***\n",
    "\n",
    "# Market Basket Analysis\n",
    "\n",
    "## Problem Statement\n",
    "ABCarz have various showrooms across the city where they sell their cars and various other automobile accessories to customers. The marketing managers of ABCarz are looking to market their products better by analyzing customer buying patterns. Data about the various accessories that are purchased is collected for this analysis.\n",
    "\n",
    "The data presented here is hypothetical and comprises some attributes as described below.\n",
    "- BillNumber: This is the Bill number for each customer purchase.\n",
    "- CustomerName: Name of the Customer.\n",
    "- ContactNo: Contact number of the customer.\n",
    "- Items: List of items purchased by the customer. This is a factor with various levels\n",
    "\n",
    "A snap of the data is shown below.\n",
    "\n",
    "![](18.PNG)\n",
    "\n",
    "Of the various attributes in the data set, the analysis that leads to determining purchase behavior of customers arises from the items attribute. The marketing team seeks to study the items attribute more closely to determine associations between various items.\n",
    "\n",
    "From the given data, they wish to find the items that were purchased most frequently. They also wish to determine the item(s) which encouraged the customer to purchase additional item(s). Such analysis is commonly termed as __Market Basket Analysis__, where the interesting associations between various items are determined.\n",
    "\n",
    "From the given sample data set, the most frequently purchased item can be determined using a frequency table, as shown below\n",
    "\n",
    "This table reveals that foot mats are the most frequently purchased item.\n",
    "\n",
    "![](19.PNG)\n"
   ]
  },
  {
   "cell_type": "code",
   "execution_count": 54,
   "metadata": {
    "ExecuteTime": {
     "end_time": "2020-04-17T13:00:49.487152Z",
     "start_time": "2020-04-17T13:00:48.530957Z"
    }
   },
   "outputs": [
    {
     "data": {
      "image/png": "[encoded data removed]",
      "text/plain": [
       "<Figure size 432x288 with 1 Axes>"
      ]
     },
     "metadata": {},
     "output_type": "display_data"
    }
   ],
   "source": [
    "df = pd.read_excel(\"marketbasket-caraccessories.xlsx\")\n",
    "df = df.replace(float(\"nan\"), 0)\n",
    "df = df.replace(\"y\", 1)\n",
    "df = pd.DataFrame({\"Items\":list(df.columns),\n",
    "                   \"Count\":list(df.sum(axis=0))\n",
    "                  })\n",
    "bar = sns.barplot(data = df,y=\"Items\",x=\"Count\")"
   ]
  },
  {
   "cell_type": "code",
   "execution_count": 55,
   "metadata": {
    "ExecuteTime": {
     "end_time": "2020-04-17T13:00:49.507126Z",
     "start_time": "2020-04-17T13:00:49.491130Z"
    }
   },
   "outputs": [
    {
     "data": {
      "text/html": [
       "<div>\n",
       "<style scoped>\n",
       "    .dataframe tbody tr th:only-of-type {\n",
       "        vertical-align: middle;\n",
       "    }\n",
       "\n",
       "    .dataframe tbody tr th {\n",
       "        vertical-align: top;\n",
       "    }\n",
       "\n",
       "    .dataframe thead th {\n",
       "        text-align: right;\n",
       "    }\n",
       "</style>\n",
       "<table border=\"1\" class=\"dataframe\">\n",
       "  <thead>\n",
       "    <tr style=\"text-align: right;\">\n",
       "      <th></th>\n",
       "      <th>Items</th>\n",
       "      <th>Count</th>\n",
       "    </tr>\n",
       "  </thead>\n",
       "  <tbody>\n",
       "    <tr>\n",
       "      <th>0</th>\n",
       "      <td>Seat Cover</td>\n",
       "      <td>4</td>\n",
       "    </tr>\n",
       "    <tr>\n",
       "      <th>1</th>\n",
       "      <td>Audio system</td>\n",
       "      <td>4</td>\n",
       "    </tr>\n",
       "    <tr>\n",
       "      <th>2</th>\n",
       "      <td>Car cover</td>\n",
       "      <td>4</td>\n",
       "    </tr>\n",
       "    <tr>\n",
       "      <th>3</th>\n",
       "      <td>Steering Cover</td>\n",
       "      <td>3</td>\n",
       "    </tr>\n",
       "    <tr>\n",
       "      <th>4</th>\n",
       "      <td>Toolbox</td>\n",
       "      <td>4</td>\n",
       "    </tr>\n",
       "  </tbody>\n",
       "</table>\n",
       "</div>"
      ],
      "text/plain": [
       "            Items  Count\n",
       "0      Seat Cover      4\n",
       "1    Audio system      4\n",
       "2       Car cover      4\n",
       "3  Steering Cover      3\n",
       "4         Toolbox      4"
      ]
     },
     "execution_count": 55,
     "metadata": {},
     "output_type": "execute_result"
    }
   ],
   "source": [
    "df.head()"
   ]
  },
  {
   "cell_type": "markdown",
   "metadata": {},
   "source": [
    "### Analyzing the data\n",
    "\n",
    "The team seeks to determine the purchase behavior wherein the purchase of foot mat was accompanied by the purchase of which other items. For example, the team seeks to determine the no. of transactions wherein the purchase of foot mats is accompanied by the purchase of seat cover. The team also seeks to determine the no. of transactions where the purchase of foot mats is accompanied by the purchase of mud flaps.\n",
    "\n",
    "From the frequency table, it can be observed that seat covers and foot mats were purchased together in 3 transactions. Also, mud flaps and foot mats were purchased together in 1 transaction alone.\n",
    "\n",
    "These associations can be represented as association rules which are specified as follows:\n",
    "\n",
    "1. Foot mats → Seat cover: Customers who bought Foot mats also bought seat cover.\n",
    "2. Foot mats → Mud flaps: Customers who bought Foot mats also bought mud flaps.\n",
    "\n",
    "In order to determine if these association rules are interesting, measures such as support & confidence can be used.\n",
    "\n",
    "### Support and Confidence\n",
    "\n",
    "Support and confidence indicate how interesting an association rule is. \n",
    "\n",
    "__Support__ indicates the usefulness of the rule, while __confidence__ indicates the certainty of the rule. \n",
    "\n",
    "> For a given association rule x → y, __support__ indicates the fraction of transactions that contain both x and y. \n",
    "\n",
    "> The __confidence__ indicates the fraction of transactions that contain both x and y among the transactions that contain x.\n",
    "\n",
    "![](20.PNG)\n",
    "\n",
    "\n",
    "A confidence of 0.5 here indicates that 50% of customers who purchased foot mats also purchased seat cover.\n",
    "\n",
    "Similarly, the support and confidence for the association between foot mats and mud flaps are 1/15 and 1/6 respectively. \n",
    "\n",
    "Support and confidence can also be expressed in terms of probability as shown below.\n",
    "\n",
    "![](21.PNG)\n",
    "\n",
    "An association rule can be said to be sufficiently useful by interpreting its support and confidence. __Typically, the obtained value of support is compared against a chosen threshold to signify that the association rule must be observed in at least a significant number of transactions.__\n",
    "\n",
    "For example, if the chosen support threshold is 0.1 then the association rule is expected to hold true for at least 10% of the transactions. The choice of this threshold is based on domain and the total number of transactions being studied.\n",
    "\n",
    "Typically an association rule is said to be interesting if:     \n",
    "\n",
    ">  Support  ≥ minsupport threshold \n",
    "\n",
    "> Confidence ≥ min_confidence threshold \n",
    "\n",
    "\n",
    "__The choice of min_support threshold and min_confidence threshold is purely based on domain knowledge.__\n",
    "\n",
    "If the min_support threshold and min_confidence threshold for this sample study are considered as 0.1 and 0.4 respectively, then the association between foot mats and seat cover can be said to be interesting because the support and confidence for this association are 0.2 and 0.5 respectively.\n",
    "\n",
    "It is also possible that customers buy a set of items together. For example, in the given sample dataset, customers who purchased both audio system and toolbox also purchased window tint.\n",
    "\n",
    "__The support-confidence for the association between {audio system, toolbox} and {window tint} expressed as {audio system, toolbox} → {window tint} is as follows.__\n",
    "\n",
    "![](22.PNG)\n",
    "\n",
    "This is also an interesting association because the computed support and confidence are greater than the chosen thresholds.\n",
    "\n",
    "\n",
    "> Support and confidence can take values in range of [0,1].\n",
    "\n",
    "***\n",
    "\n",
    "### Inadequacy of support-confidence\n",
    "\n",
    "#### Lift\n",
    "Consider the below scenario for the given sample data where the usefulness of the association rule {audio system, toolbox} → {window tint} is being determined using support and confidence.\n",
    "\n",
    "![](23.PNG)\n",
    "\n",
    "Based on the above two-way table, it can be observed that for an association between x and y, represented as association rule x → y, confidence considers only x and the co-occurrence of x.\n",
    "\n",
    "> To determine whether the association rules discovered are sufficiently interesting enough, additional metrics such as lift, conviction and leverage can be used.\n",
    "\n",
    "![](24.PNG)\n",
    "\n",
    "Larger values of lift indicate stronger association because lift indicates the strength of association. The nature of association based on the value of lift can be summarized as below:\n",
    "\n",
    "- If lift = 1, then x and y are said to be disassociated/statistically independent. The presence of x may have no influence on the presence of y.\n",
    "- If lift > 1, then x and y are said to be positively associated i.e. the presence of x tends to indicate the presence of y.\n",
    "- If lift < 1, then x and y are said to be negatively associated.\n",
    "\n"
   ]
  },
  {
   "cell_type": "code",
   "execution_count": null,
   "metadata": {},
   "outputs": [],
   "source": []
  },
  {
   "cell_type": "code",
   "execution_count": null,
   "metadata": {},
   "outputs": [],
   "source": []
  },
  {
   "cell_type": "code",
   "execution_count": null,
   "metadata": {},
   "outputs": [],
   "source": []
  }
 ],
 "metadata": {
  "kernelspec": {
   "display_name": "Python 3",
   "language": "python",
   "name": "python3"
  },
  "language_info": {
   "codemirror_mode": {
    "name": "ipython",
    "version": 3
   },
   "file_extension": ".py",
   "mimetype": "text/x-python",
   "name": "python",
   "nbconvert_exporter": "python",
   "pygments_lexer": "ipython3",
   "version": "3.7.6"
  }
 },
 "nbformat": 4,
 "nbformat_minor": 4
}
