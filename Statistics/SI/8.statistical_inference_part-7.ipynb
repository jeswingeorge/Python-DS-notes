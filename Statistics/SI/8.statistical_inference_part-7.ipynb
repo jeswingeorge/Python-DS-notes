{
 "cells": [
  {
   "cell_type": "markdown",
   "metadata": {},
   "source": [
    "# Two way ANOVA\n",
    "\n",
    "## Two way ANOVA - Introduction\n",
    "\n",
    "__Two Way ANOVA__ is also known as __Randomized Block Design__\n",
    "\n",
    "In statistics, the two-way analysis of variance (ANOVA) is an extension of the one-way ANOVA that examines the influence of two different categorical independent variables on one continuous dependent variable. It compares the mean differences between groups that have been split on two independent variables (called factors).\n",
    "\n",
    "Assumptions  \n",
    "- The populations from which the samples were obtained must be normally or approximately normally distributed\n",
    "- The samples must be independent\n",
    "- The variances of the populations must be equal\n",
    "- The groups must have the same sample size\n",
    "\n",
    "### Two way ANOVA - Scenario\n",
    "\n",
    "Two way ANOVA is performed to analyze the effect of two categorical independent variables on the dependent variable which is quantitative in nature. \n",
    "\n",
    "By performing two way ANOVA we can find out the following:\n",
    "- Effect of 1st independent variable on the dependent variable. \n",
    "- Effect of 2nd independent variable on the dependent variable.\n",
    "- Combined effect of both the independent variables on the dependent variable.\n",
    "\n",
    "By performing two way ANOVA the surveying agency finds out:\n",
    "\n",
    "- How the performance of a student is affected by the teacher under whom he/she has studied.\n",
    "- Does gender of a student has a significant effect on his performance.\n",
    "- How the attributes teacher and gender together affect the performance of a student. \n",
    "\n",
    "### Two way ANOVA - The data to be analyzed\n",
    "\n",
    "The mark scored by the 15 students along with the gender and the teacher under which they studied is given below. The agency analyzes this data to find the effect of teacher, gender and the combination of both on the performance of students.\n",
    "\n"
   ]
  },
  {
   "cell_type": "code",
   "execution_count": 1,
   "metadata": {
    "ExecuteTime": {
     "end_time": "2020-04-07T05:34:54.362653Z",
     "start_time": "2020-04-07T05:34:35.813983Z"
    }
   },
   "outputs": [],
   "source": [
    "import numpy as np \n",
    "import pandas as pd \n",
    "import matplotlib.pyplot as plt\n",
    "import seaborn as sns\n",
    "%matplotlib inline\n",
    "sns.set()"
   ]
  },
  {
   "cell_type": "code",
   "execution_count": 2,
   "metadata": {
    "ExecuteTime": {
     "end_time": "2020-04-07T05:35:21.615704Z",
     "start_time": "2020-04-07T05:35:21.452715Z"
    }
   },
   "outputs": [
    {
     "data": {
      "text/html": [
       "<div>\n",
       "<style scoped>\n",
       "    .dataframe tbody tr th:only-of-type {\n",
       "        vertical-align: middle;\n",
       "    }\n",
       "\n",
       "    .dataframe tbody tr th {\n",
       "        vertical-align: top;\n",
       "    }\n",
       "\n",
       "    .dataframe thead th {\n",
       "        text-align: right;\n",
       "    }\n",
       "</style>\n",
       "<table border=\"1\" class=\"dataframe\">\n",
       "  <thead>\n",
       "    <tr style=\"text-align: right;\">\n",
       "      <th></th>\n",
       "      <th>Teacher</th>\n",
       "      <th>Gender</th>\n",
       "      <th>Mark</th>\n",
       "    </tr>\n",
       "  </thead>\n",
       "  <tbody>\n",
       "    <tr>\n",
       "      <th>0</th>\n",
       "      <td>teacher1</td>\n",
       "      <td>Female</td>\n",
       "      <td>90</td>\n",
       "    </tr>\n",
       "    <tr>\n",
       "      <th>1</th>\n",
       "      <td>teacher1</td>\n",
       "      <td>Male</td>\n",
       "      <td>76</td>\n",
       "    </tr>\n",
       "    <tr>\n",
       "      <th>2</th>\n",
       "      <td>teacher1</td>\n",
       "      <td>Male</td>\n",
       "      <td>65</td>\n",
       "    </tr>\n",
       "    <tr>\n",
       "      <th>3</th>\n",
       "      <td>teacher1</td>\n",
       "      <td>Male</td>\n",
       "      <td>67</td>\n",
       "    </tr>\n",
       "    <tr>\n",
       "      <th>4</th>\n",
       "      <td>teacher1</td>\n",
       "      <td>Female</td>\n",
       "      <td>73</td>\n",
       "    </tr>\n",
       "    <tr>\n",
       "      <th>5</th>\n",
       "      <td>teacher1</td>\n",
       "      <td>Female</td>\n",
       "      <td>81</td>\n",
       "    </tr>\n",
       "    <tr>\n",
       "      <th>6</th>\n",
       "      <td>teacher2</td>\n",
       "      <td>Male</td>\n",
       "      <td>81</td>\n",
       "    </tr>\n",
       "    <tr>\n",
       "      <th>7</th>\n",
       "      <td>teacher2</td>\n",
       "      <td>Female</td>\n",
       "      <td>86</td>\n",
       "    </tr>\n",
       "    <tr>\n",
       "      <th>8</th>\n",
       "      <td>teacher2</td>\n",
       "      <td>Male</td>\n",
       "      <td>89</td>\n",
       "    </tr>\n",
       "    <tr>\n",
       "      <th>9</th>\n",
       "      <td>teacher2</td>\n",
       "      <td>Male</td>\n",
       "      <td>76</td>\n",
       "    </tr>\n",
       "    <tr>\n",
       "      <th>10</th>\n",
       "      <td>teacher2</td>\n",
       "      <td>Female</td>\n",
       "      <td>94</td>\n",
       "    </tr>\n",
       "    <tr>\n",
       "      <th>11</th>\n",
       "      <td>teacher2</td>\n",
       "      <td>Female</td>\n",
       "      <td>87</td>\n",
       "    </tr>\n",
       "    <tr>\n",
       "      <th>12</th>\n",
       "      <td>teacher3</td>\n",
       "      <td>Female</td>\n",
       "      <td>76</td>\n",
       "    </tr>\n",
       "    <tr>\n",
       "      <th>13</th>\n",
       "      <td>teacher3</td>\n",
       "      <td>Male</td>\n",
       "      <td>66</td>\n",
       "    </tr>\n",
       "    <tr>\n",
       "      <th>14</th>\n",
       "      <td>teacher3</td>\n",
       "      <td>Female</td>\n",
       "      <td>72</td>\n",
       "    </tr>\n",
       "    <tr>\n",
       "      <th>15</th>\n",
       "      <td>teacher3</td>\n",
       "      <td>Female</td>\n",
       "      <td>71</td>\n",
       "    </tr>\n",
       "    <tr>\n",
       "      <th>16</th>\n",
       "      <td>teacher3</td>\n",
       "      <td>Male</td>\n",
       "      <td>63</td>\n",
       "    </tr>\n",
       "    <tr>\n",
       "      <th>17</th>\n",
       "      <td>teacher3</td>\n",
       "      <td>Male</td>\n",
       "      <td>70</td>\n",
       "    </tr>\n",
       "  </tbody>\n",
       "</table>\n",
       "</div>"
      ],
      "text/plain": [
       "     Teacher  Gender  Mark\n",
       "0   teacher1  Female    90\n",
       "1   teacher1    Male    76\n",
       "2   teacher1    Male    65\n",
       "3   teacher1    Male    67\n",
       "4   teacher1  Female    73\n",
       "5   teacher1  Female    81\n",
       "6   teacher2    Male    81\n",
       "7   teacher2  Female    86\n",
       "8   teacher2    Male    89\n",
       "9   teacher2    Male    76\n",
       "10  teacher2  Female    94\n",
       "11  teacher2  Female    87\n",
       "12  teacher3  Female    76\n",
       "13  teacher3    Male    66\n",
       "14  teacher3  Female    72\n",
       "15  teacher3  Female    71\n",
       "16  teacher3    Male    63\n",
       "17  teacher3    Male    70"
      ]
     },
     "metadata": {},
     "output_type": "display_data"
    }
   ],
   "source": [
    "mark_scored = pd.read_csv('data/Mark_teacher_gender.csv')\n",
    "display(mark_scored)"
   ]
  },
  {
   "cell_type": "markdown",
   "metadata": {},
   "source": [
    "### Steps to perform two way ANOVA\n",
    "\n",
    "__Step 1:__ Set the null hypothesis and the alternate hypothesis.\n",
    "\n",
    "__Step 2:__ Calculate various means and create the mean table.\n",
    "\n",
    "__Step 3:__ Calculate the sum of squares. \n",
    "\n",
    "__Step 4:__ Calculate the degrees of freedom for each sum of squares.\n",
    "\n",
    "__Step 5:__ Calculate the mean square values.\n",
    "\n",
    "__Step 6:__ Calculate the F statistic.\n",
    "\n",
    "__Step 7:__ Find out the Critical F value and compare the F statistic calculated. \n",
    "\n",
    "__Step 8:__  Draw and state the conclusion. \n",
    "\n",
    "***\n",
    "\n",
    "#### Step 1:Setting hypothesis\n",
    "\n",
    "The Agency is analyzing the effect of two independent attributes i.e. teacher and gender on the performance of a student.\n",
    "\n",
    "Here, the agency has to set 3 sets of hypothesis. One to analyze the effect of  1st independent variable i.e. teacher, one to analyze the effect of second independent variable i.e. gender and one more to analyze  the effect of combination of both the independent variables.\n",
    "\n",
    "The null hypothesis and alternate hypothesis is set as given below. \n",
    "\n",
    "Set 1:\n",
    "- $H_0$: Teacher  has no significant effect on the performance of a student i.e.  $\\mu_{teacher1}=\\mu_{teacher2}=\\mu_{teacher1}$. \n",
    "- $H_a$: Teacher has significant effect on the performance of a student i.e.  $\\mu_{teacher1} \\neq \\mu_{teacher2} \\neq \\mu_{teacher1}$\n",
    "\n",
    "\n",
    "Set 2:\n",
    "- $H_0$: Gender has no significant effect on the performance of a student i.e. $\\mu_{male}=\\mu_{female}$.\n",
    "- $H_a$: Gender has significant effect on the performance of a students i.e. $\\mu_{male}≠\\mu_{female}$\n",
    "\n",
    "\n",
    "Set 3:\n",
    "- $H_0$: Combination of gender and teacher has no significant effect on student's performance. \n",
    "- $H_a$: Combination of gnder and teacher has significant effect on student's performance.\n",
    "\n",
    "After setting the hypothesis, the agency proceeds to step 2 which involves calculating various means. \n",
    "\n",
    "#### Step 2: The means to be calculated\n",
    "\n",
    "The Agency needs to calculate the following kinds of means to perform two way ANOVA.\n",
    "- Overall Mean ( mean of mark scored by all the 18 students)\n",
    "- Mean of mark scored by :\n",
    "     - all the students who studied under teacher1\n",
    "     - all the students who studied under teacher2\n",
    "     - all the students who studied under teacher3\n",
    "     - all male students\n",
    "     - all female students\n",
    "     - male students who studied under teacher1\n",
    "     - female students who studied under teacher1\n",
    "     - male students who studied under teacher2\n",
    "     - female students who studied under teacher2\n",
    "     - male students who studied under teacher3\n",
    "     - female students who studied under teacher3\n",
    "     \n",
    "#### Step 2: Calculating the means\n",
    "\n",
    "The overall mean or grand mean. \n",
    "\n",
    "The overall mean i.e. mean mark scored by all the 18 students"
   ]
  },
  {
   "cell_type": "code",
   "execution_count": 3,
   "metadata": {
    "ExecuteTime": {
     "end_time": "2020-04-07T05:46:26.909208Z",
     "start_time": "2020-04-07T05:46:26.893216Z"
    }
   },
   "outputs": [
    {
     "name": "stdout",
     "output_type": "stream",
     "text": [
      "Overall mean:  76.83333333333333\n"
     ]
    }
   ],
   "source": [
    "overall_mean = np.mean(mark_scored.Mark.mean())\n",
    "print(\"Overall mean: \",overall_mean)"
   ]
  },
  {
   "cell_type": "markdown",
   "metadata": {},
   "source": [
    "Means with respect to teacher"
   ]
  },
  {
   "cell_type": "code",
   "execution_count": 4,
   "metadata": {
    "ExecuteTime": {
     "end_time": "2020-04-07T05:48:08.831483Z",
     "start_time": "2020-04-07T05:48:08.811558Z"
    }
   },
   "outputs": [],
   "source": [
    "mean_teacher1 = np.mean(mark_scored.loc[mark_scored.Teacher=='teacher1', 'Mark'])\n",
    "mean_teacher2 = np.mean(mark_scored.loc[mark_scored.Teacher=='teacher2', 'Mark'])\n",
    "mean_teacher3 = np.mean(mark_scored.loc[mark_scored.Teacher=='teacher3', 'Mark'])"
   ]
  },
  {
   "cell_type": "code",
   "execution_count": 5,
   "metadata": {
    "ExecuteTime": {
     "end_time": "2020-04-07T05:48:46.495995Z",
     "start_time": "2020-04-07T05:48:46.483991Z"
    }
   },
   "outputs": [
    {
     "name": "stdout",
     "output_type": "stream",
     "text": [
      "Mean_teacher_1:  75.33333333333333\n",
      "Mean_teacher_2:  85.5\n",
      "Mean_teacher_3:  69.66666666666667\n"
     ]
    }
   ],
   "source": [
    "print(\"Mean_teacher_1: \",mean_teacher1)\n",
    "print(\"Mean_teacher_2: \",mean_teacher2)\n",
    "print(\"Mean_teacher_3: \",mean_teacher3)"
   ]
  },
  {
   "cell_type": "markdown",
   "metadata": {},
   "source": [
    " Means with respect to gender \n",
    "\n",
    "The means with respect to the second independent attribute i.e. gender."
   ]
  },
  {
   "cell_type": "code",
   "execution_count": 6,
   "metadata": {
    "ExecuteTime": {
     "end_time": "2020-04-07T05:51:31.753244Z",
     "start_time": "2020-04-07T05:51:31.741251Z"
    }
   },
   "outputs": [],
   "source": [
    "mean_male = np.mean(mark_scored.loc[mark_scored.Gender=='Male', \"Mark\"])\n",
    "mean_female = np.mean(mark_scored.loc[mark_scored.Gender=='Female', \"Mark\"])"
   ]
  },
  {
   "cell_type": "code",
   "execution_count": 7,
   "metadata": {
    "ExecuteTime": {
     "end_time": "2020-04-07T05:51:59.294847Z",
     "start_time": "2020-04-07T05:51:59.282843Z"
    }
   },
   "outputs": [
    {
     "name": "stdout",
     "output_type": "stream",
     "text": [
      "Mean_male:  72.55555555555556\n",
      "Mean_female:  81.11111111111111\n"
     ]
    }
   ],
   "source": [
    "print('Mean_male: ',mean_male)\n",
    "print('Mean_female: ',mean_female)"
   ]
  },
  {
   "cell_type": "markdown",
   "metadata": {},
   "source": [
    "Means with respect to combination of teacher and gender \n",
    "\n",
    "The means with respect to the combination of teacher and gender i.e. mean mark scored by all the males who were taught by teacher 1, mean mark scored by all the females who were taught by teacher 1 and so on"
   ]
  },
  {
   "cell_type": "code",
   "execution_count": 9,
   "metadata": {
    "ExecuteTime": {
     "end_time": "2020-04-07T05:58:54.773890Z",
     "start_time": "2020-04-07T05:58:54.754161Z"
    }
   },
   "outputs": [
    {
     "name": "stdout",
     "output_type": "stream",
     "text": [
      "mean_male_teacher1:  69.33333333333333\n"
     ]
    }
   ],
   "source": [
    "mean_male_teacher1 = np.mean(mark_scored.loc[(mark_scored.Teacher=='teacher1') & \\\n",
    "                                             (mark_scored.Gender == 'Male'), \"Mark\"])\n",
    "print(\"mean_male_teacher1: \",mean_male_teacher1)"
   ]
  },
  {
   "cell_type": "code",
   "execution_count": 10,
   "metadata": {
    "ExecuteTime": {
     "end_time": "2020-04-07T05:59:37.255870Z",
     "start_time": "2020-04-07T05:59:37.246891Z"
    }
   },
   "outputs": [
    {
     "name": "stdout",
     "output_type": "stream",
     "text": [
      "mean_female_teacher1:  81.33333333333333\n"
     ]
    }
   ],
   "source": [
    "mean_female_teacher1 = np.mean(mark_scored.loc[(mark_scored.Teacher=='teacher1') & \\\n",
    "                                             (mark_scored.Gender == 'Female'), \"Mark\"])\n",
    "print(\"mean_female_teacher1: \",mean_female_teacher1)"
   ]
  },
  {
   "cell_type": "code",
   "execution_count": 11,
   "metadata": {
    "ExecuteTime": {
     "end_time": "2020-04-07T06:00:18.805478Z",
     "start_time": "2020-04-07T06:00:18.795479Z"
    }
   },
   "outputs": [
    {
     "name": "stdout",
     "output_type": "stream",
     "text": [
      "mean_male_teacher2:  82.0\n"
     ]
    }
   ],
   "source": [
    "mean_male_teacher2 = np.mean(mark_scored.loc[(mark_scored.Teacher=='teacher2') & \\\n",
    "                                             (mark_scored.Gender == 'Male'), \"Mark\"])\n",
    "print(\"mean_male_teacher2: \",mean_male_teacher2)"
   ]
  },
  {
   "cell_type": "code",
   "execution_count": 12,
   "metadata": {
    "ExecuteTime": {
     "end_time": "2020-04-07T06:00:57.205081Z",
     "start_time": "2020-04-07T06:00:57.197089Z"
    }
   },
   "outputs": [
    {
     "name": "stdout",
     "output_type": "stream",
     "text": [
      "mean_female_teacher2:  89.0\n"
     ]
    }
   ],
   "source": [
    "mean_female_teacher2 = np.mean(mark_scored.loc[(mark_scored.Teacher=='teacher2') & \\\n",
    "                                             (mark_scored.Gender == 'Female'), \"Mark\"])\n",
    "print(\"mean_female_teacher2: \",mean_female_teacher2)"
   ]
  },
  {
   "cell_type": "code",
   "execution_count": 13,
   "metadata": {
    "ExecuteTime": {
     "end_time": "2020-04-07T06:01:20.592070Z",
     "start_time": "2020-04-07T06:01:20.576442Z"
    }
   },
   "outputs": [
    {
     "name": "stdout",
     "output_type": "stream",
     "text": [
      "mean_male_teacher3:  66.33333333333333\n"
     ]
    }
   ],
   "source": [
    "mean_male_teacher3 = np.mean(mark_scored.loc[(mark_scored.Teacher=='teacher3') & \\\n",
    "                                             (mark_scored.Gender == 'Male'), \"Mark\"])\n",
    "print(\"mean_male_teacher3: \",mean_male_teacher3)"
   ]
  },
  {
   "cell_type": "code",
   "execution_count": 14,
   "metadata": {
    "ExecuteTime": {
     "end_time": "2020-04-07T06:01:35.780828Z",
     "start_time": "2020-04-07T06:01:35.769839Z"
    }
   },
   "outputs": [
    {
     "name": "stdout",
     "output_type": "stream",
     "text": [
      "mean_female_teacher3:  73.0\n"
     ]
    }
   ],
   "source": [
    "mean_female_teacher3 = np.mean(mark_scored.loc[(mark_scored.Teacher=='teacher3') & \\\n",
    "                                             (mark_scored.Gender == 'Female'), \"Mark\"])\n",
    "print(\"mean_female_teacher3: \",mean_female_teacher3)"
   ]
  },
  {
   "cell_type": "markdown",
   "metadata": {},
   "source": [
    "#### Step 2: The mean table\n",
    "\n",
    "All the means calculated, is listed in a table as given below. \n",
    "\n",
    "![](8_11.PNG)\n",
    "\n",
    "#### Step 3: Sum of squares to be calculated\n",
    "\n",
    "For performing two way ANOVA the following sum of squares to be calculated\n",
    "- Sum of Squares Total (SST)\n",
    "- Sum of Squares between due to Factor 1 ($SSB_{factor1}$)\n",
    "- Sum of Squares between due to Factor 2 ($SSB_{factor2}$)\n",
    "- Sum of Squares between due to combination of Factor 1 and Factor 2 ($SSC_{factor1 + factor2}$) \n",
    "- Sum of Squares within (SSW)\n",
    "\n",
    "The relationship between various sum of squares is \n",
    "\n",
    "![](8_12.PNG)\n",
    "\n",
    "In our case study the surveying agency needs to calculate the following sum of squares:\n",
    "- Sum of Squares Total (SST)\n",
    "- Sum of Squares between due to gender ($SSB_{gender}$)\n",
    "- Sum of Squares between due to teacher ($SSB_{teacher}$)\n",
    "- Sum of Squares between due to combination of gender and teacher ($SSB_{gender+teacher}$)\n",
    "- Sum of Squares within (SSW)\n",
    "\n",
    "The equation can be written as:\n",
    "\n",
    "![](8_13.PNG)\n",
    "\n",
    "#### Step 3:Calculating sum of squares total (SST)\n",
    "\n",
    "__Sum of Squares total__ is the squared distance of all the records from the overall mean.\n"
   ]
  },
  {
   "cell_type": "code",
   "execution_count": 15,
   "metadata": {
    "ExecuteTime": {
     "end_time": "2020-04-07T06:09:18.159079Z",
     "start_time": "2020-04-07T06:09:17.857535Z"
    }
   },
   "outputs": [
    {
     "name": "stdout",
     "output_type": "stream",
     "text": [
      "SST:  1504.5\n"
     ]
    }
   ],
   "source": [
    "SST = np.sum((mark_scored.Mark - overall_mean)**2)\n",
    "print(\"SST: \",SST)"
   ]
  },
  {
   "cell_type": "markdown",
   "metadata": {},
   "source": [
    "#### Step 3: Calculating sum of squares between, due to teacher\n",
    "\n",
    "__Sum of Squares between__ due to the factor teacher ($SSB_{teacher}$) can be calculated as shown below:\n",
    "\n",
    "![](8_14.PNG)\n",
    "\n",
    "> SSBteacher= SSBteacher1+SSBteacher2+SSBteacher3= 13.5+450.6666+308.1667= 772.3333"
   ]
  },
  {
   "cell_type": "code",
   "execution_count": 16,
   "metadata": {
    "ExecuteTime": {
     "end_time": "2020-04-07T06:15:30.695637Z",
     "start_time": "2020-04-07T06:15:30.682632Z"
    }
   },
   "outputs": [
    {
     "name": "stdout",
     "output_type": "stream",
     "text": [
      "SSB_teacher:  772.333333333333\n"
     ]
    }
   ],
   "source": [
    "SSB_teacher1 = len(mark_scored.loc[mark_scored.Teacher=='teacher1', \"Mark\"]) * ((mean_teacher1 - overall_mean)**2)\n",
    "SSB_teacher2 = len(mark_scored.loc[mark_scored.Teacher=='teacher2', \"Mark\"]) * ((mean_teacher2 - overall_mean)**2)\n",
    "SSB_teacher3 = len(mark_scored.loc[mark_scored.Teacher=='teacher3', \"Mark\"]) * ((mean_teacher3 - overall_mean)**2)\n",
    "SSB_teacher = SSB_teacher1+SSB_teacher2+SSB_teacher3\n",
    "print('SSB_teacher: ', SSB_teacher)"
   ]
  },
  {
   "cell_type": "markdown",
   "metadata": {},
   "source": [
    "### Step 3: Calculating sum of squares between, due to gender\n",
    "\n",
    "Sum of Squares between due to factor gender (SSBgender) can be calculated as shown below:\n",
    "\n",
    "![](8_15.PNG)  \n",
    "  \n",
    "![](8_16.PNG) \n",
    "\n",
    "SSBgender=SSBmale+SSBfemale=164.6944+164.6944=329.38"
   ]
  },
  {
   "cell_type": "code",
   "execution_count": 17,
   "metadata": {
    "ExecuteTime": {
     "end_time": "2020-04-07T06:36:45.040427Z",
     "start_time": "2020-04-07T06:36:45.027437Z"
    }
   },
   "outputs": [
    {
     "name": "stdout",
     "output_type": "stream",
     "text": [
      "SSB_gender:  329.388888888889\n"
     ]
    }
   ],
   "source": [
    "SSB_male = len(mark_scored.loc[mark_scored.Gender=='Male', \"Mark\"]) * ((mean_male - overall_mean)**2)\n",
    "SSB_female = len(mark_scored.loc[mark_scored.Gender=='Female', \"Mark\"]) * ((mean_female - overall_mean)**2)\n",
    "SSB_gender = SSB_male + SSB_female\n",
    "print('SSB_gender: ', SSB_gender)"
   ]
  },
  {
   "cell_type": "markdown",
   "metadata": {},
   "source": [
    "### Step 3: Calculating sum of squares within (SSW) i.e. error\n",
    "\n",
    "__Sum of Squares within (SSW)__ is calculated as shown below:\n",
    "\n",
    "![](8_17.PNG)\n",
    "\n",
    "![](8_18.PNG)\n",
    "\n",
    "SSW= SSWmale+SSWfemale=179.3334+196.667=376"
   ]
  },
  {
   "cell_type": "code",
   "execution_count": 18,
   "metadata": {
    "ExecuteTime": {
     "end_time": "2020-04-07T06:51:06.721537Z",
     "start_time": "2020-04-07T06:51:06.678095Z"
    }
   },
   "outputs": [
    {
     "name": "stdout",
     "output_type": "stream",
     "text": [
      "SSW1:  68.66666666666667\n"
     ]
    }
   ],
   "source": [
    "SSW1 = np.sum((mark_scored.loc[(mark_scored.Teacher==\"teacher1\") & (mark_scored.Gender=='Male'), 'Mark'] \\\n",
    "              - mean_male_teacher1)**2)\n",
    "print('SSW1: ', SSW1)"
   ]
  },
  {
   "cell_type": "code",
   "execution_count": 21,
   "metadata": {
    "ExecuteTime": {
     "end_time": "2020-04-07T06:54:57.271088Z",
     "start_time": "2020-04-07T06:54:57.232110Z"
    }
   },
   "outputs": [
    {
     "name": "stdout",
     "output_type": "stream",
     "text": [
      "SSW2:  144.66666666666669\n"
     ]
    }
   ],
   "source": [
    "SSW2 = np.sum((mark_scored.loc[(mark_scored.Teacher==\"teacher1\") & (mark_scored.Gender=='Female'), 'Mark'] \\\n",
    "              - mean_female_teacher1)**2)\n",
    "print('SSW2: ', SSW2)"
   ]
  },
  {
   "cell_type": "code",
   "execution_count": 22,
   "metadata": {
    "ExecuteTime": {
     "end_time": "2020-04-07T06:55:31.146006Z",
     "start_time": "2020-04-07T06:55:31.137011Z"
    }
   },
   "outputs": [
    {
     "name": "stdout",
     "output_type": "stream",
     "text": [
      "SSW3:  86.0\n"
     ]
    }
   ],
   "source": [
    "SSW3 = np.sum((mark_scored.loc[(mark_scored.Teacher==\"teacher2\") & (mark_scored.Gender=='Male'), 'Mark'] \\\n",
    "              - mean_male_teacher2)**2)\n",
    "print('SSW3: ', SSW3)"
   ]
  },
  {
   "cell_type": "code",
   "execution_count": 24,
   "metadata": {
    "ExecuteTime": {
     "end_time": "2020-04-07T06:56:35.596346Z",
     "start_time": "2020-04-07T06:56:35.522951Z"
    }
   },
   "outputs": [
    {
     "name": "stdout",
     "output_type": "stream",
     "text": [
      "SSW4:  38.0\n"
     ]
    }
   ],
   "source": [
    "SSW4 = np.sum((mark_scored.loc[(mark_scored.Teacher==\"teacher2\") & (mark_scored.Gender=='Female'), 'Mark'] \\\n",
    "              - mean_female_teacher2)**2)\n",
    "print('SSW4: ', SSW4)"
   ]
  },
  {
   "cell_type": "code",
   "execution_count": 25,
   "metadata": {
    "ExecuteTime": {
     "end_time": "2020-04-07T06:57:08.662907Z",
     "start_time": "2020-04-07T06:57:08.653914Z"
    }
   },
   "outputs": [
    {
     "name": "stdout",
     "output_type": "stream",
     "text": [
      "SSW5:  24.666666666666664\n"
     ]
    }
   ],
   "source": [
    "SSW5 = np.sum((mark_scored.loc[(mark_scored.Teacher==\"teacher3\") & (mark_scored.Gender=='Male'), 'Mark'] \\\n",
    "              - mean_male_teacher3)**2)\n",
    "print('SSW5: ', SSW5)"
   ]
  },
  {
   "cell_type": "code",
   "execution_count": 27,
   "metadata": {
    "ExecuteTime": {
     "end_time": "2020-04-07T06:58:06.330517Z",
     "start_time": "2020-04-07T06:58:06.320521Z"
    }
   },
   "outputs": [
    {
     "name": "stdout",
     "output_type": "stream",
     "text": [
      "SSW6:  14.0\n"
     ]
    }
   ],
   "source": [
    "SSW6 = np.sum((mark_scored.loc[(mark_scored.Teacher==\"teacher3\") & (mark_scored.Gender=='Female'), 'Mark'] \\\n",
    "              - mean_female_teacher3)**2)\n",
    "print('SSW6: ', SSW6)"
   ]
  },
  {
   "cell_type": "code",
   "execution_count": 29,
   "metadata": {
    "ExecuteTime": {
     "end_time": "2020-04-07T07:02:27.055103Z",
     "start_time": "2020-04-07T07:02:27.040516Z"
    }
   },
   "outputs": [
    {
     "name": "stdout",
     "output_type": "stream",
     "text": [
      "SSW:  376.00000000000006\n"
     ]
    }
   ],
   "source": [
    "SSW = SSW1+SSW2+SSW3+SSW4+SSW5+SSW6\n",
    "print(\"SSW: \",SSW)"
   ]
  },
  {
   "cell_type": "markdown",
   "metadata": {},
   "source": [
    "#### Step 3: Calculating sum of square combined (SSC)\n",
    "\n",
    "Sum of Squares combined (SSC) or Sum of Squares due to combination of gender and teacher can be found as given below:\n",
    "![](8_19.PNG)"
   ]
  },
  {
   "cell_type": "code",
   "execution_count": 30,
   "metadata": {
    "ExecuteTime": {
     "end_time": "2020-04-07T07:02:39.059833Z",
     "start_time": "2020-04-07T07:02:39.044207Z"
    }
   },
   "outputs": [
    {
     "name": "stdout",
     "output_type": "stream",
     "text": [
      "SSB_combined:  26.777777777777885\n"
     ]
    }
   ],
   "source": [
    "SSC = SST - SSB_teacher - SSB_gender - SSW\n",
    "SSB_combined = SSC\n",
    "print('SSB_combined: ', SSB_combined)"
   ]
  },
  {
   "cell_type": "markdown",
   "metadata": {},
   "source": [
    "#### Step 4: Calculating degrees of freedom of sum of squares\n",
    "> Degrees of Freedom: Sum of Squares total\n",
    "\n",
    "  No. of observations (N)=18\n",
    "\n",
    "  Degrees of freedom=N-1= 18-1=17\n",
    "\n",
    "> Degrees of Freedom: Sum of Squares between (Gender)\n",
    "\n",
    "  No. of groups (k1)=2 (male and female)\n",
    "\n",
    "  Degrees of freedom= k1-1= 2-1=1\n",
    "\n",
    "> Degrees of Freedom: Sum of Squares between (Teacher)\n",
    "\n",
    "  No. of groups (k2)=3 (teacher1,teacher2,teacher3)\n",
    "\n",
    "  Degrees of freedom= k2-1=3-1=2\n",
    "\n",
    "> Degrees of Freedom: Sum of Squares within\n",
    "\n",
    "  No. of distinct combinations (x)= k1*k2=6\n",
    "\n",
    "  No. of element in each combination (n)=3\n",
    "\n",
    "  Degrees of freedom = x*(n-1)=6*2=12\n",
    "\n",
    "> Degrees of Freedom: Sum of Squares combined\n",
    "\n",
    "  Degrees of freedom= degrees of freedom between (gender)*degrees of freedom between (teacher)\n",
    "\n",
    "  Degrees of freedom = 1*2=2"
   ]
  },
  {
   "cell_type": "code",
   "execution_count": 31,
   "metadata": {
    "ExecuteTime": {
     "end_time": "2020-04-07T08:59:02.865931Z",
     "start_time": "2020-04-07T08:59:02.769707Z"
    }
   },
   "outputs": [
    {
     "name": "stdout",
     "output_type": "stream",
     "text": [
      "df_total:  17\n"
     ]
    }
   ],
   "source": [
    "df_total = len(mark_scored.Mark) - 1\n",
    "print(\"df_total: \", df_total)"
   ]
  },
  {
   "cell_type": "code",
   "execution_count": 32,
   "metadata": {
    "ExecuteTime": {
     "end_time": "2020-04-07T09:01:07.605800Z",
     "start_time": "2020-04-07T09:01:06.362321Z"
    }
   },
   "outputs": [
    {
     "name": "stdout",
     "output_type": "stream",
     "text": [
      "df_between_teacher:  2\n"
     ]
    }
   ],
   "source": [
    "cat_teach = pd.Series(pd.Categorical(mark_scored.Teacher))\n",
    "df_between_teacher = len(cat_teach.cat.categories)-1\n",
    "print(\"df_between_teacher: \",df_between_teacher)"
   ]
  },
  {
   "cell_type": "code",
   "execution_count": 33,
   "metadata": {
    "ExecuteTime": {
     "end_time": "2020-04-07T09:01:59.583615Z",
     "start_time": "2020-04-07T09:01:59.531631Z"
    }
   },
   "outputs": [
    {
     "name": "stdout",
     "output_type": "stream",
     "text": [
      "df_between_gender:  1\n"
     ]
    }
   ],
   "source": [
    "cat_gender = pd.Series(pd.Categorical(mark_scored.Gender))\n",
    "df_between_gender = len(cat_gender.cat.categories)-1\n",
    "print(\"df_between_gender: \",df_between_gender)"
   ]
  },
  {
   "cell_type": "code",
   "execution_count": 34,
   "metadata": {
    "ExecuteTime": {
     "end_time": "2020-04-07T09:02:46.593670Z",
     "start_time": "2020-04-07T09:02:46.585694Z"
    }
   },
   "outputs": [
    {
     "name": "stdout",
     "output_type": "stream",
     "text": [
      "df_combined:  2\n"
     ]
    }
   ],
   "source": [
    "df_combined = df_between_teacher * df_between_gender\n",
    "print(\"df_combined: \",df_combined)"
   ]
  },
  {
   "cell_type": "code",
   "execution_count": 35,
   "metadata": {
    "ExecuteTime": {
     "end_time": "2020-04-07T09:04:04.667473Z",
     "start_time": "2020-04-07T09:04:04.631480Z"
    }
   },
   "outputs": [
    {
     "name": "stdout",
     "output_type": "stream",
     "text": [
      "df_within:  12\n"
     ]
    }
   ],
   "source": [
    "df_within = len(cat_teach.cat.categories) * len(cat_gender.cat.categories) * 2\n",
    "print(\"df_within: \", df_within)"
   ]
  },
  {
   "cell_type": "markdown",
   "metadata": {},
   "source": [
    "#### Step 5: Calculating mean square values\n",
    "The mean square values can be calculated taking the ratio of sum of squares and degrees of freedom as shown below:"
   ]
  },
  {
   "cell_type": "code",
   "execution_count": 36,
   "metadata": {
    "ExecuteTime": {
     "end_time": "2020-04-07T09:07:01.951731Z",
     "start_time": "2020-04-07T09:07:01.766523Z"
    }
   },
   "outputs": [
    {
     "name": "stdout",
     "output_type": "stream",
     "text": [
      "MSB_teacher:  386.1666666666665\n",
      "MSB_gender:  329.388888888889\n",
      "MSB_combined:  13.388888888888943\n",
      "MSW:  31.33333333333334\n"
     ]
    }
   ],
   "source": [
    "MSB_teacher = SSB_teacher/df_between_teacher\n",
    "MSB_gender = SSB_gender/df_between_gender\n",
    "MSB_combined = SSB_combined/df_combined\n",
    "MSW = SSW/df_within\n",
    "print(\"MSB_teacher: \", MSB_teacher)\n",
    "print(\"MSB_gender: \", MSB_gender)\n",
    "print(\"MSB_combined: \", MSB_combined)\n",
    "print(\"MSW: \", MSW)"
   ]
  },
  {
   "cell_type": "markdown",
   "metadata": {},
   "source": [
    "#### Step 6: Calculating F statistic\n",
    "\n",
    "As done in case of on way ANOVA the next step is to Calculate the F statistic which is nothing but the ratio of mean square between (MSB) and mean square within (MSW). \n",
    "\n",
    "The agency calculates 3 F statistics i.e. one of each of the independent variable and one for the combined effect of both of the independent variables. The F statistics to be calculated is given below.\n",
    "\n",
    "- F statistic for the attribute teacher  \n",
    "- F statistic for the attribute gender\n",
    "- F statistic for the combination of teacher and gender\n",
    "\n"
   ]
  },
  {
   "cell_type": "code",
   "execution_count": 37,
   "metadata": {
    "ExecuteTime": {
     "end_time": "2020-04-07T09:09:27.098597Z",
     "start_time": "2020-04-07T09:09:26.959868Z"
    }
   },
   "outputs": [
    {
     "name": "stdout",
     "output_type": "stream",
     "text": [
      "F_teacher:  12.324468085106377\n",
      "F_gender:  10.512411347517732\n",
      "F_combined:  0.42730496453900874\n"
     ]
    }
   ],
   "source": [
    "F_teacher = MSB_teacher/MSW\n",
    "F_gender = MSB_gender/MSW\n",
    "F_combined = MSB_combined/MSW\n",
    "print(\"F_teacher: \", F_teacher)\n",
    "print(\"F_gender: \", F_gender)\n",
    "print(\"F_combined: \", F_combined)"
   ]
  },
  {
   "cell_type": "markdown",
   "metadata": {},
   "source": [
    "#### Step 7: Calculating critical F statistics\n",
    "\n",
    "The next task is to calculate the critical F statistics. The agency would calculated 3 critical F statistic, taking the level of significance and the degrees of freedom into consideration. The level of significance was set as 0.05. \n",
    "\n",
    "Python function [f.ppf()](https://docs.scipy.org/doc/scipy/reference/generated/scipy.stats.f.html) is used to find out the critical F statistics. "
   ]
  },
  {
   "cell_type": "code",
   "execution_count": 38,
   "metadata": {
    "ExecuteTime": {
     "end_time": "2020-04-07T09:13:26.853606Z",
     "start_time": "2020-04-07T09:13:25.717403Z"
    }
   },
   "outputs": [
    {
     "name": "stdout",
     "output_type": "stream",
     "text": [
      "F_critical_teacher:  3.8852938346523933\n",
      "F_critical_gender:  4.747225346722511\n",
      "F_critical_combined:  3.8852938346523933\n"
     ]
    }
   ],
   "source": [
    "from scipy.stats import f\n",
    "F_critical_teacher = f.ppf(0.95,2,12)\n",
    "F_critical_gender = f.ppf(0.95,1,12)\n",
    "F_critical_combined = f.ppf(0.95,2,12)\n",
    "print(\"F_critical_teacher: \",F_critical_teacher)\n",
    "print(\"F_critical_gender: \",F_critical_gender)\n",
    "print(\"F_critical_combined: \",F_critical_combined)"
   ]
  },
  {
   "cell_type": "markdown",
   "metadata": {},
   "source": [
    "The sum of squares , degrees of freedom, mean squares , calculated F statistics and the critical F statistics is given in the following table. \n",
    "\n",
    "![](8_20.PNG)\n",
    "\n",
    "#### Step 8: Comparing F values and drawing conclusion\n",
    "\n",
    "From the F table it is observed that, __for both the independent attributes i.e. teacher and gender__ $F_{calculated} > F_{critical}$\n",
    "\n",
    "Hence we can reject the null hypothesis in both this cases and conclude:\n",
    "- Performance of a student is affected by the teacher under which he/she has studied.\n",
    "- There is a significant difference between the performance of males and females.  \n",
    "\n",
    "__for the combination of both the factors (gender + teacher) $F_{calculated} < F_{critical}$.__\n",
    "\n",
    "Hence we fail to reject the null hypothesis and conclude\n",
    "- Combination of gender and teacher does not have significant effect on the performance of a student.\n",
    "\n",
    "__Solution to Challenge 6.3:__ The agency has concluded that there is a significant difference between the performance of male and female students. The difference in performance of the students who has studied under different teachers is also significant. Hence both the factors i.e. teacher and gender has significant effect on the performance of students. "
   ]
  },
  {
   "cell_type": "markdown",
   "metadata": {},
   "source": [
    "### Performing two way ANOVA in Python\n",
    "\n",
    "Two way ANOVA can be performed using ols() function in Python. The ols() function takes the data frame containing the observations as input. The data frame must have each attribute as a separate column.\n",
    "\n",
    "The output of ols() function gives the critical F value and P value for each independent attribute and also for the combination of independent variables. \n",
    "\n",
    "> Comparing the level of significance and the P values we can accept/ reject the Null hypothesis. \n",
    "\n"
   ]
  },
  {
   "cell_type": "code",
   "execution_count": 40,
   "metadata": {
    "ExecuteTime": {
     "end_time": "2020-04-07T09:23:28.368821Z",
     "start_time": "2020-04-07T09:23:27.773080Z"
    }
   },
   "outputs": [
    {
     "data": {
      "text/html": [
       "<div>\n",
       "<style scoped>\n",
       "    .dataframe tbody tr th:only-of-type {\n",
       "        vertical-align: middle;\n",
       "    }\n",
       "\n",
       "    .dataframe tbody tr th {\n",
       "        vertical-align: top;\n",
       "    }\n",
       "\n",
       "    .dataframe thead th {\n",
       "        text-align: right;\n",
       "    }\n",
       "</style>\n",
       "<table border=\"1\" class=\"dataframe\">\n",
       "  <thead>\n",
       "    <tr style=\"text-align: right;\">\n",
       "      <th></th>\n",
       "      <th>sum_sq</th>\n",
       "      <th>df</th>\n",
       "      <th>F</th>\n",
       "      <th>PR(&gt;F)</th>\n",
       "    </tr>\n",
       "  </thead>\n",
       "  <tbody>\n",
       "    <tr>\n",
       "      <th>Teacher</th>\n",
       "      <td>772.333333</td>\n",
       "      <td>2.0</td>\n",
       "      <td>12.324468</td>\n",
       "      <td>0.001232</td>\n",
       "    </tr>\n",
       "    <tr>\n",
       "      <th>Gender</th>\n",
       "      <td>329.388889</td>\n",
       "      <td>1.0</td>\n",
       "      <td>10.512411</td>\n",
       "      <td>0.007057</td>\n",
       "    </tr>\n",
       "    <tr>\n",
       "      <th>Teacher:Gender</th>\n",
       "      <td>26.777778</td>\n",
       "      <td>2.0</td>\n",
       "      <td>0.427305</td>\n",
       "      <td>0.661811</td>\n",
       "    </tr>\n",
       "    <tr>\n",
       "      <th>Residual</th>\n",
       "      <td>376.000000</td>\n",
       "      <td>12.0</td>\n",
       "      <td>NaN</td>\n",
       "      <td>NaN</td>\n",
       "    </tr>\n",
       "  </tbody>\n",
       "</table>\n",
       "</div>"
      ],
      "text/plain": [
       "                    sum_sq    df          F    PR(>F)\n",
       "Teacher         772.333333   2.0  12.324468  0.001232\n",
       "Gender          329.388889   1.0  10.512411  0.007057\n",
       "Teacher:Gender   26.777778   2.0   0.427305  0.661811\n",
       "Residual        376.000000  12.0        NaN       NaN"
      ]
     },
     "execution_count": 40,
     "metadata": {},
     "output_type": "execute_result"
    }
   ],
   "source": [
    "import statsmodels.api as sm\n",
    "from statsmodels.formula.api import ols\n",
    "result_two_way_anova = ols('Mark ~ Teacher + Gender + Teacher:Gender', data = mark_scored).fit()\n",
    "aov_table = sm.stats.anova_lm(result_two_way_anova, typ = 2)\n",
    "aov_table"
   ]
  }
 ],
 "metadata": {
  "kernelspec": {
   "display_name": "Python 3",
   "language": "python",
   "name": "python3"
  },
  "language_info": {
   "codemirror_mode": {
    "name": "ipython",
    "version": 3
   },
   "file_extension": ".py",
   "mimetype": "text/x-python",
   "name": "python",
   "nbconvert_exporter": "python",
   "pygments_lexer": "ipython3",
   "version": "3.7.6"
  }
 },
 "nbformat": 4,
 "nbformat_minor": 4
}
