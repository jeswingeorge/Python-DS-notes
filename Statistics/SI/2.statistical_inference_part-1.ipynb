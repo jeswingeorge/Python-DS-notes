{
 "cells": [
  {
   "attachments": {},
   "cell_type": "markdown",
   "metadata": {},
   "source": [
    "# Case study\n",
    "\n",
    "Each year federal government checks the quality of education across the country. A surveying agency was identified to conduct this exercise on primary school education. This agency checks the quality of education by conducting surprise tests for primary school students.\n",
    "\n",
    "The Agency has two options for conducting this exercise of checking the quality of education:\n",
    "\n",
    "- Option 1: Conduct surprise test for each and every student in the country, analyze their performance and then conclude on the quality of primary school education in the country.\n",
    "\n",
    "- Option 2: Conduct surprise test for a selected group of students across various schools in the country. Analyze the marks of these selected students and draw inferences about the quality of primary school education in the entire country.\n",
    "\n",
    "\n",
    "Option 1 is about collecting all the required data and performing statistical operations in order to arrive at conclusions. This type of statistical analysis falls under __descriptive statistics__.\n",
    "\n",
    "Option 2 deals with collecting a subset of data, known as __sample__ in statistical terminology, from the entire data known as population.The sample is analyzed and conclusions are drawn about the population based on the sample. This type of analysis falls under __statistical inference (also known as inferential statistics)__.\n",
    "\n",
    "To perform descriptive statistics one needs to analyze the entire population. However, it may not be feasible to collect all the data because of the complexity and cost involved in data collection. For example, it is not feasible to conduct surprise test for every student across all the schools in the country.\n",
    "\n",
    "The surveying agency prefers option 2.\n",
    "\n",
    "The surveying agency uses various statistical inference techniques to draw conclusions about the population, by analyzing the sample. Throughout this course we are going to learn such techniques.\n",
    "\n",
    "> Statistical inference is about analyzing various sample statistics to determine the population parameters.\n",
    "\n",
    "| Term      | Denotes                             | Example                              |\n",
    "|-----------|-------------------------------------|--------------------------------------|\n",
    "| Statistic | a quantity/property of a sample     | sample mean, sample variance         |\n",
    "| Parameter | a quantity/property of a population | population mean, population variance |\n",
    "\n",
    "\n",
    "In the given scenario, the surveying agency\n",
    "\n",
    "- identifies the sample(set of students to appear for the surprise test) and conducts the surprise test \n",
    "- calculates various sample statistics \n",
    "- draws inferences about the population parameters \n",
    "\n",
    "## Challenges faced in estimating the quality of education\n",
    "\n",
    "> Given below are the challenges that the surveying agency must resolve. This course is all about finding solutions to these challenges.\n",
    "\n",
    "> 1. Deciding the number of students to appear for the surprise test\n",
    "> 2. Deciding how these students should be selected\n",
    "> 3. Estimating the performance of all the students in the country by analyzing the performance of the selected students in the surprise test\n",
    "    - Estimating the mean score from the sample\n",
    "    - Estimating the variance among the marks from the sample\n",
    "\n",
    "> 4. Validating the estimations i.e. determining how good the estimates are\n",
    "> 5. Estimating the difference between the performances of two different schools\n",
    "> 6. Determining the effect of various factors on the performance of students \n",
    "    - Effect of factors like school, teacher, extra efforts put by a student etc.\n",
    "    - Effect of combined factors like gender and teacher etc. \n",
    "    \n",
    "***\n",
    "    \n",
    "# Introduction to Sampling\n",
    "\n",
    "## Challenge 1: How many students to select for the surprise test?\n",
    "\n",
    "The surveying agency has decided to conduct the surprise test for a selected set of students. Now they have to decide the number of students who should appear for the surprise test, such that they represent the performance of all the students in the country.\n",
    "\n",
    "In statistical terms, the surveying agency has to determine the __sample size__. \n",
    "\n",
    "What should be the sample size is determined by the __level of accuracy__ we desire. __Level of accuracy__ indicates how close we want our parameter estimation to be with the population parameters.\n",
    "\n",
    "The level of accuracy is measured in terms of:\n",
    "1. confidence level\n",
    "2. maximum permissible error\n",
    "\n",
    "#### Factors affecting sample size: Confidence Level\n",
    "\n",
    "The surveying agency is estimating quality of primary school education in the country by analyzing the performance of a selected set of students in the surprise test.\n",
    "\n",
    "If the agency gives a single point estimate of the performance of students i.e. the average performance of primary school students in the country as 72%, it may not be equal to the actual value.\n",
    "\n",
    "Rather, if the agency proposes an interval i.e. the average performance of primary school students in the country lies between 70% to 75%, there is a greater certainty associated with this estimate.  \n",
    "\n",
    "The interval is called __confidence interval__ and the level of certainty associated with the interval is characterized by __confidence level__. \n",
    "\n",
    "A confidence level is the probability that the population parameter is within the confidence interval.\n",
    "\n",
    "95% Confidence interval means that the probability of the population parameter being within this interval is 0.95.\n",
    "\n",
    "To associate a greater certainty i.e. higher confidence level with the estimations, one must analyze more and more samples such that the population is properly represented. \n",
    "\n",
    "Thus, if we associate a __higher level of confidence__ to our analysis we may need to __increase the sample size__.\n",
    "\n",
    "#### Factors affecting sample size: Maximum Permissible Error\n",
    "\n",
    "Estimated parameters are different than the population parameters as we consider only a sample and not the entire data.\n",
    "\n",
    "Accurate analysis means the difference between the population parameters and the estimated ones are small.\n",
    "\n",
    "This difference is restricted by specifying maximum permissible error, which is the maximum amount of error that we can accommodate in our analysis. \n",
    "\n",
    "To reduce the maximum permissible error in our analysis, we may need to analyze more samples. \n",
    "\n",
    "The relation between sample size and maximum permissible error is represented in the graph below:\n",
    "\n",
    "![](1_mpe.PNG)\n",
    "\n",
    "Therefore, it is suggested to increase the sample size in order to increase the confidence level and to decrease the margin of error in the analysis. \n",
    "\n",
    "#### Factors affecting sample size: Population Variance\n",
    "\n",
    "Another factor that affects determination of sample size is the variance in the population.\n",
    "\n",
    "Consider two sets of numbers given below as two different populations and calculate the respective population means.\n",
    "\n",
    "![](1_pop.PNG)\n",
    "\n",
    "Observe, in Population 1 the variance between the observations is low. That is, the observations are close to each other. In population 2, the variance is high.\n",
    "\n",
    "As the variance in the population 1 is low, a sample of size 7 is sufficient to closely represent the population.\n",
    "\n",
    "As the variation in the population 2 is high, smaller samples may not be sufficient to closely represent the population. They may not include extreme values that cause the high variance in the population.\n",
    "\n",
    "Therefore, for populations with higher variance, a larger sample may be required, so that the selected sample is a true representative of the population. \n",
    "\n",
    "__Thus, if the variance/standard deviation in the population is higher, we may need to consider a larger sample. __\n",
    "\n",
    "#### Determining the sample size\n",
    "\n",
    "We have found that determination of sample size depends upon 3 major factors, namely,\n",
    "\n",
    "- confidence level\n",
    "- maximum permissible error\n",
    "- population variance/standard deviation\n",
    "\n",
    "Formula given below can be used to calculate sample size: \n",
    "\n",
    "$$ n = [\\frac{Z_c * \\sigma}{E}]^2 $$\n",
    "\n",
    "where,  \n",
    "n - sample size  \n",
    "$Z_c$ - critical Z statistic for the specified confidence level  \n",
    "$\\sigma$ - population standard deviation  \n",
    "E - maximum permissible error  \n",
    "\n",
    "The surveying agency chooses 0.95 or __95% confidence level__.\n",
    "\n",
    "The critical Z value for a specified confidence level can be found by looking at the Z table.\n",
    "\n",
    "Or, alternatively it can be found with the help of Python's scipy library [scipy.stats.norm](https://docs.scipy.org/doc/scipy/reference/generated/scipy.stats.norm.html), [norm.ppf()](https://kite.com/python/docs/scipy.stats.norm.ppf) and [Reference: [Probability to z-score and vice-versa in python](https://stackoverflow.com/questions/20864847/probability-to-z-score-and-vice-versa-in-python)]\n",
    "\n",
    "ppf - Percent point function (inverse of cdf) at q of the given RV.  \n",
    "\n",
    "![](1_ppf.PNG)"
   ]
  },
  {
   "cell_type": "code",
   "execution_count": 1,
   "metadata": {
    "ExecuteTime": {
     "end_time": "2020-04-01T17:24:43.322118Z",
     "start_time": "2020-04-01T17:24:32.245468Z"
    }
   },
   "outputs": [],
   "source": [
    "from scipy.stats import norm"
   ]
  },
  {
   "cell_type": "code",
   "execution_count": 2,
   "metadata": {
    "ExecuteTime": {
     "end_time": "2020-04-01T17:24:43.385084Z",
     "start_time": "2020-04-01T17:24:43.328117Z"
    }
   },
   "outputs": [
    {
     "data": {
      "text/plain": [
       "1.6448536269514722"
      ]
     },
     "execution_count": 2,
     "metadata": {},
     "output_type": "execute_result"
    }
   ],
   "source": [
    "norm.ppf(0.95) # we get the corresponding critical z-value"
   ]
  },
  {
   "cell_type": "code",
   "execution_count": 3,
   "metadata": {
    "ExecuteTime": {
     "end_time": "2020-04-01T17:24:43.589966Z",
     "start_time": "2020-04-01T17:24:43.391080Z"
    }
   },
   "outputs": [
    {
     "data": {
      "text/plain": [
       "0.9494974165258963"
      ]
     },
     "execution_count": 3,
     "metadata": {},
     "output_type": "execute_result"
    }
   ],
   "source": [
    "norm.cdf(1.64) # to get the area under the curve till the z-value 1.64"
   ]
  },
  {
   "cell_type": "markdown",
   "metadata": {},
   "source": [
    "\n",
    "![](1_ppf2.PNG)\n",
    "\n",
    "From the Z table, the critical Z statistic for 95% confidence level is found to be "
   ]
  },
  {
   "cell_type": "code",
   "execution_count": 4,
   "metadata": {
    "ExecuteTime": {
     "end_time": "2020-04-01T17:24:43.719893Z",
     "start_time": "2020-04-01T17:24:43.595965Z"
    }
   },
   "outputs": [
    {
     "data": {
      "text/plain": [
       "1.959963984540054"
      ]
     },
     "execution_count": 4,
     "metadata": {},
     "output_type": "execute_result"
    }
   ],
   "source": [
    "norm.ppf(0.975)"
   ]
  },
  {
   "cell_type": "markdown",
   "metadata": {},
   "source": [
    "The surveying agency sets the maximum permissible error as 5 marks, i.e. estimated value should not differ from the actual value by 5. \n",
    "\n",
    "The agency does not know the population standard deviation. Hence, it refers to the previous surveys and finds the standard deviation to be 85.35 marks.\n",
    "\n",
    "| Parameter                         | Value       |\n",
    "|-----------------------------------|-------------|\n",
    "| $Z_C$                             | 1.96        |\n",
    "| Population std deviation $\\sigma$ | 85.35 marks |\n",
    "| Maximum permissible error (E)     | 5 marks     |\n",
    "\n",
    "The agency uses the formula for sample size(given below) to determine the sample size\n",
    "\n",
    "$$sample size = [\\frac{1.96 * 85.35}{5}]^2 = 1119.3$$\n",
    "\n",
    "The surveying agency rounds it off to 1120. \n",
    "\n",
    "__Solution to Challenge 1:__ The surveying agency determines the sample size to be 1120 i.e. 1120 students will be selected from all over the country to appear for the surprise test. \n",
    "\n",
    "The next task for the agency, is to identify these 1120 students."
   ]
  }
 ],
 "metadata": {
  "kernelspec": {
   "display_name": "Python 3",
   "language": "python",
   "name": "python3"
  },
  "language_info": {
   "codemirror_mode": {
    "name": "ipython",
    "version": 3
   },
   "file_extension": ".py",
   "mimetype": "text/x-python",
   "name": "python",
   "nbconvert_exporter": "python",
   "pygments_lexer": "ipython3",
   "version": "3.7.6"
  }
 },
 "nbformat": 4,
 "nbformat_minor": 4
}
