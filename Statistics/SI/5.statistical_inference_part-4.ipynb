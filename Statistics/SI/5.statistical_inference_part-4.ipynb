{
 "cells": [
  {
   "cell_type": "code",
   "execution_count": 1,
   "metadata": {
    "ExecuteTime": {
     "end_time": "2020-04-03T10:48:36.771451Z",
     "start_time": "2020-04-03T10:47:05.576721Z"
    }
   },
   "outputs": [],
   "source": [
    "import numpy as np \n",
    "import pandas as pd \n",
    "import matplotlib.pyplot as plt\n",
    "import seaborn as sns\n",
    "%matplotlib inline\n",
    "sns.set()"
   ]
  },
  {
   "cell_type": "markdown",
   "metadata": {},
   "source": [
    "# Why hypothesis testing ?\n",
    "\n",
    "\n",
    "## Challenge 4: Validating estimations\n",
    "\n",
    "The surveying agency has successfully estimated the population mean, population variance and standard deviation using various point estimation techniques. \n",
    "\n",
    "According to the surveying agency the confidence interval of population mean is (408 to 417). The Govt. wants  to verify this claim. \n",
    "\n",
    "For doing so, the govt. chooses 100 students from the country in a random manner. These 100 students appear for the surprise test (consisting of the same questions). The mean mark scored by these 100 students is found to be 403, which does not lie in the range specified by the agency.\n",
    "\n",
    "The question that arises now is whether this observation is sufficient for the govt. to conclude that the estimation by the agency is not valid. \n",
    "\n",
    "In inferential statistics, __Hypothesis test__ is performed to find out the answers to such questions. \n",
    "\n",
    "### Steps involved in hypothesis testing\n",
    "\n",
    "#### Hypothesis test\n",
    "> In statistics, Hypothesis is a statement about the population which is represented by some numerical values.\n",
    "\n",
    "Hypothesis testing deals with collecting enough evidence about the hypothesis and based on the evidence collected, the test either accepts or rejects the hypothesis about the population.\n",
    "\n",
    "For example, after conducting surprise test for 100 students and calculating the mean marks, the Govt. proposes a statement/ hypothesis that the estimation of surveying agency may not be accurate.\n",
    "\n",
    "Hypothesis testing has to be performed in order to find evidences in support of this hypothesis and based on the evidence found this hypothesis can be accepted or rejected. \n",
    "\n",
    "Let us first understand a few terminologies and concepts used in hypothesis testing.\n",
    "\n",
    "\n",
    "#### Null hypothesis and Alternate hypothesis\n",
    "\n",
    "Each hypothesis test usually includes two competing hypotheses about the population. One is called the null hypothesis and the other is called as the alternate hypothesis.\n",
    "\n",
    "__The null hypothesis ($H_0$)__: Null hypothesis represented as $H_0$ is a statement/hypothesis that disapproves/rejects the observation based on which the hypothesis is made. We start the hypothesis testing considering the null hypothesis to be true. And null hypothesis can not be rejected until there is an evidence which suggests otherwise.\n",
    "\n",
    "__Alternate Hypothesis ($H_a$)__: Alternate hypothesis represented as $H_a$ is a statement/hypothesis which is contradictory to the null hypothesis. If we find enough evidence to reject the null hypothesis, then the alternate hypothesis is accepted.\n",
    "\n",
    "\n",
    "#### Rejecting/accepting the null hypothesis\n",
    "\n",
    "In hypothesis testing, we assume the null hypothesis (which disapproves the observed data) to be true and find the probability of finding the observed data. Based on the probability of finding the observed data we accept/reject the the null hypothesis. The condition is given in the table below. \n",
    "\n",
    "![](5h.PNG)\n",
    "\n",
    "The distinction between the probability being significantly high or low is determined by a level of significance represented by the symbol $\\alpha$.\n",
    "\n",
    " Usually, the level of significance is set as 0.05. Assume that the null hypothesis is true. A level of significance (of 0.05) means that :\n",
    "- we can reject the null hypothesis if the probability of occurrence of the given data is less the level of significance (0.05 in this case)\n",
    "- we fail to reject the null hypothesis if the probability of occurrence of the given data is greater than or equal to the level of significance (0.05 in this case)\n",
    "\n",
    "With this, let's see how the surveying agency performs hypothesis test to validate its estimations. \n",
    "\n",
    "#### Steps involved in hypothesis testing\n",
    "\n",
    "__Step 1:__ Define the Null Hypothesis, Alternate Hypothesis and the level of significance . \n",
    "\n",
    "__Step 2:__ Calculate the probability of getting the observed data (P value) assuming the null hypothesis to be true. This involves two intermediate steps as given below. \n",
    "\n",
    "    - Step 2.1: Calculate the Z statistic  \n",
    "    - Step 2.2: Calculate the P value \n",
    "\n",
    "__Step 3:__ Conclude whether to reject the null hypothesis or not based on the P value i.e \n",
    "\n",
    "    If  P value < significance level, then reject the NULL hypothesis  \n",
    "    If  P value >= significance level, the NULL hypothesis can not be rejected \n",
    "\n",
    "__Step 4:__ State the conclusion. \n",
    "\n"
   ]
  },
  {
   "cell_type": "markdown",
   "metadata": {},
   "source": [
    "## Performing hypothesis test to validate the estimates\n",
    "\n",
    "### Hypothesis testing: Validating claim of surveying agency\n",
    "\n",
    "__Problem statement:__ To validate the estimation of the surveying agency that the mean mark scored by all the students in surprise test is 413 with the confidence interval as (408, 417), the govt. has picked up 100 students from the country. The mean mark scored in the surprise test by these 100 students was found to be 403 with a standard deviation of 75.\n",
    "\n",
    "The agency performs hypothesis test with a 0.05 level of significance to find out which of the two claims (the govt. or the agency) has to be accepted.\n",
    "\n",
    "#### Step 1: Setting the null hypothesis and alternate hypothesis\n",
    "\n",
    "The first step is hypothesis testing to define the null hypothesis.\n",
    "\n",
    "As we have discussed, null hypothesis disproves the observation that we have.\n",
    "\n",
    "Here the Govt. has an observation, that the estimations proposed by the surveying agency may NOT be accurate. Hence, the null hypothesis can be set as follows.\n",
    "\n",
    "__Null hypothesis ($H_0$):__ The estimate given by the surveying agency is correct, i.e., the mean mark scored by all the students in the surprise test is 413.\n",
    "\n",
    "The __Alternate hypothesis $H_a$__ must disapprove the null hypothesis. In this scenario, the Alternate hypothesis can be set in 2 different ways as given in the table below.\n",
    "\n",
    "![](5_ha.PNG)\n",
    "\n",
    "The agency decides to perform __one tailed hypothesis test__ and sets the alternate hypothesis as stated in __option 2__.\n",
    "\n",
    "__Alternate hypothesis(Ha):__ The claim of the surveying agency is incorrect i.e. the mean mark scored by all the students in surprise test is __less than 413__."
   ]
  },
  {
   "cell_type": "markdown",
   "metadata": {},
   "source": [
    "#### Step 2: Calculating the probability of occurence of observed data\n",
    "\n",
    "As we have already discussed, in hypothesis testing we assume the null hypothesis to be correct and find the probability of getting the observed data. So here, the surveying agency assumes its estimation to be correct and finds the probability of getting a sample mean of 403. \n",
    "\n",
    "The govt has taken a sample of 100 students and found the sample mean to be 403. Hence, the agency plots the sampling distribution of mean curve for sample size 100. As the agency is dealing with large sample (n >=30), sampling distribution mean will have normal distribution. \n",
    "\n",
    "The agency calculates the mean and standard error of the sampling distribution of mean for n=100. \n",
    "- The mean of the sampling distribution of mean = population mean (μ) = 413\n",
    "- standard error  \n",
    "\n",
    "$$ \\sigma_{\\bar{X}} = \\frac{\\sigma}{\\sqrt{n}} $$\n",
    "\n",
    "However, there is no information about the population std deviation (σ) in the given problem. In such cases, we can use sample std deviation (s) instead for the estimate.\n",
    "\n",
    "The sample std deviation (s) is 75.\n",
    "\n",
    "The Standard error is calculated as:\n",
    " \n",
    " $$= \\frac{\\sigma}{\\sqrt{n}} = \\frac{s}{\\sqrt{n}} = \\frac{75}{100} = 7.5 $$\n",
    "\n",
    "\n",
    "With the knowledge of mean and standard error of sampling distribution, the sampling distribution can be plotted by the agency. As the distribution is normal, Python function `norm.pdf()` can be used to plot the same. "
   ]
  },
  {
   "cell_type": "code",
   "execution_count": 2,
   "metadata": {
    "ExecuteTime": {
     "end_time": "2020-04-03T11:15:56.508728Z",
     "start_time": "2020-04-03T11:15:50.136381Z"
    }
   },
   "outputs": [
    {
     "data": {
      "image/png": "[encoded data removed]",
      "text/plain": [
       "<Figure size 432x288 with 1 Axes>"
      ]
     },
     "metadata": {},
     "output_type": "display_data"
    }
   ],
   "source": [
    "from scipy.stats import norm\n",
    "mu = 413\n",
    "sd = 7.5\n",
    "x = np.linspace(375, 450, 100)\n",
    "plt.plot(x, norm.pdf(x, mu, sd));\n",
    "plt.show();"
   ]
  },
  {
   "cell_type": "markdown",
   "metadata": {},
   "source": [
    "#### Step 2.1: Calculating the Z statistic\n",
    "\n",
    "Assuming the null hypothesis to be true the sampling distribution of sample mean is plotted. To calculate the probability of getting the sample mean as 403, the agency needs to find the distance of the point 403 from the mean in terms of standard deviation/standard error.\n",
    "\n",
    "Hence, the agency calculates the Z statistic which gives the distance of a point from the mean in terms of standard deviation\n",
    "\n",
    "![](5ab.PNG)\n"
   ]
  },
  {
   "cell_type": "markdown",
   "metadata": {},
   "source": [
    "The negative sign signifies that, point 403 is 1.33 standard deviation away to the left of the mean.\n",
    "\n",
    "As the agency decided to perform __one sided hypothesis test__, it finds the probability of finding a sample mean less than or equal to 403. In other words the agency finds the probability of getting sample mean that is 1.33 standard deviation away to the __left__ of the mean.\n",
    "\n",
    "The same is pictorially represented in the figure below. \n",
    "\n",
    "![](5abc.PNG)\n",
    "\n",
    "The probability of getting the sample mean as 403 or lesser is represented by the shaded portion (in blue). \n",
    "\n",
    "Note: If the agency would have gone for two sided hypothesis test, it would have calculated the probability of getting a sample mean as extreme as 403. That includes finding the probability of getting a sample mean that is more than 1.33 standard deviation away from the mean of the distribution on both sides.  The same is pictorially represented in the figure below. \n",
    "\n",
    "![](5abc2.PNG)\n",
    "\n",
    "Two sided hypothesis test is about finding the area of the colored reason on either side of the mean. \n",
    "\n",
    "#### Step 2.2: Calculating the P value\n",
    "\n",
    "As the agency is performing a one sided hypothesis test here, it finds the probability of getting a sample mean -1.33 standard deviation away from the mean of the sampling distribution. The same can be found using the Python function `norm.cdf()`.\n",
    "\n"
   ]
  },
  {
   "cell_type": "code",
   "execution_count": 4,
   "metadata": {
    "ExecuteTime": {
     "end_time": "2020-04-03T11:28:27.384349Z",
     "start_time": "2020-04-03T11:28:27.364360Z"
    }
   },
   "outputs": [
    {
     "data": {
      "text/plain": [
       "0.09175913565028077"
      ]
     },
     "execution_count": 4,
     "metadata": {},
     "output_type": "execute_result"
    }
   ],
   "source": [
    "norm.cdf(-1.33)"
   ]
  },
  {
   "cell_type": "markdown",
   "metadata": {},
   "source": [
    "The output of the norm.cdf() function, also called as P value, is 0.0917. The output of norm.cdf() function gives the area enclosed under the sampling distribution curve to the left of the point 403. \n",
    "\n",
    "From the output of norm.cdf() function it is clear that the probability of getting a sample mean as 403 or less is 0.0917 or 9.17%. "
   ]
  },
  {
   "cell_type": "markdown",
   "metadata": {},
   "source": [
    "### Steps 4 & 5: Arriving at conclusion\n",
    "\n",
    "#### Step 4: Concluding whether the Null hypothesis can be rejected or not based on the P value \n",
    "\n",
    "The probability of finding  a sample mean as 403 or lower was found to be 9.17% or 0.0917.\n",
    "\n",
    "The level of significance was set as 0.05.\n",
    "\n",
    "Null Hypothesis is rejected if the probability that the observed value will occur is less than 5 percent.\n",
    "\n",
    "Null Hypothesis cannot be rejected as the probability of getting a sample mean of 403 is greater than 5% (9.17 > 5). \n",
    "\n",
    "#### Step 5: Stating the conclusion\n",
    "\n",
    "__As the P value > significance level__,  Null hypothesis can NOT be rejected i.e. based on the performance of selected 100 students, it can NOT be concluded that the surveying agency's estimation are not valid. \n",
    "\n",
    "__Solution to Challenge 4:__ The surveying agency successfully performs hypothesis test to validate its estimations. In the hypothesis test, the agency fails to reject the null hypothesis which assumes its estimations to be accurate. Thus the surveying agency validates its estimations.\n",
    "\n",
    "***\n",
    "\n",
    "### Hypothesis test - Example\n",
    "\n",
    "Suppose bulb manufacturer xyz claims that the mean lifetime of a light bulb is greater than 9,500 hours. In a random sample of 30 light bulbs, it was observed that the bulbs last only 9300 hours on average. Assume that the population standard deviation is 110 hours. At .05 significance level, test the validity of the xyz manufacturer.\n",
    "\n",
    "Solution:\n",
    "\n",
    "Given:  \n",
    "\n",
    "n = 30  \n",
    "xbar $\\bar{X}$ = 9300  \n",
    "Population std deviation $\\sigma$ = 110  \n",
    "$\\alpha$ = 0.05  \n",
    "\n",
    "__Step 1:__ The claim of the manufacturer: Mean lifetime > 9500 Hours  \n",
    "Observed Data: Mean lifetime < 9500  \n",
    "Level of significance 0.05  \n",
    "\n",
    "__Step 2:__   \n",
    "\n",
    "Null Hypothesis $H_0$: Claim of the manufacturer is correct i.e. the mean lifetime of bulbs is greater than 9500 hours. \n",
    "\n",
    "Alternate Hypothesis $H_a$: Claim of the manufacturer is NOT correct i.e. mean lifetime of bulbs is less than 9500 hours. \n",
    "\n",
    "As our alternate hypothesis is about finding that mean is less than 9500 secs, we will be performing a one sided hypothesis test. \n",
    "\n",
    "\n",
    "__Step 3:__   \n",
    "\n",
    "Finding the test statistic z"
   ]
  },
  {
   "cell_type": "code",
   "execution_count": 13,
   "metadata": {
    "ExecuteTime": {
     "end_time": "2020-04-03T11:56:09.953587Z",
     "start_time": "2020-04-03T11:56:09.941592Z"
    }
   },
   "outputs": [
    {
     "data": {
      "text/plain": [
       "-9.958591954639385"
      ]
     },
     "execution_count": 13,
     "metadata": {},
     "output_type": "execute_result"
    }
   ],
   "source": [
    "# Given:  \n",
    "n = 30  \n",
    "mu0 = 9500 # Hypothesized value\n",
    "xbar = 9300 # sample mean\n",
    "sigma = 110  # population std deviation\n",
    "alpha = 0.05  \n",
    "z = (xbar - mu0)/(sigma/np.sqrt(n))\n",
    "z"
   ]
  },
  {
   "cell_type": "markdown",
   "metadata": {},
   "source": [
    "__Step 4:__ Finding the P value:"
   ]
  },
  {
   "cell_type": "code",
   "execution_count": 7,
   "metadata": {
    "ExecuteTime": {
     "end_time": "2020-04-03T11:42:54.693813Z",
     "start_time": "2020-04-03T11:42:54.627851Z"
    }
   },
   "outputs": [
    {
     "data": {
      "text/plain": [
       "1.1565773655967452e-23"
      ]
     },
     "execution_count": 7,
     "metadata": {},
     "output_type": "execute_result"
    }
   ],
   "source": [
    "p_value = norm.cdf(z)\n",
    "p_value"
   ]
  },
  {
   "cell_type": "markdown",
   "metadata": {},
   "source": [
    "Conclusion: The claim made by the manufacturer is wrong i.e. mean life time of the bulbs is NOT greater than 9500 secs. \n",
    "\n",
    "\n",
    "### Hypothesis Test - Example 2\n",
    "\n",
    "Hypothesis Test with Known Variance\n",
    "\n",
    "Consider the average weight of Penguins found in an Antarctica last year was 16.3 kg. In a sample of 35 penguins same time this year in the same colony, the mean penguin weight is 15.7 kg. Assume the population standard deviation is 2.7 kg. At .05 significance level, does the current year’s mean of penguin weight differ from last year?"
   ]
  },
  {
   "cell_type": "code",
   "execution_count": 16,
   "metadata": {
    "ExecuteTime": {
     "end_time": "2020-04-03T11:57:06.899949Z",
     "start_time": "2020-04-03T11:57:06.893950Z"
    }
   },
   "outputs": [],
   "source": [
    "# Step 1\n",
    "mu0 = 16.3 # Population mean\n",
    "n = 35\n",
    "xbar = 15.7 # sample mean weight\n",
    "sigma = 2.7 # population std deviation"
   ]
  },
  {
   "cell_type": "markdown",
   "metadata": {},
   "source": [
    "### Step 2:\n",
    "\n",
    "__Null Hypothesis $𝐻_0$:__ Claim of the manufacturer is correct i.e. the mean lifetime of bulbs is greater than 9500 hours.  \n",
    "\n",
    "__Alternate Hypothesis  𝐻𝑎 :__ Claim of the manufacturer is NOT correct i.e. mean lifetime of bulbs is less than 9500 hours.\n",
    "\n",
    "As our alternate hypothesis is about finding that mean is less than 9500 secs, we will be performing a one sided hypothesis test."
   ]
  },
  {
   "cell_type": "code",
   "execution_count": 17,
   "metadata": {
    "ExecuteTime": {
     "end_time": "2020-04-03T11:57:10.417931Z",
     "start_time": "2020-04-03T11:57:10.408936Z"
    }
   },
   "outputs": [
    {
     "data": {
      "text/plain": [
       "-1.3146843962443622"
      ]
     },
     "execution_count": 17,
     "metadata": {},
     "output_type": "execute_result"
    }
   ],
   "source": [
    "z = (xbar - mu0)/(sigma/np.sqrt(n))\n",
    "z"
   ]
  },
  {
   "cell_type": "markdown",
   "metadata": {},
   "source": [
    "The Z statistic is __-1.314684__.\n",
    "\n",
    "Compute the critical values at .05 significance level"
   ]
  },
  {
   "cell_type": "code",
   "execution_count": 18,
   "metadata": {
    "ExecuteTime": {
     "end_time": "2020-04-03T11:59:31.705530Z",
     "start_time": "2020-04-03T11:59:31.602589Z"
    }
   },
   "outputs": [
    {
     "name": "stdout",
     "output_type": "stream",
     "text": [
      "-1.959963984540054 1.959963984540054\n"
     ]
    }
   ],
   "source": [
    "# 2-sided\n",
    "alpha = 0.05\n",
    "z_half_alpha = norm.ppf(1-alpha/2)\n",
    "print(-z_half_alpha, z_half_alpha)"
   ]
  },
  {
   "cell_type": "markdown",
   "metadata": {},
   "source": [
    "The test statistic -1.314684 lies between the critical values -1.9600 and 1.9600. At 0.05 significance level, we can say that that the mean penguin weight does not differ from last year, that is , we do not reject the null hypothesis."
   ]
  },
  {
   "cell_type": "markdown",
   "metadata": {},
   "source": [
    "## Errors in hypothesis testing\n",
    "\n",
    "While performing hypothesis tests two kinds of errors can be encountered. These errors are termed as\n",
    "1. Type I \n",
    "2. Type II\n",
    "\n",
    "![](5jh.PNG)\n",
    "\n",
    "Accepting or rejecting Hypothesis is probabilistic. Hence, we may fail to reject a hypothesis when it is false and reject it when it is true. This error conditions have special names.\n",
    "\n",
    "__Type I error__ is said to occur when a null hypothesis is rejected when it is true.\n",
    "\n",
    "__Type II error__ is said to occur when we fail to reject a null hypothesis when it is false.\n"
   ]
  }
 ],
 "metadata": {
  "kernelspec": {
   "display_name": "Python 3",
   "language": "python",
   "name": "python3"
  },
  "language_info": {
   "codemirror_mode": {
    "name": "ipython",
    "version": 3
   },
   "file_extension": ".py",
   "mimetype": "text/x-python",
   "name": "python",
   "nbconvert_exporter": "python",
   "pygments_lexer": "ipython3",
   "version": "3.7.6"
  }
 },
 "nbformat": 4,
 "nbformat_minor": 4
}
