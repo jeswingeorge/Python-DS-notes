{
 "cells": [
  {
   "cell_type": "markdown",
   "metadata": {},
   "source": [
    "# Challenge 2: Which students to select for the surprise test?\n",
    "\n",
    "In order to choose 1120 students across various schools in the country, the agency has two options.\n",
    "\n",
    "__Option 1:__ To choose 1120 students in a random manner. For example: Conducting a lottery and randomly picking the registration numbers of 1120 students from the entire country. This kind of sampling technique is called __simple random sampling__.\n",
    "\n",
    "__Option 2:__ To choose 1120 students from various schools in various states considering factors like population of states, no. of schools in each state  etc. This kind of sampling falls under __stratified sampling__.\n",
    "\n",
    "From a population of size N , we create all possible samples of size n. If each of them has an equal probability of getting selected during selection, then the process is called __random sampling__.\n",
    "\n",
    "## Simple random sampling in Python\n",
    "There are various ways to get a simple random sample. One commonly used method is called lottery method.\n",
    "\n",
    "Each of the N observations (population) is assigned a unique number (S1,S2, …,S25). The numbers are then kept in a bowl and thoroughly shuffled and a blind-folded person selects n numbers.\n",
    "\n",
    "Let us see how to generate sample in Python."
   ]
  },
  {
   "cell_type": "code",
   "execution_count": 1,
   "metadata": {
    "ExecuteTime": {
     "end_time": "2020-04-02T06:44:51.630434Z",
     "start_time": "2020-04-02T06:44:51.618434Z"
    }
   },
   "outputs": [
    {
     "name": "stdout",
     "output_type": "stream",
     "text": [
      "['s1', 's2', 's3', 's4', 's5', 's6', 's7', 's8', 's9', 's10', 's11', 's12', 's13', 's14', 's15', 's16', 's17', 's18', 's19', 's20', 's21', 's22', 's23', 's24', 's25']\n"
     ]
    }
   ],
   "source": [
    "# Generating 25 states\n",
    "states = ['s'+str(i) for i in range(1,26)]\n",
    "print(states)"
   ]
  },
  {
   "cell_type": "markdown",
   "metadata": {},
   "source": [
    "[Numpy random choice](https://docs.scipy.org/doc/numpy-1.14.0/reference/generated/numpy.random.choice.html)\n",
    "\n",
    "use choice() function to select n objects randomly among N given observations, as shown below."
   ]
  },
  {
   "cell_type": "code",
   "execution_count": 2,
   "metadata": {
    "ExecuteTime": {
     "end_time": "2020-04-02T06:44:54.923772Z",
     "start_time": "2020-04-02T06:44:51.694414Z"
    }
   },
   "outputs": [
    {
     "data": {
      "text/plain": [
       "array(['s15', 's12', 's6', 's13', 's24', 's1', 's17', 's8'], dtype='<U3')"
      ]
     },
     "execution_count": 2,
     "metadata": {},
     "output_type": "execute_result"
    }
   ],
   "source": [
    "import numpy as np\n",
    "np.random.choice(states, size = 8, replace = False, p = None)"
   ]
  },
  {
   "cell_type": "markdown",
   "metadata": {},
   "source": [
    "choice() function takes the list \"states\" as input. The size parameter 8 suggests we want to generate sample of size 8 and the replace=False suggests that we want to generate samples without replacement.\n",
    "\n",
    "### Drawbacks of simple random sampling\n",
    "In simple random sampling, we perform the selection completely based on chance. By doing so, we may select a sample __that may not represent the behavior of the entire population__.\n",
    "\n",
    "For example, the 1120 students picked by the agency may coincidentally all be high performers. Then the performance of these students may not represent the actual quality of primary education. It may give a biased result and such a sample is called a __biased sample__.\n",
    "\n",
    "Bias refers to the tendency of a statistic to systematically overestimate or underestimate a population parameter.\n",
    "\n",
    "To avoid such problems, the agency decides to use __stratified sampling__. \n",
    "\n",
    "## Stratified sampling\n",
    "\n",
    "In stratified sampling:\n",
    "- we divide the population into groups based on certain characteristics. These groups are called __Strata__.\n",
    "- we choose samples randomly from each of these groups.\n",
    "\n",
    "To implement stratified sampling, the agency:\n",
    "- selects 8 states among the 16 states in the country based on their population\n",
    "\n",
    "| Population range  | Total number of states | Number of states selected |\n",
    "|-------------------|------------------------|---------------------------|\n",
    "| High Population   | 6                      | 3                         |\n",
    "| Medium Population | 6                      | 3                         |\n",
    "| Low Population    | 4                      | 2                         |\n",
    "\n",
    "- selects 7 schools from each of the 8 states including all regions (urban, semi-urban and rural)\n",
    "\n",
    "Total schools = 7*8 = 56 schools\n",
    "\n",
    "- selects 20 students from each school including high, average as well as low performers\n",
    "\n",
    "Total students = 56*20 = 1120 students\n",
    "\n",
    "__Solution to Challenge 2__: The agency uses the __stratified sampling__ technique to identify 1120 students from the country who are going to appear for the surprise test. \n",
    "\n",
    "#### Stratified sampling in Python\n",
    "\n",
    "Stratified sampling can be performed in Python using the sample() function, available in Python. \n",
    "\n",
    "Let us understand it using an example. "
   ]
  },
  {
   "cell_type": "code",
   "execution_count": 3,
   "metadata": {
    "ExecuteTime": {
     "end_time": "2020-04-02T06:45:00.495492Z",
     "start_time": "2020-04-02T06:44:54.927752Z"
    }
   },
   "outputs": [
    {
     "data": {
      "text/html": [
       "<div>\n",
       "<style scoped>\n",
       "    .dataframe tbody tr th:only-of-type {\n",
       "        vertical-align: middle;\n",
       "    }\n",
       "\n",
       "    .dataframe tbody tr th {\n",
       "        vertical-align: top;\n",
       "    }\n",
       "\n",
       "    .dataframe thead th {\n",
       "        text-align: right;\n",
       "    }\n",
       "</style>\n",
       "<table border=\"1\" class=\"dataframe\">\n",
       "  <thead>\n",
       "    <tr style=\"text-align: right;\">\n",
       "      <th></th>\n",
       "      <th>stateID</th>\n",
       "      <th>SchoolID</th>\n",
       "    </tr>\n",
       "  </thead>\n",
       "  <tbody>\n",
       "    <tr>\n",
       "      <th>0</th>\n",
       "      <td>ST1</td>\n",
       "      <td>ST1S1</td>\n",
       "    </tr>\n",
       "    <tr>\n",
       "      <th>1</th>\n",
       "      <td>ST1</td>\n",
       "      <td>ST1S1</td>\n",
       "    </tr>\n",
       "    <tr>\n",
       "      <th>2</th>\n",
       "      <td>ST1</td>\n",
       "      <td>ST1S1</td>\n",
       "    </tr>\n",
       "    <tr>\n",
       "      <th>3</th>\n",
       "      <td>ST1</td>\n",
       "      <td>ST1S1</td>\n",
       "    </tr>\n",
       "    <tr>\n",
       "      <th>4</th>\n",
       "      <td>ST1</td>\n",
       "      <td>ST1S1</td>\n",
       "    </tr>\n",
       "  </tbody>\n",
       "</table>\n",
       "</div>"
      ],
      "text/plain": [
       "  stateID SchoolID\n",
       "0     ST1    ST1S1\n",
       "1     ST1    ST1S1\n",
       "2     ST1    ST1S1\n",
       "3     ST1    ST1S1\n",
       "4     ST1    ST1S1"
      ]
     },
     "execution_count": 3,
     "metadata": {},
     "output_type": "execute_result"
    }
   ],
   "source": [
    "import pandas as pd\n",
    "df = pd.read_csv('students_mark.csv')\n",
    "df = df.loc[(df['stateID'].isin(['ST1', 'ST2'])) & (df['SchoolID'].isin(['ST1S1', 'ST1S2', 'ST2S1', 'ST2S2'])),\n",
    "            ['stateID','SchoolID']]\n",
    "df.head()"
   ]
  },
  {
   "cell_type": "code",
   "execution_count": 4,
   "metadata": {
    "ExecuteTime": {
     "end_time": "2020-04-02T06:45:00.515488Z",
     "start_time": "2020-04-02T06:45:00.499493Z"
    }
   },
   "outputs": [
    {
     "data": {
      "text/plain": [
       "array(['ST1', 'ST2'], dtype=object)"
      ]
     },
     "execution_count": 4,
     "metadata": {},
     "output_type": "execute_result"
    }
   ],
   "source": [
    "df['stateID'].unique()"
   ]
  },
  {
   "cell_type": "code",
   "execution_count": 5,
   "metadata": {
    "ExecuteTime": {
     "end_time": "2020-04-02T06:45:00.683462Z",
     "start_time": "2020-04-02T06:45:00.519487Z"
    }
   },
   "outputs": [
    {
     "data": {
      "text/plain": [
       "array(['ST1S1', 'ST1S2', 'ST2S1', 'ST2S2'], dtype=object)"
      ]
     },
     "execution_count": 5,
     "metadata": {},
     "output_type": "execute_result"
    }
   ],
   "source": [
    "df['SchoolID'].unique()"
   ]
  },
  {
   "cell_type": "markdown",
   "metadata": {},
   "source": [
    "We can sample the data by grouping it based on department and job level. There are two stateID and 4 SchoolID.\n",
    "\n",
    "Therefore, we can create strata corresponding to the unique combination of stateID and SchoolID. "
   ]
  },
  {
   "cell_type": "code",
   "execution_count": 6,
   "metadata": {
    "ExecuteTime": {
     "end_time": "2020-04-02T06:45:00.923838Z",
     "start_time": "2020-04-02T06:45:00.691445Z"
    }
   },
   "outputs": [
    {
     "data": {
      "text/html": [
       "<div>\n",
       "<style scoped>\n",
       "    .dataframe tbody tr th:only-of-type {\n",
       "        vertical-align: middle;\n",
       "    }\n",
       "\n",
       "    .dataframe tbody tr th {\n",
       "        vertical-align: top;\n",
       "    }\n",
       "\n",
       "    .dataframe thead th {\n",
       "        text-align: right;\n",
       "    }\n",
       "</style>\n",
       "<table border=\"1\" class=\"dataframe\">\n",
       "  <thead>\n",
       "    <tr style=\"text-align: right;\">\n",
       "      <th>SchoolID</th>\n",
       "      <th>ST1S1</th>\n",
       "      <th>ST1S2</th>\n",
       "      <th>ST2S1</th>\n",
       "      <th>ST2S2</th>\n",
       "    </tr>\n",
       "    <tr>\n",
       "      <th>stateID</th>\n",
       "      <th></th>\n",
       "      <th></th>\n",
       "      <th></th>\n",
       "      <th></th>\n",
       "    </tr>\n",
       "  </thead>\n",
       "  <tbody>\n",
       "    <tr>\n",
       "      <th>ST1</th>\n",
       "      <td>20</td>\n",
       "      <td>20</td>\n",
       "      <td>0</td>\n",
       "      <td>0</td>\n",
       "    </tr>\n",
       "    <tr>\n",
       "      <th>ST2</th>\n",
       "      <td>0</td>\n",
       "      <td>0</td>\n",
       "      <td>20</td>\n",
       "      <td>20</td>\n",
       "    </tr>\n",
       "  </tbody>\n",
       "</table>\n",
       "</div>"
      ],
      "text/plain": [
       "SchoolID  ST1S1  ST1S2  ST2S1  ST2S2\n",
       "stateID                             \n",
       "ST1          20     20      0      0\n",
       "ST2           0      0     20     20"
      ]
     },
     "execution_count": 6,
     "metadata": {},
     "output_type": "execute_result"
    }
   ],
   "source": [
    "pd.crosstab(df['stateID'], df['SchoolID'])"
   ]
  },
  {
   "cell_type": "markdown",
   "metadata": {},
   "source": [
    "output of crosstab() function shows that there are 40 unique combinations of SchoolID and stateID."
   ]
  },
  {
   "cell_type": "code",
   "execution_count": 7,
   "metadata": {
    "ExecuteTime": {
     "end_time": "2020-04-02T06:45:01.055806Z",
     "start_time": "2020-04-02T06:45:00.927838Z"
    }
   },
   "outputs": [
    {
     "data": {
      "text/html": [
       "<div>\n",
       "<style scoped>\n",
       "    .dataframe tbody tr th:only-of-type {\n",
       "        vertical-align: middle;\n",
       "    }\n",
       "\n",
       "    .dataframe tbody tr th {\n",
       "        vertical-align: top;\n",
       "    }\n",
       "\n",
       "    .dataframe thead th {\n",
       "        text-align: right;\n",
       "    }\n",
       "</style>\n",
       "<table border=\"1\" class=\"dataframe\">\n",
       "  <thead>\n",
       "    <tr style=\"text-align: right;\">\n",
       "      <th></th>\n",
       "      <th>stateID</th>\n",
       "      <th>SchoolID</th>\n",
       "    </tr>\n",
       "  </thead>\n",
       "  <tbody>\n",
       "    <tr>\n",
       "      <th>8</th>\n",
       "      <td>ST1</td>\n",
       "      <td>ST1S1</td>\n",
       "    </tr>\n",
       "    <tr>\n",
       "      <th>37</th>\n",
       "      <td>ST1</td>\n",
       "      <td>ST1S2</td>\n",
       "    </tr>\n",
       "    <tr>\n",
       "      <th>147</th>\n",
       "      <td>ST2</td>\n",
       "      <td>ST2S1</td>\n",
       "    </tr>\n",
       "    <tr>\n",
       "      <th>179</th>\n",
       "      <td>ST2</td>\n",
       "      <td>ST2S2</td>\n",
       "    </tr>\n",
       "  </tbody>\n",
       "</table>\n",
       "</div>"
      ],
      "text/plain": [
       "    stateID SchoolID\n",
       "8       ST1    ST1S1\n",
       "37      ST1    ST1S2\n",
       "147     ST2    ST2S1\n",
       "179     ST2    ST2S2"
      ]
     },
     "execution_count": 7,
     "metadata": {},
     "output_type": "execute_result"
    }
   ],
   "source": [
    "(df.groupby(['stateID', 'SchoolID'], group_keys = False).\n",
    "apply(lambda x:x.sample(min(len(x),1))))"
   ]
  },
  {
   "cell_type": "markdown",
   "metadata": {},
   "source": [
    "You can see that in output sample we have all combination of \"stateID\" and \"SchoolID\".\n",
    "\n",
    "***\n",
    "## Challenge 3: Estimating population parameters\n",
    "\n",
    "The agency selected 1120 students to appear for the surprise test. The papers are evaluated. The sample data containing the marks scored (out of 600) by the students, from a particular school of a particular state is given below. "
   ]
  },
  {
   "cell_type": "code",
   "execution_count": 8,
   "metadata": {
    "ExecuteTime": {
     "end_time": "2020-04-02T06:45:01.235760Z",
     "start_time": "2020-04-02T06:45:01.055806Z"
    }
   },
   "outputs": [
    {
     "data": {
      "text/html": [
       "<div>\n",
       "<style scoped>\n",
       "    .dataframe tbody tr th:only-of-type {\n",
       "        vertical-align: middle;\n",
       "    }\n",
       "\n",
       "    .dataframe tbody tr th {\n",
       "        vertical-align: top;\n",
       "    }\n",
       "\n",
       "    .dataframe thead th {\n",
       "        text-align: right;\n",
       "    }\n",
       "</style>\n",
       "<table border=\"1\" class=\"dataframe\">\n",
       "  <thead>\n",
       "    <tr style=\"text-align: right;\">\n",
       "      <th></th>\n",
       "      <th>studentID</th>\n",
       "      <th>stateID</th>\n",
       "      <th>SchoolID</th>\n",
       "      <th>Mark</th>\n",
       "    </tr>\n",
       "  </thead>\n",
       "  <tbody>\n",
       "    <tr>\n",
       "      <th>0</th>\n",
       "      <td>1000</td>\n",
       "      <td>ST1</td>\n",
       "      <td>ST1S1</td>\n",
       "      <td>467</td>\n",
       "    </tr>\n",
       "    <tr>\n",
       "      <th>1</th>\n",
       "      <td>1001</td>\n",
       "      <td>ST1</td>\n",
       "      <td>ST1S1</td>\n",
       "      <td>366</td>\n",
       "    </tr>\n",
       "    <tr>\n",
       "      <th>2</th>\n",
       "      <td>1002</td>\n",
       "      <td>ST1</td>\n",
       "      <td>ST1S1</td>\n",
       "      <td>412</td>\n",
       "    </tr>\n",
       "    <tr>\n",
       "      <th>3</th>\n",
       "      <td>1003</td>\n",
       "      <td>ST1</td>\n",
       "      <td>ST1S1</td>\n",
       "      <td>532</td>\n",
       "    </tr>\n",
       "    <tr>\n",
       "      <th>4</th>\n",
       "      <td>1004</td>\n",
       "      <td>ST1</td>\n",
       "      <td>ST1S1</td>\n",
       "      <td>474</td>\n",
       "    </tr>\n",
       "    <tr>\n",
       "      <th>5</th>\n",
       "      <td>1005</td>\n",
       "      <td>ST1</td>\n",
       "      <td>ST1S1</td>\n",
       "      <td>293</td>\n",
       "    </tr>\n",
       "    <tr>\n",
       "      <th>6</th>\n",
       "      <td>1006</td>\n",
       "      <td>ST1</td>\n",
       "      <td>ST1S1</td>\n",
       "      <td>416</td>\n",
       "    </tr>\n",
       "    <tr>\n",
       "      <th>7</th>\n",
       "      <td>1007</td>\n",
       "      <td>ST1</td>\n",
       "      <td>ST1S1</td>\n",
       "      <td>495</td>\n",
       "    </tr>\n",
       "    <tr>\n",
       "      <th>8</th>\n",
       "      <td>1008</td>\n",
       "      <td>ST1</td>\n",
       "      <td>ST1S1</td>\n",
       "      <td>459</td>\n",
       "    </tr>\n",
       "    <tr>\n",
       "      <th>9</th>\n",
       "      <td>1009</td>\n",
       "      <td>ST1</td>\n",
       "      <td>ST1S1</td>\n",
       "      <td>391</td>\n",
       "    </tr>\n",
       "  </tbody>\n",
       "</table>\n",
       "</div>"
      ],
      "text/plain": [
       "   studentID stateID SchoolID  Mark\n",
       "0       1000     ST1    ST1S1   467\n",
       "1       1001     ST1    ST1S1   366\n",
       "2       1002     ST1    ST1S1   412\n",
       "3       1003     ST1    ST1S1   532\n",
       "4       1004     ST1    ST1S1   474\n",
       "5       1005     ST1    ST1S1   293\n",
       "6       1006     ST1    ST1S1   416\n",
       "7       1007     ST1    ST1S1   495\n",
       "8       1008     ST1    ST1S1   459\n",
       "9       1009     ST1    ST1S1   391"
      ]
     },
     "execution_count": 8,
     "metadata": {},
     "output_type": "execute_result"
    }
   ],
   "source": [
    "df = pd.read_csv('students_mark.csv')\n",
    "df.head(10)"
   ]
  },
  {
   "cell_type": "code",
   "execution_count": 9,
   "metadata": {
    "ExecuteTime": {
     "end_time": "2020-04-02T06:45:01.355730Z",
     "start_time": "2020-04-02T06:45:01.239759Z"
    }
   },
   "outputs": [
    {
     "data": {
      "text/plain": [
       "(1120, 4)"
      ]
     },
     "execution_count": 9,
     "metadata": {},
     "output_type": "execute_result"
    }
   ],
   "source": [
    "df.shape "
   ]
  },
  {
   "cell_type": "code",
   "execution_count": 10,
   "metadata": {
    "ExecuteTime": {
     "end_time": "2020-04-02T06:45:01.503693Z",
     "start_time": "2020-04-02T06:45:01.359729Z"
    }
   },
   "outputs": [
    {
     "data": {
      "text/plain": [
       "1120"
      ]
     },
     "execution_count": 10,
     "metadata": {},
     "output_type": "execute_result"
    }
   ],
   "source": [
    "df.shape[0]  # total rows i.e, total number of students"
   ]
  },
  {
   "cell_type": "markdown",
   "metadata": {},
   "source": [
    "- Each student is assigned a student ID starting from 1000 to 2119\n",
    "- Each state is assigned a state ID starting from ST1 to ST8\n",
    "- Each school is assigned a schoolID which contains the state ID followed by the school number from S1 to S7\n",
    "\n",
    "For example, the 3rd school from the 2nd state will have schoolID as ST2S3.\n",
    "\n",
    "Now that the surveying agency has collected the sample data, the next step is to calculate sample statistics like sample mean, sample variance, etc. and estimate the population parameters from them.\n",
    "\n",
    "The following table contains various population parameters/sample statistics and the notations used to represent them.\n",
    "\n",
    "![](3_not.PNG)\n",
    "\n",
    "#### Finding the probability distribution\n",
    "\n",
    "In inferential statistics, the analysis depends on the model that the data follows i.e. we must have a knowledge of the underlying probability distribution of the attribute that is being analyzed. \n",
    "\n",
    "The agency is analyzing the marks of the students i.e. the agency wants to know what is the probability distribution of the marks\n",
    "\n",
    "- Marks are quantitative in nature and can have any value between 0 and 600. Thus, marks is a random variable of continuous data type.\n",
    "- As each random variable has a probability distribution, we need to find the probability distribution of marks.\n",
    "\n",
    "For doing so, the sample data is imported into Python environment and a histogram of the marks scored is plotted. This will help us understand the underlying probability distribution of the random variable mark.\n",
    "\n",
    "Plotting the distribution of marks."
   ]
  },
  {
   "cell_type": "code",
   "execution_count": 11,
   "metadata": {
    "ExecuteTime": {
     "end_time": "2020-04-02T06:45:26.594483Z",
     "start_time": "2020-04-02T06:45:01.503693Z"
    }
   },
   "outputs": [],
   "source": [
    "import matplotlib.pyplot as plt\n",
    "import seaborn as sns\n",
    "sns.set()\n",
    "%matplotlib inline"
   ]
  },
  {
   "cell_type": "code",
   "execution_count": 12,
   "metadata": {
    "ExecuteTime": {
     "end_time": "2020-04-02T06:45:29.460768Z",
     "start_time": "2020-04-02T06:45:26.594483Z"
    }
   },
   "outputs": [
    {
     "data": {
      "image/png": "[encoded data removed]",
      "text/plain": [
       "<Figure size 432x288 with 1 Axes>"
      ]
     },
     "metadata": {
      "needs_background": "light"
     },
     "output_type": "display_data"
    }
   ],
   "source": [
    "sns.distplot(df['Mark']);"
   ]
  },
  {
   "cell_type": "markdown",
   "metadata": {},
   "source": [
    "The histogram of mark is shown above. It can be observed that the probability distribution of marks (a random variable) has a close resemblance to a normal distribution.  \n",
    "\n",
    " calculated the standard deviation, variance and the mean."
   ]
  },
  {
   "cell_type": "code",
   "execution_count": 13,
   "metadata": {
    "ExecuteTime": {
     "end_time": "2020-04-02T06:45:29.476765Z",
     "start_time": "2020-04-02T06:45:29.464767Z"
    }
   },
   "outputs": [
    {
     "data": {
      "text/plain": [
       "413.2758928571429"
      ]
     },
     "execution_count": 13,
     "metadata": {},
     "output_type": "execute_result"
    }
   ],
   "source": [
    "sample_mean = df['Mark'].mean()\n",
    "sample_mean"
   ]
  },
  {
   "cell_type": "code",
   "execution_count": 14,
   "metadata": {
    "ExecuteTime": {
     "end_time": "2020-04-02T06:45:29.716726Z",
     "start_time": "2020-04-02T06:45:29.476765Z"
    }
   },
   "outputs": [
    {
     "data": {
      "text/plain": [
       "5951.426561702816"
      ]
     },
     "execution_count": 14,
     "metadata": {},
     "output_type": "execute_result"
    }
   ],
   "source": [
    "sample_variance = np.var(df['Mark'])\n",
    "sample_variance"
   ]
  },
  {
   "cell_type": "code",
   "execution_count": 15,
   "metadata": {
    "ExecuteTime": {
     "end_time": "2020-04-02T06:45:29.916654Z",
     "start_time": "2020-04-02T06:45:29.720703Z"
    }
   },
   "outputs": [
    {
     "data": {
      "text/plain": [
       "77.14548957458767"
      ]
     },
     "execution_count": 15,
     "metadata": {},
     "output_type": "execute_result"
    }
   ],
   "source": [
    "sample_std = np.std(df['Mark'])\n",
    "sample_std"
   ]
  },
  {
   "cell_type": "markdown",
   "metadata": {},
   "source": [
    "The agency has done the followings till now.\n",
    "1. Collected the sample\n",
    "2. Calculated the statistics and\n",
    "3. Observed the probability distribution\n",
    "\n",
    "It now wants to estimate the value of the population parameters."
   ]
  },
  {
   "cell_type": "markdown",
   "metadata": {},
   "source": [
    "# Introduction to parameter estimation\n",
    "\n",
    "## Parameter estimation techniques\n",
    "\n",
    "Parameters are descriptive measures of an entire population. Estimating the population parameter and error associated with it is one of the goal.\n",
    "\n",
    "Parameter estimation includes two major techniques:\n",
    "\n",
    "- __Point estimation:__ This involves finding a single, most likely value of a parameter. Single value is calculated which may be the best estimate of the parameter. \n",
    "- __Interval estimation (confidence interval):__ This involves finding an interval in which the parameter may lie. A confidence level is associated with every confidence interval which suggests the degrees of certainty with which the population parameter lies in the confidence interval.\n",
    "\n",
    "### Parameters to be estimated by the agency\n",
    "\n",
    "The surveying agency has to find out the point estimates as well as the confidence interval for various population parameters:  \n",
    "1. Estimating the population mean: This includes\n",
    "    - finding the point estimate for the population mean\n",
    "    - finding the confidence interval for the population mean\n",
    "\n",
    "2. Estimating the population variance/standard deviation: This includes \n",
    "    - finding the point estimate for the standard deviation and population variance\n",
    "    - finding the confidence interval for the standard deviation and population variance\n",
    "    \n",
    "#### Challenge 3.1: Estimating population mean\n",
    "\n",
    "Surveying agency starts with estimating the population mean. \n",
    "\n",
    "As already discussed, estimating population mean includes\n",
    "- finding the __point estimate of population mean__ i.e. finding the mean marks scored in the surprise test, considering all the students in the country would have appeared for the surprise test\n",
    "- finding the __confidence interval of population mean with 95% confidence level__ i.e. finding an interval such that mean marks scored by all the students in the country falls in the interval with 95% probability. \n",
    "\n",
    "Let us first find out how the surveying agency finds the point estimate of population mean. \n",
    "\n",
    "Point estimate of population mean needs to be calculated in order to estimate population mean.\n",
    "\n",
    "It can be done in two steps:\n",
    "\n",
    "__Step 1:__ The agency has to identify a sample statistic that closely represents the population mean. The sample statistic is called __estimator__ of the population parameter and its value  is called the __estimate__ of population mean.\n",
    "\n",
    "__Step 2:__ After finding the estimator, the agency has to check the quality of the estimator. One of the commonly used measure of the quality is the __unbiasedness of the estimator__. \n",
    "\n",
    "Assume that we calculate the expected value of the estimator. Bias of this estimator is the different between this calculated value and the actual value of the parameter (being estimated). Hence, when this difference is zero, estimator is said to be unbiased. \n",
    "\n",
    "Once the agency figures out the estimator and verifies its unbiasedness, the estimator is the unbiased estimator of the population parameter. \n",
    "\n",
    "While performing step 1, there are various methods to find out a sample statistic that closely represents the population parameter. One such method is method of __maximum likelihood estimation (MLE)__. \n",
    "\n",
    "The surveying agency decides to use method of maximum likelihood estimation.\n",
    "\n",
    "##### Maximum Likelihood Estimation\n",
    "\n",
    "In statistics, maximum likelihood estimation (MLE) is one of the methods of estimating the (population) parameters of a statistical model from given data.\n",
    "\n",
    "> Maximum likelihood estimation deals with finding the likelihood function depending on the model that the data follows and finding the condition under which the likelihood function attains the maximum.\n",
    "\n",
    "The surveying agency is analyzing the attribute mark which is normally distributed.Thus, the agency has to find the condition in which the likelihood function for normally distributed data attains the maximum.\n",
    "\n",
    "First, let us try to find out the likelihood function for the normally distributed variable. \n",
    "\n",
    "##### Likelihood function for a normally distributed variable\n",
    "\n",
    "The probability density function (PDF) for a given data model denoted as f(x|θ), specifies the probability of observing a data vector x, given the population parameter θ.\n",
    "\n",
    "On the other hand, the likelihood function for a given data model, denoted as L(θ|x) gives the likelihood of observing population parameter θ, given the data vector x. \n",
    "\n",
    "In other words, we use probability density function to calculate the probability of occurrence of the observed data vector x when __population parameter θ is known__ and we use __likelihood function__ to find out the likelihood of the unknown population parameter θ when series of observations x or sample is given. \n",
    "\n",
    "![](3_like.PNG)\n",
    "\n",
    "##### Maximum likelihood estimate of population mean\n",
    "\n",
    "Method of maximum likelihood estimation deals with finding the condition in which likelihood function L(θ|x) attains maximum value. The value of population parameter θ in that condition is called __maximum likelihood estimate__ of θ.\n",
    "\n",
    "The surveying agency is dealing with the marks scored by students in the surprise test which is normally distributed. It finds the maximum likelihood estimate of population mean μ by finding the condition under which the likelihood function for normal distribution attains maximum value and by finding the value of μ under that condition. \n",
    "\n",
    "##### Maximum likelihood estimator of population mean\n",
    "\n",
    "By maximizing the likelihood function and solving for μ, we found that the function equation attains a maximum when the following condition is satisfied.\n",
    "\n",
    "$$ \\mu = \\frac{x_1 + x_2 + x_3 + .... + x_n}{n} $$\n",
    "\n",
    "The quantity  \n",
    "\n",
    "$$ \\frac{x_1 + x_2 + x_3 + .... + x_n}{n} $$\n",
    "\n",
    " is nothing but the sample mean ( X ). Hence we can conclude that the sample mean ( X ) is the maximum likelihood estimator of the population mean.\n",
    " \n",
    "##### Unbiased estimator of population mean\n",
    "\n",
    "As already discussed, finding point estimator of population mean involves two steps i.e. \n",
    "- finding the maximum likelihood estimator of population mean\n",
    "- verifying the unbiasedness of the maximum likelihood estimator\n",
    "\n",
    "The surveying agency has found that sample mean is the maximum likelihood estimator of population mean.\n",
    "\n",
    "Now the agency has to verify whether sample mean is the unbiased estimator of population mean. The same can be verified by finding the expected value of sample mean. If the expected value of sample mean is equal to the parameter being estimated i.e. population mean, then the agency would conclude that sample mean is an unbiased estimator of population mean.\n",
    "\n",
    "![](3_unbias.PNG)\n",
    "\n",
    "##### Point estimate of population mean\n",
    "\n",
    "The surveying agency found that the best estimation of population mean is got from the sample mean ( X ). It also verified that this estimator is unbiased.\n",
    "\n",
    "The surveying agency has already calculated the sample mean i.e. the mean marks scored by the 1120 students in the surprise test, to be 413.2759. The population mean value can be estimated by this value.\n",
    "\n",
    "Basically, if in this country all students had taken this surprise test, the mean marks scored would be around 413.2759.\n",
    "\n",
    "##### Interval estimate of population mean\n",
    "\n",
    "The surveying agency has found that sample mean is the point estimator of population mean. The sample mean was calculated to be 413.2759, which is used to estimate the population mean.\n",
    "\n",
    "However, the sample mean may have a different value if the agency would have chosen a different sample. This suggests the sample mean varies as the sample changes. \n",
    "\n",
    "If the agency would have chosen multiple samples of 1120 students across the country and then for each samples, if they would have calculated the sample mean, it would have found a range of values for the sample mean.  \n",
    "\n",
    "Thus, instead of specifying a single value of sample mean as the point estimate of population mean, the agency may choose to specify this range of values of sample mean for estimating population mean.\n",
    "\n",
    "This kind of estimation technique is called __interval estimation__ and the range/interval is called the __confidence interval__.\n",
    "\n",
    "##### Confidence interval\n",
    "\n",
    "In statistics, a confidence interval (CI) is a type of interval estimate of a population parameter. It is an observed interval, that frequently includes the unknown value of the parameter of interest, if the experiment is repeated. How frequently the observed interval contains the parameter is determined by the confidence level associated with the confidence interval. \n",
    "\n",
    "Recall, that the surveying agency decided to set the confidence level at 95%.\n",
    "\n",
    "This means that we need to find a __range of sample means__ such that the population mean falls within the range with 95% probability. \n",
    "\n",
    "##### Confidence interval of population mean\n",
    "\n",
    "As discussed, confidence interval of population mean is nothing but a range of values of sample mean, within which the population mean is expected to lie. The range is identified by analyzing multiple samples. \n",
    "\n",
    "From a population of size N, if all possible samples of size n are selected:\n",
    "- sample mean is calculated for each sample\n",
    "- the frequency distribution of the sample means is plotted\n",
    "\n",
    "The resulting distribution is called sampling distribution of sample mean for sample size or sampling distribution of mean. Note that - \n",
    "- each point on the sampling distribution of mean curve represents a sample mean\n",
    "- the area under the sampling distribution curve represents the probability of finding a particular sample mean \n",
    "\n",
    "__Therefore, finding the confidence interval for population mean with a confidence level of 95% is about finding the interval under which 95% of the total area under the sampling distribution of mean curve lies.__\n",
    "\n",
    "Thus, in order to find the confidence interval of population mean, one must plot the sampling distribution of mean, which is the frequency distribution of all possible sample means of a particular sample size.  \n",
    "\n",
    "However, the surveying agency has only one sample and hence only one sample mean. Moreover, it is not feasible for the surveying agency to analyze all possible samples because of the huge population size and the complexity involved in conducting surprise test.\n",
    "\n",
    "The question that arises at this point is, how would the agency plot the sampling distribution of mean, by analyzing only one sample. We need to understand some of the properties of sampling distribution of mean to find the answer to this question. \n",
    "\n",
    "##### Sampling distribution of mean\n",
    "\n",
    "Let us consider a simple example to understand sampling distribution of sample mean.\n",
    "\n",
    "A die (having six faces marked from 1 to 6) is thrown 4 times and the observed outputs are 2,5,3 and 6.\n",
    "\n",
    "If we consider the set of these 4 numbers as our population and calculate the mean,\n",
    "\n",
    "The population mean (μ) = (2+5+3+6)/4 = 4.\n",
    "\n",
    "Now, let's choose all possible samples of size 2 and calculate the sample means for each of the samples. \n",
    "\n",
    "The samples and the sample means are listed in the table below. \n",
    "\n",
    "![](3_sm.PNG)\n",
    "\n",
    "##### Sampling distribution of mean\n",
    "\n",
    "Let us plot the frequency distribution of all the sample means above.\n"
   ]
  },
  {
   "cell_type": "code",
   "execution_count": 16,
   "metadata": {
    "ExecuteTime": {
     "end_time": "2020-04-02T06:45:32.622440Z",
     "start_time": "2020-04-02T06:45:29.920653Z"
    }
   },
   "outputs": [
    {
     "data": {
      "image/png": "[encoded data removed]",
      "text/plain": [
       "<Figure size 432x288 with 1 Axes>"
      ]
     },
     "metadata": {
      "needs_background": "light"
     },
     "output_type": "display_data"
    }
   ],
   "source": [
    "sample_means = pd.Series([2,4,3.5,2.5,3,4,4.5,5,5.5,6])\n",
    "sample_means.plot(kind = 'hist', bins = np.arange(1,8,1.5), edgecolor = 'black', linewidth = 1);\n",
    "plt.title('Histogram of sample means');\n",
    "plt.xlabel('Sample means');\n",
    "plt.ylabel('Frequency');"
   ]
  },
  {
   "cell_type": "code",
   "execution_count": 17,
   "metadata": {
    "ExecuteTime": {
     "end_time": "2020-04-02T06:45:32.638437Z",
     "start_time": "2020-04-02T06:45:32.626439Z"
    }
   },
   "outputs": [
    {
     "name": "stdout",
     "output_type": "stream",
     "text": [
      "4.0\n"
     ]
    }
   ],
   "source": [
    "mean_of_sample_means = sample_means.mean()\n",
    "print(mean_of_sample_means)"
   ]
  },
  {
   "cell_type": "markdown",
   "metadata": {},
   "source": [
    "The histogram represents the sampling distribution of sample mean for sample size 2. Here we can observe that the mean of sampling distribution of mean denoted as $\\mu_{\\bar{x}}$, is equal to the population mean μ."
   ]
  },
  {
   "cell_type": "markdown",
   "metadata": {},
   "source": [
    "##### Sampling distribution of sample mean: Dice Output\n",
    "\n",
    "Now let us understand some more properties of sampling distribution of sample mean.\n",
    "\n",
    "Let us assume the dice was thrown a 1000 times and the outputs were noted. Here, we can consider these thousand numbers ranging from 1 to 6 as our population."
   ]
  },
  {
   "cell_type": "code",
   "execution_count": 18,
   "metadata": {
    "ExecuteTime": {
     "end_time": "2020-04-02T06:45:34.139431Z",
     "start_time": "2020-04-02T06:45:32.642436Z"
    }
   },
   "outputs": [
    {
     "data": {
      "text/html": [
       "<div>\n",
       "<style scoped>\n",
       "    .dataframe tbody tr th:only-of-type {\n",
       "        vertical-align: middle;\n",
       "    }\n",
       "\n",
       "    .dataframe tbody tr th {\n",
       "        vertical-align: top;\n",
       "    }\n",
       "\n",
       "    .dataframe thead th {\n",
       "        text-align: right;\n",
       "    }\n",
       "</style>\n",
       "<table border=\"1\" class=\"dataframe\">\n",
       "  <thead>\n",
       "    <tr style=\"text-align: right;\">\n",
       "      <th></th>\n",
       "      <th>Output</th>\n",
       "    </tr>\n",
       "  </thead>\n",
       "  <tbody>\n",
       "    <tr>\n",
       "      <th>0</th>\n",
       "      <td>1</td>\n",
       "    </tr>\n",
       "    <tr>\n",
       "      <th>1</th>\n",
       "      <td>6</td>\n",
       "    </tr>\n",
       "    <tr>\n",
       "      <th>2</th>\n",
       "      <td>2</td>\n",
       "    </tr>\n",
       "    <tr>\n",
       "      <th>3</th>\n",
       "      <td>6</td>\n",
       "    </tr>\n",
       "    <tr>\n",
       "      <th>4</th>\n",
       "      <td>4</td>\n",
       "    </tr>\n",
       "  </tbody>\n",
       "</table>\n",
       "</div>"
      ],
      "text/plain": [
       "   Output\n",
       "0       1\n",
       "1       6\n",
       "2       2\n",
       "3       6\n",
       "4       4"
      ]
     },
     "execution_count": 18,
     "metadata": {},
     "output_type": "execute_result"
    }
   ],
   "source": [
    "dice_output = pd.read_excel('data/dice.xlsx')\n",
    "dice_output.head()"
   ]
  },
  {
   "cell_type": "code",
   "execution_count": 19,
   "metadata": {
    "ExecuteTime": {
     "end_time": "2020-04-02T06:45:34.155426Z",
     "start_time": "2020-04-02T06:45:34.147428Z"
    }
   },
   "outputs": [
    {
     "data": {
      "text/plain": [
       "1000"
      ]
     },
     "execution_count": 19,
     "metadata": {},
     "output_type": "execute_result"
    }
   ],
   "source": [
    "n = len(dice_output.Output)\n",
    "n"
   ]
  },
  {
   "cell_type": "code",
   "execution_count": 20,
   "metadata": {
    "ExecuteTime": {
     "end_time": "2020-04-02T06:45:35.590438Z",
     "start_time": "2020-04-02T06:45:34.199414Z"
    }
   },
   "outputs": [
    {
     "data": {
      "image/png": "[encoded data removed]",
      "text/plain": [
       "<Figure size 432x288 with 1 Axes>"
      ]
     },
     "metadata": {
      "needs_background": "light"
     },
     "output_type": "display_data"
    }
   ],
   "source": [
    "sns.countplot(data = dice_output, x = 'Output', color = 'b');"
   ]
  },
  {
   "cell_type": "code",
   "execution_count": 21,
   "metadata": {
    "ExecuteTime": {
     "end_time": "2020-04-02T06:45:35.614432Z",
     "start_time": "2020-04-02T06:45:35.598438Z"
    }
   },
   "outputs": [
    {
     "name": "stdout",
     "output_type": "stream",
     "text": [
      "Population Mean:  3.462\n",
      "Population Variance:  3.037593593593591\n",
      "Population std deviation:  1.742869356433118\n"
     ]
    }
   ],
   "source": [
    "dice_population_mean = dice_output['Output'].mean()\n",
    "print('Population Mean: ', dice_population_mean)\n",
    "dice_population_variance = dice_output['Output'].var()\n",
    "print('Population Variance: ', dice_population_variance)\n",
    "dice_population_std = dice_output['Output'].std()\n",
    "print('Population std deviation: ', dice_population_std)"
   ]
  },
  {
   "cell_type": "markdown",
   "metadata": {},
   "source": [
    "##### Selecting samples of sample size 3\n",
    "\n",
    "Let us pick samples of sample size 3 from the population. The below Python code was used to pick 1000 samples of sample size 3 from the population i.e. dice_output dataframe."
   ]
  },
  {
   "cell_type": "code",
   "execution_count": 22,
   "metadata": {
    "ExecuteTime": {
     "end_time": "2020-04-02T06:45:35.806383Z",
     "start_time": "2020-04-02T06:45:35.618432Z"
    }
   },
   "outputs": [],
   "source": [
    "sample_3 = []\n",
    "def gensample(n):\n",
    "    return(np.random.choice(dice_output['Output'], size = n, replace = True))"
   ]
  },
  {
   "cell_type": "markdown",
   "metadata": {},
   "source": [
    "function gensample() is defined, whose functionality is to choose n samples from the dataframe dice_output with replacements."
   ]
  },
  {
   "cell_type": "code",
   "execution_count": 23,
   "metadata": {
    "ExecuteTime": {
     "end_time": "2020-04-02T06:45:36.374420Z",
     "start_time": "2020-04-02T06:45:35.810383Z"
    }
   },
   "outputs": [],
   "source": [
    "for i in range(1, 1001):\n",
    "    x = gensample(3).tolist()\n",
    "    sample_3.append(x)"
   ]
  },
  {
   "cell_type": "code",
   "execution_count": 24,
   "metadata": {
    "ExecuteTime": {
     "end_time": "2020-04-02T06:45:36.474435Z",
     "start_time": "2020-04-02T06:45:36.462437Z"
    }
   },
   "outputs": [
    {
     "data": {
      "text/plain": [
       "[[4, 1, 2], [3, 1, 4], [1, 1, 5], [2, 1, 6]]"
      ]
     },
     "execution_count": 24,
     "metadata": {},
     "output_type": "execute_result"
    }
   ],
   "source": [
    "sample_3[1:5]"
   ]
  },
  {
   "cell_type": "code",
   "execution_count": 25,
   "metadata": {
    "ExecuteTime": {
     "end_time": "2020-04-02T06:45:36.618398Z",
     "start_time": "2020-04-02T06:45:36.478433Z"
    }
   },
   "outputs": [
    {
     "data": {
      "text/plain": [
       "(3, 1000)"
      ]
     },
     "execution_count": 25,
     "metadata": {},
     "output_type": "execute_result"
    }
   ],
   "source": [
    "df_sample_3 = pd.DataFrame(sample_3).T\n",
    "df_sample_3.shape"
   ]
  },
  {
   "cell_type": "code",
   "execution_count": 26,
   "metadata": {
    "ExecuteTime": {
     "end_time": "2020-04-02T06:45:37.134270Z",
     "start_time": "2020-04-02T06:45:36.622397Z"
    }
   },
   "outputs": [
    {
     "data": {
      "text/html": [
       "<div>\n",
       "<style scoped>\n",
       "    .dataframe tbody tr th:only-of-type {\n",
       "        vertical-align: middle;\n",
       "    }\n",
       "\n",
       "    .dataframe tbody tr th {\n",
       "        vertical-align: top;\n",
       "    }\n",
       "\n",
       "    .dataframe thead th {\n",
       "        text-align: right;\n",
       "    }\n",
       "</style>\n",
       "<table border=\"1\" class=\"dataframe\">\n",
       "  <thead>\n",
       "    <tr style=\"text-align: right;\">\n",
       "      <th></th>\n",
       "      <th>0</th>\n",
       "      <th>1</th>\n",
       "      <th>2</th>\n",
       "      <th>3</th>\n",
       "      <th>4</th>\n",
       "      <th>5</th>\n",
       "      <th>6</th>\n",
       "      <th>7</th>\n",
       "      <th>8</th>\n",
       "      <th>9</th>\n",
       "      <th>...</th>\n",
       "      <th>990</th>\n",
       "      <th>991</th>\n",
       "      <th>992</th>\n",
       "      <th>993</th>\n",
       "      <th>994</th>\n",
       "      <th>995</th>\n",
       "      <th>996</th>\n",
       "      <th>997</th>\n",
       "      <th>998</th>\n",
       "      <th>999</th>\n",
       "    </tr>\n",
       "  </thead>\n",
       "  <tbody>\n",
       "    <tr>\n",
       "      <th>0</th>\n",
       "      <td>3</td>\n",
       "      <td>4</td>\n",
       "      <td>3</td>\n",
       "      <td>1</td>\n",
       "      <td>2</td>\n",
       "      <td>5</td>\n",
       "      <td>3</td>\n",
       "      <td>6</td>\n",
       "      <td>5</td>\n",
       "      <td>1</td>\n",
       "      <td>...</td>\n",
       "      <td>4</td>\n",
       "      <td>6</td>\n",
       "      <td>5</td>\n",
       "      <td>1</td>\n",
       "      <td>1</td>\n",
       "      <td>2</td>\n",
       "      <td>6</td>\n",
       "      <td>4</td>\n",
       "      <td>5</td>\n",
       "      <td>3</td>\n",
       "    </tr>\n",
       "    <tr>\n",
       "      <th>1</th>\n",
       "      <td>5</td>\n",
       "      <td>1</td>\n",
       "      <td>1</td>\n",
       "      <td>1</td>\n",
       "      <td>1</td>\n",
       "      <td>5</td>\n",
       "      <td>4</td>\n",
       "      <td>6</td>\n",
       "      <td>2</td>\n",
       "      <td>3</td>\n",
       "      <td>...</td>\n",
       "      <td>1</td>\n",
       "      <td>5</td>\n",
       "      <td>1</td>\n",
       "      <td>1</td>\n",
       "      <td>2</td>\n",
       "      <td>5</td>\n",
       "      <td>5</td>\n",
       "      <td>3</td>\n",
       "      <td>2</td>\n",
       "      <td>2</td>\n",
       "    </tr>\n",
       "    <tr>\n",
       "      <th>2</th>\n",
       "      <td>4</td>\n",
       "      <td>2</td>\n",
       "      <td>4</td>\n",
       "      <td>5</td>\n",
       "      <td>6</td>\n",
       "      <td>6</td>\n",
       "      <td>1</td>\n",
       "      <td>4</td>\n",
       "      <td>4</td>\n",
       "      <td>2</td>\n",
       "      <td>...</td>\n",
       "      <td>5</td>\n",
       "      <td>5</td>\n",
       "      <td>2</td>\n",
       "      <td>1</td>\n",
       "      <td>6</td>\n",
       "      <td>4</td>\n",
       "      <td>6</td>\n",
       "      <td>1</td>\n",
       "      <td>3</td>\n",
       "      <td>3</td>\n",
       "    </tr>\n",
       "  </tbody>\n",
       "</table>\n",
       "<p>3 rows × 1000 columns</p>\n",
       "</div>"
      ],
      "text/plain": [
       "   0    1    2    3    4    5    6    7    8    9    ...  990  991  992  993  \\\n",
       "0    3    4    3    1    2    5    3    6    5    1  ...    4    6    5    1   \n",
       "1    5    1    1    1    1    5    4    6    2    3  ...    1    5    1    1   \n",
       "2    4    2    4    5    6    6    1    4    4    2  ...    5    5    2    1   \n",
       "\n",
       "   994  995  996  997  998  999  \n",
       "0    1    2    6    4    5    3  \n",
       "1    2    5    5    3    2    2  \n",
       "2    6    4    6    1    3    3  \n",
       "\n",
       "[3 rows x 1000 columns]"
      ]
     },
     "execution_count": 26,
     "metadata": {},
     "output_type": "execute_result"
    }
   ],
   "source": [
    "df_sample_3.head()"
   ]
  },
  {
   "cell_type": "markdown",
   "metadata": {},
   "source": [
    "##### Calculating sample means of each sample"
   ]
  },
  {
   "cell_type": "code",
   "execution_count": 27,
   "metadata": {
    "ExecuteTime": {
     "end_time": "2020-04-02T06:45:37.794105Z",
     "start_time": "2020-04-02T06:45:37.138269Z"
    }
   },
   "outputs": [
    {
     "data": {
      "text/plain": [
       "0    4.000000\n",
       "1    2.333333\n",
       "2    2.666667\n",
       "3    2.333333\n",
       "4    3.000000\n",
       "dtype: float64"
      ]
     },
     "execution_count": 27,
     "metadata": {},
     "output_type": "execute_result"
    }
   ],
   "source": [
    "sample_mean_3 = df_sample_3.apply(np.mean, axis = 0)\n",
    "sample_mean_3.head()"
   ]
  },
  {
   "cell_type": "code",
   "execution_count": 28,
   "metadata": {
    "ExecuteTime": {
     "end_time": "2020-04-02T06:45:37.822095Z",
     "start_time": "2020-04-02T06:45:37.798101Z"
    }
   },
   "outputs": [
    {
     "data": {
      "text/plain": [
       "count    1000.000000\n",
       "mean        3.429333\n",
       "std         1.029487\n",
       "min         1.000000\n",
       "25%         2.666667\n",
       "50%         3.333333\n",
       "75%         4.000000\n",
       "max         6.000000\n",
       "dtype: float64"
      ]
     },
     "execution_count": 28,
     "metadata": {},
     "output_type": "execute_result"
    }
   ],
   "source": [
    "sample_mean_3.describe()"
   ]
  },
  {
   "cell_type": "markdown",
   "metadata": {},
   "source": [
    "describe() function shows sample_mean_3 is a vector having 1000 entries i.e. 1000 sample means.\n",
    "\n",
    "##### Plotting sampling distribution of sample mean for n = 3\n",
    "\n",
    "After calculating the sample means, let us plot the sampling distribution of the sample means."
   ]
  },
  {
   "cell_type": "code",
   "execution_count": 29,
   "metadata": {
    "ExecuteTime": {
     "end_time": "2020-04-02T06:45:40.332947Z",
     "start_time": "2020-04-02T06:45:37.826094Z"
    }
   },
   "outputs": [
    {
     "data": {
      "image/png": "[encoded data removed]",
      "text/plain": [
       "<Figure size 432x288 with 1 Axes>"
      ]
     },
     "metadata": {
      "needs_background": "light"
     },
     "output_type": "display_data"
    }
   ],
   "source": [
    "sns.distplot(sample_mean_3, bins = np.arange(0,7,0.25));\n",
    "plt.title('Sampling distribution of mean for n=3');\n",
    "plt.xlabel('Range');\n",
    "plt.ylabel('Frequency');"
   ]
  },
  {
   "cell_type": "code",
   "execution_count": 30,
   "metadata": {
    "ExecuteTime": {
     "end_time": "2020-04-02T06:45:40.396991Z",
     "start_time": "2020-04-02T06:45:40.332947Z"
    }
   },
   "outputs": [
    {
     "name": "stdout",
     "output_type": "stream",
     "text": [
      "Mean of sample means or sampling distribution:  3.4293333333333336\n",
      "Population Mean:  3.462\n"
     ]
    }
   ],
   "source": [
    "mean_of_sample_mean_3 = sample_mean_3.mean()\n",
    "print('Mean of sample means or sampling distribution: ', mean_of_sample_mean_3)\n",
    "print('Population Mean: ', dice_population_mean)"
   ]
  },
  {
   "cell_type": "code",
   "execution_count": 31,
   "metadata": {
    "ExecuteTime": {
     "end_time": "2020-04-02T06:45:40.519275Z",
     "start_time": "2020-04-02T06:45:40.405005Z"
    }
   },
   "outputs": [
    {
     "name": "stdout",
     "output_type": "stream",
     "text": [
      "Std deviation of sample means or sampling distribution:  1.029487175172108\n",
      "Population std deviation:  1.742869356433118\n"
     ]
    }
   ],
   "source": [
    "std_of_sample_mean_3 = sample_mean_3.std()\n",
    "print('Std deviation of sample means or sampling distribution: ', std_of_sample_mean_3)\n",
    "print('Population std deviation: ', dice_population_std)"
   ]
  },
  {
   "cell_type": "markdown",
   "metadata": {},
   "source": [
    "The mean of the sampling distribution represented $\\mu_{\\bar{X}}$ as was calculated to be 3.434667 and as we can see, it is nearly equal to the population mean(μ) which was calculated to be 3.462.\n",
    "\n",
    "The standard deviation of the sampling distribution represented as $\\sigma_{\\bar{X}}$  was found to be 1.023448, which is less than the population standard deviation (σ) 1.741998."
   ]
  },
  {
   "cell_type": "markdown",
   "metadata": {},
   "source": [
    "##### Selecting samples of sample size 10\n",
    "\n",
    "Now, let us take samples of larger size i.e. let us take 1000 samples of sample size 10, calculate the sample means and plot the sampling distribution for sample size 10."
   ]
  },
  {
   "cell_type": "code",
   "execution_count": 32,
   "metadata": {
    "ExecuteTime": {
     "end_time": "2020-04-02T06:45:41.003153Z",
     "start_time": "2020-04-02T06:45:40.523276Z"
    }
   },
   "outputs": [],
   "source": [
    "sample_10 = []\n",
    "for i in range(1, 1001):\n",
    "    x = gensample(10).tolist()\n",
    "    sample_10.append(x)"
   ]
  },
  {
   "cell_type": "code",
   "execution_count": 33,
   "metadata": {
    "ExecuteTime": {
     "end_time": "2020-04-02T06:45:41.031146Z",
     "start_time": "2020-04-02T06:45:41.007152Z"
    }
   },
   "outputs": [
    {
     "data": {
      "text/plain": [
       "(10, 1000)"
      ]
     },
     "execution_count": 33,
     "metadata": {},
     "output_type": "execute_result"
    }
   ],
   "source": [
    "df_sample_10 = pd.DataFrame(sample_10).T\n",
    "df_sample_10.shape"
   ]
  },
  {
   "cell_type": "code",
   "execution_count": 34,
   "metadata": {
    "ExecuteTime": {
     "end_time": "2020-04-02T06:45:41.263089Z",
     "start_time": "2020-04-02T06:45:41.035145Z"
    }
   },
   "outputs": [
    {
     "data": {
      "text/html": [
       "<div>\n",
       "<style scoped>\n",
       "    .dataframe tbody tr th:only-of-type {\n",
       "        vertical-align: middle;\n",
       "    }\n",
       "\n",
       "    .dataframe tbody tr th {\n",
       "        vertical-align: top;\n",
       "    }\n",
       "\n",
       "    .dataframe thead th {\n",
       "        text-align: right;\n",
       "    }\n",
       "</style>\n",
       "<table border=\"1\" class=\"dataframe\">\n",
       "  <thead>\n",
       "    <tr style=\"text-align: right;\">\n",
       "      <th></th>\n",
       "      <th>0</th>\n",
       "      <th>1</th>\n",
       "      <th>2</th>\n",
       "      <th>3</th>\n",
       "      <th>4</th>\n",
       "      <th>5</th>\n",
       "      <th>6</th>\n",
       "      <th>7</th>\n",
       "      <th>8</th>\n",
       "      <th>9</th>\n",
       "      <th>...</th>\n",
       "      <th>990</th>\n",
       "      <th>991</th>\n",
       "      <th>992</th>\n",
       "      <th>993</th>\n",
       "      <th>994</th>\n",
       "      <th>995</th>\n",
       "      <th>996</th>\n",
       "      <th>997</th>\n",
       "      <th>998</th>\n",
       "      <th>999</th>\n",
       "    </tr>\n",
       "  </thead>\n",
       "  <tbody>\n",
       "    <tr>\n",
       "      <th>0</th>\n",
       "      <td>2</td>\n",
       "      <td>6</td>\n",
       "      <td>2</td>\n",
       "      <td>4</td>\n",
       "      <td>1</td>\n",
       "      <td>5</td>\n",
       "      <td>5</td>\n",
       "      <td>4</td>\n",
       "      <td>6</td>\n",
       "      <td>6</td>\n",
       "      <td>...</td>\n",
       "      <td>6</td>\n",
       "      <td>6</td>\n",
       "      <td>2</td>\n",
       "      <td>1</td>\n",
       "      <td>1</td>\n",
       "      <td>2</td>\n",
       "      <td>3</td>\n",
       "      <td>6</td>\n",
       "      <td>5</td>\n",
       "      <td>2</td>\n",
       "    </tr>\n",
       "    <tr>\n",
       "      <th>1</th>\n",
       "      <td>5</td>\n",
       "      <td>5</td>\n",
       "      <td>2</td>\n",
       "      <td>3</td>\n",
       "      <td>1</td>\n",
       "      <td>4</td>\n",
       "      <td>2</td>\n",
       "      <td>4</td>\n",
       "      <td>1</td>\n",
       "      <td>6</td>\n",
       "      <td>...</td>\n",
       "      <td>5</td>\n",
       "      <td>5</td>\n",
       "      <td>5</td>\n",
       "      <td>2</td>\n",
       "      <td>2</td>\n",
       "      <td>2</td>\n",
       "      <td>6</td>\n",
       "      <td>6</td>\n",
       "      <td>3</td>\n",
       "      <td>6</td>\n",
       "    </tr>\n",
       "    <tr>\n",
       "      <th>2</th>\n",
       "      <td>6</td>\n",
       "      <td>5</td>\n",
       "      <td>4</td>\n",
       "      <td>4</td>\n",
       "      <td>2</td>\n",
       "      <td>3</td>\n",
       "      <td>2</td>\n",
       "      <td>2</td>\n",
       "      <td>5</td>\n",
       "      <td>1</td>\n",
       "      <td>...</td>\n",
       "      <td>6</td>\n",
       "      <td>2</td>\n",
       "      <td>5</td>\n",
       "      <td>2</td>\n",
       "      <td>2</td>\n",
       "      <td>5</td>\n",
       "      <td>5</td>\n",
       "      <td>6</td>\n",
       "      <td>2</td>\n",
       "      <td>3</td>\n",
       "    </tr>\n",
       "    <tr>\n",
       "      <th>3</th>\n",
       "      <td>4</td>\n",
       "      <td>4</td>\n",
       "      <td>1</td>\n",
       "      <td>5</td>\n",
       "      <td>3</td>\n",
       "      <td>2</td>\n",
       "      <td>2</td>\n",
       "      <td>2</td>\n",
       "      <td>3</td>\n",
       "      <td>1</td>\n",
       "      <td>...</td>\n",
       "      <td>1</td>\n",
       "      <td>2</td>\n",
       "      <td>4</td>\n",
       "      <td>1</td>\n",
       "      <td>4</td>\n",
       "      <td>4</td>\n",
       "      <td>4</td>\n",
       "      <td>1</td>\n",
       "      <td>3</td>\n",
       "      <td>2</td>\n",
       "    </tr>\n",
       "    <tr>\n",
       "      <th>4</th>\n",
       "      <td>6</td>\n",
       "      <td>4</td>\n",
       "      <td>1</td>\n",
       "      <td>1</td>\n",
       "      <td>3</td>\n",
       "      <td>4</td>\n",
       "      <td>6</td>\n",
       "      <td>6</td>\n",
       "      <td>2</td>\n",
       "      <td>2</td>\n",
       "      <td>...</td>\n",
       "      <td>6</td>\n",
       "      <td>3</td>\n",
       "      <td>6</td>\n",
       "      <td>2</td>\n",
       "      <td>4</td>\n",
       "      <td>3</td>\n",
       "      <td>6</td>\n",
       "      <td>1</td>\n",
       "      <td>2</td>\n",
       "      <td>1</td>\n",
       "    </tr>\n",
       "  </tbody>\n",
       "</table>\n",
       "<p>5 rows × 1000 columns</p>\n",
       "</div>"
      ],
      "text/plain": [
       "   0    1    2    3    4    5    6    7    8    9    ...  990  991  992  993  \\\n",
       "0    2    6    2    4    1    5    5    4    6    6  ...    6    6    2    1   \n",
       "1    5    5    2    3    1    4    2    4    1    6  ...    5    5    5    2   \n",
       "2    6    5    4    4    2    3    2    2    5    1  ...    6    2    5    2   \n",
       "3    4    4    1    5    3    2    2    2    3    1  ...    1    2    4    1   \n",
       "4    6    4    1    1    3    4    6    6    2    2  ...    6    3    6    2   \n",
       "\n",
       "   994  995  996  997  998  999  \n",
       "0    1    2    3    6    5    2  \n",
       "1    2    2    6    6    3    6  \n",
       "2    2    5    5    6    2    3  \n",
       "3    4    4    4    1    3    2  \n",
       "4    4    3    6    1    2    1  \n",
       "\n",
       "[5 rows x 1000 columns]"
      ]
     },
     "execution_count": 34,
     "metadata": {},
     "output_type": "execute_result"
    }
   ],
   "source": [
    "df_sample_10.head()"
   ]
  },
  {
   "cell_type": "code",
   "execution_count": 35,
   "metadata": {
    "ExecuteTime": {
     "end_time": "2020-04-02T06:45:42.148779Z",
     "start_time": "2020-04-02T06:45:41.271086Z"
    }
   },
   "outputs": [
    {
     "data": {
      "text/plain": [
       "0    3.9\n",
       "1    4.7\n",
       "2    2.7\n",
       "3    3.2\n",
       "4    3.3\n",
       "dtype: float64"
      ]
     },
     "execution_count": 35,
     "metadata": {},
     "output_type": "execute_result"
    }
   ],
   "source": [
    "sample_mean_10 = df_sample_10.apply(np.mean, axis = 0)\n",
    "sample_mean_10.head()"
   ]
  },
  {
   "cell_type": "code",
   "execution_count": 36,
   "metadata": {
    "ExecuteTime": {
     "end_time": "2020-04-02T06:45:42.188768Z",
     "start_time": "2020-04-02T06:45:42.152777Z"
    }
   },
   "outputs": [
    {
     "data": {
      "text/plain": [
       "count    1000.00000\n",
       "mean        3.45770\n",
       "std         0.55531\n",
       "min         1.80000\n",
       "25%         3.10000\n",
       "50%         3.40000\n",
       "75%         3.90000\n",
       "max         5.10000\n",
       "dtype: float64"
      ]
     },
     "execution_count": 36,
     "metadata": {},
     "output_type": "execute_result"
    }
   ],
   "source": [
    "sample_mean_10.describe()"
   ]
  },
  {
   "cell_type": "code",
   "execution_count": 37,
   "metadata": {
    "ExecuteTime": {
     "end_time": "2020-04-02T06:45:44.740672Z",
     "start_time": "2020-04-02T06:45:42.192767Z"
    }
   },
   "outputs": [
    {
     "data": {
      "image/png": "[encoded data removed]",
      "text/plain": [
       "<Figure size 432x288 with 1 Axes>"
      ]
     },
     "metadata": {
      "needs_background": "light"
     },
     "output_type": "display_data"
    }
   ],
   "source": [
    "sns.distplot(sample_mean_10, bins = np.arange(0,7,0.25));\n",
    "plt.title('Sampling distribution of mean for n=10');\n",
    "plt.xlabel('Range');\n",
    "plt.ylabel('Frequency');"
   ]
  },
  {
   "cell_type": "markdown",
   "metadata": {},
   "source": [
    "Observe the distribution becomes more close to normal distribution.\n",
    "\n"
   ]
  },
  {
   "cell_type": "code",
   "execution_count": 38,
   "metadata": {
    "ExecuteTime": {
     "end_time": "2020-04-02T06:45:44.766202Z",
     "start_time": "2020-04-02T06:45:44.744671Z"
    }
   },
   "outputs": [
    {
     "name": "stdout",
     "output_type": "stream",
     "text": [
      "Mean of sample means or sampling distribution:  3.4576999999999947\n",
      "Population Mean:  3.462\n"
     ]
    }
   ],
   "source": [
    "mean_of_sample_mean_10 = sample_mean_10.mean()\n",
    "print('Mean of sample means or sampling distribution: ', mean_of_sample_mean_10)\n",
    "print('Population Mean: ', dice_population_mean)"
   ]
  },
  {
   "cell_type": "code",
   "execution_count": 39,
   "metadata": {
    "ExecuteTime": {
     "end_time": "2020-04-02T06:45:44.974855Z",
     "start_time": "2020-04-02T06:45:44.774906Z"
    }
   },
   "outputs": [
    {
     "name": "stdout",
     "output_type": "stream",
     "text": [
      "Std deviation of sample means or sampling distribution:  0.5553098946345906\n",
      "Population std deviation:  1.742869356433118\n"
     ]
    }
   ],
   "source": [
    "std_of_sample_mean_10 = sample_mean_10.std()\n",
    "print('Std deviation of sample means or sampling distribution: ', std_of_sample_mean_10)\n",
    "print('Population std deviation: ', dice_population_std)"
   ]
  },
  {
   "cell_type": "markdown",
   "metadata": {},
   "source": [
    "The mean of the sampling distribution represented $\\mu_{\\bar{X}}$ as was calculated to be 3.4558 and as we can see, it is nearly equal to the population mean(μ) which was calculated to be 3.462.\n",
    "\n",
    "The standard deviation of the sampling distribution represented as $\\sigma_{\\bar{X}}$  was found to be 0.5616, which is less than the population standard deviation (σ) 1.7428.\n",
    "\n",
    "##### Comparing the sampling distributions of various sample sizes\n",
    "\n",
    "![](3_com.PNG)\n",
    "\n",
    "Mean of sampling distribution of mean $\\mu_{\\bar{X}}$ is closely equal to the population mean $\\sigma$.\n",
    "\n",
    "We can observe a decrease in the standard deviation of the sampling distribution ($\\sigma_{\\bar{X}}$) as the sample size increases. The standard deviation of sampling distribution of mean is called __standard error__. \n",
    "\n",
    "##### Standard error\n",
    "\n",
    "The standard deviation being the square root of variance, the relationship between the population standard deviation and standard deviation of sampling distribution of sample mean (standard error - $\\sigma_{\\bar{X}}$) can be written as:\n",
    "\n",
    "$$ \\sigma_{\\bar{X}} = \\frac{\\sigma}{\\sqrt{n}} $$ \n",
    "\n",
    "where, n - Sample size\n",
    "\n",
    "Let us calculate the standard error using the formula above:\n",
    "\n"
   ]
  },
  {
   "cell_type": "code",
   "execution_count": 40,
   "metadata": {
    "ExecuteTime": {
     "end_time": "2020-04-02T06:45:45.158808Z",
     "start_time": "2020-04-02T06:45:44.978853Z"
    }
   },
   "outputs": [
    {
     "name": "stdout",
     "output_type": "stream",
     "text": [
      "Std deviation of sample means or sampling distribution:  0.5553098946345906\n",
      "Std error sampling distribution with n=10:  0.5511436830440489\n"
     ]
    }
   ],
   "source": [
    "print('Std deviation of sample means or sampling distribution: ', std_of_sample_mean_10)\n",
    "print('Std error sampling distribution with n=10: ', dice_population_std/np.sqrt(10))"
   ]
  },
  {
   "cell_type": "code",
   "execution_count": 41,
   "metadata": {
    "ExecuteTime": {
     "end_time": "2020-04-02T06:45:45.306774Z",
     "start_time": "2020-04-02T06:45:45.162808Z"
    }
   },
   "outputs": [
    {
     "name": "stdout",
     "output_type": "stream",
     "text": [
      "Std deviation of sample means or sampling distribution:  1.029487175172108\n",
      "Std error sampling distribution with n=3:  1.0062460920990104\n"
     ]
    }
   ],
   "source": [
    "print('Std deviation of sample means or sampling distribution: ', std_of_sample_mean_3)\n",
    "print('Std error sampling distribution with n=3: ', dice_population_std/np.sqrt(3))"
   ]
  },
  {
   "cell_type": "markdown",
   "metadata": {},
   "source": [
    "##### Application of sampling distribution of sample mean\n",
    "\n",
    "The sampling distribution can be shown as below:\n",
    "\n",
    "![](3_smp.PNG)\n",
    "\n",
    "We need to find the probability of getting a sample mean that is greater than 80 which is the area enclosed under the curve to the right of point 80 on the x axis. \n",
    "\n",
    "To calculate the area, we need to find out how many standard deviation, the point 80 is away from the mean. This can be calculated as below:\n",
    "\n",
    "(80 – 72)/3.95 = 2.02 which suggests 80 is 2.02 standard deviation away from the mean.\n",
    "\n",
    "We can use the norm.cdf() function in Python to find out the probability of getting a value that is 2.02 standard deviation from mean.  "
   ]
  },
  {
   "cell_type": "code",
   "execution_count": 42,
   "metadata": {
    "ExecuteTime": {
     "end_time": "2020-04-02T06:45:45.470729Z",
     "start_time": "2020-04-02T06:45:45.306774Z"
    }
   },
   "outputs": [
    {
     "data": {
      "text/plain": [
       "0.9783083062323532"
      ]
     },
     "execution_count": 42,
     "metadata": {},
     "output_type": "execute_result"
    }
   ],
   "source": [
    "from scipy.stats import norm\n",
    "norm.cdf(2.02)"
   ]
  },
  {
   "cell_type": "markdown",
   "metadata": {},
   "source": [
    "The output of norm.cdf() function gives the area enclosed to the left of a point which is the probability of finding a number less than 80. The same is represented in the figure below. \n",
    "\n",
    "![](3_mn.PNG)\n",
    "\n",
    "norm.cdf(2.02) gives the area enclosed under the normal distribution curve to the left of the point 80. We need to find the probability that the sample mean is greater than 80. We need to find the area enclosed by the colored portion in the below diagram. \n",
    "\n",
    "![](3_mn2.PNG)\n",
    "\n",
    "As we already found out the area enclosed to the left of point 80, we can calculate the area to the right as  1-0.9783= 0.0217 or 2.17%\n",
    "\n",
    "Hence we conclude that, if we randomly choose a sample of 10 students from class 10th, the probability of sample mean being greater than 80 is 2.17%. \n",
    "\n",
    "##### Plotting the sampling distribution without analyzing all possible samples\n",
    "\n",
    "In the sampling distribution of mean section, we have observed the following properties of sampling distribution of mean\n",
    "\n",
    "- Sampling distribution of sample mean is normally distributed, irrespective of the population.\n",
    "- Mean of the sampling distribution of sample mean ($\\mu_{\\bar{X}}$) is equal to the population mean μ.\n",
    "- The standard deviation of the sampling distribution known as standard error can be found out using the formula $$ \\sigma_{\\bar{X}} = \\frac{\\sigma}{\\sqrt{n}} $$ \n",
    "\n",
    "From the above points, it can be observed that the __mean and standard error of sampling distribution depends on population mean and population standard deviation__ respectively.\n",
    "\n",
    "Thus, If the population parameters μ and σ are known, then the mean and standard error of sampling distribution can be calculated and the sampling distribution of mean can be plotted without analyzing all possible samples."
   ]
  },
  {
   "cell_type": "markdown",
   "metadata": {},
   "source": [
    "#### Sampling distribution of mean: Unknown Population Parameters\n",
    "\n",
    "In order to find out the confidence interval of population mean, the surveying agency needs to plot the sampling distribution of mean. However, the population parameters μ and σ are not known to the surveying agency, hence the agency is not able to plot the sampling distribution of mean. \n",
    "\n",
    "When the population parameters i.e. μ and σ are unknown, sampling distribution of mean can be plotted by estimating the mean and standard error of the sampling distribution of mean. \n",
    "\n",
    "Before understanding how to estimate the mean and standard error of sampling distribution of mean, we need to remember the following points given in the table below. \n",
    "\n",
    "| Population parameter                                     | Sample size | Distribution                               |\n",
    "|----------------------------------------------------------|-------------|--------------------------------------------|\n",
    "| when both population mean and std  deviation is unknown. | < 30        | t-distribution with n-1 degrees of freedom |\n",
    "| when both population mean and std  deviation is unknown. | > = 30      | Normal distribution                        |\n",
    "\n",
    "While estimating the mean and standard error of sampling distribution of mean,first we find out whether the distribution is normal distribution or t distribution based on the sample size.  Once we know the distribution, we estimate the mean and standard error of the distribution. \n",
    "\n",
    "##### Estimating the mean of sampling distribution of mean\n",
    "\n",
    "![](3_mna.PNG)"
   ]
  },
  {
   "cell_type": "markdown",
   "metadata": {},
   "source": [
    "##### Estimating the standard error\n",
    "\n",
    "![](3_mn_se.PNG)\n",
    "\n",
    "##### Plotting the sampling distribution\n",
    "\n",
    "We have discussed how to find the mean and standard error of sampling distribution of mean when the population parameters are unknown. \n",
    "\n",
    "The surveying agency uses the same formula and calculates the mean and standard error of the sampling distribution as shown below. \n",
    "\n",
    "![](3_mn_sd.PNG)\n",
    "\n",
    "Moreover, the population parameters are unknown to the surveying agency and the agency dealing with a sample size of 1120 which is much greater than 30. So the sampling distribution of mean will have a normal distribution. \n",
    "\n",
    "Python function norm.pdf() can be used to plot the sampling distribution of mean as given below:\n",
    "\n",
    "Reference:\n",
    "1. [Numpy linspace](https://docs.scipy.org/doc/numpy/reference/generated/numpy.linspace.html)\n",
    "2. [scipy.stats.norm function](https://docs.scipy.org/doc/scipy/reference/generated/scipy.stats.norm.html)\n"
   ]
  },
  {
   "cell_type": "code",
   "execution_count": 43,
   "metadata": {
    "ExecuteTime": {
     "end_time": "2020-04-02T06:45:48.094239Z",
     "start_time": "2020-04-02T06:45:45.474729Z"
    }
   },
   "outputs": [
    {
     "data": {
      "image/png": "[encoded data removed]",
      "text/plain": [
       "<Figure size 432x288 with 1 Axes>"
      ]
     },
     "metadata": {
      "needs_background": "light"
     },
     "output_type": "display_data"
    }
   ],
   "source": [
    "mu = 413.2759\n",
    "sd = 2.30619\n",
    "x = np.linspace(380, 450, 100)\n",
    "plt.plot(x, norm.pdf(x, mu, sd));\n",
    "plt.show();"
   ]
  }
 ],
 "metadata": {
  "kernelspec": {
   "display_name": "Python 3",
   "language": "python",
   "name": "python3"
  },
  "language_info": {
   "codemirror_mode": {
    "name": "ipython",
    "version": 3
   },
   "file_extension": ".py",
   "mimetype": "text/x-python",
   "name": "python",
   "nbconvert_exporter": "python",
   "pygments_lexer": "ipython3",
   "version": "3.7.6"
  }
 },
 "nbformat": 4,
 "nbformat_minor": 4
}
