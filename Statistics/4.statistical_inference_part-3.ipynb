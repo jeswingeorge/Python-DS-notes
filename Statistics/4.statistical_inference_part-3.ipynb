{
 "cells": [
  {
   "cell_type": "code",
   "execution_count": 2,
   "metadata": {
    "ExecuteTime": {
     "end_time": "2020-04-03T05:01:23.355115Z",
     "start_time": "2020-04-03T05:01:23.341122Z"
    }
   },
   "outputs": [],
   "source": [
    "import numpy as np \n",
    "import pandas as pd \n",
    "import matplotlib.pyplot as plt\n",
    "import seaborn as sns\n",
    "%matplotlib inline\n",
    "sns.set()\n",
    "from scipy.stats import norm"
   ]
  },
  {
   "cell_type": "markdown",
   "metadata": {},
   "source": [
    "## Confidence interval of population mean"
   ]
  },
  {
   "cell_type": "markdown",
   "metadata": {},
   "source": [
    "Now that the surveying agency has plotted the sampling distribution of mean, the next task is to find the confidence interval of population mean with 95% confidence level. \n",
    "\n",
    "The sampling distribution of mean is normally distributed as the agency is dealing with a much larger sample size.\n",
    "\n",
    "Let us see how the agency locates two points (p1,p2) on the sampling distribution curve, such that 95% of the total area within the curve is enclosed. The same is shown in the diagram below.   \n",
    "\n",
    "![](4_ci.PNG)\n",
    "\n",
    "We can see that:\n",
    "- Point p1 encloses 2.5% of the total area under the curve to its left\n",
    "- Point p2 encloses 95+2.5 = 97.5% of the total area under the curve to its left. \n"
   ]
  },
  {
   "cell_type": "code",
   "execution_count": 3,
   "metadata": {
    "ExecuteTime": {
     "end_time": "2020-04-03T05:05:55.244274Z",
     "start_time": "2020-04-03T05:05:55.108353Z"
    }
   },
   "outputs": [
    {
     "data": {
      "text/plain": [
       "-1.9599639845400545"
      ]
     },
     "execution_count": 3,
     "metadata": {},
     "output_type": "execute_result"
    }
   ],
   "source": [
    "p1 = norm.ppf(0.025)\n",
    "p1"
   ]
  },
  {
   "cell_type": "code",
   "execution_count": 4,
   "metadata": {
    "ExecuteTime": {
     "end_time": "2020-04-03T05:06:11.822775Z",
     "start_time": "2020-04-03T05:06:11.814777Z"
    }
   },
   "outputs": [
    {
     "data": {
      "text/plain": [
       "1.959963984540054"
      ]
     },
     "execution_count": 4,
     "metadata": {},
     "output_type": "execute_result"
    }
   ],
   "source": [
    "p2 = norm.ppf(0.975)\n",
    "p2"
   ]
  },
  {
   "cell_type": "markdown",
   "metadata": {},
   "source": [
    "The output of the `norm.ppf()` function suggests that:\n",
    "\n",
    "| Point | Position                                          |\n",
    "|-------|---------------------------------------------------|\n",
    "| p1    | 1.96 std deviations away to the left of the mean  |\n",
    "| p2    | 1.96 std deviations away to the right of the mean |\n",
    "\n",
    "The agency has already estimated the mean and standard error of sampling distribution of mean. Thus, point p1 and p2 can be found out as shown below.\n",
    "\n",
    "![](4_ci2.PNG)\n",
    "\n",
    "Thus, the surveying agency has successfully found the confidence interval of population mean to be (408.755, 417.795).\n",
    "\n",
    "__Solution to Challenge 3.1:__ The surveying agency has estimated the population mean i.e. mean mark scored in the surprise test if all the students from the country had appeared the test. \n",
    "- The point estimate of population mean was found to be 413.2759.\n",
    "- The Confidence interval was found to be (408.755,417.795). \n",
    "\n",
    "### Confidence interval of population mean: Small sample\n",
    "\n",
    "As discussed earlier, if the sample size is less than 30 and population standard deviation is unknown, sampling distribution of mean has a t distribution with n-1 degrees of freedom.\n",
    "\n",
    "Thus, while dealing with small samples (n <30) , if the population standard deviation is unknown, the formula for confidence interval is given by:\n",
    "\n",
    "$$ CI_of_population_mean = \\bar{X}  \\pm t_{critical}*\\frac{s}{\\sqrt{n}}$$\n",
    "\n",
    "Here $t_{critical}$ is the critical t value based upon the confidence level. \n",
    "\n",
    "As we have used `norm.ppf()` function to find the critical Z value, we can use the Python function `t.ppf()` to find the critical t value. \n",
    "\n",
    "### Confidence interval of population mean: Large sample\n",
    "\n",
    "We have seen how the surveying agency has calculated the confidence interval of population mean by analyzing a sample of 1120 students and without the knowledge of population parameters. We can summarize the formula for finding the confidence interval of population mean as shown below.\n",
    "\n",
    "While dealing with large sample (n >=30), the formula for calculating the confidence interval of population mean , when the population standard deviation is __unknown__ is given by:\n",
    "\n",
    "$$ CI_of_population_mean = \\bar{X}  \\pm Z_{critical}*\\frac{s}{\\sqrt{n}}$$\n",
    "\n",
    "where $\\bar{X}$  is the sample mean.  \n",
    "$Z_{critical}$ is the critical Z value for the specified confidence level.  \n",
    "s is the sample standard deviation  \n",
    "n is the sample size.  \n",
    "\n",
    "\n",
    "While dealing with large samples (n >=30), the formula for calculating the confidence interval of mean, when the population standard deviation is known  is given by:\n",
    "\n",
    "$$ CI_of_population_mean = \\bar{X}  \\pm Z_{critical}*\\frac{\\sigma}{\\sqrt{n}}$$\n",
    "\n",
    "where,\n",
    "$\\sigma$ is the sample standard deviation  \n",
    "\n",
    "The table below gives the formula for confidence interval of mean for all possible conditions. \n",
    "\n",
    "![](4_ci3.PNG)\n",
    "\n",
    "## Point estimate of population variance\n",
    "\n",
    "### Challenge 3.2: Estimating population variance\n",
    "After estimating population mean, the surveying agency has to estimate the population variance and standard deviation. The task before the agency is to find out:\n",
    "\n",
    "- Point estimate of population variance \n",
    "- Confidence interval of population variance with 95% confidence level\n",
    "- Confidence interval of population standard deviation with 95% confidence level\n",
    "\n",
    "To find point estimate of population variance, the agency needs to:\n",
    "- find the maximum likelihood estimator of population variance. \n",
    "- verify whether the estimator is  unbiased in nature. \n",
    "\n",
    "The agency starts its estimation by finding the maximum likelihood estimator of population variance in the same way it found the maximum likelihood estimator of population mean.\n",
    "\n",
    "The agency takes the likelihood function for normally distributed data into consideration and finds out the condition under which the likelihood function attains maximum value. It finds the value of population variance (σ2) under that condition, treating μ as a constant.\n",
    "\n",
    "This value is called maximum likelihood estimate of population variance. \n",
    "\n",
    "By doing so, the agency finds the maximum likelihood estimate of the population variance to be\n",
    "\n",
    "$$ \\frac{1}{n}\\sum_{i=1}^n(X_i - \\bar(X))^2 $$\n",
    "\n",
    "where  \n",
    "n-  sample size  \n",
    "$\\bar(X)$ - sample mean\n",
    "\n",
    "The next task before the agency is to verify whether this estimator is unbiased in nature or not. The same can be verified by finding the expected value of the above quantity and checking whether it is equal to the population variance $\\sigma^2$\n",
    "\n",
    "#### Unbiased estimator of population variance\n",
    "\n",
    "![](4_var.PNG)\n",
    "\n",
    "![](4_var2.PNG)\n",
    "\n",
    "Thus the surveying agency concludes that __maximum likelihood estimator of population variance is a biased estimator__.\n",
    "\n",
    "The unbiased estimator of the population variance is calculated by introducing the error factor (n-1)/n in the maximum likelihood estimate of population variance and is found to be\n",
    "\n",
    "$$ \\frac{1}{n-1}\\sum_{i=1}^n(X_i - \\bar(X))^2 $$\n",
    "\n",
    "This is the formula for calculating __sample variance__.\n",
    "\n",
    "Hence, the agency concludes that sample variance s^2 calculated using the formula:\n",
    "\n",
    "$$ \\frac{1}{n-1}\\sum_{i=1}^n(X_i - \\bar(X))^2 $$\n",
    "\n",
    " is the unbiased estimator of the population variance and hence can be used as a point estimator.\n",
    "\n",
    "The __sample variance__ was calculated by the agency and was found to be __5956.749__, which is used to estimate the population variance. \n",
    "\n",
    "After finding the point estimate of population variance, the surveying agency finds the interval estimate or the confidence interval of population variance.\n",
    "\n"
   ]
  },
  {
   "cell_type": "markdown",
   "metadata": {},
   "source": [
    "#### Interval estimate of population variance\n",
    "\n",
    "The surveying agency aims to find the confidence interval of the population variance with 95% confidence level.\n",
    "\n",
    "Confidence interval of population variance with 95% confidence level can be calculated by locating two points on the sampling distribution of variance curve, that enclose 95% of the total area under the curve. \n",
    "\n",
    "Thus, the surveying agency has to plot the sampling distribution of variance. Let's understand some properties of sampling distribution of sample variance.\n",
    "\n",
    "Recollect the formula for calculating the sample variance and population variance.\n",
    "\n",
    "The population variance represented as $\\sigma^2$ is given by:\n",
    "\n",
    "$$ \\sigma^2 = \\frac{1}{n}\\sum_{i=1}^n(X_i - \\mu)^2 $$\n",
    "\n",
    "The sample variance represented as s2 is given by:\n",
    "\n",
    "$$ s^2 = \\frac{1}{n-1}\\sum_{i=1}^n(X_i - \\bar(X))^2 $$\n",
    "\n",
    "where  \n",
    "N - Population size  \n",
    "$\\mu$ - Population mean    \n",
    "n - Sample size  \n",
    "$\\bar(X)$ - Sample mean\n",
    "\n",
    "From a population of size N, if we take multiple samples of size n, calculate and plot the sample variances for each sample, the resulting distribution will be called as sampling distribution of sample variance for sample size n.\n",
    "\n",
    "### Properties of sampling distribution of sample variance"
   ]
  },
  {
   "cell_type": "markdown",
   "metadata": {},
   "source": [
    "Sampling distribution of sample variance has the following properties:\n",
    "- Mean of the sampling distribution of sample variance is equals to the population variance.\n",
    "- If the population distribution is normal, then\n",
    "    $$\\frac{(n-1)s^2}{\\sigma^2} $$\n",
    "    \n",
    "  has a chi square distribution with n-1 degrees of freedom where n= sample size, $s^2$ = sample variance and $\\sigma^2$=population variance.\n",
    "    \n",
    "- As ratio of two chi square distributions has F distribution, the ratio of sample variances of two independent samples, drawn from normal populations has  F distribution with $n_1$-1 and $n_2$-1 degrees of freedom where $n_1$ and $n_2$ represent the respective sample sizes.  \n",
    "\n",
    "Let us use the dice output data, used in sampling distribution of mean section to understand the properties of sampling distribution of sample variance.\n",
    "\n",
    "Data frames sample_3 and sample_10 contain 1000 samples of sample size 3 and 10 respectively. Now let us use the Python function  `np.var()`and calculate the sample variance for each sample. "
   ]
  },
  {
   "cell_type": "code",
   "execution_count": 5,
   "metadata": {
    "ExecuteTime": {
     "end_time": "2020-04-03T08:33:32.359185Z",
     "start_time": "2020-04-03T08:33:18.159343Z"
    }
   },
   "outputs": [],
   "source": [
    "dice_output = pd.read_excel('data/dice.xlsx')"
   ]
  },
  {
   "cell_type": "code",
   "execution_count": 6,
   "metadata": {
    "ExecuteTime": {
     "end_time": "2020-04-03T08:33:32.583056Z",
     "start_time": "2020-04-03T08:33:32.429144Z"
    }
   },
   "outputs": [],
   "source": [
    "sample_3 = []\n",
    "def gensample(n):\n",
    "    return(np.random.choice(dice_output['Output'], size = n, replace = True))"
   ]
  },
  {
   "cell_type": "markdown",
   "metadata": {},
   "source": [
    "df_sample_3"
   ]
  },
  {
   "cell_type": "code",
   "execution_count": 7,
   "metadata": {
    "ExecuteTime": {
     "end_time": "2020-04-03T08:34:23.742734Z",
     "start_time": "2020-04-03T08:34:21.674920Z"
    }
   },
   "outputs": [
    {
     "data": {
      "text/html": [
       "<div>\n",
       "<style scoped>\n",
       "    .dataframe tbody tr th:only-of-type {\n",
       "        vertical-align: middle;\n",
       "    }\n",
       "\n",
       "    .dataframe tbody tr th {\n",
       "        vertical-align: top;\n",
       "    }\n",
       "\n",
       "    .dataframe thead th {\n",
       "        text-align: right;\n",
       "    }\n",
       "</style>\n",
       "<table border=\"1\" class=\"dataframe\">\n",
       "  <thead>\n",
       "    <tr style=\"text-align: right;\">\n",
       "      <th></th>\n",
       "      <th>0</th>\n",
       "      <th>1</th>\n",
       "      <th>2</th>\n",
       "      <th>3</th>\n",
       "      <th>4</th>\n",
       "      <th>5</th>\n",
       "      <th>6</th>\n",
       "      <th>7</th>\n",
       "      <th>8</th>\n",
       "      <th>9</th>\n",
       "      <th>...</th>\n",
       "      <th>990</th>\n",
       "      <th>991</th>\n",
       "      <th>992</th>\n",
       "      <th>993</th>\n",
       "      <th>994</th>\n",
       "      <th>995</th>\n",
       "      <th>996</th>\n",
       "      <th>997</th>\n",
       "      <th>998</th>\n",
       "      <th>999</th>\n",
       "    </tr>\n",
       "  </thead>\n",
       "  <tbody>\n",
       "    <tr>\n",
       "      <th>0</th>\n",
       "      <td>6</td>\n",
       "      <td>3</td>\n",
       "      <td>3</td>\n",
       "      <td>2</td>\n",
       "      <td>2</td>\n",
       "      <td>5</td>\n",
       "      <td>5</td>\n",
       "      <td>5</td>\n",
       "      <td>3</td>\n",
       "      <td>3</td>\n",
       "      <td>...</td>\n",
       "      <td>6</td>\n",
       "      <td>6</td>\n",
       "      <td>4</td>\n",
       "      <td>1</td>\n",
       "      <td>1</td>\n",
       "      <td>2</td>\n",
       "      <td>6</td>\n",
       "      <td>4</td>\n",
       "      <td>3</td>\n",
       "      <td>4</td>\n",
       "    </tr>\n",
       "    <tr>\n",
       "      <th>1</th>\n",
       "      <td>6</td>\n",
       "      <td>6</td>\n",
       "      <td>5</td>\n",
       "      <td>6</td>\n",
       "      <td>1</td>\n",
       "      <td>1</td>\n",
       "      <td>4</td>\n",
       "      <td>1</td>\n",
       "      <td>1</td>\n",
       "      <td>1</td>\n",
       "      <td>...</td>\n",
       "      <td>1</td>\n",
       "      <td>2</td>\n",
       "      <td>4</td>\n",
       "      <td>2</td>\n",
       "      <td>2</td>\n",
       "      <td>4</td>\n",
       "      <td>5</td>\n",
       "      <td>6</td>\n",
       "      <td>5</td>\n",
       "      <td>6</td>\n",
       "    </tr>\n",
       "    <tr>\n",
       "      <th>2</th>\n",
       "      <td>2</td>\n",
       "      <td>3</td>\n",
       "      <td>2</td>\n",
       "      <td>3</td>\n",
       "      <td>3</td>\n",
       "      <td>1</td>\n",
       "      <td>4</td>\n",
       "      <td>6</td>\n",
       "      <td>6</td>\n",
       "      <td>4</td>\n",
       "      <td>...</td>\n",
       "      <td>6</td>\n",
       "      <td>3</td>\n",
       "      <td>6</td>\n",
       "      <td>4</td>\n",
       "      <td>2</td>\n",
       "      <td>1</td>\n",
       "      <td>2</td>\n",
       "      <td>2</td>\n",
       "      <td>2</td>\n",
       "      <td>4</td>\n",
       "    </tr>\n",
       "  </tbody>\n",
       "</table>\n",
       "<p>3 rows × 1000 columns</p>\n",
       "</div>"
      ],
      "text/plain": [
       "   0    1    2    3    4    5    6    7    8    9    ...  990  991  992  993  \\\n",
       "0    6    3    3    2    2    5    5    5    3    3  ...    6    6    4    1   \n",
       "1    6    6    5    6    1    1    4    1    1    1  ...    1    2    4    2   \n",
       "2    2    3    2    3    3    1    4    6    6    4  ...    6    3    6    4   \n",
       "\n",
       "   994  995  996  997  998  999  \n",
       "0    1    2    6    4    3    4  \n",
       "1    2    4    5    6    5    6  \n",
       "2    2    1    2    2    2    4  \n",
       "\n",
       "[3 rows x 1000 columns]"
      ]
     },
     "execution_count": 7,
     "metadata": {},
     "output_type": "execute_result"
    }
   ],
   "source": [
    "for i in range(1, 1001):\n",
    "    x = gensample(3).tolist()\n",
    "    sample_3.append(x)\n",
    "\n",
    "df_sample_3 = pd.DataFrame(sample_3).T\n",
    "df_sample_3.head()"
   ]
  },
  {
   "cell_type": "code",
   "execution_count": 8,
   "metadata": {
    "ExecuteTime": {
     "end_time": "2020-04-03T08:35:16.242645Z",
     "start_time": "2020-04-03T08:35:15.660975Z"
    }
   },
   "outputs": [
    {
     "data": {
      "text/html": [
       "<div>\n",
       "<style scoped>\n",
       "    .dataframe tbody tr th:only-of-type {\n",
       "        vertical-align: middle;\n",
       "    }\n",
       "\n",
       "    .dataframe tbody tr th {\n",
       "        vertical-align: top;\n",
       "    }\n",
       "\n",
       "    .dataframe thead th {\n",
       "        text-align: right;\n",
       "    }\n",
       "</style>\n",
       "<table border=\"1\" class=\"dataframe\">\n",
       "  <thead>\n",
       "    <tr style=\"text-align: right;\">\n",
       "      <th></th>\n",
       "      <th>0</th>\n",
       "      <th>1</th>\n",
       "      <th>2</th>\n",
       "      <th>3</th>\n",
       "      <th>4</th>\n",
       "      <th>5</th>\n",
       "      <th>6</th>\n",
       "      <th>7</th>\n",
       "      <th>8</th>\n",
       "      <th>9</th>\n",
       "      <th>...</th>\n",
       "      <th>990</th>\n",
       "      <th>991</th>\n",
       "      <th>992</th>\n",
       "      <th>993</th>\n",
       "      <th>994</th>\n",
       "      <th>995</th>\n",
       "      <th>996</th>\n",
       "      <th>997</th>\n",
       "      <th>998</th>\n",
       "      <th>999</th>\n",
       "    </tr>\n",
       "  </thead>\n",
       "  <tbody>\n",
       "    <tr>\n",
       "      <th>0</th>\n",
       "      <td>5</td>\n",
       "      <td>6</td>\n",
       "      <td>2</td>\n",
       "      <td>1</td>\n",
       "      <td>6</td>\n",
       "      <td>1</td>\n",
       "      <td>5</td>\n",
       "      <td>2</td>\n",
       "      <td>5</td>\n",
       "      <td>6</td>\n",
       "      <td>...</td>\n",
       "      <td>1</td>\n",
       "      <td>3</td>\n",
       "      <td>5</td>\n",
       "      <td>1</td>\n",
       "      <td>3</td>\n",
       "      <td>1</td>\n",
       "      <td>3</td>\n",
       "      <td>2</td>\n",
       "      <td>1</td>\n",
       "      <td>3</td>\n",
       "    </tr>\n",
       "    <tr>\n",
       "      <th>1</th>\n",
       "      <td>5</td>\n",
       "      <td>6</td>\n",
       "      <td>6</td>\n",
       "      <td>2</td>\n",
       "      <td>4</td>\n",
       "      <td>5</td>\n",
       "      <td>3</td>\n",
       "      <td>5</td>\n",
       "      <td>4</td>\n",
       "      <td>2</td>\n",
       "      <td>...</td>\n",
       "      <td>1</td>\n",
       "      <td>2</td>\n",
       "      <td>5</td>\n",
       "      <td>5</td>\n",
       "      <td>5</td>\n",
       "      <td>2</td>\n",
       "      <td>2</td>\n",
       "      <td>5</td>\n",
       "      <td>6</td>\n",
       "      <td>4</td>\n",
       "    </tr>\n",
       "    <tr>\n",
       "      <th>2</th>\n",
       "      <td>1</td>\n",
       "      <td>5</td>\n",
       "      <td>6</td>\n",
       "      <td>3</td>\n",
       "      <td>2</td>\n",
       "      <td>6</td>\n",
       "      <td>6</td>\n",
       "      <td>4</td>\n",
       "      <td>2</td>\n",
       "      <td>1</td>\n",
       "      <td>...</td>\n",
       "      <td>2</td>\n",
       "      <td>1</td>\n",
       "      <td>6</td>\n",
       "      <td>2</td>\n",
       "      <td>5</td>\n",
       "      <td>3</td>\n",
       "      <td>3</td>\n",
       "      <td>4</td>\n",
       "      <td>1</td>\n",
       "      <td>1</td>\n",
       "    </tr>\n",
       "    <tr>\n",
       "      <th>3</th>\n",
       "      <td>3</td>\n",
       "      <td>3</td>\n",
       "      <td>1</td>\n",
       "      <td>5</td>\n",
       "      <td>5</td>\n",
       "      <td>1</td>\n",
       "      <td>3</td>\n",
       "      <td>5</td>\n",
       "      <td>3</td>\n",
       "      <td>5</td>\n",
       "      <td>...</td>\n",
       "      <td>2</td>\n",
       "      <td>1</td>\n",
       "      <td>1</td>\n",
       "      <td>2</td>\n",
       "      <td>2</td>\n",
       "      <td>3</td>\n",
       "      <td>4</td>\n",
       "      <td>3</td>\n",
       "      <td>3</td>\n",
       "      <td>5</td>\n",
       "    </tr>\n",
       "    <tr>\n",
       "      <th>4</th>\n",
       "      <td>6</td>\n",
       "      <td>6</td>\n",
       "      <td>6</td>\n",
       "      <td>3</td>\n",
       "      <td>6</td>\n",
       "      <td>3</td>\n",
       "      <td>5</td>\n",
       "      <td>2</td>\n",
       "      <td>1</td>\n",
       "      <td>4</td>\n",
       "      <td>...</td>\n",
       "      <td>6</td>\n",
       "      <td>6</td>\n",
       "      <td>4</td>\n",
       "      <td>3</td>\n",
       "      <td>5</td>\n",
       "      <td>1</td>\n",
       "      <td>5</td>\n",
       "      <td>3</td>\n",
       "      <td>6</td>\n",
       "      <td>6</td>\n",
       "    </tr>\n",
       "  </tbody>\n",
       "</table>\n",
       "<p>5 rows × 1000 columns</p>\n",
       "</div>"
      ],
      "text/plain": [
       "   0    1    2    3    4    5    6    7    8    9    ...  990  991  992  993  \\\n",
       "0    5    6    2    1    6    1    5    2    5    6  ...    1    3    5    1   \n",
       "1    5    6    6    2    4    5    3    5    4    2  ...    1    2    5    5   \n",
       "2    1    5    6    3    2    6    6    4    2    1  ...    2    1    6    2   \n",
       "3    3    3    1    5    5    1    3    5    3    5  ...    2    1    1    2   \n",
       "4    6    6    6    3    6    3    5    2    1    4  ...    6    6    4    3   \n",
       "\n",
       "   994  995  996  997  998  999  \n",
       "0    3    1    3    2    1    3  \n",
       "1    5    2    2    5    6    4  \n",
       "2    5    3    3    4    1    1  \n",
       "3    2    3    4    3    3    5  \n",
       "4    5    1    5    3    6    6  \n",
       "\n",
       "[5 rows x 1000 columns]"
      ]
     },
     "execution_count": 8,
     "metadata": {},
     "output_type": "execute_result"
    }
   ],
   "source": [
    "sample_10 = []\n",
    "for i in range(1, 1001):\n",
    "    x = gensample(10).tolist()\n",
    "    sample_10.append(x)\n",
    "\n",
    "df_sample_10 = pd.DataFrame(sample_10).T\n",
    "df_sample_10.head()"
   ]
  },
  {
   "cell_type": "code",
   "execution_count": 9,
   "metadata": {
    "ExecuteTime": {
     "end_time": "2020-04-03T08:42:24.521707Z",
     "start_time": "2020-04-03T08:42:21.803267Z"
    }
   },
   "outputs": [
    {
     "name": "stdout",
     "output_type": "stream",
     "text": [
      "Mean of sample varaince of 3 samples:  2.0037777777777945\n",
      "Mean of sample varaince of 10 samples:  2.7356800000000034\n",
      "Dice population variance:  3.034555999999997\n"
     ]
    }
   ],
   "source": [
    "sample_var_3 = df_sample_3.apply(np.var, axis = 0)\n",
    "sample_var_10 = df_sample_10.apply(np.var, axis = 0)\n",
    "mean_of_sample_var_3 = np.mean(sample_var_3)\n",
    "mean_of_sample_var_10 = np.mean(sample_var_10)\n",
    "print('Mean of sample varaince of 3 samples: ',mean_of_sample_var_3)\n",
    "print('Mean of sample varaince of 10 samples: ',mean_of_sample_var_10)\n",
    "print('Dice population variance: ', np.var(dice_output['Output']))"
   ]
  },
  {
   "cell_type": "markdown",
   "metadata": {},
   "source": [
    "The population variance (calculated earlier) is 3.0346. (very close to 2.037 and 2.736)From the above data we can observe, the mean of the sampling distribution of variance is closely equal to the population variance.\n",
    "\n",
    "#### Sampling distribution of sample variance: Chi-squared distribution\n",
    "\n",
    "From the dice output case study, we observed that if we can take a good amount of samples from the population, calculate the sample variance for each of  the samples and take the mean of all the sample variances calculated, we can closely estimate the population variance.\n",
    "\n",
    "> Unlike sampling distribution of mean, which is normally distributed irrespective of the underlying population, sampling distribution of variance depends on the population distribution.\n",
    "\n",
    "For a normally distributed population, Sampling distribution of sample variance\n",
    "\n",
    "$$ \\frac{(n-1)s^2}{\\sigma^2} $$\n",
    "\n",
    " has a chi square distribution with (n-1) degrees of freedom.\n",
    " \n",
    " Let us take samples of particular size from a normally distributed population, calculate the sample variance and plot \n",
    "\n",
    "File dice_norm.csv contains the 1000 outputs of a dice roll (six faced dice)."
   ]
  },
  {
   "cell_type": "code",
   "execution_count": 11,
   "metadata": {
    "ExecuteTime": {
     "end_time": "2020-04-03T08:58:12.769201Z",
     "start_time": "2020-04-03T08:58:12.612290Z"
    }
   },
   "outputs": [
    {
     "data": {
      "text/html": [
       "<div>\n",
       "<style scoped>\n",
       "    .dataframe tbody tr th:only-of-type {\n",
       "        vertical-align: middle;\n",
       "    }\n",
       "\n",
       "    .dataframe tbody tr th {\n",
       "        vertical-align: top;\n",
       "    }\n",
       "\n",
       "    .dataframe thead th {\n",
       "        text-align: right;\n",
       "    }\n",
       "</style>\n",
       "<table border=\"1\" class=\"dataframe\">\n",
       "  <thead>\n",
       "    <tr style=\"text-align: right;\">\n",
       "      <th></th>\n",
       "      <th>output</th>\n",
       "    </tr>\n",
       "  </thead>\n",
       "  <tbody>\n",
       "    <tr>\n",
       "      <th>0</th>\n",
       "      <td>3</td>\n",
       "    </tr>\n",
       "    <tr>\n",
       "      <th>1</th>\n",
       "      <td>4</td>\n",
       "    </tr>\n",
       "    <tr>\n",
       "      <th>2</th>\n",
       "      <td>3</td>\n",
       "    </tr>\n",
       "    <tr>\n",
       "      <th>3</th>\n",
       "      <td>4</td>\n",
       "    </tr>\n",
       "    <tr>\n",
       "      <th>4</th>\n",
       "      <td>3</td>\n",
       "    </tr>\n",
       "  </tbody>\n",
       "</table>\n",
       "</div>"
      ],
      "text/plain": [
       "   output\n",
       "0       3\n",
       "1       4\n",
       "2       3\n",
       "3       4\n",
       "4       3"
      ]
     },
     "execution_count": 11,
     "metadata": {},
     "output_type": "execute_result"
    }
   ],
   "source": [
    "dice_output_norm = pd.read_csv('data/dice_norm.csv')\n",
    "dice_output_norm.head()"
   ]
  },
  {
   "cell_type": "code",
   "execution_count": 13,
   "metadata": {
    "ExecuteTime": {
     "end_time": "2020-04-03T08:58:47.742155Z",
     "start_time": "2020-04-03T08:58:42.663066Z"
    }
   },
   "outputs": [
    {
     "data": {
      "image/png": "[encoded data removed]",
      "text/plain": [
       "<Figure size 432x288 with 1 Axes>"
      ]
     },
     "metadata": {},
     "output_type": "display_data"
    }
   ],
   "source": [
    "sns.countplot(data = dice_output_norm, x = 'output', color = 'b');"
   ]
  },
  {
   "cell_type": "code",
   "execution_count": 14,
   "metadata": {
    "ExecuteTime": {
     "end_time": "2020-04-03T09:02:15.429115Z",
     "start_time": "2020-04-03T09:02:15.382141Z"
    }
   },
   "outputs": [
    {
     "name": "stdout",
     "output_type": "stream",
     "text": [
      "Dice output population mean:  2.943\n",
      "Dice output population variance:  1.5753263263263295\n",
      "Dice output population standard deviation:  1.255120044587899\n"
     ]
    }
   ],
   "source": [
    "dice_output_population_mean = dice_output_norm.output.mean()\n",
    "print('Dice output population mean: ', dice_output_norm.output.mean())\n",
    "dice_output_population_var = dice_output_norm.output.var()\n",
    "print('Dice output population variance: ', dice_output_norm.output.var())\n",
    "dice_output_population_std = dice_output_norm.output.std()\n",
    "print('Dice output population standard deviation: ', dice_output_norm.output.std())"
   ]
  },
  {
   "cell_type": "markdown",
   "metadata": {},
   "source": [
    "#### Selecting samples of sample size 3 from normally distributed population\n",
    "\n",
    "Let us consider these 1000 outputs of dice roll as our population. In this case, our population is normally distributed having the following attributes.\n",
    "\n",
    "Dice output population mean ($\\mu$):  2.943  \n",
    "Dice output population variance ($\\sigma^2$):  1.5753263263263295  \n",
    "Dice output population standard deviation ($\\sigma$):  1.255120044587899  \n",
    "\n",
    "Now let us pick up 1000 samples of sample size 3 from the population and for each sample, calculate the sample variance."
   ]
  },
  {
   "cell_type": "code",
   "execution_count": 15,
   "metadata": {
    "ExecuteTime": {
     "end_time": "2020-04-03T09:07:58.383543Z",
     "start_time": "2020-04-03T09:07:57.239199Z"
    }
   },
   "outputs": [
    {
     "name": "stdout",
     "output_type": "stream",
     "text": [
      "3 sampled df shape:  (3, 1000)\n"
     ]
    },
    {
     "data": {
      "text/plain": [
       "count    1000.000000\n",
       "mean        2.048444\n",
       "std         1.517814\n",
       "min         0.000000\n",
       "25%         0.666667\n",
       "50%         1.555556\n",
       "75%         2.888889\n",
       "max         5.555556\n",
       "dtype: float64"
      ]
     },
     "execution_count": 15,
     "metadata": {},
     "output_type": "execute_result"
    }
   ],
   "source": [
    "sample_norm_3 = []\n",
    "for i in range(1, 1001):\n",
    "    x = gensample(3).tolist()\n",
    "    sample_norm_3.append(x)\n",
    "    \n",
    "df_sample_norm_3 = pd.DataFrame(sample_norm_3).T\n",
    "print('3 sampled df shape: ',df_sample_norm_3.shape)\n",
    "\n",
    "sample_norm_var_3 = df_sample_norm_3.apply(np.var, axis = 0)\n",
    "sample_norm_var_3.describe()"
   ]
  },
  {
   "cell_type": "markdown",
   "metadata": {},
   "source": [
    "#### Plotting the sampling distribution of variance for n = 3\n",
    "\n",
    "We have picked up 1000 samples of size 3 from a population which is normally distributed and calculated sample variance ($s^2$) for each sample. Now let us calculate\n",
    "\n",
    "$$ \\frac{(n-1)s^2}{\\sigma^2}$$ \n",
    "\n",
    "and plot the distribution.\n",
    "\n",
    "As our sample size =3, we will plot the distribution for $(2*s^2 )/\\sigma^2$ \n",
    "\n",
    "[Scipy Gaussian KDE](https://docs.scipy.org/doc/scipy/reference/generated/scipy.stats.gaussian_kde.html)"
   ]
  },
  {
   "cell_type": "code",
   "execution_count": 16,
   "metadata": {
    "ExecuteTime": {
     "end_time": "2020-04-03T09:12:49.063934Z",
     "start_time": "2020-04-03T09:12:48.233409Z"
    }
   },
   "outputs": [],
   "source": [
    "# (2∗𝑠2)/𝜎2\n",
    "d_3 = (sample_norm_var_3*2)/dice_output_population_var\n",
    "from scipy.stats import gaussian_kde\n",
    "density_3 = gaussian_kde(d_3)"
   ]
  },
  {
   "cell_type": "code",
   "execution_count": 17,
   "metadata": {
    "ExecuteTime": {
     "end_time": "2020-04-03T09:20:15.619982Z",
     "start_time": "2020-04-03T09:20:11.390406Z"
    }
   },
   "outputs": [
    {
     "data": {
      "image/png": "[encoded data removed]",
      "text/plain": [
       "<Figure size 432x288 with 1 Axes>"
      ]
     },
     "metadata": {},
     "output_type": "display_data"
    }
   ],
   "source": [
    "xs = np.linspace(-1,13,100)\n",
    "plt.title('Sampling distribution of variance for n = 3')\n",
    "plt.plot(xs, density_3(xs))\n",
    "plt.show()"
   ]
  },
  {
   "cell_type": "markdown",
   "metadata": {},
   "source": [
    "1000 random numbers, following chi squared distribution with 2 degree of freedom are generated below using the Python function chi2.rvs(). The density plot of the numbers were plotted."
   ]
  },
  {
   "cell_type": "code",
   "execution_count": 18,
   "metadata": {
    "ExecuteTime": {
     "end_time": "2020-04-03T09:22:52.636984Z",
     "start_time": "2020-04-03T09:22:49.046042Z"
    }
   },
   "outputs": [
    {
     "data": {
      "image/png": "[encoded data removed]",
      "text/plain": [
       "<Figure size 432x288 with 1 Axes>"
      ]
     },
     "metadata": {},
     "output_type": "display_data"
    }
   ],
   "source": [
    "from scipy.stats import chi2\n",
    "y = chi2.rvs(2, size = 1000)  # sample size = 3 => degrees of freedom = 3-1=2\n",
    "density = gaussian_kde(y)\n",
    "xs = np.linspace(-1,15,100)\n",
    "plt.title('chi squared distribution for degrees of freedom = 2')\n",
    "plt.plot(xs, density(xs))\n",
    "plt.show()"
   ]
  },
  {
   "cell_type": "markdown",
   "metadata": {},
   "source": [
    "The similarity between the two plots confirms the fact that the entity \n",
    "$$ \\frac{(n-1)s^2}{\\sigma^2}$$ \n",
    "follows chi square distribution with n-1 degree of freedom."
   ]
  },
  {
   "cell_type": "markdown",
   "metadata": {},
   "source": [
    "#### Sampling distribution of variance\n",
    "\n",
    "As seen in the previous example, the quantity $$ \\frac{(n-1)s^2}{\\sigma^2}$$  has a chi-square distribution with (n-1) degrees of freedom, if the samples are taken from a population, which is normally distributed. Now let us understand some of the properties of chi-square distribution.\n",
    "\n",
    "![](4_chi.PNG)\n",
    "\n",
    "The figure shows 3 chi square distributions for 3 different degrees of freedom. We can observe the following properties.\n",
    "- Unlike normal distribution, chi square distribution is not symmetrical.\n",
    "- Chi square distribution does not have negative values and variance also can not take negative values. \n",
    "- As degree of freedom increases, chi square distribution becomes more and more symmetrical which can be observed from the figure.\n",
    "\n",
    "#### Confidence interval of population variance\n",
    "\n",
    "The confidence interval of population variance is calculated using the formula given below:\n",
    "\n",
    "![](4_ci_range.PNG)\n",
    "\n",
    "where,\n",
    "\n",
    "n = sample size  \n",
    "S2= sample variance\n",
    "\n",
    "We need to understand what does ${X_{higher}^2}$ and ${X_{lower}^2}$ mean.\n",
    "\n",
    "$$ \\frac{(n-1)s^2}{\\sigma^2}$$ \n",
    "\n",
    "follows chi square distribution having n-1 degrees of freedom. Therefore, ${X_{higher}^2}$ and ${X_{lower}^2}$ are two such points on the chi square distribution curve, which enclose certain amount of area, specified by the confidence level, under the sampling distribution of sample variance curve.\n",
    "\n",
    "The surveying agency has the following data:\n",
    "- The sample size n = 1120\n",
    "- The sample variance ($S^2$) = 5956.749 and needs to find out the critical chi square values.\n",
    "\n",
    "The sampling distribution of sample variance is a chi square distribution having n-1 degree of freedom. So in our case the sampling distribution of sample variance is a chi square distribution with 1119 degrees of freedom.\n",
    "\n",
    "As we are finding out the confidence interval for 95% confidence level, we need to find the critical chi square values ( $X_{0.025}^2$ and $X_{0.975}^2$ ) for the chi square distribution with 1119 degrees of freedom.\n",
    "\n",
    "We can use the Python function `chi2.ppf()` to find out the critical chi square values.\n",
    "\n"
   ]
  },
  {
   "cell_type": "code",
   "execution_count": 19,
   "metadata": {
    "ExecuteTime": {
     "end_time": "2020-04-03T09:46:45.974466Z",
     "start_time": "2020-04-03T09:46:45.834547Z"
    }
   },
   "outputs": [
    {
     "name": "stdout",
     "output_type": "stream",
     "text": [
      "X2 lower in chi-square distribution:  1028.1875916168472\n",
      "X2 higher in chi-square distribution:  1213.6005329722962\n"
     ]
    }
   ],
   "source": [
    "from scipy.stats import chi2\n",
    "print('X2 lower in chi-square distribution: ', chi2.ppf(0.025, 1119))\n",
    "print('X2 higher in chi-square distribution: ', chi2.ppf(0.975, 1119))"
   ]
  },
  {
   "cell_type": "markdown",
   "metadata": {},
   "source": [
    "![](4_chi22.PNG)\n",
    "\n",
    "#### Confidence interval of population standard deviation\n",
    "\n",
    "Since standard deviation is square root of variance, the confidence interval for population standard deviation (σ) can be found by taking square root of variance.\n",
    "\n",
    "Thus, the confidence interval for population standard deviation (σ) is\n",
    "\n",
    "![](4_chi223.PNG)\n",
    "\n",
    "### Solution to challenge 3.2: \n",
    "\n",
    "The agency has successfully estimated the population variance and standard deviation. \n",
    "\n",
    "- The __point estimate__ of __population variance__ and __standard deviation__ was found to be 5956.749 and 77.1799 respectively \n",
    "- The confidence interval of __population variance__ was found to be (5492.416, 6482.863)\n",
    "- The confidence interval of __population standard deviation__ was found to be (74.11, 80.51)\n",
    "\n",
    "__Based on the estimation of surveying agency, the mean performance of primary school students in the country is estimated to be somewhere between 68% to 69.5% with a deviation of 12.3% to 13.3%. __"
   ]
  }
 ],
 "metadata": {
  "kernelspec": {
   "display_name": "Python 3",
   "language": "python",
   "name": "python3"
  },
  "language_info": {
   "codemirror_mode": {
    "name": "ipython",
    "version": 3
   },
   "file_extension": ".py",
   "mimetype": "text/x-python",
   "name": "python",
   "nbconvert_exporter": "python",
   "pygments_lexer": "ipython3",
   "version": "3.7.6"
  }
 },
 "nbformat": 4,
 "nbformat_minor": 4
}
