{
 "cells": [
  {
   "cell_type": "code",
   "execution_count": 2,
   "metadata": {
    "ExecuteTime": {
     "end_time": "2020-04-03T05:01:23.355115Z",
     "start_time": "2020-04-03T05:01:23.341122Z"
    }
   },
   "outputs": [],
   "source": [
    "import numpy as np \n",
    "import pandas as pd \n",
    "import matplotlib.pyplot as plt\n",
    "import seaborn as sns\n",
    "%matplotlib inline\n",
    "sns.set()\n",
    "from scipy.stats import norm"
   ]
  },
  {
   "cell_type": "markdown",
   "metadata": {},
   "source": [
    "## Confidence interval of population mean"
   ]
  },
  {
   "cell_type": "markdown",
   "metadata": {},
   "source": [
    "Now that the surveying agency has plotted the sampling distribution of mean, the next task is to find the confidence interval of population mean with 95% confidence level. \n",
    "\n",
    "The sampling distribution of mean is normally distributed as the agency is dealing with a much larger sample size.\n",
    "\n",
    "Let us see how the agency locates two points (p1,p2) on the sampling distribution curve, such that 95% of the total area within the curve is enclosed. The same is shown in the diagram below.   \n",
    "\n",
    "![](4_ci.PNG)\n",
    "\n",
    "We can see that:\n",
    "- Point p1 encloses 2.5% of the total area under the curve to its left\n",
    "- Point p2 encloses 95+2.5 = 97.5% of the total area under the curve to its left. \n"
   ]
  },
  {
   "cell_type": "code",
   "execution_count": 3,
   "metadata": {
    "ExecuteTime": {
     "end_time": "2020-04-03T05:05:55.244274Z",
     "start_time": "2020-04-03T05:05:55.108353Z"
    }
   },
   "outputs": [
    {
     "data": {
      "text/plain": [
       "-1.9599639845400545"
      ]
     },
     "execution_count": 3,
     "metadata": {},
     "output_type": "execute_result"
    }
   ],
   "source": [
    "p1 = norm.ppf(0.025)\n",
    "p1"
   ]
  },
  {
   "cell_type": "code",
   "execution_count": 4,
   "metadata": {
    "ExecuteTime": {
     "end_time": "2020-04-03T05:06:11.822775Z",
     "start_time": "2020-04-03T05:06:11.814777Z"
    }
   },
   "outputs": [
    {
     "data": {
      "text/plain": [
       "1.959963984540054"
      ]
     },
     "execution_count": 4,
     "metadata": {},
     "output_type": "execute_result"
    }
   ],
   "source": [
    "p2 = norm.ppf(0.975)\n",
    "p2"
   ]
  },
  {
   "cell_type": "markdown",
   "metadata": {},
   "source": [
    "The output of the `norm.ppf()` function suggests that:\n",
    "\n",
    "| Point | Position                                          |\n",
    "|-------|---------------------------------------------------|\n",
    "| p1    | 1.96 std deviations away to the left of the mean  |\n",
    "| p2    | 1.96 std deviations away to the right of the mean |\n",
    "\n",
    "The agency has already estimated the mean and standard error of sampling distribution of mean. Thus, point p1 and p2 can be found out as shown below.\n",
    "\n",
    "![](4_ci2.PNG)\n",
    "\n",
    "Thus, the surveying agency has successfully found the confidence interval of population mean to be (408.755, 417.795).\n",
    "\n",
    "__Solution to Challenge 3.1:__ The surveying agency has estimated the population mean i.e. mean mark scored in the surprise test if all the students from the country had appeared the test. \n",
    "- The point estimate of population mean was found to be 413.2759.\n",
    "- The Confidence interval was found to be (408.755,417.795). \n",
    "\n",
    "### Confidence interval of population mean: Small sample\n",
    "\n",
    "As discussed earlier, if the sample size is less than 30 and population standard deviation is unknown, sampling distribution of mean has a t distribution with n-1 degrees of freedom.\n",
    "\n",
    "Thus, while dealing with small samples (n <30) , if the population standard deviation is unknown, the formula for confidence interval is given by:\n",
    "\n",
    "$$ CI_of_population_mean = \\bar{X}  \\pm t_{critical}*\\frac{s}{\\sqrt{n}}$$\n",
    "\n",
    "Here $t_{critical}$ is the critical t value based upon the confidence level. \n",
    "\n",
    "As we have used `norm.ppf()` function to find the critical Z value, we can use the Python function `t.ppf()` to find the critical t value. \n",
    "\n",
    "### Confidence interval of population mean: Large sample\n",
    "\n",
    "We have seen how the surveying agency has calculated the confidence interval of population mean by analyzing a sample of 1120 students and without the knowledge of population parameters. We can summarize the formula for finding the confidence interval of population mean as shown below.\n",
    "\n",
    "While dealing with large sample (n >=30), the formula for calculating the confidence interval of population mean , when the population standard deviation is __unknown__ is given by:\n",
    "\n",
    "$$ CI_of_population_mean = \\bar{X}  \\pm Z_{critical}*\\frac{s}{\\sqrt{n}}$$\n",
    "\n",
    "where $\\bar{X}$  is the sample mean.  \n",
    "$Z_{critical}$ is the critical Z value for the specified confidence level.  \n",
    "s is the sample standard deviation  \n",
    "n is the sample size.  \n",
    "\n",
    "\n",
    "While dealing with large samples (n >=30), the formula for calculating the confidence interval of mean, when the population standard deviation is known  is given by:\n",
    "\n",
    "$$ CI_of_population_mean = \\bar{X}  \\pm Z_{critical}*\\frac{\\sigma}{\\sqrt{n}}$$\n",
    "\n",
    "where,\n",
    "$\\sigma$ is the sample standard deviation  \n",
    "\n",
    "The table below gives the formula for confidence interval of mean for all possible conditions. \n",
    "\n",
    "![](4_ci3.PNG)\n",
    "\n",
    "## Point estimate of population variance\n",
    "\n",
    "### Challenge 3.2: Estimating population variance\n",
    "After estimating population mean, the surveying agency has to estimate the population variance and standard deviation. The task before the agency is to find out:\n",
    "\n",
    "- Point estimate of population variance \n",
    "- Confidence interval of population variance with 95% confidence level\n",
    "- Confidence interval of population standard deviation with 95% confidence level\n",
    "\n",
    "To find point estimate of population variance, the agency needs to:\n",
    "- find the maximum likelihood estimator of population variance. \n",
    "- verify whether the estimator is  unbiased in nature. \n",
    "\n",
    "The agency starts its estimation by finding the maximum likelihood estimator of population variance in the same way it found the maximum likelihood estimator of population mean.\n",
    "\n",
    "The agency takes the likelihood function for normally distributed data into consideration and finds out the condition under which the likelihood function attains maximum value. It finds the value of population variance (σ2) under that condition, treating μ as a constant.\n",
    "\n",
    "This value is called maximum likelihood estimate of population variance. \n",
    "\n",
    "By doing so, the agency finds the maximum likelihood estimate of the population variance to be\n",
    "\n",
    "$$ \\frac{1}{n}\\sum_{i=1}^n(X_i - \\bar(X))^2 $$\n",
    "\n",
    "where  \n",
    "n-  sample size  \n",
    "$\\bar(X)$ - sample mean\n",
    "\n",
    "The next task before the agency is to verify whether this estimator is unbiased in nature or not. The same can be verified by finding the expected value of the above quantity and checking whether it is equal to the population variance $\\sigma^2$\n",
    "\n",
    "#### Unbiased estimator of population variance\n",
    "\n",
    "![](4_var.PNG)\n",
    "\n",
    "![](4_var2.PNG)\n",
    "\n",
    "Thus the surveying agency concludes that __maximum likelihood estimator of population variance is a biased estimator__.\n",
    "\n",
    "The unbiased estimator of the population variance is calculated by introducing the error factor (n-1)/n in the maximum likelihood estimate of population variance and is found to be\n",
    "\n",
    "$$ \\frac{1}{n-1}\\sum_{i=1}^n(X_i - \\bar(X))^2 $$\n",
    "\n",
    "This is the formula for calculating __sample variance__.\n",
    "\n",
    "Hence, the agency concludes that sample variance s^2 calculated using the formula:\n",
    "\n",
    "$$ \\frac{1}{n-1}\\sum_{i=1}^n(X_i - \\bar(X))^2 $$\n",
    "\n",
    " is the unbiased estimator of the population variance and hence can be used as a point estimator.\n",
    "\n",
    "The __sample variance__ was calculated by the agency and was found to be __5956.749__, which is used to estimate the population variance. \n",
    "\n",
    "After finding the point estimate of population variance, the surveying agency finds the interval estimate or the confidence interval of population variance.\n",
    "\n"
   ]
  },
  {
   "cell_type": "markdown",
   "metadata": {},
   "source": [
    "#### Interval estimate of population variance\n",
    "\n",
    "The surveying agency aims to find the confidence interval of the population variance with 95% confidence level.\n",
    "\n",
    "Confidence interval of population variance with 95% confidence level can be calculated by locating two points on the sampling distribution of variance curve, that enclose 95% of the total area under the curve. \n",
    "\n",
    "Thus, the surveying agency has to plot the sampling distribution of variance. Let's understand some properties of sampling distribution of sample variance.\n",
    "\n",
    "Recollect the formula for calculating the sample variance and population variance.\n",
    "\n",
    "The population variance represented as $\\sigma^2$ is given by:\n",
    "\n",
    "$$ \\sigma^2 = \\frac{1}{n}\\sum_{i=1}^n(X_i - \\mu)^2 $$\n",
    "\n",
    "The sample variance represented as s2 is given by:\n",
    "\n",
    "$$ s^2 = \\frac{1}{n-1}\\sum_{i=1}^n(X_i - \\bar(X))^2 $$\n",
    "\n",
    "where  \n",
    "N - Population size  \n",
    "$\\mu$ - Population mean    \n",
    "n - Sample size  \n",
    "$\\bar(X)$ - Sample mean\n",
    "\n",
    "From a population of size N, if we take multiple samples of size n, calculate and plot the sample variances for each sample, the resulting distribution will be called as sampling distribution of sample variance for sample size n.\n",
    "\n",
    "### Properties of sampling distribution of sample variance"
   ]
  },
  {
   "cell_type": "markdown",
   "metadata": {},
   "source": [
    "Sampling distribution of sample variance has the following properties:\n",
    "- Mean of the sampling distribution of sample variance is equals to the population variance.\n",
    "- If the population distribution is normal, then\n",
    "    $$\\frac{(n-1)s^2}{\\sigma^2} $$\n",
    "    \n",
    "  has a chi square distribution with n-1 degrees of freedom where n= sample size, $s^2$ = sample variance and $\\sigma^2$=population variance.\n",
    "    \n",
    "- As ratio of two chi square distributions has F distribution, the ratio of sample variances of two independent samples, drawn from normal populations has  F distribution with $n_1$-1 and $n_2$-1 degrees of freedom where $n_1$ and $n_2$ represent the respective sample sizes.  \n",
    "\n",
    "Let us use the dice output data, used in sampling distribution of mean section to understand the properties of sampling distribution of sample variance.\n",
    "\n"
   ]
  },
  {
   "cell_type": "code",
   "execution_count": null,
   "metadata": {},
   "outputs": [],
   "source": []
  },
  {
   "cell_type": "code",
   "execution_count": null,
   "metadata": {},
   "outputs": [],
   "source": []
  }
 ],
 "metadata": {
  "kernelspec": {
   "display_name": "Python 3",
   "language": "python",
   "name": "python3"
  },
  "language_info": {
   "codemirror_mode": {
    "name": "ipython",
    "version": 3
   },
   "file_extension": ".py",
   "mimetype": "text/x-python",
   "name": "python",
   "nbconvert_exporter": "python",
   "pygments_lexer": "ipython3",
   "version": "3.7.6"
  }
 },
 "nbformat": 4,
 "nbformat_minor": 4
}
