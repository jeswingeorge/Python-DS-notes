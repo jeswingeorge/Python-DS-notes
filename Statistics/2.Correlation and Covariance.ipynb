{
 "cells": [
  {
   "cell_type": "markdown",
   "metadata": {},
   "source": [
    "# Correlation and Covariance\n"
   ]
  },
  {
   "cell_type": "markdown",
   "metadata": {},
   "source": [
    " __Covariance__ indicates the direction of the linear relationship between variables. \n",
    " \n",
    " __Correlation__ on the other hand measures both the strength and direction of the linear relationship between two variables. Correlation is a function of the covariance. \n",
    " \n",
    "What sets them apart is the fact that correlation values are standardized whereas, covariance values are not. You can obtain the correlation coefficient of two variables by dividing the covariance of these variables by the product of the standard deviations of the same values. \n",
    "\n",
    "## Covariance Cov\n",
    "\n",
    "### [Numerical definition of  Cov(X,Y)](https://online.stat.psu.edu/stat414/node/109/)\n",
    "\n",
    "Reference: \n",
    "1. [covariance_correlation](https://www.probabilitycourse.com/chapter5/5_3_1_covariance_correlation.php)\n",
    "2. [expectation-and-variance](https://revisionmaths.com/advanced-level-maths-revision/statistics/expectation-and-variance)\n",
    "\n",
    "The covariance of two variables (X and Y) can be represented as Cov(X,Y) or $\\sigma_{XY}$.\n",
    "\n",
    "![](Images/2.cov_and_corr/1.PNG)\n",
    "\n",
    "If we look at a single variable, say Y, cov(Y,Y), the expression can be written in the following way:\n",
    "\n",
    "![](Images/2.cov_and_corr/2.PNG)\n",
    "\n",
    "Now as we see, in the image above, $S^2$ or sample variance is basically the covariance of a variable with itself. This term can also be defined in the following manner:\n",
    "\n",
    "The use of the mean in the calculation suggests the need for each data sample to have a Gaussian or Gaussian-like distribution.\n",
    "\n",
    "![](Images/2.cov_and_corr/prop.PNG)\n",
    "\n",
    "\n",
    "The sign of the covariance can be interpreted as whether the two variables change in the same direction (positive) or change in different directions (negative). The magnitude of the covariance is not easily interpreted. A covariance value of zero indicates that both variables are completely independent.\n",
    "\n",
    "![](Images/2.cov_and_corr/3.PNG)\n",
    "\n",
    "***\n",
    "\n",
    "## Correlation\n",
    "\n",
    "### Numerical definition of correlation\n",
    "\n",
    "The correlation coefficient is also known as the Pearson product-moment correlation coefficient, or Pearson’s correlation coefficient. As mentioned earlier, it is obtained by dividing the covariance of the two variables by the product of their standard deviations. The mathematical representation of the same can be shown in the following manner:\n",
    "\n",
    "IMG 4\n",
    "\n",
    "The values of the correlation coefficient can range from -1 to +1. The closer it is to +1 or -1, the more closely are the two variables are related. The positive sign signifies the direction of the correlation i.e. if one of the variables increases, the other variable is also supposed to increase.\n",
    "\n",
    "\n",
    "Correlation can also be neural or zero, meaning that the variables are unrelated.\n",
    "- __Positive Correlation:__ both variables change in the same direction.\n",
    "- __Neutral Correlation:__ No relationship in the change of the variables.\n",
    "- __Negative Correlation:__ variables change in opposite directions."
   ]
  },
  {
   "cell_type": "markdown",
   "metadata": {},
   "source": [
    "Absolute value of correlation coefficient denotes the strength of the relationship."
   ]
  },
  {
   "cell_type": "code",
   "execution_count": 1,
   "metadata": {
    "ExecuteTime": {
     "end_time": "2020-04-10T10:49:20.188584Z",
     "start_time": "2020-04-10T10:49:02.763226Z"
    }
   },
   "outputs": [],
   "source": [
    "import numpy as np \n",
    "import pandas as pd \n",
    "import matplotlib.pyplot as plt\n",
    "import seaborn as sns\n",
    "%matplotlib inline\n",
    "sns.set()"
   ]
  },
  {
   "cell_type": "markdown",
   "metadata": {},
   "source": [
    "## Creating a Dataset "
   ]
  },
  {
   "cell_type": "code",
   "execution_count": 2,
   "metadata": {
    "ExecuteTime": {
     "end_time": "2020-04-10T10:49:20.223516Z",
     "start_time": "2020-04-10T10:49:20.197531Z"
    }
   },
   "outputs": [],
   "source": [
    "np.random.seed(1) # seed random number generator\n",
    "# prepare data\n",
    "data1 = 20 * np.random.randn(1000) + 100\n",
    "data2 = data1 + (10 * np.random.randn(1000) + 50)"
   ]
  },
  {
   "cell_type": "code",
   "execution_count": 3,
   "metadata": {
    "ExecuteTime": {
     "end_time": "2020-04-10T10:49:20.423283Z",
     "start_time": "2020-04-10T10:49:20.237516Z"
    }
   },
   "outputs": [
    {
     "name": "stdout",
     "output_type": "stream",
     "text": [
      "data1: mean=100.776 stdv=19.620\n",
      "data2: mean=151.050 stdv=22.358\n"
     ]
    }
   ],
   "source": [
    "# summarize\n",
    "print('data1: mean=%.3f stdv=%.3f' % (np.mean(data1), np.std(data1)))\n",
    "print('data2: mean=%.3f stdv=%.3f' % (np.mean(data2), np.std(data2)))"
   ]
  },
  {
   "cell_type": "code",
   "execution_count": 4,
   "metadata": {
    "ExecuteTime": {
     "end_time": "2020-04-10T10:49:21.099589Z",
     "start_time": "2020-04-10T10:49:20.436272Z"
    }
   },
   "outputs": [
    {
     "data": {
      "image/png": "[encoded data removed]",
      "text/plain": [
       "<Figure size 432x288 with 1 Axes>"
      ]
     },
     "metadata": {},
     "output_type": "display_data"
    }
   ],
   "source": [
    "plt.scatter(data1, data2);\n",
    "plt.xlabel('data1');\n",
    "plt.ylabel('data2');"
   ]
  },
  {
   "cell_type": "markdown",
   "metadata": {},
   "source": [
    "### Calculating covariance between two variables X and Y\n",
    "The cov() NumPy function can be used to calculate a covariance matrix between two or more variables.\n",
    "\n"
   ]
  },
  {
   "cell_type": "code",
   "execution_count": 5,
   "metadata": {
    "ExecuteTime": {
     "end_time": "2020-04-10T10:49:21.110585Z",
     "start_time": "2020-04-10T10:49:21.103588Z"
    }
   },
   "outputs": [
    {
     "name": "stdout",
     "output_type": "stream",
     "text": [
      "Covariance between data1 and data2: \n",
      "[[385.33297729 389.7545618 ]\n",
      " [389.7545618  500.38006058]]\n"
     ]
    }
   ],
   "source": [
    "covariance = np.cov(data1, data2)\n",
    "print(\"Covariance between data1 and data2: \")\n",
    "print(covariance)"
   ]
  },
  {
   "cell_type": "markdown",
   "metadata": {},
   "source": [
    "Because the dataset was contrived with each variable drawn from a Gaussian distribution and the variables linearly correlated, covariance is a reasonable method for describing the relationship.\n",
    "\n",
    "The covariance between the two variables is 389.75. We can see that it is positive, suggesting the variables change in the same direction as we expect.\n",
    "\n",
    "The covariance and covariance matrix are used widely within statistics and multivariate analysis to characterize the relationships between two or more variables.\n",
    "\n",
    "A problem with covariance as a statistical tool alone is that it is challenging to interpret. This leads us to the Pearson’s correlation coefficient next.\n",
    "\n",
    "## Pearson’s Correlation $\\rho$\n",
    "\n",
    "> The Pearson correlation coefficient (named for Karl Pearson) can be used to summarize the strength of the linear relationship between two data samples.\n",
    "\n",
    "The Pearson’s correlation coefficient is calculated as the covariance of the two variables divided by the product of the standard deviation of each data sample. It is the normalization of the covariance between the two variables to give an interpretable score.\n",
    "\n",
    "$$ \\rho = \\frac{covariance(X)(Y)}{(std(X)*std(Y))} $$\n",
    "\n",
    "The use of mean and standard deviation in the calculation suggests the need for the two data samples to have a Gaussian or Gaussian-like distribution.\n",
    "\n",
    "The coefficient returns a value between -1 and 1 that represents the limits of correlation from a full negative correlation to a full positive correlation. A value of 0 means no correlation. The value must be interpreted, where often a value below -0.5 or above 0.5 indicates a notable correlation, and values below those values suggests a less notable correlation.\n",
    "\n",
    "> The [pearsonr() SciPy](https://docs.scipy.org/doc/scipy/reference/generated/scipy.stats.pearsonr.html) function can be used to calculate the Pearson’s correlation coefficient between two data samples with the same length."
   ]
  },
  {
   "cell_type": "code",
   "execution_count": 6,
   "metadata": {
    "ExecuteTime": {
     "end_time": "2020-04-10T10:49:21.324867Z",
     "start_time": "2020-04-10T10:49:21.113585Z"
    }
   },
   "outputs": [],
   "source": [
    "from scipy.stats import pearsonr"
   ]
  },
  {
   "cell_type": "code",
   "execution_count": 7,
   "metadata": {
    "ExecuteTime": {
     "end_time": "2020-04-10T10:49:21.493951Z",
     "start_time": "2020-04-10T10:49:21.327817Z"
    }
   },
   "outputs": [
    {
     "name": "stdout",
     "output_type": "stream",
     "text": [
      "Pearsons correlation: 0.888\n"
     ]
    }
   ],
   "source": [
    "corr,_ = pearsonr(data1, data2)\n",
    "print('Pearsons correlation: %.3f' % corr)"
   ]
  },
  {
   "cell_type": "markdown",
   "metadata": {},
   "source": [
    "The Pearson’s correlation coefficient can be used to evaluate the relationship between more than two variables.\n",
    "\n",
    "This can be done by calculating a matrix of the relationships between each pair of variables in the dataset. The result is a symmetric matrix called a correlation matrix with a value of 1.0 along the diagonal as each column always perfectly correlates with itself.\n",
    "\n",
    "***\n",
    "\n",
    "### Spearman’s Correlation\n",
    "Can be used in those cases where the data need not have a gaussian distribution.\n",
    "\n",
    "Two variables may be related by a nonlinear relationship, such that the relationship is stronger or weaker across the distribution of the variables. Further, the two variables being considered may have a non-Gaussian distribution.\n",
    "\n",
    "In this case, the Spearman’s correlation coefficient can be used to summarize the strength between the two data samples. This test of relationship can also be used if there is a linear relationship between the variables, but will have slightly less power (e.g. may result in lower coefficient scores).\n",
    "\n",
    "Instead of calculating the coefficient using covariance and standard deviations on the samples themselves, these statistics are calculated from the relative rank of values on each sample. __This is a common approach used in non-parametric statistics, e.g. statistical methods where we do not assume a distribution of the data such as Gaussian.__\n",
    "\n",
    "                \n",
    " Spearmans correlation $$ = \\frac{covariance(rank(X), rank(Y))}{std(X)*std(Y)} $$\n",
    " \n",
    " A linear relationship between the variables is not assumed, although a monotonic relationship is assumed. \n",
    " \n",
    " __This is a mathematical name for an increasing or decreasing relationship between the two variables.__\n",
    " \n",
    "> If you are unsure of the distribution and possible relationships between two variables, Spearman correlation coefficient is a good tool to use.\n",
    "\n",
    "The [spearmanr() SciPy](https://docs.scipy.org/doc/scipy/reference/generated/scipy.stats.spearmanr.html) function can be used to calculate the Spearman’s correlation coefficient between two data samples with the same length.\n",
    "\n"
   ]
  },
  {
   "cell_type": "code",
   "execution_count": 8,
   "metadata": {
    "ExecuteTime": {
     "end_time": "2020-04-10T10:49:21.592154Z",
     "start_time": "2020-04-10T10:49:21.508942Z"
    }
   },
   "outputs": [
    {
     "name": "stdout",
     "output_type": "stream",
     "text": [
      "Spearmans correlation: 0.872\n"
     ]
    }
   ],
   "source": [
    "from scipy.stats import spearmanr\n",
    "# calculate spearman's correlation\n",
    "corr, _ = spearmanr(data1, data2)\n",
    "print('Spearmans correlation: %.3f' % corr)"
   ]
  },
  {
   "cell_type": "markdown",
   "metadata": {},
   "source": [
    "We know that the data is Gaussian and that the relationship between the variables is linear. Nevertheless, the nonparametric rank-based approach shows a strong correlation between the variables of 0.8."
   ]
  },
  {
   "cell_type": "code",
   "execution_count": 9,
   "metadata": {
    "ExecuteTime": {
     "end_time": "2020-04-10T10:49:21.774050Z",
     "start_time": "2020-04-10T10:49:21.596155Z"
    }
   },
   "outputs": [
    {
     "name": "stdout",
     "output_type": "stream",
     "text": [
      "Spearmans correlation: 1.000\n"
     ]
    }
   ],
   "source": [
    "data3 = np.random.randint(1,1000,500)\n",
    "data4 = data3**2 + data3\n",
    "corr, _ = spearmanr(data3, data4)\n",
    "print('Spearmans correlation: %.3f' % corr)"
   ]
  },
  {
   "cell_type": "markdown",
   "metadata": {},
   "source": [
    "## To find correlation between categorical and continuous variables\n",
    "\n",
    "Reference: \n",
    "\n",
    "1. [Using Python to Find Correlation Between Categorical and Continuous Variables](https://dzone.com/articles/correlation-between-categorical-and-continuous-var-1) \n",
    "\n",
    "### Case 1: When an Independent nominal categorical Variable Only Has Two Values\n",
    "\n",
    "#### [Point Biserial Correlation](https://www.statisticssolutions.com/point-biserial-correlation/)\n",
    "The Point-Biserial Correlation Coefficient is a correlation measure of the strength of association between a continuous-level variable (ratio or interval data) and a binary variable.  Binary variables are variables of nominal scale with only two values.  They are also called dichotomous variables or dummy variables in Regression Analysis.\n",
    "\n",
    "[SciPy has a point biserial correlation function called pointbiserialr](https://docs.scipy.org/doc/scipy-0.14.0/reference/generated/scipy.stats.pointbiserialr.html): The point biserial correlation is used to measure the relationship between a binary variable, x, and a continuous variable, y. \n",
    "\n",
    "Also,  \n",
    "If a categorical variable only has two values (i.e. true/false), then we can convert it into a numeric datatype (0 and 1). Since it becomes a numeric variable, we can find out the correlation using the `dataframe.corr()` function or `np.corrcoef(binary_vector, continuous_vetor)`.\n",
    "\n",
    "Let's create a dataframe which will consist of two columns: __Employee Type (EmpType)__ and __Salary__.\n",
    "\n",
    "Purposely, we will assign more salary to EmpType1. This way we will get some correlation between __EmpType__ and __Salary__.\n",
    "\n",
    "Create a dataframe with the following properties:\n",
    "- Mean (average) salary of __EmpType1__ is 60 with a standard deviation of five.\n",
    "- Mean (average) salary of __EmpType2__ is 50 with a standard deviation of five."
   ]
  },
  {
   "cell_type": "code",
   "execution_count": 26,
   "metadata": {
    "ExecuteTime": {
     "end_time": "2020-04-10T11:00:24.668967Z",
     "start_time": "2020-04-10T11:00:24.655977Z"
    }
   },
   "outputs": [],
   "source": [
    "num1 = data1\n",
    "df1 = pd.DataFrame(num1, columns = ['Points'])\n",
    "df1['Type'] = 'EmpType1'\n",
    "\n",
    "num2 = data2\n",
    "df2 = pd.DataFrame(num1, columns = ['Points'])\n",
    "df2['Type'] = 'EmpType2'\n",
    "\n",
    "df=pd.concat([df1,df2],axis=0)"
   ]
  },
  {
   "cell_type": "code",
   "execution_count": 27,
   "metadata": {
    "ExecuteTime": {
     "end_time": "2020-04-10T11:00:28.137567Z",
     "start_time": "2020-04-10T11:00:28.131566Z"
    }
   },
   "outputs": [
    {
     "data": {
      "text/plain": [
       "(2000, 2)"
      ]
     },
     "execution_count": 27,
     "metadata": {},
     "output_type": "execute_result"
    }
   ],
   "source": [
    "df.shape"
   ]
  },
  {
   "cell_type": "markdown",
   "metadata": {},
   "source": [
    "Since Categorical variable 'Type' has only 2 values we will convert it into numeric (0 and 1) datatype.\n"
   ]
  },
  {
   "cell_type": "code",
   "execution_count": 28,
   "metadata": {
    "ExecuteTime": {
     "end_time": "2020-04-10T11:00:30.049267Z",
     "start_time": "2020-04-10T11:00:30.032258Z"
    }
   },
   "outputs": [
    {
     "data": {
      "text/html": [
       "<div>\n",
       "<style scoped>\n",
       "    .dataframe tbody tr th:only-of-type {\n",
       "        vertical-align: middle;\n",
       "    }\n",
       "\n",
       "    .dataframe tbody tr th {\n",
       "        vertical-align: top;\n",
       "    }\n",
       "\n",
       "    .dataframe thead th {\n",
       "        text-align: right;\n",
       "    }\n",
       "</style>\n",
       "<table border=\"1\" class=\"dataframe\">\n",
       "  <thead>\n",
       "    <tr style=\"text-align: right;\">\n",
       "      <th></th>\n",
       "      <th>Points</th>\n",
       "      <th>Type</th>\n",
       "      <th>TypeInt</th>\n",
       "    </tr>\n",
       "  </thead>\n",
       "  <tbody>\n",
       "    <tr>\n",
       "      <th>0</th>\n",
       "      <td>132.486907</td>\n",
       "      <td>EmpType1</td>\n",
       "      <td>1</td>\n",
       "    </tr>\n",
       "    <tr>\n",
       "      <th>1</th>\n",
       "      <td>87.764872</td>\n",
       "      <td>EmpType1</td>\n",
       "      <td>1</td>\n",
       "    </tr>\n",
       "    <tr>\n",
       "      <th>2</th>\n",
       "      <td>89.436565</td>\n",
       "      <td>EmpType1</td>\n",
       "      <td>1</td>\n",
       "    </tr>\n",
       "    <tr>\n",
       "      <th>3</th>\n",
       "      <td>78.540628</td>\n",
       "      <td>EmpType1</td>\n",
       "      <td>1</td>\n",
       "    </tr>\n",
       "    <tr>\n",
       "      <th>4</th>\n",
       "      <td>117.308153</td>\n",
       "      <td>EmpType1</td>\n",
       "      <td>1</td>\n",
       "    </tr>\n",
       "  </tbody>\n",
       "</table>\n",
       "</div>"
      ],
      "text/plain": [
       "       Points      Type  TypeInt\n",
       "0  132.486907  EmpType1        1\n",
       "1   87.764872  EmpType1        1\n",
       "2   89.436565  EmpType1        1\n",
       "3   78.540628  EmpType1        1\n",
       "4  117.308153  EmpType1        1"
      ]
     },
     "execution_count": 28,
     "metadata": {},
     "output_type": "execute_result"
    }
   ],
   "source": [
    "df['TypeInt'] = (df['Type']=='EmpType1').astype('int')\n",
    "df.head()"
   ]
  },
  {
   "cell_type": "code",
   "execution_count": 29,
   "metadata": {
    "ExecuteTime": {
     "end_time": "2020-04-10T11:00:35.155090Z",
     "start_time": "2020-04-10T11:00:35.147082Z"
    }
   },
   "outputs": [
    {
     "data": {
      "text/plain": [
       "array([1, 0])"
      ]
     },
     "execution_count": 29,
     "metadata": {},
     "output_type": "execute_result"
    }
   ],
   "source": [
    "df['TypeInt'].unique()"
   ]
  },
  {
   "cell_type": "code",
   "execution_count": 30,
   "metadata": {
    "ExecuteTime": {
     "end_time": "2020-04-10T11:00:41.964174Z",
     "start_time": "2020-04-10T11:00:41.948167Z"
    }
   },
   "outputs": [
    {
     "data": {
      "text/html": [
       "<div>\n",
       "<style scoped>\n",
       "    .dataframe tbody tr th:only-of-type {\n",
       "        vertical-align: middle;\n",
       "    }\n",
       "\n",
       "    .dataframe tbody tr th {\n",
       "        vertical-align: top;\n",
       "    }\n",
       "\n",
       "    .dataframe thead th {\n",
       "        text-align: right;\n",
       "    }\n",
       "</style>\n",
       "<table border=\"1\" class=\"dataframe\">\n",
       "  <thead>\n",
       "    <tr style=\"text-align: right;\">\n",
       "      <th></th>\n",
       "      <th>Points</th>\n",
       "      <th>TypeInt</th>\n",
       "    </tr>\n",
       "  </thead>\n",
       "  <tbody>\n",
       "    <tr>\n",
       "      <th>Points</th>\n",
       "      <td>1.000000e+00</td>\n",
       "      <td>5.432261e-19</td>\n",
       "    </tr>\n",
       "    <tr>\n",
       "      <th>TypeInt</th>\n",
       "      <td>5.432261e-19</td>\n",
       "      <td>1.000000e+00</td>\n",
       "    </tr>\n",
       "  </tbody>\n",
       "</table>\n",
       "</div>"
      ],
      "text/plain": [
       "               Points       TypeInt\n",
       "Points   1.000000e+00  5.432261e-19\n",
       "TypeInt  5.432261e-19  1.000000e+00"
      ]
     },
     "execution_count": 30,
     "metadata": {},
     "output_type": "execute_result"
    }
   ],
   "source": [
    "df.corr()"
   ]
  },
  {
   "cell_type": "code",
   "execution_count": 32,
   "metadata": {
    "ExecuteTime": {
     "end_time": "2020-04-10T11:01:09.834575Z",
     "start_time": "2020-04-10T11:01:09.824581Z"
    }
   },
   "outputs": [
    {
     "data": {
      "text/plain": [
       "PointbiserialrResult(correlation=1.0408340855860843e-17, pvalue=0.9999999999955483)"
      ]
     },
     "execution_count": 32,
     "metadata": {},
     "output_type": "execute_result"
    }
   ],
   "source": [
    "from scipy.stats import pointbiserialr\n",
    "pointbiserialr(df['TypeInt'], df['Points'])"
   ]
  },
  {
   "cell_type": "code",
   "execution_count": 34,
   "metadata": {
    "ExecuteTime": {
     "end_time": "2020-04-10T11:01:19.960078Z",
     "start_time": "2020-04-10T11:01:19.950084Z"
    }
   },
   "outputs": [
    {
     "data": {
      "text/plain": [
       "array([[ 1.00000000e+00, -5.79441176e-18],\n",
       "       [-5.79441176e-18,  1.00000000e+00]])"
      ]
     },
     "execution_count": 34,
     "metadata": {},
     "output_type": "execute_result"
    }
   ],
   "source": [
    "np.corrcoef(df['TypeInt'], df['Points'])"
   ]
  },
  {
   "cell_type": "markdown",
   "metadata": {},
   "source": [
    "Another example"
   ]
  },
  {
   "cell_type": "code",
   "execution_count": 35,
   "metadata": {
    "ExecuteTime": {
     "end_time": "2020-04-10T11:03:50.590815Z",
     "start_time": "2020-04-10T11:03:50.517849Z"
    }
   },
   "outputs": [
    {
     "data": {
      "text/html": [
       "<div>\n",
       "<style scoped>\n",
       "    .dataframe tbody tr th:only-of-type {\n",
       "        vertical-align: middle;\n",
       "    }\n",
       "\n",
       "    .dataframe tbody tr th {\n",
       "        vertical-align: top;\n",
       "    }\n",
       "\n",
       "    .dataframe thead th {\n",
       "        text-align: right;\n",
       "    }\n",
       "</style>\n",
       "<table border=\"1\" class=\"dataframe\">\n",
       "  <thead>\n",
       "    <tr style=\"text-align: right;\">\n",
       "      <th></th>\n",
       "      <th>a</th>\n",
       "      <th>b</th>\n",
       "    </tr>\n",
       "  </thead>\n",
       "  <tbody>\n",
       "    <tr>\n",
       "      <th>0</th>\n",
       "      <td>0</td>\n",
       "      <td>0</td>\n",
       "    </tr>\n",
       "    <tr>\n",
       "      <th>1</th>\n",
       "      <td>0</td>\n",
       "      <td>1</td>\n",
       "    </tr>\n",
       "    <tr>\n",
       "      <th>2</th>\n",
       "      <td>0</td>\n",
       "      <td>2</td>\n",
       "    </tr>\n",
       "    <tr>\n",
       "      <th>3</th>\n",
       "      <td>1</td>\n",
       "      <td>3</td>\n",
       "    </tr>\n",
       "    <tr>\n",
       "      <th>4</th>\n",
       "      <td>1</td>\n",
       "      <td>4</td>\n",
       "    </tr>\n",
       "    <tr>\n",
       "      <th>5</th>\n",
       "      <td>1</td>\n",
       "      <td>5</td>\n",
       "    </tr>\n",
       "    <tr>\n",
       "      <th>6</th>\n",
       "      <td>1</td>\n",
       "      <td>6</td>\n",
       "    </tr>\n",
       "  </tbody>\n",
       "</table>\n",
       "</div>"
      ],
      "text/plain": [
       "   a  b\n",
       "0  0  0\n",
       "1  0  1\n",
       "2  0  2\n",
       "3  1  3\n",
       "4  1  4\n",
       "5  1  5\n",
       "6  1  6"
      ]
     },
     "execution_count": 35,
     "metadata": {},
     "output_type": "execute_result"
    }
   ],
   "source": [
    "temp = pd.DataFrame()\n",
    "temp['a'] = [0,0,0,1,1,1,1]\n",
    "temp['b'] = np.arange(7)\n",
    "temp"
   ]
  },
  {
   "cell_type": "code",
   "execution_count": 39,
   "metadata": {
    "ExecuteTime": {
     "end_time": "2020-04-10T11:05:25.232777Z",
     "start_time": "2020-04-10T11:05:25.216782Z"
    }
   },
   "outputs": [
    {
     "data": {
      "text/html": [
       "<div>\n",
       "<style scoped>\n",
       "    .dataframe tbody tr th:only-of-type {\n",
       "        vertical-align: middle;\n",
       "    }\n",
       "\n",
       "    .dataframe tbody tr th {\n",
       "        vertical-align: top;\n",
       "    }\n",
       "\n",
       "    .dataframe thead th {\n",
       "        text-align: right;\n",
       "    }\n",
       "</style>\n",
       "<table border=\"1\" class=\"dataframe\">\n",
       "  <thead>\n",
       "    <tr style=\"text-align: right;\">\n",
       "      <th></th>\n",
       "      <th>a</th>\n",
       "      <th>b</th>\n",
       "    </tr>\n",
       "  </thead>\n",
       "  <tbody>\n",
       "    <tr>\n",
       "      <th>a</th>\n",
       "      <td>1.000000</td>\n",
       "      <td>0.866025</td>\n",
       "    </tr>\n",
       "    <tr>\n",
       "      <th>b</th>\n",
       "      <td>0.866025</td>\n",
       "      <td>1.000000</td>\n",
       "    </tr>\n",
       "  </tbody>\n",
       "</table>\n",
       "</div>"
      ],
      "text/plain": [
       "          a         b\n",
       "a  1.000000  0.866025\n",
       "b  0.866025  1.000000"
      ]
     },
     "execution_count": 39,
     "metadata": {},
     "output_type": "execute_result"
    }
   ],
   "source": [
    "temp.corr()"
   ]
  },
  {
   "cell_type": "code",
   "execution_count": 40,
   "metadata": {
    "ExecuteTime": {
     "end_time": "2020-04-10T11:05:53.522430Z",
     "start_time": "2020-04-10T11:05:53.466430Z"
    }
   },
   "outputs": [
    {
     "data": {
      "text/plain": [
       "PointbiserialrResult(correlation=0.8660254037844386, pvalue=0.011724811003954649)"
      ]
     },
     "execution_count": 40,
     "metadata": {},
     "output_type": "execute_result"
    }
   ],
   "source": [
    "pointbiserialr(temp['a'], temp['b'])"
   ]
  },
  {
   "cell_type": "code",
   "execution_count": 41,
   "metadata": {
    "ExecuteTime": {
     "end_time": "2020-04-10T11:06:12.680234Z",
     "start_time": "2020-04-10T11:06:12.668253Z"
    }
   },
   "outputs": [
    {
     "data": {
      "text/plain": [
       "array([[1.       , 0.8660254],\n",
       "       [0.8660254, 1.       ]])"
      ]
     },
     "execution_count": 41,
     "metadata": {},
     "output_type": "execute_result"
    }
   ],
   "source": [
    "np.corrcoef(temp['a'], temp['b'])"
   ]
  },
  {
   "cell_type": "markdown",
   "metadata": {},
   "source": [
    "The correlation between a and b is 0.866. So we can determine it is correlated. \n",
    "\n",
    "***\n",
    "### Case 2: When Independent nominal categorical Variables Have More Than Two Values\n",
    "\n",
    "Use ANOVA"
   ]
  },
  {
   "cell_type": "code",
   "execution_count": 49,
   "metadata": {
    "ExecuteTime": {
     "end_time": "2020-04-10T12:49:24.622121Z",
     "start_time": "2020-04-10T12:49:24.602052Z"
    }
   },
   "outputs": [
    {
     "data": {
      "text/html": [
       "<div>\n",
       "<style scoped>\n",
       "    .dataframe tbody tr th:only-of-type {\n",
       "        vertical-align: middle;\n",
       "    }\n",
       "\n",
       "    .dataframe tbody tr th {\n",
       "        vertical-align: top;\n",
       "    }\n",
       "\n",
       "    .dataframe thead th {\n",
       "        text-align: right;\n",
       "    }\n",
       "</style>\n",
       "<table border=\"1\" class=\"dataframe\">\n",
       "  <thead>\n",
       "    <tr style=\"text-align: right;\">\n",
       "      <th></th>\n",
       "      <th>goals</th>\n",
       "      <th>player</th>\n",
       "    </tr>\n",
       "  </thead>\n",
       "  <tbody>\n",
       "    <tr>\n",
       "      <th>0</th>\n",
       "      <td>2</td>\n",
       "      <td>Messi</td>\n",
       "    </tr>\n",
       "    <tr>\n",
       "      <th>1</th>\n",
       "      <td>4</td>\n",
       "      <td>Messi</td>\n",
       "    </tr>\n",
       "    <tr>\n",
       "      <th>2</th>\n",
       "      <td>2</td>\n",
       "      <td>Messi</td>\n",
       "    </tr>\n",
       "    <tr>\n",
       "      <th>3</th>\n",
       "      <td>0</td>\n",
       "      <td>Messi</td>\n",
       "    </tr>\n",
       "    <tr>\n",
       "      <th>4</th>\n",
       "      <td>4</td>\n",
       "      <td>Messi</td>\n",
       "    </tr>\n",
       "  </tbody>\n",
       "</table>\n",
       "</div>"
      ],
      "text/plain": [
       "   goals player\n",
       "0      2  Messi\n",
       "1      4  Messi\n",
       "2      2  Messi\n",
       "3      0  Messi\n",
       "4      4  Messi"
      ]
     },
     "execution_count": 49,
     "metadata": {},
     "output_type": "execute_result"
    }
   ],
   "source": [
    "df1 = pd.DataFrame()\n",
    "df1['goals'] = np.random.randint(0,6,100)\n",
    "df1['player'] = ['Messi' for i in range(len(df1['goals']))]\n",
    "df1.head()"
   ]
  },
  {
   "cell_type": "code",
   "execution_count": 50,
   "metadata": {
    "ExecuteTime": {
     "end_time": "2020-04-10T12:49:40.437267Z",
     "start_time": "2020-04-10T12:49:40.317278Z"
    }
   },
   "outputs": [
    {
     "data": {
      "text/html": [
       "<div>\n",
       "<style scoped>\n",
       "    .dataframe tbody tr th:only-of-type {\n",
       "        vertical-align: middle;\n",
       "    }\n",
       "\n",
       "    .dataframe tbody tr th {\n",
       "        vertical-align: top;\n",
       "    }\n",
       "\n",
       "    .dataframe thead th {\n",
       "        text-align: right;\n",
       "    }\n",
       "</style>\n",
       "<table border=\"1\" class=\"dataframe\">\n",
       "  <thead>\n",
       "    <tr style=\"text-align: right;\">\n",
       "      <th></th>\n",
       "      <th>goals</th>\n",
       "      <th>player</th>\n",
       "    </tr>\n",
       "  </thead>\n",
       "  <tbody>\n",
       "    <tr>\n",
       "      <th>0</th>\n",
       "      <td>2</td>\n",
       "      <td>Messi</td>\n",
       "    </tr>\n",
       "    <tr>\n",
       "      <th>1</th>\n",
       "      <td>4</td>\n",
       "      <td>Messi</td>\n",
       "    </tr>\n",
       "    <tr>\n",
       "      <th>2</th>\n",
       "      <td>2</td>\n",
       "      <td>Messi</td>\n",
       "    </tr>\n",
       "    <tr>\n",
       "      <th>3</th>\n",
       "      <td>0</td>\n",
       "      <td>Messi</td>\n",
       "    </tr>\n",
       "    <tr>\n",
       "      <th>4</th>\n",
       "      <td>4</td>\n",
       "      <td>Messi</td>\n",
       "    </tr>\n",
       "  </tbody>\n",
       "</table>\n",
       "</div>"
      ],
      "text/plain": [
       "   goals player\n",
       "0      2  Messi\n",
       "1      4  Messi\n",
       "2      2  Messi\n",
       "3      0  Messi\n",
       "4      4  Messi"
      ]
     },
     "execution_count": 50,
     "metadata": {},
     "output_type": "execute_result"
    }
   ],
   "source": [
    "df2 = pd.DataFrame()\n",
    "df2['goals'] = np.random.randint(0,5,100)\n",
    "df2['player'] = ['Ronaldo' for i in range(len(df2['goals']))]\n",
    "df3 = pd.DataFrame()\n",
    "df3['goals'] = np.random.randint(0,3,100)\n",
    "df3['player'] = ['Neymar' for i in range(len(df3['goals']))]\n",
    "football = pd.concat([df1,df2,df3])\n",
    "del(df1,df2,df3)\n",
    "football.head()"
   ]
  },
  {
   "cell_type": "markdown",
   "metadata": {},
   "source": [
    "Method 1: "
   ]
  },
  {
   "cell_type": "code",
   "execution_count": 51,
   "metadata": {
    "ExecuteTime": {
     "end_time": "2020-04-10T12:50:04.085401Z",
     "start_time": "2020-04-10T12:50:03.478524Z"
    }
   },
   "outputs": [
    {
     "data": {
      "text/plain": [
       "F_onewayResult(statistic=34.56416588756199, pvalue=3.19729132540096e-14)"
      ]
     },
     "execution_count": 51,
     "metadata": {},
     "output_type": "execute_result"
    }
   ],
   "source": [
    "from scipy.stats import f_oneway\n",
    "result_anova = f_oneway(football.loc[football.player=='Messi', 'goals'],\n",
    "                       football.loc[football.player=='Ronaldo', 'goals'],\n",
    "                       football.loc[football.player=='Neymar', 'goals'])\n",
    "result_anova"
   ]
  },
  {
   "cell_type": "markdown",
   "metadata": {},
   "source": [
    "As p-value is less than 0.05 so we can reject the null hypothesis."
   ]
  },
  {
   "cell_type": "markdown",
   "metadata": {},
   "source": [
    "[The Search for Categorical Correlation](https://towardsdatascience.com/the-search-for-categorical-correlation-a1cf7f1888c9)\n",
    "\n",
    "\n",
    "\n",
    "***\n",
    "\n",
    "![](Images/2.cov_and_corr/4.PNG)"
   ]
  },
  {
   "cell_type": "markdown",
   "metadata": {},
   "source": [
    "## 2. To find correlation between categorical and categorical variables\n",
    "\n",
    "What we need is something that will look like correlation, but will work with categorical values — or more formally, we’re looking for a measure of association between two categorical features. Introducing: __Cramér’s V__. It is based on a nominal variation of Pearson’s Chi-Square Test, and comes built-in with some great benefits:\n",
    "1. The output is in the range of [0,1], where 0 means no association and 1 is full association. (Unlike correlation, there are no negative values, as there’s no such thing as a negative association. Either there is, or there isn’t).\n",
    "2. Like correlation, Cramer’s V is symmetrical — it is insensitive to swapping x and y.\n",
    "\n",
    "### Crammer's V implementation in Python\n",
    "\n",
    "Obtained the function from [this blogpost](https://towardsdatascience.com/the-search-for-categorical-correlation-a1cf7f1888c9). (The function calculates Cramers V statistic for categorial-categorial association. Uses correction from Bergsma and Wicher,\n",
    "        Journal of the Korean Statistical Society 42 (2013): 323-328)\n",
    "\n",
    "```\n",
    "def cramers_v(x, y):  \n",
    "    confusion_matrix = pd.crosstab(x,y)  \n",
    "    chi2 = ss.chi2_contingency(confusion_matrix)[0]  \n",
    "    n = confusion_matrix.sum().sum()  \n",
    "    phi2 = chi2/n  \n",
    "    r,k = confusion_matrix.shape  \n",
    "    phi2corr = max(0, phi2-((k-1)*(r-1))/(n-1))  \n",
    "    rcorr = r-((r-1)**2)/(n-1)  \n",
    "    kcorr = k-((k-1)**2)/(n-1)  \n",
    "    return np.sqrt(phi2corr/min((kcorr-1),(rcorr-1)))  \n",
    "```\n",
    "\n",
    "\n",
    "![](Images/2.cov_and_corr/5.PNG)"
   ]
  },
  {
   "cell_type": "code",
   "execution_count": null,
   "metadata": {},
   "outputs": [],
   "source": []
  },
  {
   "cell_type": "code",
   "execution_count": null,
   "metadata": {},
   "outputs": [],
   "source": []
  },
  {
   "cell_type": "code",
   "execution_count": null,
   "metadata": {},
   "outputs": [],
   "source": []
  },
  {
   "cell_type": "code",
   "execution_count": null,
   "metadata": {},
   "outputs": [],
   "source": []
  },
  {
   "cell_type": "code",
   "execution_count": null,
   "metadata": {},
   "outputs": [],
   "source": []
  },
  {
   "cell_type": "code",
   "execution_count": null,
   "metadata": {},
   "outputs": [],
   "source": []
  },
  {
   "cell_type": "markdown",
   "metadata": {},
   "source": [
    "Reference:\n",
    "1. [How to Calculate Correlation Between Variables in Python?](https://machinelearningmastery.com/how-to-use-correlation-to-understand-the-relationship-between-variables/)\n",
    "2. [Baffled by Covariance and Correlation??? Get the Math and the Application in Analytics for both the terms..](https://towardsdatascience.com/let-us-understand-the-correlation-matrix-and-covariance-matrix-d42e6b643c22)\n",
    "3. [Covariance Vs Correlation](https://www.linkedin.com/pulse/covariance-vs-correlation-kumar-p)\n",
    "4. [What is the difference between correlation and covariance?](https://www.edureka.co/community/11518/what-is-the-difference-between-correlation-and-covariance)"
   ]
  },
  {
   "cell_type": "code",
   "execution_count": null,
   "metadata": {},
   "outputs": [],
   "source": []
  }
 ],
 "metadata": {
  "kernelspec": {
   "display_name": "Python 3",
   "language": "python",
   "name": "python3"
  },
  "language_info": {
   "codemirror_mode": {
    "name": "ipython",
    "version": 3
   },
   "file_extension": ".py",
   "mimetype": "text/x-python",
   "name": "python",
   "nbconvert_exporter": "python",
   "pygments_lexer": "ipython3",
   "version": "3.7.6"
  }
 },
 "nbformat": 4,
 "nbformat_minor": 4
}
