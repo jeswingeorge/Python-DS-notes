{
 "cells": [
  {
   "cell_type": "code",
   "execution_count": 1,
   "metadata": {
    "ExecuteTime": {
     "end_time": "2020-04-06T08:18:03.480014Z",
     "start_time": "2020-04-06T08:17:31.514573Z"
    }
   },
   "outputs": [],
   "source": [
    "import numpy as np \n",
    "import pandas as pd \n",
    "import matplotlib.pyplot as plt\n",
    "import seaborn as sns\n",
    "%matplotlib inline\n",
    "sns.set()"
   ]
  },
  {
   "cell_type": "markdown",
   "metadata": {},
   "source": [
    "# Estimating difference between two population means\n",
    "\n",
    "### Challenge 5: Estimating difference between population means\n",
    "\n",
    "After estimating the population parameters using parameter estimation techniques  and validating the estimations using hypothesis testing, the surveying agency wants to find out some more insights. \n",
    "\n",
    "The agency is interested in finding out whether there is significant difference between performance of two different schools. \n",
    "\n",
    "For doing so the agency picks up the two schools from state 1 having school IDs as ST1S1 and ST1S3. It analyzes the performance of the students from both of these schools.\n",
    "\n",
    "Below Python code was used to subset the mark of students from both of these schools. The mean and standard deviation in mark was calculated for the schools."
   ]
  },
  {
   "cell_type": "code",
   "execution_count": 2,
   "metadata": {
    "ExecuteTime": {
     "end_time": "2020-04-06T08:18:03.913110Z",
     "start_time": "2020-04-06T08:18:03.480014Z"
    }
   },
   "outputs": [
    {
     "data": {
      "text/html": [
       "<div>\n",
       "<style scoped>\n",
       "    .dataframe tbody tr th:only-of-type {\n",
       "        vertical-align: middle;\n",
       "    }\n",
       "\n",
       "    .dataframe tbody tr th {\n",
       "        vertical-align: top;\n",
       "    }\n",
       "\n",
       "    .dataframe thead th {\n",
       "        text-align: right;\n",
       "    }\n",
       "</style>\n",
       "<table border=\"1\" class=\"dataframe\">\n",
       "  <thead>\n",
       "    <tr style=\"text-align: right;\">\n",
       "      <th></th>\n",
       "      <th>studentID</th>\n",
       "      <th>stateID</th>\n",
       "      <th>SchoolID</th>\n",
       "      <th>Mark</th>\n",
       "    </tr>\n",
       "  </thead>\n",
       "  <tbody>\n",
       "    <tr>\n",
       "      <th>0</th>\n",
       "      <td>1000</td>\n",
       "      <td>ST1</td>\n",
       "      <td>ST1S1</td>\n",
       "      <td>467</td>\n",
       "    </tr>\n",
       "    <tr>\n",
       "      <th>1</th>\n",
       "      <td>1001</td>\n",
       "      <td>ST1</td>\n",
       "      <td>ST1S1</td>\n",
       "      <td>366</td>\n",
       "    </tr>\n",
       "    <tr>\n",
       "      <th>2</th>\n",
       "      <td>1002</td>\n",
       "      <td>ST1</td>\n",
       "      <td>ST1S1</td>\n",
       "      <td>412</td>\n",
       "    </tr>\n",
       "    <tr>\n",
       "      <th>3</th>\n",
       "      <td>1003</td>\n",
       "      <td>ST1</td>\n",
       "      <td>ST1S1</td>\n",
       "      <td>532</td>\n",
       "    </tr>\n",
       "    <tr>\n",
       "      <th>4</th>\n",
       "      <td>1004</td>\n",
       "      <td>ST1</td>\n",
       "      <td>ST1S1</td>\n",
       "      <td>474</td>\n",
       "    </tr>\n",
       "  </tbody>\n",
       "</table>\n",
       "</div>"
      ],
      "text/plain": [
       "   studentID stateID SchoolID  Mark\n",
       "0       1000     ST1    ST1S1   467\n",
       "1       1001     ST1    ST1S1   366\n",
       "2       1002     ST1    ST1S1   412\n",
       "3       1003     ST1    ST1S1   532\n",
       "4       1004     ST1    ST1S1   474"
      ]
     },
     "execution_count": 2,
     "metadata": {},
     "output_type": "execute_result"
    }
   ],
   "source": [
    "student_mark = pd.read_csv('students_mark.csv')\n",
    "school1 = student_mark.loc[student_mark.SchoolID == 'ST1S1', 'Mark']\n",
    "school2 = student_mark.loc[student_mark.SchoolID == 'ST1S3', 'Mark']\n",
    "student_mark.head()"
   ]
  },
  {
   "cell_type": "markdown",
   "metadata": {},
   "source": [
    "#### School1"
   ]
  },
  {
   "cell_type": "code",
   "execution_count": 3,
   "metadata": {
    "ExecuteTime": {
     "end_time": "2020-04-06T08:18:03.957654Z",
     "start_time": "2020-04-06T08:18:03.925666Z"
    }
   },
   "outputs": [
    {
     "data": {
      "text/plain": [
       "0    467\n",
       "1    366\n",
       "2    412\n",
       "3    532\n",
       "4    474\n",
       "Name: Mark, dtype: int64"
      ]
     },
     "execution_count": 3,
     "metadata": {},
     "output_type": "execute_result"
    }
   ],
   "source": [
    "school1.head()"
   ]
  },
  {
   "cell_type": "code",
   "execution_count": 4,
   "metadata": {
    "ExecuteTime": {
     "end_time": "2020-04-06T08:18:04.175640Z",
     "start_time": "2020-04-06T08:18:03.961655Z"
    }
   },
   "outputs": [
    {
     "data": {
      "text/plain": [
       "20"
      ]
     },
     "execution_count": 4,
     "metadata": {},
     "output_type": "execute_result"
    }
   ],
   "source": [
    "len(school1)"
   ]
  },
  {
   "cell_type": "markdown",
   "metadata": {},
   "source": [
    "#### School2"
   ]
  },
  {
   "cell_type": "code",
   "execution_count": 5,
   "metadata": {
    "ExecuteTime": {
     "end_time": "2020-04-06T08:18:04.311628Z",
     "start_time": "2020-04-06T08:18:04.187640Z"
    }
   },
   "outputs": [
    {
     "name": "stdout",
     "output_type": "stream",
     "text": [
      "20\n"
     ]
    }
   ],
   "source": [
    "print(len(school2))"
   ]
  },
  {
   "cell_type": "code",
   "execution_count": 6,
   "metadata": {
    "ExecuteTime": {
     "end_time": "2020-04-06T08:18:04.470749Z",
     "start_time": "2020-04-06T08:18:04.319604Z"
    }
   },
   "outputs": [
    {
     "data": {
      "text/plain": [
       "40    387\n",
       "41    541\n",
       "42    355\n",
       "43    398\n",
       "44    407\n",
       "Name: Mark, dtype: int64"
      ]
     },
     "execution_count": 6,
     "metadata": {},
     "output_type": "execute_result"
    }
   ],
   "source": [
    "school2.head()"
   ]
  },
  {
   "cell_type": "markdown",
   "metadata": {},
   "source": [
    "***"
   ]
  },
  {
   "cell_type": "code",
   "execution_count": 7,
   "metadata": {
    "ExecuteTime": {
     "end_time": "2020-04-06T08:18:04.586686Z",
     "start_time": "2020-04-06T08:18:04.478718Z"
    }
   },
   "outputs": [
    {
     "name": "stdout",
     "output_type": "stream",
     "text": [
      "Mean students mark school 1:  434.45\n",
      "Variance of students mark school 1:  7857.207894736841\n",
      "Standard deviation students mark school 1:  88.64089290353996\n"
     ]
    }
   ],
   "source": [
    "print(\"Mean students mark school 1: \", school1.mean())\n",
    "print(\"Variance of students mark school 1: \", school1.var())\n",
    "print(\"Standard deviation students mark school 1: \", school1.std())"
   ]
  },
  {
   "cell_type": "code",
   "execution_count": 8,
   "metadata": {
    "ExecuteTime": {
     "end_time": "2020-04-06T08:18:04.778041Z",
     "start_time": "2020-04-06T08:18:04.590684Z"
    }
   },
   "outputs": [
    {
     "name": "stdout",
     "output_type": "stream",
     "text": [
      "Mean students mark school 2:  406.2\n",
      "Variance of students mark school 2:  8119.2210526315785\n",
      "Standard deviation students mark school 2:  90.10672035221113\n"
     ]
    }
   ],
   "source": [
    "print(\"Mean students mark school 2: \", school2.mean())\n",
    "print(\"Variance of students mark school 2: \", school2.var())\n",
    "print(\"Standard deviation students mark school 2: \", school2.std())"
   ]
  },
  {
   "cell_type": "markdown",
   "metadata": {},
   "source": [
    "The mean mark scored by the students from ST1S1 is __434.45__ and that of ST1S3 is __406.2__.\n",
    "\n",
    "The difference in mean indicates the students of ST1S1 might have performed better than the students of ST1S3.\n",
    "\n",
    "However, this difference in sample means is not sufficient to draw any conclusions because the agency has not taken into consideration the performance of all the students in these schools; it has analyzed marks of only 20 students from both the schools. \n",
    "\n",
    "To put it in a nut shell, in order to conclude which of these schools is performing better the agency has to  __estimate the difference between the population means__ of both the schools. \n",
    "\n",
    "> In this section we will find out how to estimate the difference between two population means by analyzing the difference in sample means. \n",
    "\n",
    "### Independent sample Vs. Paired data"
   ]
  },
  {
   "cell_type": "markdown",
   "metadata": {},
   "source": [
    "While estimating difference between two population means from the difference in sample means, we need to know whether the two samples that we are studying are independent of each other not.\n",
    "\n",
    "We may have two different kinds of samples here:\n",
    "- __Independent Samples:__ The samples from two different populations are independent of each other if sample taken from one population has no relationship/dependency on the sample taken from the other population.\n",
    "- __Paired Data:__ Two samples are said to be dependent, if each measurement in one sample is paired with another measurement from the other sample. Dependent samples are also called paired data.\n",
    "\n",
    "Let us understand the concept of independent samples and paired samples by discussing some examples\n",
    "\n",
    "> __Example 1:__ Suppose we want to compare the performances of two different teachers.\n",
    "- __Independent sample case:__ Randomly assign 10 students to teacher 1 and another 10 students to teacher 2. Compare the performance of both the groups.\n",
    "- __Dependent sample case:__ Chose 10 students, assign them to teacher 1 first and then assign to teacher 2. Compare the change in performance of the same students.\n",
    "\n",
    "> __Example 2:__ Suppose we want to collect the feedback on two different dishes.\n",
    "- __Independent sample case:__ Serve dish 1 to five different people and serve dish 2 to five other people.\n",
    "- __Dependent sample case:__ Serve dish 1 to five people and then dish 2 to the same people.\n",
    "\n",
    "\n",
    "### Estimating difference between population means: Independent sample\n",
    "\n",
    "The surveying agency is comparing the performance of students from two different schools. The performance of the students from both the schools are independent of each other. Hence, both the populations are independent of each other and so are the samples being analyzed. \n",
    "\n",
    "Estimating the difference between population means of two independent populations includes:\n",
    "- Finding the point estimate of difference in means.\n",
    "- Finding the confidence interval of difference in means. \n",
    "\n",
    "Hence, the task before the agency is to find the point estimate of difference in population means of both the school i.e. the difference in mean mark scored in the surprise test if all the students from both the schools appeared for the surprise test. \n",
    "\n",
    "After finding the point estimate of difference in population means, the agency will find out the confidence interval of difference in population mean of both the schools with 95% confidence level.\n",
    "\n",
    "\n",
    "### Point estimate of difference between two population means\n",
    "\n",
    "As sample mean is the unbiased estimator of population mean, the difference between two sample means ($\\bar(X_1) - \\bar(X_2)$) is the unbiased estimator of the difference between two population means $(\\mu_{1} - \\mu_{2})$. \n",
    "\n",
    "Hence the population mean can be estimated using the difference between the two sample means. \n",
    "\n",
    "The agency has already calculated the sample means of both the schools to be 434.45 and 406.2 respectively.  The difference in the sample means  434.45-406.2=28.25 is the point estimate of the difference in population mean.  \n",
    "\n",
    "### Interval estimate of difference between two population means\n",
    "\n",
    "After finding the point estimate of difference between the population means of both the schools, the agency wants to find out the interval estimate or confidence interval for the same. \n",
    "\n",
    "While estimating the population mean of single population, we found the confidence interval by finding two points on the sampling distribution of mean curve, which enclose certain amount of area specified by the confidence level. \n",
    "\n",
    "Similarly, in order to find the confidence interval of difference between two population means with 95% confidence level, the agency has to plot the __sampling distribution of difference in sample means__ first and then identify the two points on the sampling distribution curve that enclose 95% of the total area under the curve. \n",
    "\n",
    "Let us first understand what sampling distribution of difference in sample means is. \n",
    "\n"
   ]
  },
  {
   "cell_type": "markdown",
   "metadata": {},
   "source": [
    "## Sampling distribution of difference in sample means\n",
    "\n",
    "### Sampling distribution of difference in two sample means: Independent samples\n",
    "\n",
    "While estimating difference between two population means, we can:\n",
    "- take one sample from each of the population\n",
    "- find out the sample means\n",
    "- calculate the difference between the two sample means\n",
    "\n",
    "If we repeat this process multiple times, we will get a range of values. \n",
    "\n",
    "If we plot the frequency distribution of these differences in sample means calculated, the resulting distribution is called __sampling distribution of difference in two sample means.__  \n",
    "\n",
    "Sampling distribution of difference in two sample means ($\\bar(X_1) - \\bar(X_2)$) is normally distributed, having mean at $(\\mu_{1} - \\mu_{2})$ and standard error as \n",
    "\n",
    "$$ \\sqrt{\\frac{\\sigma_1^2}{n_1^2} + \\frac{\\sigma_2^2}{n_2^2}} $$\n",
    "\n",
    "where,\n",
    "- Where $\\mu_1$ and $\\mu_2$ are the population means\n",
    "- $\\sigma_1^2$ and $\\sigma_2^2$ are the population variances\n",
    "- $n_1$ and $n_2$ are the sample sizes.\n",
    "\n",
    "> The mean and standard error of sampling distribution of difference in two sample means can be calculated only if the population means and standard deviations are known. \n",
    "\n",
    "However, the surveying agency does not know the population parameters. When the population parameters are unknown, the sampling distribution of difference in two sample means can be plotted by estimating the mean and standard error of the distribution. \n",
    "\n",
    "#### Sampling distribution of difference in two sample means: Unknown population parameters\n",
    "\n",
    "Sampling distribution of difference in two sample means depends upon the sample size when the population parameters are unknown.\n",
    "\n",
    "| Sample size | Distribution                                         |\n",
    "|-------------|------------------------------------------------------|\n",
    "| n >= 30     | Normal Distribution                                  |\n",
    "| n < 30      | t-distribution with (n1 + n2 - 2) degrees of freedom |\n",
    "\n",
    "\n",
    "Now, let us find out how the surveying agency estimates the mean and standard error of this distribution.\n",
    "The surveying agency deals with smaller samples, i.e., n=20 and the population parameters are unknown. Thus, the sampling distribution of difference in two sample means will have a t distribution with 20+20-2=38 degrees of freedom.\n",
    "\n",
    "#### Estimating mean of sampling distribution of difference in two sample means\n",
    "\n",
    "Mean of sampling distribution of difference in means is given by $\\mu_1 - \\mu_2$ .\n",
    "\n",
    "When the population means are unknown, we can use the difference in sample means $(X_1 - X_2)$ to estimate the difference between population means $(\\mu_1 - \\mu_2)$\n",
    "\n",
    "The surveying agency estimates the mean of sampling distribution of difference, in two sample means by the difference in the sample means.\n",
    "\n",
    "The difference in the sample means ($ \\bar(X_1) - \\bar(X_2)$) is already calculated by the agency to be 28.25. So, the mean of sampling distribution of difference in sample mean will be at 28.25. \n",
    "\n",
    "Now let us find out how to estimate the standard error of sampling distribution of difference in means. \n",
    "\n",
    "#### Estimating standard error in two sample means\n",
    "\n",
    "Standard error of sampling distribution of difference in two sample mean is given by\n",
    "\n",
    "$$ \\sqrt{\\frac{\\sigma_1^2}{n_1^2} + \\frac{\\sigma_2^2}{n_2^2}} $$\n",
    "\n",
    "When the population standard deviations are unknown we need to follow the steps given below to estimate the standard error.\n",
    "\n",
    "We need to compare the variances of both the samples.\n",
    "- If the sample variances are nearly equal (ratio between both the variances lie between 0.5 to 2) then we need to calculate the pool standard deviation using the formula\n",
    "\n",
    "$$ s_p = \\sqrt{\\frac{(n_1 - 1)S_1^2 + (n_2 - 1)S_2^2}{n_1 + n_2 - 2}} $$\n",
    "\n",
    "Once the pool standard deviation is calculated we can replace  $\\sigma_1$ and $\\sigma_2$ by $S_p$ in the formula of standard error. \n",
    "\n",
    "In that case the formula for standard error becomes \n",
    "\n",
    "$$ s_p \\sqrt{\\frac{1}{n_1} + \\frac{1}{n_2}} $$\n",
    "\n",
    "- If both the sample variances are not close enough (ratio between the sample variances is less than 0.5 or more than 2) then we can estimate the standard error by replacing  $\\sigma_1$ and $\\sigma_2$ in the formula of standard error by  $s_1$ and $s_2$.\n",
    "\n",
    "Hence formula for standard error becomes \n",
    "\n",
    "$$ \\sqrt{\\frac{s_1^2}{n_1} + \\frac{s_2^2}{n_2}} $$"
   ]
  },
  {
   "cell_type": "markdown",
   "metadata": {},
   "source": [
    "#### Mean and standard error of unknown population\n",
    "\n",
    "The table below lists all possible scenarios and the corresponding formulas for calculating the mean and standard error of sampling distribution of difference in two sample means when the population parameters are unknown. \n",
    "\n",
    "![](6_1.PNG)\n",
    "\n",
    "#### Plotting sampling distribution of difference in two sample means\n",
    "\n",
    "We have seen how to estimate the mean and standard error of sampling distribution of difference in sample means when the population mean and standard error is unknown. \n",
    "\n",
    "Let us see how the surveying agency plots the sampling distribution. \n",
    "\n",
    "The surveying agency finds out the ratio of variance in two samples in order to decide whether it is a case of equal variance or not.\n",
    "\n",
    "Reference: [Numpy variance](https://docs.scipy.org/doc/numpy/reference/generated/numpy.var.html)\n"
   ]
  },
  {
   "cell_type": "code",
   "execution_count": 9,
   "metadata": {
    "ExecuteTime": {
     "end_time": "2020-04-06T08:18:04.957198Z",
     "start_time": "2020-04-06T08:18:04.790037Z"
    }
   },
   "outputs": [
    {
     "name": "stdout",
     "output_type": "stream",
     "text": [
      "Variance ratio:  0.9677292740034693\n"
     ]
    }
   ],
   "source": [
    "var_school1 = np.var(school1, ddof = 1)\n",
    "var_school2 = np.var(school2, ddof = 1)\n",
    "var_ratio = var_school1/var_school2\n",
    "print('Variance ratio: ',var_ratio)"
   ]
  },
  {
   "cell_type": "code",
   "execution_count": 10,
   "metadata": {
    "ExecuteTime": {
     "end_time": "2020-04-06T08:18:05.103329Z",
     "start_time": "2020-04-06T08:18:04.969162Z"
    }
   },
   "outputs": [
    {
     "name": "stdout",
     "output_type": "stream",
     "text": [
      "n1:  20\n",
      "n2:  20\n"
     ]
    }
   ],
   "source": [
    "n1 = len(school1)\n",
    "n2 = len(school2)\n",
    "print('n1: ', n1)\n",
    "print('n2: ', n2)"
   ]
  },
  {
   "cell_type": "code",
   "execution_count": 11,
   "metadata": {
    "ExecuteTime": {
     "end_time": "2020-04-06T08:18:05.247296Z",
     "start_time": "2020-04-06T08:18:05.111323Z"
    }
   },
   "outputs": [],
   "source": [
    "pooled_sd = np.sqrt((((n1-1)*var_school1) + ((n2-1)*var_school2))/(n1+n2-2))"
   ]
  },
  {
   "cell_type": "code",
   "execution_count": 12,
   "metadata": {
    "ExecuteTime": {
     "end_time": "2020-04-06T08:18:05.497286Z",
     "start_time": "2020-04-06T08:18:05.255287Z"
    }
   },
   "outputs": [
    {
     "name": "stdout",
     "output_type": "stream",
     "text": [
      "Pooled std deviation:  89.37681172252795\n"
     ]
    }
   ],
   "source": [
    "print('Pooled std deviation: ', pooled_sd)"
   ]
  },
  {
   "cell_type": "code",
   "execution_count": 13,
   "metadata": {
    "ExecuteTime": {
     "end_time": "2020-04-06T08:18:05.645273Z",
     "start_time": "2020-04-06T08:18:05.509279Z"
    }
   },
   "outputs": [
    {
     "name": "stdout",
     "output_type": "stream",
     "text": [
      "Standard error:  28.263429504722545\n"
     ]
    }
   ],
   "source": [
    "std_error = pooled_sd * np.sqrt((1/n1) + (1/n2)) \n",
    "print('Standard error: ', std_error)"
   ]
  },
  {
   "cell_type": "code",
   "execution_count": 14,
   "metadata": {
    "ExecuteTime": {
     "end_time": "2020-04-06T08:18:07.635234Z",
     "start_time": "2020-04-06T08:18:05.649562Z"
    }
   },
   "outputs": [
    {
     "data": {
      "image/png": "[encoded data removed]",
      "text/plain": [
       "<Figure size 432x288 with 1 Axes>"
      ]
     },
     "metadata": {},
     "output_type": "display_data"
    }
   ],
   "source": [
    "from scipy.stats import t\n",
    "df = 38 # degrees of freedom\n",
    "mean_sd = 28.25\n",
    "x = np.linspace(-50, 50, 100)\n",
    "plt.plot(x, t.pdf(x, df));\n",
    "plt.show();"
   ]
  },
  {
   "cell_type": "markdown",
   "metadata": {},
   "source": [
    "### Confidence interval of difference in two population means\n",
    "\n",
    "#### Confidence interval of difference between two population means\n",
    "\n",
    "Once the sampling distribution of difference in two sample means is plotted, we can find the confidence interval of difference between two population means. \n",
    "\n",
    "Depending on whether the distribution is normal or t distribution, the critical Z value or t value can be calculated based upon the confidence level and the confidence interval can be found. \n",
    "\n",
    "The table below lists the formula to find out the confidence interval of difference in population means for all possible scenarios.\n",
    "\n",
    "![](6_2.PNG)\n",
    "\n",
    "#### Finding the confidence interval of difference between two population means\n",
    "\n",
    "The surveying agency is dealing with smaller samples i.e. n < 30 and the variance in both the samples are nearly equal.\n",
    "\n",
    "It uses the corresponding formula to find the confidence interval of difference in the population mean of ST1S1 and ST1S3 i.e. the difference in mean mark scored if all the students from both of these schools had appeared for the surprise test. \n",
    "\n",
    "The confidence level set by the agency is 0.95 or 95%. For a confidence level of 95%, confidence interval can be visually represented as shown below.\n",
    "\n",
    "![](6_3.PNG)\n",
    "\n",
    "Python code to determine the confidence interval."
   ]
  },
  {
   "cell_type": "code",
   "execution_count": 16,
   "metadata": {
    "ExecuteTime": {
     "end_time": "2020-04-06T09:05:18.933237Z",
     "start_time": "2020-04-06T09:05:18.909244Z"
    }
   },
   "outputs": [
    {
     "name": "stdout",
     "output_type": "stream",
     "text": [
      "t-critical:  2.024394164575136\n",
      "-28.96632176024105 85.46632176024104\n"
     ]
    }
   ],
   "source": [
    "from scipy.stats import t\n",
    "tcritical = t.ppf(0.975, 38)\n",
    "print('t-critical: ', tcritical)\n",
    "p1 = mean_sd - tcritical * std_error\n",
    "p2 = mean_sd + tcritical * std_error\n",
    "print(p1, p2)"
   ]
  },
  {
   "cell_type": "markdown",
   "metadata": {},
   "source": [
    "The surveying agency has found the confidence interval of difference between the population means of the school ST1S1 and ST1S3 to be __(-28.96632, 85.46632)__. \n",
    "\n",
    "__Solution to Challenge 5:__ The agency has successfully estimated difference between population means of two different schools. It concludes if all the students from both the schools (ST1S1 and ST1S3) would have appeared for the surprise test, the difference between the mean mark scored by students from ST1S1 and ST1S3 would have been somewhere in the range (-28.96632, 85.46632).\n",
    "\n"
   ]
  },
  {
   "cell_type": "markdown",
   "metadata": {},
   "source": [
    "# Comparing two populations by performing 2 sample t test\n",
    "\n",
    "## Challenge 6: Finding the factors that affect performance of students\n",
    "\n",
    "In the previous section, we have seen how to estimate the difference between two population means. The surveying agency estimated the difference between the population means of two different schools. \n",
    "\n",
    "We can say that, __school__ is the factor that distinguished both the populations from each other. School is a categorical attribute which had two different levels i.e. ST1S1 and ST1S3 for the two populations that the agency analyzed. \n",
    "\n",
    "In inferential statistics, we often deal with such factors which are __categorical__ in nature, having multiple levels that distinguish multiple populations from each other. These levels are called __treatments__. \n",
    "\n",
    "In order to find out whether a factor has significant effect on the population, we need to __compare these treatments.__\n",
    "\n",
    "For example in order to find whether school as a factor affects the performance of students or not, the surveying agency may compare the performance of students from two different schools.\n",
    "\n",
    "In the following sections we will learn about statistical inference techniques that are used to compare multiple treatments. \n",
    "\n",
    "## Challenge 6.1: Does school affect the performance of students?\n",
    "\n",
    "For doing so the agency compares the performance of students from two different schools ST1S1 and ST1S3. In this section the agency determines whether the difference in population means is significant enough to conclude that school as a factor affects the performance of students. \n",
    "\n",
    "While determining the effect of a factor on two different populations, by analyzing two samples we may use a special kind of hypothesis test which is called 2 sample t test. \n",
    "\n",
    "Let us know more about __2 sample t test.__\n",
    "\n",
    "> __2 sample t test__ is a hypothesis test, performed to find out whether there is a significant difference between two population means by analyzing samples drawn from each population. \n",
    "\n",
    "This test works best when:\n",
    "- we are dealing with small samples, which are drawn from normally distributed populations. However, it can also be used while dealing with larger samples. \n",
    "- the assumption of normality is violated but only if the underlying distribution is not highly skewed.\n",
    "\n",
    "The surveying agency is comparing the marks scored by students of the school ST1S1 and ST1S3. \n",
    "\n",
    "In order to find out whether the difference in the population means is statistically significant with a significance level of 0.05, the agency performs 2 sample t-test. \n",
    "\n",
    "The agency is dealing with small samples and it has already verified the underlying distribution of mark to be normal distribution. Hence the assumptions for 2 sample t test are met.\n",
    "\n",
    "Moreover, both the samples are drawn from independent populations. Thus the surveying agency performs __2 sample t test for independent samples__ in order to determine whether the difference in population means is statistically significant.\n",
    "\n",
    "\n",
    "### Steps to perform 2 sample t test: Step 1 and 2\n",
    "\n",
    "__Step 1: Define the Null Hypothesis , Alternate Hypothesis and level of Significance.__ \n",
    "\n",
    "The first step in a 2 sample t test is to set the null and the alternate hypothesis.\n",
    "\n",
    "__Null hypothesis:__ There is no significant difference between the two population means i.e. $\\mu_1 = \\mu_2$.\n",
    "\n",
    "Based on the kind of hypothesis test that we are interested to perform, we can choose the __alternate hypothesis__. \n",
    "\n",
    "![](7_1.PNG)\n",
    "\n",
    "The typical value of level of significance ($\\alpha$) is 0.05. \n",
    "\n",
    "__Step 2: Find out mean and standard error of sampling distribution of difference in two sample means.__\n",
    "\n",
    "The next step is to plot the sampling distribution of difference in two sample means assuming the null hypothesis to be correct. Generally, as we deal with smaller samples, the sampling distribution is a t distribution. \n",
    "\n",
    "As the null hypothesis states the population means to be the same i.e μ1= μ2, the mean of the sampling distribution will be at $\\mu_1 - \\mu_2 = 0$.\n",
    "\n",
    "As discussed in the previous section, the standard error of the distribution can be calculated based on whether the two samples are having equal variances or not using the corresponding formula. \n",
    "\n",
    "![](7_2.PNG)\n",
    "\n",
    "### Steps to perform 2 sample t test: Step 3,4 & 5\n",
    "\n",
    "__Step 3: Calculate the test statistic__\n",
    "\n",
    "The test statistic is nothing but the corresponding t value associated with the observed difference in the two sample means. In other words test statistic suggests how far the observed difference in sample lies from the mean of sampling distribution of difference in two sample means in terms of standard deviation. \n",
    "\n",
    "The test statistic can be calculated using the formula\n",
    "\n",
    "$$ \\frac{(\\bar{X_{1}} - \\bar{X_{2}}) - (\\mu_1 - \\mu_2)}{Standard error} $$\n",
    "\n",
    "As we have assumed the population means to be the same i.e. $\\mu_1 = \\mu_2$ the above equation becomes:\n",
    "\n",
    "$$test statistic = \\frac{(\\bar{X_{1}} - \\bar{X_{2}})}{Standard error}$$\n",
    "\n",
    "__Step 4: Find out the critical t value and the accept/reject the null hypothesis__\n",
    "\n",
    "Next step is to find out the critical t values based on the level of significance.\n",
    "\n",
    "For a significance level of 0.05, the critical t values are the two points that enclose 95% of the total area under the sampling distribution curve. The area that is enclosed by these two points is called the __acceptance region__.\n",
    "\n",
    "Any point that lies in the acceptance region has more than 5% probability of occurrence.  The area outside the acceptance region is called __rejection region__. Any point that lies in the rejection region has less than 5% probability of occurrence. The same is represented in the figure below. \n",
    "\n",
    "![](7_3.PNG)\n",
    "\n",
    "In the above figure the areas which are painted red represent the rejection region. \n",
    "\n",
    "__Step 5: Compare the test statistic and the critical t values to arrive at conclusion.__\n",
    "\n",
    "If __test statistic__ $ > t_{critical}$ or __test statistic__ $ < t_{critical}$, then the test statistic  lies in the __rejection region__. This suggests that if the Null hypothesis is TRUE, there is less than 5% of probability of getting the observed difference in mean.\n",
    "\n",
    "Hence we will reject the null hypothesis will 0.05 level of significance and will conclude that there is a statistically significant difference between the two population means. \n",
    "\n",
    "If $-t_{critical} <=$ test statistic <= $t_{critical}$ then the test statistic lies in the __acceptance region__ which suggests there is probability of more than 5% of getting the observed difference in the sample means even if the null hypothesis is true.\n",
    "\n",
    "\n",
    "Thus we will fail to reject the null hypothesis with 0.05 level of significance and conclude that the difference between the population means are statistically insignificant. \n",
    "\n",
    "Let us see how the surveying agency is determining whether there is a significant difference between performance of students from ST1S1 and ST1S3 using 2 sample t test. \n",
    "\n",
    "\n",
    "### Example of 2 sample t test: Setting the Null hypothesis and Alternate hypothesis\n",
    "\n",
    "The surveying agency wants to find out if there is a “statistically significant difference” between the performance of students from both the schools. It performs 2 sample t test for independent samples. It sets a significance level of 0.05. \n",
    "\n",
    "#### Step 1: Setting the hypothesis.\n",
    "\n",
    "The agency sets the hypothesis as given below. \n",
    "\n",
    "__Null hypothesis ($H_0$):__ Mark scored by a student is not affected by the school in which he/she studies i.e. there is no difference in the mean mark scored by the students from school ST1S1 and ST1S3 i.e. $\\mu_1 = \\mu_2$.\n",
    "\n",
    "__Alternate hypothesis ($H_a$):__ Mark scored by a student depends upon the school in which he/she studies. That means there is a significant difference between the mean mark scored by students from school ST1S1 and ST1S3 i.e. \n",
    "$\\mu_1 \\neq \\mu_2$.\n",
    "\n",
    "#### Step 2: The Sampling distribution of difference in sample means. \n",
    "\n",
    "The next step is to plot the sampling distribution of difference in two sample means. \n",
    "\n",
    "The sampling distribution was plotted by the agency in the previous section which is a t distribution with 38 degrees of freedom. \n",
    "\n",
    "The null hypothesis assumes both the population means to be equal. The mean of the sampling distribution is at $\\mu_1 - \\mu_2$.\n",
    "\n",
    "Assuming the null hypothesis to be true mean of the sampling distribution is at __0__. \n",
    "\n",
    "The __standard error__ is already calculated by the agency and is found to be __28.263__. \n",
    "\n"
   ]
  },
  {
   "cell_type": "markdown",
   "metadata": {},
   "source": [
    "#### Step 3: Calculating test statistic\n",
    "\n",
    "After finding the mean and standard error of sampling distribution of difference between the two sample means, the agency finds the test statistic. It is the measure of how far the observed difference in the sample means lie from the mean of sampling distribution in terms of standard error. \n",
    "\n",
    "Mean of the sampling distribution is at 0. Hence the test statistic can be calculated as given below. \n",
    "\n",
    "![](7_4.PNG)\n"
   ]
  },
  {
   "cell_type": "code",
   "execution_count": 17,
   "metadata": {
    "ExecuteTime": {
     "end_time": "2020-04-06T09:09:05.369807Z",
     "start_time": "2020-04-06T09:09:05.341814Z"
    }
   },
   "outputs": [
    {
     "name": "stdout",
     "output_type": "stream",
     "text": [
      "test statistic:  0.9995248451812863\n"
     ]
    }
   ],
   "source": [
    "test_statistic = (school1.mean() - school2.mean())/std_error\n",
    "print('test statistic: ', test_statistic)"
   ]
  },
  {
   "cell_type": "markdown",
   "metadata": {},
   "source": [
    "### Step 4: Calculating $t_{critical}$ and comparing with the test statistic to accept/reject the Null hypothesis\n",
    "\n",
    "After calculating the test statistic, the agency calculates the critical t value to determine the acceptance and the rejection region. "
   ]
  },
  {
   "cell_type": "code",
   "execution_count": 18,
   "metadata": {
    "ExecuteTime": {
     "end_time": "2020-04-06T09:11:35.627639Z",
     "start_time": "2020-04-06T09:11:35.619645Z"
    }
   },
   "outputs": [
    {
     "name": "stdout",
     "output_type": "stream",
     "text": [
      "t-critical:  2.024394164575136\n"
     ]
    }
   ],
   "source": [
    "from scipy.stats import t\n",
    "tcritical = t.ppf(0.975, 38)\n",
    "print('t-critical: ', tcritical)"
   ]
  },
  {
   "cell_type": "markdown",
   "metadata": {},
   "source": [
    "The test statistic __0.9995248__ falls in the acceptance region. Hence the agency __fails to reject the Null hypothesis__ which assumes both the __population means to be equal__. \n",
    "\n",
    "### Step 5: Stating the Conclusion\n",
    "By performing 2 sample t test the agency did not find enough evidence to prove that there is a statistically significant difference between the performance of students from school ST1S1 and ST1S3. \n",
    "\n",
    "### Solution to challenge 6.1: \n",
    "> The agency concludes that factor school may not have a significant effect on the performance of students.\n",
    "\n",
    "### Performing 2 sample t test in Python using __[ttest_ind()](https://docs.scipy.org/doc/scipy/reference/generated/scipy.stats.ttest_ind.html)__ \n",
    "\n",
    "We can use the ttest_ind() function in Python to perform 2 sample t test. The function takes two samples being compared as input (in form of data frames) and  calculates the test statistic and also gives the corresponding p value. \n",
    "\n"
   ]
  },
  {
   "cell_type": "code",
   "execution_count": 19,
   "metadata": {
    "ExecuteTime": {
     "end_time": "2020-04-06T09:16:15.470016Z",
     "start_time": "2020-04-06T09:16:15.386035Z"
    }
   },
   "outputs": [
    {
     "data": {
      "text/plain": [
       "Ttest_indResult(statistic=0.9995248451812861, pvalue=0.32386309219376563)"
      ]
     },
     "execution_count": 19,
     "metadata": {},
     "output_type": "execute_result"
    }
   ],
   "source": [
    "from scipy import stats\n",
    "stats.ttest_ind(school1, school2, equal_var = True)"
   ]
  },
  {
   "cell_type": "markdown",
   "metadata": {},
   "source": [
    "`ttest_ind()` function is invoked, which takes the two data frames school1 and school2 as input. equal_var=True clause suggests that both the samples have equal variance.\n",
    "\n",
    "> As we can see the test statistic is calculated to be 0.9995248 which is exactly the same as the test statistic that we calculated manually. "
   ]
  }
 ],
 "metadata": {
  "kernelspec": {
   "display_name": "Python 3",
   "language": "python",
   "name": "python3"
  },
  "language_info": {
   "codemirror_mode": {
    "name": "ipython",
    "version": 3
   },
   "file_extension": ".py",
   "mimetype": "text/x-python",
   "name": "python",
   "nbconvert_exporter": "python",
   "pygments_lexer": "ipython3",
   "version": "3.7.6"
  }
 },
 "nbformat": 4,
 "nbformat_minor": 4
}
