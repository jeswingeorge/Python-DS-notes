{
 "cells": [
  {
   "cell_type": "markdown",
   "metadata": {},
   "source": [
    "# One way ANOVA\n",
    "\n",
    "## Challenge 6.2: Is the performance of students affected by the teacher under whom they study?\n",
    "\n",
    "The surveying agency wants to know whether the performance of students is affected by the teacher under whom they have studied. To verify the same, the agency chooses a school. It selects 3 teachers from the school and ask them to teach a particular subject to 3 different groups of students.\n",
    "\n",
    "At the end of the course, the agency picks 6 students from each group and the students undergo a test.\n",
    "\n",
    "The mark scored by the students in the test (out of 100) is noted. The marks are given below.\n",
    "\n"
   ]
  },
  {
   "cell_type": "code",
   "execution_count": 1,
   "metadata": {
    "ExecuteTime": {
     "end_time": "2020-04-07T09:34:04.483830Z",
     "start_time": "2020-04-07T09:33:43.092298Z"
    }
   },
   "outputs": [],
   "source": [
    "import numpy as np \n",
    "import pandas as pd \n",
    "import matplotlib.pyplot as plt\n",
    "import seaborn as sns\n",
    "%matplotlib inline\n",
    "sns.set()"
   ]
  },
  {
   "cell_type": "markdown",
   "metadata": {},
   "source": [
    "Data is imported to Python environment and the sample means were calculated."
   ]
  },
  {
   "cell_type": "code",
   "execution_count": 2,
   "metadata": {
    "ExecuteTime": {
     "end_time": "2020-04-07T09:34:04.518107Z",
     "start_time": "2020-04-07T09:34:04.483830Z"
    }
   },
   "outputs": [],
   "source": [
    "test = pd.read_csv(\"data/test.csv\")"
   ]
  },
  {
   "cell_type": "code",
   "execution_count": 3,
   "metadata": {
    "ExecuteTime": {
     "end_time": "2020-04-07T09:34:04.756336Z",
     "start_time": "2020-04-07T09:34:04.526085Z"
    }
   },
   "outputs": [
    {
     "data": {
      "text/html": [
       "<div>\n",
       "<style scoped>\n",
       "    .dataframe tbody tr th:only-of-type {\n",
       "        vertical-align: middle;\n",
       "    }\n",
       "\n",
       "    .dataframe tbody tr th {\n",
       "        vertical-align: top;\n",
       "    }\n",
       "\n",
       "    .dataframe thead th {\n",
       "        text-align: right;\n",
       "    }\n",
       "</style>\n",
       "<table border=\"1\" class=\"dataframe\">\n",
       "  <thead>\n",
       "    <tr style=\"text-align: right;\">\n",
       "      <th></th>\n",
       "      <th>Teacher</th>\n",
       "      <th>Mark</th>\n",
       "    </tr>\n",
       "  </thead>\n",
       "  <tbody>\n",
       "    <tr>\n",
       "      <th>0</th>\n",
       "      <td>teacher1</td>\n",
       "      <td>90</td>\n",
       "    </tr>\n",
       "    <tr>\n",
       "      <th>1</th>\n",
       "      <td>teacher1</td>\n",
       "      <td>76</td>\n",
       "    </tr>\n",
       "    <tr>\n",
       "      <th>2</th>\n",
       "      <td>teacher1</td>\n",
       "      <td>65</td>\n",
       "    </tr>\n",
       "    <tr>\n",
       "      <th>3</th>\n",
       "      <td>teacher1</td>\n",
       "      <td>67</td>\n",
       "    </tr>\n",
       "    <tr>\n",
       "      <th>4</th>\n",
       "      <td>teacher1</td>\n",
       "      <td>73</td>\n",
       "    </tr>\n",
       "    <tr>\n",
       "      <th>5</th>\n",
       "      <td>teacher1</td>\n",
       "      <td>81</td>\n",
       "    </tr>\n",
       "    <tr>\n",
       "      <th>6</th>\n",
       "      <td>teacher2</td>\n",
       "      <td>81</td>\n",
       "    </tr>\n",
       "    <tr>\n",
       "      <th>7</th>\n",
       "      <td>teacher2</td>\n",
       "      <td>86</td>\n",
       "    </tr>\n",
       "    <tr>\n",
       "      <th>8</th>\n",
       "      <td>teacher2</td>\n",
       "      <td>89</td>\n",
       "    </tr>\n",
       "    <tr>\n",
       "      <th>9</th>\n",
       "      <td>teacher2</td>\n",
       "      <td>76</td>\n",
       "    </tr>\n",
       "    <tr>\n",
       "      <th>10</th>\n",
       "      <td>teacher2</td>\n",
       "      <td>94</td>\n",
       "    </tr>\n",
       "    <tr>\n",
       "      <th>11</th>\n",
       "      <td>teacher2</td>\n",
       "      <td>87</td>\n",
       "    </tr>\n",
       "    <tr>\n",
       "      <th>12</th>\n",
       "      <td>teacher3</td>\n",
       "      <td>76</td>\n",
       "    </tr>\n",
       "    <tr>\n",
       "      <th>13</th>\n",
       "      <td>teacher3</td>\n",
       "      <td>66</td>\n",
       "    </tr>\n",
       "    <tr>\n",
       "      <th>14</th>\n",
       "      <td>teacher3</td>\n",
       "      <td>72</td>\n",
       "    </tr>\n",
       "    <tr>\n",
       "      <th>15</th>\n",
       "      <td>teacher3</td>\n",
       "      <td>71</td>\n",
       "    </tr>\n",
       "    <tr>\n",
       "      <th>16</th>\n",
       "      <td>teacher3</td>\n",
       "      <td>63</td>\n",
       "    </tr>\n",
       "    <tr>\n",
       "      <th>17</th>\n",
       "      <td>teacher3</td>\n",
       "      <td>70</td>\n",
       "    </tr>\n",
       "  </tbody>\n",
       "</table>\n",
       "</div>"
      ],
      "text/plain": [
       "     Teacher  Mark\n",
       "0   teacher1    90\n",
       "1   teacher1    76\n",
       "2   teacher1    65\n",
       "3   teacher1    67\n",
       "4   teacher1    73\n",
       "5   teacher1    81\n",
       "6   teacher2    81\n",
       "7   teacher2    86\n",
       "8   teacher2    89\n",
       "9   teacher2    76\n",
       "10  teacher2    94\n",
       "11  teacher2    87\n",
       "12  teacher3    76\n",
       "13  teacher3    66\n",
       "14  teacher3    72\n",
       "15  teacher3    71\n",
       "16  teacher3    63\n",
       "17  teacher3    70"
      ]
     },
     "metadata": {},
     "output_type": "display_data"
    }
   ],
   "source": [
    "display(test)"
   ]
  },
  {
   "cell_type": "code",
   "execution_count": 4,
   "metadata": {
    "ExecuteTime": {
     "end_time": "2020-04-07T09:34:05.012460Z",
     "start_time": "2020-04-07T09:34:04.772325Z"
    }
   },
   "outputs": [
    {
     "name": "stdout",
     "output_type": "stream",
     "text": [
      "Average marks of students assigned to teacher1: 75.33\n",
      "Average marks of students assigned to teacher2:  85.5\n",
      "Average marks of students assigned to teacher3: 69.67\n"
     ]
    }
   ],
   "source": [
    "mean_teacher1 = test.loc[test[\"Teacher\"]=='teacher1', 'Mark'].mean()\n",
    "print('Average marks of students assigned to teacher1: {0:.2f}'.format(mean_teacher1))\n",
    "mean_teacher2 = test.loc[test[\"Teacher\"]=='teacher2', 'Mark'].mean()\n",
    "print('Average marks of students assigned to teacher2: ', mean_teacher2)\n",
    "mean_teacher3 = test.loc[test[\"Teacher\"]=='teacher3', 'Mark'].mean()\n",
    "print('Average marks of students assigned to teacher3: {0:.2f}'.format(mean_teacher3))"
   ]
  },
  {
   "cell_type": "markdown",
   "metadata": {},
   "source": [
    "Box plot was plotted to visually represent the difference in the performance of the three groups. "
   ]
  },
  {
   "cell_type": "code",
   "execution_count": 5,
   "metadata": {
    "ExecuteTime": {
     "end_time": "2020-04-07T09:34:06.339495Z",
     "start_time": "2020-04-07T09:34:05.020452Z"
    }
   },
   "outputs": [
    {
     "data": {
      "image/png": "[encoded data removed]",
      "text/plain": [
       "<Figure size 720x432 with 1 Axes>"
      ]
     },
     "metadata": {},
     "output_type": "display_data"
    }
   ],
   "source": [
    "plt.figure(figsize=(10,6));\n",
    "sns.boxplot(y = 'Mark', data = test, x = 'Teacher');\n",
    "plt.title('Boxplot of marks scored by students assigned to each teacher');"
   ]
  },
  {
   "cell_type": "markdown",
   "metadata": {},
   "source": [
    "From the Python code it is observed that there is a considerable difference between the three sample means. The box plot also shows a considerable difference between the median of mark scored by the students of the 3 groups. \n",
    "\n",
    "However, difference in sample means is not sufficient to conclude that there would be a difference in population means.\n",
    "\n",
    "Let us find out whether these differences in sample mean is significant enough to conclude that there would be difference in population means as well. "
   ]
  },
  {
   "cell_type": "markdown",
   "metadata": {},
   "source": [
    "### Comparing more than two treatments\n",
    "\n",
    "This challenge appears similar to the previous challenge where the agency compared the performance of two different schools using 2 sample t test.\n",
    "\n",
    "However the difference is in the previous challenge the agency compared 2 different treatments and in this challenge there are 3 treatments to compare. \n",
    "\n",
    "The limitation of 2 sample t test is that it can compare only two treatments at a time. Thus when we have  more than two samples to compare, we need to perform multiple t tests.\n",
    "\n",
    "For example if we have 3 samples i.e. sample 1, sample 2 and sample 3, we will have to perform 3 two sample t tests. \n",
    "- one between sample 1 and sample 2\n",
    "- one between sample 2 and sample 3\n",
    "- one between sample 3 and sample 1\n",
    "\n",
    "The drawback of performing multiple t test are given below:\n",
    "- __Cumbersome:__ While comparing more than 2 treatments by performing t test, one has to perform multiple t test based on the number of treatments being compared.\n",
    "    For comparing n treatments one has to perform n(n-1)/2 no. of t tests. For example, in order to compare 5 different samples, one has to perform 5*4/2=10 independent t tests, which is cumbersome.\n",
    "    \n",
    "- __Increase in probability of Type 1 Error:__ Another drawback with performing multiple t tests is the increase in probability of type 1 error. If we perform one t test with 0.05 level of significance then it means there is 5% of probability of getting a type 1 error, which means the probability of the test being accurate is 95% or 0.95.\n",
    "\n",
    "    If we conduct 3 independent 3 tests, the probability of the test producing correct result will be $(0.95)*(0.95)*(0.95) = 0.857$  \n",
    "    \n",
    "    The level of significance ($\\alpha$) will be $1-0.857=0.143$\n",
    "    \n",
    "    Which means there is $14.3%$ probability of a type I error to occur which was just 5% in conducting a single t test. \n",
    "    \n",
    "    From the above points it is clear that comparing more than 2 treatments by performing multiple t tests is not recommended. \n",
    "\n",
    " \n",
    "\n"
   ]
  },
  {
   "cell_type": "markdown",
   "metadata": {},
   "source": [
    "### Analysis of variance (ANOVA)\n",
    "\n",
    "We have seen the problem associated with conducting multiple t tests for comparing means of more than 2 groups. Thus to compare the means of more than 2 groups we use another statistical inference technique called __An__alysis __o__f __Va__riance also known as __ANOVA__.\n",
    "\n",
    "There are three kinds of analysis of variance that can be performed.\n",
    "- One way ANOVA\n",
    "- Two way ANOVA\n",
    "- Multi way ANOVA\n",
    "\n",
    "###  One way ANOVA (or, One way analysis of variance) \n",
    "\n",
    "The one-way analysis of variance (ANOVA) is used to determine whether there are any significant differences between the means of three or more independent (unrelated) groups.\n",
    "\n",
    "We take samples from each group, compare the sample means and perform ANOVA to find out if there would be any significant differences in the population means of the groups.\n",
    "\n",
    "\n",
    "### Steps to perform one way ANOVA\n",
    "\n",
    "__Step 1:__ Define the Null and the alternate hypothesis.\n",
    "\n",
    "__Step 2:__ Calculate various sum of square values \n",
    "\n",
    "__Step 3:__ Calculate Degrees of freedom of sum of squares \n",
    "\n",
    "__Step 4:__ Calculate the mean square values \n",
    "\n",
    "__Step 5:__ Calculate the F statistic `Fcalculated`\n",
    "\n",
    "__Step 6:__ Find out the critical F statistic `Fcritical`\n",
    "\n",
    "__Step 7:__ Compare Fcalculated and  Fcritical and state the conclusion. \n",
    "\n",
    "The surveying agency performs one way ANOVA to compare the performance of three teachers. Let us see how the surveying agency performs one way ANOVA.\n",
    "\n",
    "#### Step 1: Defining hypothesis\n",
    "\n",
    "![](8_1.PNG)\n",
    "\n",
    "The Surveying agency defines the hypothesis as given below.\n",
    "\n",
    "__Null Hypothesis ($H_0$):__ There is no difference in the performances of the three teachers. i.e. the population mean of mark scored by the 3 groups who has studied under the 3 teachers are the same.\n",
    "\n",
    "$$ H_0: \\mu_1 = \\mu_2 = \\mu_3 $$\n",
    "\n",
    "__Alternate Hypothesis($H_a$):__ There is a difference between the performances of the 3 teachers i.e. the population mean of mark scored by the 3 groups are different.\n",
    "\n",
    "$$ H_a: \\mu_1 \\neq \\mu_2 \\neq \\mu_3 $$\n",
    "\n",
    "The level of significance was chosen to be  0.05 by the agency.\n",
    "\n",
    "#### Step 2: Calculation of sum of squares\n",
    "\n",
    "To understand ANOVA we need to understand the concept of sum of squares. There are three types of sum of squares, that we will be discussing:\n",
    "- Sum of squares (total) : denoted as SST\n",
    "- Sum of squares (between) : denoted as SSB\n",
    "- Sum of squares (within) : denoted as SSW\n",
    "\n",
    "##### Sum of Squares Total (SST)\n",
    "\n",
    "We have marks of 15 records i.e. mark scored by 15 students. If we calculate the mean of all the records and then calculate the sum of squared distance of the mean from each of the record, it is called __sum of squares total__.\n",
    "\n",
    "$$SST = \\sum_{i=1}^n(x_i - \\bar{X})^2$$\n",
    "\n",
    "n = total no. of records and   $\\bar{X}$ = The over all mean\n",
    "\n",
    "Following Python code is executed to calculate  Sum of Squares total (SST)."
   ]
  },
  {
   "cell_type": "code",
   "execution_count": 6,
   "metadata": {
    "ExecuteTime": {
     "end_time": "2020-04-07T09:34:06.675603Z",
     "start_time": "2020-04-07T09:34:06.343495Z"
    }
   },
   "outputs": [
    {
     "name": "stdout",
     "output_type": "stream",
     "text": [
      "SST: 1504.50\n"
     ]
    }
   ],
   "source": [
    "mean_overall = np.mean(test.Mark)\n",
    "SST = np.sum((test.Mark - mean_overall)**2)\n",
    "print('SST: {0:.2f}'.format(SST))"
   ]
  },
  {
   "cell_type": "markdown",
   "metadata": {},
   "source": [
    "Sum of square total was calculated to be 1504.5.\n",
    "\n",
    "##### Sum of Squares Within (SSW)\n",
    "\n",
    "For each sample, if we calculate the sample mean, find out the sum of squared distance of a sample mean from all the observations in that sample and add them up, it is called sum of squares within or SSW.\n",
    "\n",
    "SSW is the measure of variability within groups. So if we have 3 independent groups SSW can be found as follows:\n",
    "\n",
    "![](8_2.PNG)\n",
    "\n",
    "We have 3 treatments/samples here i.e. three groups under the 3 teachers. The agency calculates SSW as follows:\n",
    "\n",
    "![](8_3.PNG)\n",
    "\n"
   ]
  },
  {
   "cell_type": "code",
   "execution_count": 7,
   "metadata": {
    "ExecuteTime": {
     "end_time": "2020-04-07T09:34:06.727585Z",
     "start_time": "2020-04-07T09:34:06.687602Z"
    }
   },
   "outputs": [
    {
     "name": "stdout",
     "output_type": "stream",
     "text": [
      "SSW: 732.17\n"
     ]
    }
   ],
   "source": [
    "SSW1 = np.sum((test.loc[test.Teacher == 'teacher1', 'Mark'] - mean_teacher1)**2)\n",
    "SSW2 = np.sum((test.loc[test.Teacher == 'teacher2', 'Mark'] - mean_teacher2)**2)\n",
    "SSW3 = np.sum((test.loc[test.Teacher == 'teacher3', 'Mark'] - mean_teacher3)**2)\n",
    "SSW = SSW1 + SSW2 + SSW3\n",
    "print('SSW: {0:.2f}'.format(SSW))"
   ]
  },
  {
   "cell_type": "markdown",
   "metadata": {},
   "source": [
    "The sum of square with in was found to be 732.1667."
   ]
  },
  {
   "cell_type": "markdown",
   "metadata": {},
   "source": [
    "#### Sum of Squares Between (SSB)\n",
    "Sum of squares between is the variability between samples. The sum of square between for a sample is calculated by multiplying number of observations in the sample with the squared difference of the sample mean and overall mean.\n",
    "\n",
    "![](8_4.PNG)\n",
    "\n",
    "The Agency calculates the sum of squares between as shown below:\n",
    "\n"
   ]
  },
  {
   "cell_type": "code",
   "execution_count": 8,
   "metadata": {
    "ExecuteTime": {
     "end_time": "2020-04-07T09:34:06.907659Z",
     "start_time": "2020-04-07T09:34:06.735585Z"
    }
   },
   "outputs": [
    {
     "name": "stdout",
     "output_type": "stream",
     "text": [
      "SSB: 772.33\n"
     ]
    }
   ],
   "source": [
    "SSB_teacher1 = len(test.loc[test.Teacher=='teacher1','Mark']) * ((mean_teacher1 - mean_overall)**2)\n",
    "SSB_teacher2 = len(test.loc[test.Teacher=='teacher2','Mark']) * ((mean_teacher2 - mean_overall)**2)\n",
    "SSB_teacher3 = len(test.loc[test.Teacher=='teacher3','Mark']) * ((mean_teacher3 - mean_overall)**2)\n",
    "SSB = SSB_teacher1 + SSB_teacher2 + SSB_teacher3\n",
    "print(\"SSB: {0:.2f}\".format(SSB))"
   ]
  },
  {
   "cell_type": "markdown",
   "metadata": {},
   "source": [
    "#### Relationship between various sum of squares\n",
    "\n",
    "We have calculated SST,SSW and SSB. The Python code below shows that sum of variability with in groups (SSW) and variability between groups (SSB) is equals to the total sum of squares (SST). Which suggests the total variability in a data is caused by the variability among different groups and the variability within the groups."
   ]
  },
  {
   "cell_type": "code",
   "execution_count": 9,
   "metadata": {
    "ExecuteTime": {
     "end_time": "2020-04-07T09:34:07.089303Z",
     "start_time": "2020-04-07T09:34:06.915658Z"
    }
   },
   "outputs": [
    {
     "name": "stdout",
     "output_type": "stream",
     "text": [
      "SSB: 772.33\n",
      "SSW: 732.17\n",
      "SSW + SSB: 1504.50\n",
      "SST: 1504.50\n"
     ]
    }
   ],
   "source": [
    "print(\"SSB: {0:.2f}\".format(SSB))\n",
    "print('SSW: {0:.2f}'.format(SSW))\n",
    "print('SSW + SSB: {0:.2f}'.format(SSB+SSW))\n",
    "print(\"SST: {0:.2f}\".format(SST))"
   ]
  },
  {
   "cell_type": "markdown",
   "metadata": {},
   "source": [
    "![](8_5.PNG)"
   ]
  },
  {
   "cell_type": "markdown",
   "metadata": {},
   "source": [
    "#### Step 3: Calculating degress of freedom of sum of squares\n",
    "\n",
    "There is a degree of freedom is associated with each sum of squares. The following table gives the degrees of freedom associated with the 3 types of sum of squares that we discussed.\n",
    "\n",
    "![](8_6.PNG)\n",
    "\n",
    "As we have seen in the  table:\n",
    "- DF_{SST}  = N-1\n",
    "- DF_{SSW} = (n-1)k\n",
    "- DF_{SSB}  = k-1\n",
    "\n",
    "![](8_7.PNG)\n",
    "\n",
    "The Agency calculates various degrees of freedoms as given below:"
   ]
  },
  {
   "cell_type": "code",
   "execution_count": 10,
   "metadata": {
    "ExecuteTime": {
     "end_time": "2020-04-07T09:34:07.245268Z",
     "start_time": "2020-04-07T09:34:07.097295Z"
    }
   },
   "outputs": [
    {
     "name": "stdout",
     "output_type": "stream",
     "text": [
      "df_total:  17\n",
      "df_between:  2\n",
      "df_between:  15\n"
     ]
    }
   ],
   "source": [
    "N = 18\n",
    "k = 3\n",
    "n = 6\n",
    "df_total = N-1\n",
    "df_between = k-1\n",
    "df_within = k * (n-1)\n",
    "print(\"df_total: \", df_total)\n",
    "print(\"df_between: \", df_between)\n",
    "print(\"df_between: \", df_within)"
   ]
  },
  {
   "cell_type": "markdown",
   "metadata": {},
   "source": [
    "#### Step 4: Calculating mean square values\n",
    "\n",
    "Mean squares are the ratio of sum of squares and the corresponding degrees of freedom. Thus we can define 3 different kinds of mean squares as follows:\n",
    "\n",
    "![](8_8.PNG)\n",
    "\n",
    "The surveying agency finds out the mean square values as follows:\n"
   ]
  },
  {
   "cell_type": "code",
   "execution_count": 11,
   "metadata": {
    "ExecuteTime": {
     "end_time": "2020-04-07T09:34:07.393221Z",
     "start_time": "2020-04-07T09:34:07.253253Z"
    }
   },
   "outputs": [
    {
     "name": "stdout",
     "output_type": "stream",
     "text": [
      "MSW: 88.50\n",
      "MSB: 386.17\n",
      "MSW: 48.81\n"
     ]
    }
   ],
   "source": [
    "MST = SST/df_total\n",
    "MSB = SSB/df_between\n",
    "MSW = SSW/df_within\n",
    "print(\"MSW: {0:.2f}\".format(MST))\n",
    "print(\"MSB: {0:.2f}\".format(MSB))\n",
    "print(\"MSW: {0:.2f}\".format(MSW))"
   ]
  },
  {
   "cell_type": "markdown",
   "metadata": {},
   "source": [
    "#### Step 5: Calculating F statistic\n",
    "\n",
    "Mean square values represent variances. In the sampling distribution of sample variance section we have seen that ratio of two sample variances taken from normally distributed populations has a F distribution. Thus ratio of mean square between groups (MSB) and mean square within groups(MSW) has F distribution.\n",
    "\n",
    "Thus __F-statistic__ is nothing but the __ratio__ of mean square between groups (__MSB__) and the mean square within groups (__MSW__).\n",
    "\n",
    "$$ F = \\frac{MSB}{MSW}$$\n",
    "\n",
    "> A higher F statistic (greater than 1) suggests that the variance in the data is more due to the variance between groups than the variance within groups, which suggests there is a significant effect of the treatments\n",
    "\n",
    "> A lower F statistic (less than 1) suggests that the variance in the data is more due to the variance within groups than the variance between groups, which suggests there may not be a significant effect of the treatments.\n",
    "\n",
    "Let us calculate the F statistic. The Python code is given below:\n",
    "\n"
   ]
  },
  {
   "cell_type": "code",
   "execution_count": 12,
   "metadata": {
    "ExecuteTime": {
     "end_time": "2020-04-07T09:34:07.555323Z",
     "start_time": "2020-04-07T09:34:07.401218Z"
    }
   },
   "outputs": [
    {
     "name": "stdout",
     "output_type": "stream",
     "text": [
      "F calculated: 7.911\n"
     ]
    }
   ],
   "source": [
    "F_calculated = MSB/MSW\n",
    "print(\"F calculated: {0:.3f}\".format(F_calculated))"
   ]
  },
  {
   "cell_type": "markdown",
   "metadata": {},
   "source": [
    "#### Step 6: Finding the critical F value\n",
    "\n",
    "After calculating the F statistic, we need to find the critical F value according to the level of significance and the degrees of freedom associated with our observations.\n",
    "\n",
    "The critical F statistic is a point in the F distribution curve, which encloses the area specified by the significance level to its right under the F distribution curve. \n",
    "\n",
    "For example, if we find the critical F value to be x for a significance level of 0.05, then any point on the F distribution curve that is __greater than x (or to the right of x)__, has a probability of less than 0.05 of being occurred. \n",
    "\n",
    "In hypothesis testing we reject a hypothesis if the probability of its occurrence is less than the significance level. The region which is to the right of the critical F value is called rejection region. The same is pictorially represented below.\n",
    "\n",
    "![](8_9.PNG)\n",
    "\n",
    "\n",
    "As F statistic is the ratio of two variances (mean squares), 2 degrees of freedom are associated with each F statistic. One being the degrees of freedom of the numerator (MSB) and other being that of the denominator (MSW).\n",
    "\n",
    "The surveying agency has set the level of significance (α) as 0.05.\n",
    "\n",
    "As already calculated, numerator is MSB which has 2 degrees of freedom and the denominator MSW has 12 degrees of freedom. So the agency calculates the critical F value corresponding to α=0.05, DF1=2 and DF2=15 using Python function f.ppf() as shown below:\n",
    "\n"
   ]
  },
  {
   "cell_type": "code",
   "execution_count": 13,
   "metadata": {
    "ExecuteTime": {
     "end_time": "2020-04-07T09:34:07.727281Z",
     "start_time": "2020-04-07T09:34:07.563322Z"
    }
   },
   "outputs": [
    {
     "name": "stdout",
     "output_type": "stream",
     "text": [
      "F_critical:  3.6823203436732412\n"
     ]
    }
   ],
   "source": [
    "from scipy.stats import f\n",
    "F_critical = f.ppf(0.95, 2, 15)\n",
    "print(\"F_critical: \", F_critical)"
   ]
  },
  {
   "cell_type": "markdown",
   "metadata": {},
   "source": [
    "#### Step 7: Comparing the F statistics and arriving at a conclusion\n",
    "\n",
    "As discussed, any F statistic that is greater than the critical F statistic has a probability of occurrence which is less than the level of significance. \n",
    "\n",
    "Thus we can conclude that\n",
    "\n",
    "![](8_10.PNG)\n",
    "\n",
    "The surveying agency has found:\n",
    "\n",
    "$F_{calculated}$ = 7.91145.  \n",
    "$F_{critical}$ = 3.68232\n",
    "\n",
    "As $F_{calculated}$  > $F_{critical}$ we can say that the $F_{calculated}$ falls in the rejection region, hence the Null hypothesis can be rejected at a significance level of 0.05.\n",
    "\n",
    "Hence the agency accepts the alternate hypothesis that there is a significant difference in the performance of the 3 teachers.  \n",
    "\n",
    "__Solution to Challenge 6.2:__ By performing one was ANOVA, the surveying agency concludes that performance of students is affected by the teachers under whom they study. \n",
    "\n",
    "#### Performing one-way ANOVA in Python using [f_oneway() function](https://docs.scipy.org/doc/scipy/reference/generated/scipy.stats.f_oneway.html)\n",
    "\n",
    "In Python environment we can perform ANOVA by using function f_oneway() from scipy.stats module.\n",
    "\n",
    "`f_oneway()` function takes the data frame containing the observations as input and calculates the F statistic. \n",
    "\n",
    "We will use the f_oneway() function on the data frame test which contains the mark of all the 18 students studied under the 3 different teachers. "
   ]
  },
  {
   "cell_type": "code",
   "execution_count": 14,
   "metadata": {
    "ExecuteTime": {
     "end_time": "2020-04-07T09:34:07.927232Z",
     "start_time": "2020-04-07T09:34:07.735277Z"
    }
   },
   "outputs": [
    {
     "name": "stdout",
     "output_type": "stream",
     "text": [
      "F_onewayResult(statistic=7.911450034145229, pvalue=0.004509549994581455)\n"
     ]
    }
   ],
   "source": [
    "import scipy.stats as stats\n",
    "result_anova = stats.f_oneway(test.loc[test.Teacher=='teacher1', 'Mark'],\n",
    "                             test.loc[test.Teacher=='teacher2', 'Mark'],\n",
    "                             test.loc[test.Teacher=='teacher3', 'Mark'])\n",
    "print(result_anova)"
   ]
  },
  {
   "cell_type": "code",
   "execution_count": 15,
   "metadata": {
    "ExecuteTime": {
     "end_time": "2020-04-07T09:47:44.353666Z",
     "start_time": "2020-04-07T09:47:38.086785Z"
    }
   },
   "outputs": [
    {
     "data": {
      "text/html": [
       "<div>\n",
       "<style scoped>\n",
       "    .dataframe tbody tr th:only-of-type {\n",
       "        vertical-align: middle;\n",
       "    }\n",
       "\n",
       "    .dataframe tbody tr th {\n",
       "        vertical-align: top;\n",
       "    }\n",
       "\n",
       "    .dataframe thead th {\n",
       "        text-align: right;\n",
       "    }\n",
       "</style>\n",
       "<table border=\"1\" class=\"dataframe\">\n",
       "  <thead>\n",
       "    <tr style=\"text-align: right;\">\n",
       "      <th></th>\n",
       "      <th>sum_sq</th>\n",
       "      <th>df</th>\n",
       "      <th>F</th>\n",
       "      <th>PR(&gt;F)</th>\n",
       "    </tr>\n",
       "  </thead>\n",
       "  <tbody>\n",
       "    <tr>\n",
       "      <th>Teacher</th>\n",
       "      <td>772.333333</td>\n",
       "      <td>2.0</td>\n",
       "      <td>7.91145</td>\n",
       "      <td>0.00451</td>\n",
       "    </tr>\n",
       "    <tr>\n",
       "      <th>Residual</th>\n",
       "      <td>732.166667</td>\n",
       "      <td>15.0</td>\n",
       "      <td>NaN</td>\n",
       "      <td>NaN</td>\n",
       "    </tr>\n",
       "  </tbody>\n",
       "</table>\n",
       "</div>"
      ],
      "text/plain": [
       "              sum_sq    df        F   PR(>F)\n",
       "Teacher   772.333333   2.0  7.91145  0.00451\n",
       "Residual  732.166667  15.0      NaN      NaN"
      ]
     },
     "execution_count": 15,
     "metadata": {},
     "output_type": "execute_result"
    }
   ],
   "source": [
    "import statsmodels.api as sm\n",
    "from statsmodels.formula.api import ols\n",
    "results = ols('Mark ~Teacher', data = test).fit()\n",
    "aov_table = sm.stats.anova_lm(results, typ = 2)  \n",
    "aov_table"
   ]
  },
  {
   "cell_type": "code",
   "execution_count": 16,
   "metadata": {
    "ExecuteTime": {
     "end_time": "2020-04-07T09:47:49.077900Z",
     "start_time": "2020-04-07T09:47:48.949875Z"
    }
   },
   "outputs": [
    {
     "data": {
      "text/html": [
       "<div>\n",
       "<style scoped>\n",
       "    .dataframe tbody tr th:only-of-type {\n",
       "        vertical-align: middle;\n",
       "    }\n",
       "\n",
       "    .dataframe tbody tr th {\n",
       "        vertical-align: top;\n",
       "    }\n",
       "\n",
       "    .dataframe thead th {\n",
       "        text-align: right;\n",
       "    }\n",
       "</style>\n",
       "<table border=\"1\" class=\"dataframe\">\n",
       "  <thead>\n",
       "    <tr style=\"text-align: right;\">\n",
       "      <th></th>\n",
       "      <th>df</th>\n",
       "      <th>sum_sq</th>\n",
       "      <th>mean_sq</th>\n",
       "      <th>F</th>\n",
       "      <th>PR(&gt;F)</th>\n",
       "    </tr>\n",
       "  </thead>\n",
       "  <tbody>\n",
       "    <tr>\n",
       "      <th>Teacher</th>\n",
       "      <td>2.0</td>\n",
       "      <td>772.333333</td>\n",
       "      <td>386.166667</td>\n",
       "      <td>7.91145</td>\n",
       "      <td>0.00451</td>\n",
       "    </tr>\n",
       "    <tr>\n",
       "      <th>Residual</th>\n",
       "      <td>15.0</td>\n",
       "      <td>732.166667</td>\n",
       "      <td>48.811111</td>\n",
       "      <td>NaN</td>\n",
       "      <td>NaN</td>\n",
       "    </tr>\n",
       "  </tbody>\n",
       "</table>\n",
       "</div>"
      ],
      "text/plain": [
       "            df      sum_sq     mean_sq        F   PR(>F)\n",
       "Teacher    2.0  772.333333  386.166667  7.91145  0.00451\n",
       "Residual  15.0  732.166667   48.811111      NaN      NaN"
      ]
     },
     "execution_count": 16,
     "metadata": {},
     "output_type": "execute_result"
    }
   ],
   "source": [
    "aov_table = sm.stats.anova_lm(results, typ = 1)   # Use this type 1 anova\n",
    "aov_table"
   ]
  },
  {
   "cell_type": "markdown",
   "metadata": {},
   "source": [
    "#### Challenge 6.3: Effect of multiple factors on performance of students\n",
    "\n",
    "The surveying agency compared the performance of three teachers based on the mark scored by students who have studied under them by performing One way ANOVA. Here the __dependent variable mark is quantitative__ in nature and there is __only one independent variable__ i.e. teacher which is __categorical__ nature.\n",
    "\n",
    "Now the agency wants to know if there are any other factors that affect the performance of students.  \n",
    "\n",
    "The agency notices that out of the 18 students who are picked 9 are male and 9 are female. The agency is interested to find out whether there is a significant difference between the performance of male students and female students. \n",
    "\n",
    "If there is a significant difference between the performance of male and female students, the dependent variable mark is affected by two factors, i.e., teacher and gender. When there are __two factors__ that affect the population and both the factors are __categorical__ in nature, we have to perform __two way ANOVA__.  \n",
    "\n",
    "The agency performs two way ANOVA to find out the combined effect of teacher and gender on the performance of students. "
   ]
  },
  {
   "cell_type": "markdown",
   "metadata": {},
   "source": [
    "##### Reference:\n",
    "1. [statsmodels Python ANOVA](https://www.statsmodels.org/stable/generated/statsmodels.stats.anova.anova_lm.html)\n",
    "2. [Python for Data Science - Analysis of Variance (ANOVA)](https://pythonfordatascience.org/anova-python/)"
   ]
  }
 ],
 "metadata": {
  "kernelspec": {
   "display_name": "Python 3",
   "language": "python",
   "name": "python3"
  },
  "language_info": {
   "codemirror_mode": {
    "name": "ipython",
    "version": 3
   },
   "file_extension": ".py",
   "mimetype": "text/x-python",
   "name": "python",
   "nbconvert_exporter": "python",
   "pygments_lexer": "ipython3",
   "version": "3.7.6"
  }
 },
 "nbformat": 4,
 "nbformat_minor": 4
}
