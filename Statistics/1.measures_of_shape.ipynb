{
 "cells": [
  {
   "cell_type": "markdown",
   "metadata": {},
   "source": [
    "# Measures of shape - Skewness and Kurtosis\n",
    "\n",
    "## Skewness\n",
    "\n",
    "\n",
    "\n",
    "It is the __degree of distortion/measure of asymmetry__ from the symmetrical bell curve or the normal distribution. It measures the lack of symmetry in data distribution. It differentiates extreme values in one versus the other tail. A symmetrical distribution will have a skewness of 0.\n",
    "\n",
    "There are two types of Skewness: Positive and Negative.\n",
    "\n",
    "![](1_skewness.PNG)\n",
    "\n",
    "__Positive Skewness__ means when the tail on the right side of the distribution is longer or fatter. The mean and median will be greater than the mode.  \n",
    "__Negative Skewness__ is when the tail of the left side of the distribution is longer or fatter than the tail on the right side. The mean and median will be less than the mode.\n",
    "\n",
    "### So, when is the skewness too much?\n",
    "The rule of thumb seems to be:\n",
    "- If the skewness is between -0.5 and 0.5, the data are fairly symmetrical.\n",
    "- If the skewness is between -1 and -0.5(negatively skewed) or between 0.5 and 1(positively skewed), the data are moderately skewed.\n",
    "- If the skewness is less than -1(negatively skewed) or greater than 1(positively skewed), the data are highly skewed.\n",
    "\n",
    "![](1_skew_right.PNG)\n",
    "\n",
    "\n",
    "> If the peak of the distribution was left of the average value, portraying a positive skewness in the distribution. It would mean that many houses were being sold for less than the average value\n",
    "\n",
    "> If the peak of the distributed data was right of the average value, that would mean a negative skew. This would mean that the houses were being sold for more than the average value.\n",
    "\n",
    "![](1_skewness_code.PNG)\n",
    "\n",
    "![](1_skewness_log.PNG)\n",
    "\n",
    "The skewed data can reduce the performance of the machine learning models - __It affects the regression intercept, coefficients associated with the model.__. Therfore we make a log transformation to remove the skewness.\n",
    "\n",
    "A transformation may be used to reduce skewness.  A distribution that is symmetric or nearly so is often easier to handle and\n",
    "interpret than a skewed distribution. More specifically, a normal or Gaussian distribution is often regarded as ideal as it is assumed by many statistical methods.\n",
    "\n",
    "> To reduce right skewness, take roots or logarithms or reciprocals (roots are weakest). This is the commonest problem in practice.\n",
    "\n",
    "> To reduce left skewness, take squares or cubes or higher powers.\n",
    "\n",
    "__Important : If you log transform the response variable, it is required to also log transform feature variables that are skewed.__\n",
    "\n"
   ]
  },
  {
   "cell_type": "markdown",
   "metadata": {},
   "source": [
    "***\n",
    "\n",
    "## Kurtosis\n",
    "\n",
    "Kurtosis is all about the tails of the distribution — not the peakedness or flatness. It is actually the measure of outliers present in the distribution.\n",
    "\n",
    "__High kurtosis (+ve value)__ in a data set is an indicator that data has heavy tails or outliers. If there is a high kurtosis, then, we need to investigate why do we have so many outliers. \n",
    "\n",
    "__Low kurtosis (-ve value)__ in a data set is an indicator that data has light tails or lack of outliers. If we get low kurtosis(too good to be true), then also we need to investigate and trim the dataset of unwanted results.\n",
    "\n",
    "This heaviness or lightness in the tails usually means that your data looks flatter (or less flat) compared to the normal distribution. The standard normal distribution has a kurtosis of 3, so if your values are close to that then your graph’s tails are nearly normal. These distributions are called mesokurtic.\n",
    "\n",
    "\n",
    "> The main difference between skewness and kurtosis is that the skewness refers to the degree of symmetry, whereas the kurtosis refers to the degree of presence of outliers in the distribution."
   ]
  },
  {
   "cell_type": "markdown",
   "metadata": {},
   "source": [
    "Reference:\n",
    "1. [Skew and Kurtosis: 2 Important Statistics terms you need to know in Data Science](https://codeburst.io/2-important-statistics-terms-you-need-to-know-in-data-science-skewness-and-kurtosis-388fef94eeaa)\n",
    "2. [Transforming Skewed Data](https://towardsdatascience.com/transforming-skewed-data-73da4c2d0d16)\n",
    "3. [How to deal with Skewed Dataset in Machine Learning?](https://becominghuman.ai/how-to-deal-with-skewed-dataset-in-machine-learning-afd2928011cc)\n",
    "4. [Transformations and their need in ML](http://fmwww.bc.edu/repec/bocode/t/transint.html)\n",
    "5. [Understanding Descriptive Statistics](https://towardsdatascience.com/understanding-descriptive-statistics-c9c2b0641291)\n",
    "6. [StatsHow To - Kurtosis](https://www.statisticshowto.datasciencecentral.com/probability-and-statistics/statistics-definitions/kurtosis-leptokurtic-platykurtic/)"
   ]
  },
  {
   "cell_type": "markdown",
   "metadata": {},
   "source": [
    "FYI\n",
    "\n",
    "__Measure of central tendency:__ Mean, Median, Mode, AM, GM, HM\n",
    "\n",
    "__Measure of dispersion:__ Range, Variance, Standard deviation\n",
    "\n",
    "__Measure of spred:__ Skewness, Kurtosis"
   ]
  }
 ],
 "metadata": {
  "kernelspec": {
   "display_name": "Python 3",
   "language": "python",
   "name": "python3"
  },
  "language_info": {
   "codemirror_mode": {
    "name": "ipython",
    "version": 3
   },
   "file_extension": ".py",
   "mimetype": "text/x-python",
   "name": "python",
   "nbconvert_exporter": "python",
   "pygments_lexer": "ipython3",
   "version": "3.7.6"
  }
 },
 "nbformat": 4,
 "nbformat_minor": 4
}
