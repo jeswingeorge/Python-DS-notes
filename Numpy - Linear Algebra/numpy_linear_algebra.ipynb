{
 "cells": [
  {
   "cell_type": "markdown",
   "metadata": {},
   "source": [
    "Numpy has a seperate module named __linalg__ for linear algebra."
   ]
  },
  {
   "cell_type": "code",
   "execution_count": 1,
   "metadata": {
    "ExecuteTime": {
     "end_time": "2020-04-15T06:45:26.535951Z",
     "start_time": "2020-04-15T06:45:26.177067Z"
    }
   },
   "outputs": [],
   "source": [
    "import numpy as np"
   ]
  },
  {
   "cell_type": "code",
   "execution_count": 4,
   "metadata": {
    "ExecuteTime": {
     "end_time": "2020-04-15T06:47:01.919775Z",
     "start_time": "2020-04-15T06:47:01.900783Z"
    }
   },
   "outputs": [
    {
     "data": {
      "text/plain": [
       "array([[0, 1, 2],\n",
       "       [3, 4, 5],\n",
       "       [6, 7, 8]])"
      ]
     },
     "execution_count": 4,
     "metadata": {},
     "output_type": "execute_result"
    }
   ],
   "source": [
    "mat1 = np.arange(9).reshape(3,3)\n",
    "mat1"
   ]
  },
  {
   "cell_type": "code",
   "execution_count": 5,
   "metadata": {
    "ExecuteTime": {
     "end_time": "2020-04-15T06:47:31.849262Z",
     "start_time": "2020-04-15T06:47:31.841268Z"
    }
   },
   "outputs": [
    {
     "data": {
      "text/plain": [
       "array([[ 0,  2,  4],\n",
       "       [ 6,  8, 10],\n",
       "       [12, 14, 16]])"
      ]
     },
     "execution_count": 5,
     "metadata": {},
     "output_type": "execute_result"
    }
   ],
   "source": [
    "mat2 = mat1*2\n",
    "mat2"
   ]
  },
  {
   "cell_type": "code",
   "execution_count": 6,
   "metadata": {
    "ExecuteTime": {
     "end_time": "2020-04-15T06:47:48.446060Z",
     "start_time": "2020-04-15T06:47:48.439048Z"
    }
   },
   "outputs": [
    {
     "data": {
      "text/plain": [
       "array([[ 0,  5, 10],\n",
       "       [15, 20, 25],\n",
       "       [30, 35, 40]])"
      ]
     },
     "execution_count": 6,
     "metadata": {},
     "output_type": "execute_result"
    }
   ],
   "source": [
    "mat3 = mat1*5\n",
    "mat3"
   ]
  },
  {
   "cell_type": "markdown",
   "metadata": {},
   "source": [
    "## Performing dot product of matrices"
   ]
  },
  {
   "cell_type": "code",
   "execution_count": 7,
   "metadata": {
    "ExecuteTime": {
     "end_time": "2020-04-15T06:48:32.363707Z",
     "start_time": "2020-04-15T06:48:32.353709Z"
    }
   },
   "outputs": [
    {
     "data": {
      "text/plain": [
       "array([[ 1800,  2340,  2880],\n",
       "       [ 5580,  7200,  8820],\n",
       "       [ 9360, 12060, 14760]])"
      ]
     },
     "execution_count": 7,
     "metadata": {},
     "output_type": "execute_result"
    }
   ],
   "source": [
    "np.linalg.multi_dot([mat1, mat2, mat3])"
   ]
  },
  {
   "cell_type": "markdown",
   "metadata": {},
   "source": [
    "Reference: [Geek for geeks linear algebra](https://www.geeksforgeeks.org/numpy-linear-algebra/)"
   ]
  },
  {
   "cell_type": "code",
   "execution_count": 12,
   "metadata": {
    "ExecuteTime": {
     "end_time": "2020-04-15T06:53:19.381423Z",
     "start_time": "2020-04-15T06:53:19.371431Z"
    }
   },
   "outputs": [
    {
     "name": "stdout",
     "output_type": "stream",
     "text": [
      "Matrix 1:\n",
      " [[0 1 2]\n",
      " [3 4 5]\n",
      " [6 7 8]]\n",
      "Rank of mat1: 2\n",
      "\n",
      "Trace of Amat1: 12\n",
      "\n",
      "Determinant of mat1: 0.0\n",
      "\n",
      "Matrix mat1 raised to power 3:\n",
      " [[ 180  234  288]\n",
      " [ 558  720  882]\n",
      " [ 936 1206 1476]]\n"
     ]
    }
   ],
   "source": [
    "print('Matrix 1:\\n', mat1) \n",
    "\n",
    "# Rank of a matrix\n",
    "print(\"Rank of mat1:\", np.linalg.matrix_rank(mat1))\n",
    " \n",
    "# Trace of matrix mat1\n",
    "print(\"\\nTrace of Amat1:\", np.trace(mat1))\n",
    " \n",
    "# Determinant of a matrix\n",
    "print(\"\\nDeterminant of mat1:\", np.linalg.det(mat1))\n",
    " \n",
    "print(\"\\nMatrix mat1 raised to power 3:\\n\",np.linalg.matrix_power(mat1, 3))"
   ]
  },
  {
   "cell_type": "markdown",
   "metadata": {},
   "source": [
    "***\n",
    "\n",
    "Consider a system of linear equations given below:\n",
    "\n",
    "$$ 3x + y = 9 $$\n",
    "\n",
    "$$  x + 2y = 8 $$\n",
    "\n",
    "Now, let us try to verify if given system has unique solutions. In case, if solutions exist, we find inverse and rank of the matrix so formed."
   ]
  },
  {
   "cell_type": "code",
   "execution_count": 13,
   "metadata": {
    "ExecuteTime": {
     "end_time": "2020-04-15T08:35:08.216606Z",
     "start_time": "2020-04-15T08:35:08.196611Z"
    }
   },
   "outputs": [],
   "source": [
    "a = np.array([[3, 1],[1, 2]])\n",
    "b = np.array([9, 8])"
   ]
  },
  {
   "cell_type": "markdown",
   "metadata": {},
   "source": [
    "Checking if system of equation has unique solution"
   ]
  },
  {
   "cell_type": "code",
   "execution_count": 16,
   "metadata": {
    "ExecuteTime": {
     "end_time": "2020-04-15T08:37:32.671051Z",
     "start_time": "2020-04-15T08:37:32.663057Z"
    }
   },
   "outputs": [
    {
     "name": "stdout",
     "output_type": "stream",
     "text": [
      "5.000000000000001\n"
     ]
    }
   ],
   "source": [
    "print(np.linalg.det(a))  # finding determinant of matrix"
   ]
  },
  {
   "cell_type": "markdown",
   "metadata": {},
   "source": [
    "Since det = 5 which is non-zero. Hence, we have unique solutions. "
   ]
  },
  {
   "cell_type": "code",
   "execution_count": 15,
   "metadata": {
    "ExecuteTime": {
     "end_time": "2020-04-15T08:37:04.842666Z",
     "start_time": "2020-04-15T08:37:04.703984Z"
    }
   },
   "outputs": [
    {
     "data": {
      "text/plain": [
       "array([2., 3.])"
      ]
     },
     "execution_count": 15,
     "metadata": {},
     "output_type": "execute_result"
    }
   ],
   "source": [
    "# Finding unique solution\n",
    "np.linalg.solve(a, b)"
   ]
  },
  {
   "cell_type": "markdown",
   "metadata": {},
   "source": [
    "Calculating Inverse: Since, determinant is non-zero hence, matrix is invertible"
   ]
  },
  {
   "cell_type": "code",
   "execution_count": 17,
   "metadata": {
    "ExecuteTime": {
     "end_time": "2020-04-15T08:37:39.074954Z",
     "start_time": "2020-04-15T08:37:39.062955Z"
    }
   },
   "outputs": [
    {
     "name": "stdout",
     "output_type": "stream",
     "text": [
      "[[ 0.4 -0.2]\n",
      " [-0.2  0.6]]\n"
     ]
    }
   ],
   "source": [
    "print(np.linalg.inv(a))"
   ]
  },
  {
   "cell_type": "code",
   "execution_count": null,
   "metadata": {},
   "outputs": [],
   "source": []
  },
  {
   "cell_type": "code",
   "execution_count": null,
   "metadata": {},
   "outputs": [],
   "source": []
  },
  {
   "cell_type": "code",
   "execution_count": null,
   "metadata": {},
   "outputs": [],
   "source": []
  },
  {
   "cell_type": "code",
   "execution_count": null,
   "metadata": {},
   "outputs": [],
   "source": []
  },
  {
   "cell_type": "code",
   "execution_count": null,
   "metadata": {},
   "outputs": [],
   "source": []
  }
 ],
 "metadata": {
  "kernelspec": {
   "display_name": "Python 3",
   "language": "python",
   "name": "python3"
  },
  "language_info": {
   "codemirror_mode": {
    "name": "ipython",
    "version": 3
   },
   "file_extension": ".py",
   "mimetype": "text/x-python",
   "name": "python",
   "nbconvert_exporter": "python",
   "pygments_lexer": "ipython3",
   "version": "3.7.6"
  }
 },
 "nbformat": 4,
 "nbformat_minor": 4
}
