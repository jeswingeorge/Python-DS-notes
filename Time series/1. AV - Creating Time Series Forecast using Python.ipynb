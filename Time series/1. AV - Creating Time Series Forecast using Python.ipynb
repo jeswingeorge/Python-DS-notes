{
 "cells": [
  {
   "cell_type": "markdown",
   "metadata": {},
   "source": [
    "# [Creating Time Series Forecast using Python]()\n",
    "\n",
    "This course is divided into the below sections:\n",
    "- Understanding Time Series\n",
    "- Data Exploration\n",
    "- Time Series Forecasting using different methods\n",
    "\n",
    "## Introduction to Time Series\n",
    "Which of the following do you think is an example of time series?\n",
    "\n",
    "![ts-1](images/ts-1.PNG)\n",
    "\n",
    "__Time Series is generally data which is collected over time and is dependent on it.__\n",
    "\n",
    "Here we see that the count of cars is independent of time, hence it is not a time series. While the CO2 level increases with respect to time, hence it is a time series.\n",
    "\n",
    "__Definition of time series:__ A series of data points collected in time order is known as a __time series__. Most of business houses work on time series data to analyze sales number for the next year, website traffic, count of traffic, number of calls received, etc. Data of a time series can be used for forecasting.\n",
    "\n",
    "Not every data collected with respect to time represents a time series.\n",
    "\n",
    "***\n",
    "***\n",
    "\n",
    "Some of the examples of time series are:\n",
    "\n",
    "![ts-2](images/ts-2.PNG)\n",
    "\n",
    "![ts-3](images/ts-3.PNG)\n",
    "\n",
    "![ts-4](images/ts-4.PNG)\n",
    "\n",
    "![ts-5](images/ts-5.PNG)"
   ]
  },
  {
   "cell_type": "markdown",
   "metadata": {},
   "source": [
    "***\n",
    "***\n",
    "\n",
    "Now as we have an understanding of what a time series is and the difference between a time series and a non time series, let’s now look at the components of a time series.\n",
    "\n",
    "## Components of a Time Series\n",
    "\n",
    "1. __Trend:__ Trend is a general direction in which something is developing or changing. So we see an increasing trend in this time series. We can see that the passenger count is increasing with the number of years.\n",
    "\n",
    "![ts-6](images/ts-6.PNG)\n",
    "\n",
    "Example: Here the red line represents an increasing trend of the time series.\n",
    "\n",
    "2. __Seasonality:__ Another clear pattern can also be seen in the above time series, i.e., the pattern is repeating at regular time interval which is known as the seasonality. Any predictable change or pattern in a time series that recurs or repeats over a specific time period can be said to be seasonality.  Let’s visualize the seasonality of the time series:\n",
    "\n",
    "![ts-7](images/ts-7.PNG)\n",
    "\n",
    "Example:  \n",
    "We can see that the time series is repeating its pattern after every 12 months i.e there is a peak every year during the month of january and a trough every year in the month of september, hence this time series has a seasonality of 12 months.\n",
    "\n",
    "***\n",
    "***\n",
    "\n",
    "## Difference between a time series and regression problem\n",
    "\n",
    "Here you might think that as the target variable is numerical it can be predicted using regression techniques, but a time series problem is different from a regression problem in following ways:\n",
    "\n",
    "- The main difference is that a time series is time dependent. So the basic assumption of a linear regression model that the observations(i.e., x1, x2, etc) are independent doesn’t hold in this case.\n",
    "- Along with an increasing or decreasing trend, most Time Series have some form of seasonality trends,i.e. variations specific to a particular time frame.\n",
    "\n",
    "\n",
    "Also time series accounts for the autocorrelation between time events, which always exists, while in normal regression, independence of  serial errors are presumed, or at least minimized.\n",
    "\n",
    "Reference: [AV discussion forum](https://discuss.analyticsvidhya.com/t/difference-between-regression-and-time-series/82364)\n",
    "\n",
    "So, predicting a time series using regression techniques is not a good approach.\n",
    "\n",
    "Time series analysis comprises methods for analyzing time series data in order to extract meaningful statistics and other characteristics of the data. Time series forecasting is the use of a model to predict future values based on previously observed values.\n",
    "\n",
    "***\n",
    "***\n",
    "\n",
    "## Problem Statement\n",
    "Unicorn Investors wants to make an investment in a new form of transportation - JetRail. JetRail uses Jet propulsion technology to run rails and move people at a high speed! The investment would only make sense, if they can get more than 1 Million monthly users with in next 18 months. In order to help Unicorn Ventures in their decision, you need to forecast the traffic on JetRail for the next 7 months. You are provided with traffic data of JetRail since inception in the test file.\n",
    "\n",
    "You can get the dataset [here](https://datahack.analyticsvidhya.com/contest/practice-problem-time-series-2/).\n",
    "\n",
    "## Table of Contents\n",
    "1. Understanding Data:\n",
    "    - Hypothesis Generation\n",
    "    - Getting the system ready and loading the data\n",
    "    - Dataset Structure and Content\n",
    "    - Feature Extraction\n",
    "    - Exploratory Analysis\n",
    "2.  Forecasting using Multiple Modeling Techniques:\n",
    "    - Splitting the data into training and validation part\n",
    "    - Modeling techniques\n",
    "    - Holt’s Linear Trend Model on daily time series\n",
    "    - Holt Winter’s Model on daily time series\n",
    "    - Introduction to ARIMA model\n",
    "    - Parameter tuning for ARIMA model\n",
    "    - SARIMAX model on daily time series"
   ]
  },
  {
   "cell_type": "markdown",
   "metadata": {},
   "source": [
    "### Hypothesis Generation \n",
    "Hypothesis Generation is the process of listing out all the possible factors that can affect the outcome.\n",
    "\n",
    "Hypothesis generation is done before having a look at the data in order to avoid any bias that may result after the observation.\n",
    "\n",
    "Hypothesis generation helps us to point out the factors which might affect our dependent variable. \n",
    "\n",
    "Below are some of the hypotheses which I think can affect the passenger count(dependent variable for this time series problem) on the JetRail:\n",
    "\n",
    "- There will be an increase in the traffic as the years pass by.  \n",
    "    Explanation - Population has a general upward trend with time, so I can expect more people to travel by JetRail. Also, generally companies expand their businesses over time leading to more customers travelling through JetRail.\n",
    "- The traffic will be high from May to October.  \n",
    "    Explanation - Tourist visits generally increases during this time perion.\n",
    "- Traffic on weekdays will be more as compared to weekends/holidays.  \n",
    "    Explanation - People will go to office on weekdays and hence the traffic will be more\n",
    "- Traffic during the peak hours will be high.  \n",
    "    Explanation - People will travel to work, college.\n",
    "\n",
    "We will try to validate each of these hypothesis based on the dataset. Now let’s have a look at the dataset."
   ]
  },
  {
   "cell_type": "markdown",
   "metadata": {},
   "source": [
    "### Getting the system ready and loading the data"
   ]
  },
  {
   "cell_type": "code",
   "execution_count": 1,
   "metadata": {},
   "outputs": [],
   "source": [
    "import pandas as pd          \n",
    "import numpy as np          # For mathematical calculations \n",
    "import matplotlib.pyplot as plt  # For plotting graphs \n",
    "from datetime import datetime    # To access datetime \n",
    "from pandas import Series        # To work on series \n",
    "%matplotlib inline \n",
    "import warnings    "
   ]
  },
  {
   "cell_type": "code",
   "execution_count": 2,
   "metadata": {},
   "outputs": [],
   "source": [
    "# Now let’s read the train and test data\n",
    "train=pd.read_csv(\"Train_SU63ISt.csv\") \n",
    "test=pd.read_csv(\"Test_0qrQsBZ.csv\")"
   ]
  },
  {
   "cell_type": "markdown",
   "metadata": {},
   "source": [
    "Let’s make a copy of train and test data so that even if we do changes in these dataset we do not lose the original dataset."
   ]
  },
  {
   "cell_type": "code",
   "execution_count": 3,
   "metadata": {},
   "outputs": [],
   "source": [
    "train_original=train.copy() \n",
    "test_original=test.copy()"
   ]
  },
  {
   "cell_type": "markdown",
   "metadata": {},
   "source": [
    "### Dataset Structure and Content"
   ]
  },
  {
   "cell_type": "code",
   "execution_count": 4,
   "metadata": {},
   "outputs": [
    {
     "data": {
      "text/plain": [
       "Index(['ID', 'Datetime', 'Count'], dtype='object')"
      ]
     },
     "execution_count": 4,
     "metadata": {},
     "output_type": "execute_result"
    }
   ],
   "source": [
    "train.columns"
   ]
  },
  {
   "cell_type": "code",
   "execution_count": 5,
   "metadata": {},
   "outputs": [
    {
     "data": {
      "text/plain": [
       "Index(['ID', 'Datetime'], dtype='object')"
      ]
     },
     "execution_count": 5,
     "metadata": {},
     "output_type": "execute_result"
    }
   ],
   "source": [
    "test.columns"
   ]
  },
  {
   "cell_type": "markdown",
   "metadata": {},
   "source": [
    "Let’s understand each feature first:\n",
    "\n",
    "- __ID__ is the unique number given to each observation point.\n",
    "- __Datetime__ is the time of each observation.\n",
    "- __Count__ is the passenger count corresponding to each Datetime."
   ]
  },
  {
   "cell_type": "markdown",
   "metadata": {},
   "source": [
    "Let’s look at the data types of each feature."
   ]
  },
  {
   "cell_type": "code",
   "execution_count": 6,
   "metadata": {},
   "outputs": [
    {
     "data": {
      "text/plain": [
       "ID           int64\n",
       "Datetime    object\n",
       "Count        int64\n",
       "dtype: object"
      ]
     },
     "execution_count": 6,
     "metadata": {},
     "output_type": "execute_result"
    }
   ],
   "source": [
    "train.dtypes"
   ]
  },
  {
   "cell_type": "code",
   "execution_count": 7,
   "metadata": {},
   "outputs": [
    {
     "data": {
      "text/plain": [
       "ID           int64\n",
       "Datetime    object\n",
       "dtype: object"
      ]
     },
     "execution_count": 7,
     "metadata": {},
     "output_type": "execute_result"
    }
   ],
   "source": [
    "test.dtypes"
   ]
  },
  {
   "cell_type": "markdown",
   "metadata": {},
   "source": [
    "__ID__ and __Count__ are in integer format while the Datetime is in object format for the train file.\n",
    "\n",
    "###  shape of the dataset."
   ]
  },
  {
   "cell_type": "code",
   "execution_count": 8,
   "metadata": {},
   "outputs": [
    {
     "data": {
      "text/plain": [
       "(18288, 3)"
      ]
     },
     "execution_count": 8,
     "metadata": {},
     "output_type": "execute_result"
    }
   ],
   "source": [
    "train.shape"
   ]
  },
  {
   "cell_type": "code",
   "execution_count": 9,
   "metadata": {},
   "outputs": [
    {
     "data": {
      "text/plain": [
       "(5112, 2)"
      ]
     },
     "execution_count": 9,
     "metadata": {},
     "output_type": "execute_result"
    }
   ],
   "source": [
    "test.shape"
   ]
  },
  {
   "cell_type": "code",
   "execution_count": null,
   "metadata": {},
   "outputs": [],
   "source": []
  },
  {
   "cell_type": "code",
   "execution_count": null,
   "metadata": {},
   "outputs": [],
   "source": []
  }
 ],
 "metadata": {
  "kernelspec": {
   "display_name": "Python 3",
   "language": "python",
   "name": "python3"
  },
  "language_info": {
   "codemirror_mode": {
    "name": "ipython",
    "version": 3
   },
   "file_extension": ".py",
   "mimetype": "text/x-python",
   "name": "python",
   "nbconvert_exporter": "python",
   "pygments_lexer": "ipython3",
   "version": "3.7.3"
  }
 },
 "nbformat": 4,
 "nbformat_minor": 2
}
