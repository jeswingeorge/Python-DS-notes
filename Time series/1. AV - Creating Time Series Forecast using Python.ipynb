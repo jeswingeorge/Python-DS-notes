{
 "cells": [
  {
   "cell_type": "markdown",
   "metadata": {},
   "source": [
    "# [Creating Time Series Forecast using Python]()\n",
    "\n",
    "This course is divided into the below sections:\n",
    "- Understanding Time Series\n",
    "- Data Exploration\n",
    "- Time Series Forecasting using different methods\n",
    "\n",
    "## Introduction to Time Series\n",
    "Which of the following do you think is an example of time series?\n",
    "\n",
    "![ts-1](images/ts-1.PNG)\n",
    "\n",
    "__Time Series is generally data which is collected over time and is dependent on it.__\n",
    "\n",
    "Here we see that the count of cars is independent of time, hence it is not a time series. While the CO2 level increases with respect to time, hence it is a time series.\n",
    "\n",
    "__Definition of time series:__ A series of data points collected in time order is known as a __time series__. Most of business houses work on time series data to analyze sales number for the next year, website traffic, count of traffic, number of calls received, etc. Data of a time series can be used for forecasting.\n",
    "\n",
    "Not every data collected with respect to time represents a time series.\n",
    "\n",
    "***\n",
    "***\n",
    "\n",
    "Some of the examples of time series are:\n",
    "\n",
    "![ts-2](images/ts-2.PNG)\n",
    "\n",
    "![ts-3](images/ts-3.PNG)\n",
    "\n",
    "![ts-4](images/ts-4.PNG)\n",
    "\n",
    "![ts-5](images/ts-5.PNG)"
   ]
  },
  {
   "cell_type": "markdown",
   "metadata": {},
   "source": [
    "***\n",
    "***\n",
    "\n",
    "Now as we have an understanding of what a time series is and the difference between a time series and a non time series, let’s now look at the components of a time series.\n",
    "\n",
    "## Components of a Time Series\n",
    "\n",
    "1. __Trend:__ Trend is a general direction in which something is developing or changing. So we see an increasing trend in this time series. We can see that the passenger count is increasing with the number of years.\n",
    "\n",
    "![ts-6](images/ts-6.PNG)\n",
    "\n",
    "Example: Here the red line represents an increasing trend of the time series.\n",
    "\n",
    "2. __Seasonality:__ Another clear pattern can also be seen in the above time series, i.e., the pattern is repeating at regular time interval which is known as the seasonality. Any predictable change or pattern in a time series that recurs or repeats over a specific time period can be said to be seasonality.  Let’s visualize the seasonality of the time series:\n",
    "\n",
    "![ts-7](images/ts-7.PNG)\n",
    "\n",
    "Example:  \n",
    "We can see that the time series is repeating its pattern after every 12 months i.e there is a peak every year during the month of january and a trough every year in the month of september, hence this time series has a seasonality of 12 months.\n",
    "\n",
    "***\n",
    "***\n",
    "\n",
    "## Difference between a time series and regression problem\n",
    "\n",
    "Here you might think that as the target variable is numerical it can be predicted using regression techniques, but a time series problem is different from a regression problem in following ways:\n",
    "\n",
    "- The main difference is that a time series is time dependent. So the basic assumption of a linear regression model that the observations(i.e., x1, x2, etc) are independent doesn’t hold in this case.\n",
    "- Along with an increasing or decreasing trend, most Time Series have some form of seasonality trends,i.e. variations specific to a particular time frame.\n",
    "\n",
    "\n",
    "Also time series accounts for the autocorrelation between time events, which always exists, while in normal regression, independence of  serial errors are presumed, or at least minimized.\n",
    "\n",
    "Reference: [AV discussion forum](https://discuss.analyticsvidhya.com/t/difference-between-regression-and-time-series/82364)\n",
    "\n",
    "So, predicting a time series using regression techniques is not a good approach."
   ]
  },
  {
   "cell_type": "code",
   "execution_count": null,
   "metadata": {},
   "outputs": [],
   "source": []
  },
  {
   "cell_type": "code",
   "execution_count": null,
   "metadata": {},
   "outputs": [],
   "source": []
  }
 ],
 "metadata": {
  "kernelspec": {
   "display_name": "Python 3",
   "language": "python",
   "name": "python3"
  },
  "language_info": {
   "codemirror_mode": {
    "name": "ipython",
    "version": 3
   },
   "file_extension": ".py",
   "mimetype": "text/x-python",
   "name": "python",
   "nbconvert_exporter": "python",
   "pygments_lexer": "ipython3",
   "version": "3.7.3"
  }
 },
 "nbformat": 4,
 "nbformat_minor": 2
}
