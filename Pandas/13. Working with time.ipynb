{
 "cells": [
  {
   "cell_type": "code",
   "execution_count": 1,
   "metadata": {
    "ExecuteTime": {
     "end_time": "2020-02-04T16:00:59.914598Z",
     "start_time": "2020-02-04T16:00:52.225999Z"
    }
   },
   "outputs": [],
   "source": [
    "import pandas as pd\n",
    "import numpy as np"
   ]
  },
  {
   "cell_type": "markdown",
   "metadata": {},
   "source": [
    "## Break up datetime into features of year, month,day, hour and minutes.\n",
    "\n",
    "Reference: \n",
    "- [Pandas date_range](https://pandas.pydata.org/pandas-docs/stable/reference/api/pandas.date_range.html)\n",
    "- [Frequency timeseries-offset-aliases](https://pandas.pydata.org/pandas-docs/stable/user_guide/timeseries.html#timeseries-offset-aliases)"
   ]
  },
  {
   "cell_type": "code",
   "execution_count": 2,
   "metadata": {
    "ExecuteTime": {
     "end_time": "2020-02-04T16:01:30.817904Z",
     "start_time": "2020-02-04T16:01:30.791919Z"
    }
   },
   "outputs": [
    {
     "data": {
      "text/plain": [
       "'2020-02-04 21:31:30.794918'"
      ]
     },
     "execution_count": 2,
     "metadata": {},
     "output_type": "execute_result"
    }
   ],
   "source": [
    "# Getting the current system time\n",
    "from datetime import datetime\n",
    "now_time = str(datetime.now())\n",
    "now_time"
   ]
  },
  {
   "cell_type": "code",
   "execution_count": 3,
   "metadata": {
    "ExecuteTime": {
     "end_time": "2020-02-04T16:01:44.745928Z",
     "start_time": "2020-02-04T16:01:44.616005Z"
    }
   },
   "outputs": [
    {
     "data": {
      "text/html": [
       "<div>\n",
       "<style scoped>\n",
       "    .dataframe tbody tr th:only-of-type {\n",
       "        vertical-align: middle;\n",
       "    }\n",
       "\n",
       "    .dataframe tbody tr th {\n",
       "        vertical-align: top;\n",
       "    }\n",
       "\n",
       "    .dataframe thead th {\n",
       "        text-align: right;\n",
       "    }\n",
       "</style>\n",
       "<table border=\"1\" class=\"dataframe\">\n",
       "  <thead>\n",
       "    <tr style=\"text-align: right;\">\n",
       "      <th></th>\n",
       "      <th>Date_Time</th>\n",
       "    </tr>\n",
       "  </thead>\n",
       "  <tbody>\n",
       "    <tr>\n",
       "      <th>0</th>\n",
       "      <td>2020-02-04 21:31:30.794918</td>\n",
       "    </tr>\n",
       "    <tr>\n",
       "      <th>1</th>\n",
       "      <td>2020-02-04 23:45:07.794918</td>\n",
       "    </tr>\n",
       "    <tr>\n",
       "      <th>2</th>\n",
       "      <td>2020-02-05 01:58:44.794918</td>\n",
       "    </tr>\n",
       "    <tr>\n",
       "      <th>3</th>\n",
       "      <td>2020-02-05 04:12:21.794918</td>\n",
       "    </tr>\n",
       "    <tr>\n",
       "      <th>4</th>\n",
       "      <td>2020-02-05 06:25:58.794918</td>\n",
       "    </tr>\n",
       "    <tr>\n",
       "      <th>5</th>\n",
       "      <td>2020-02-05 08:39:35.794918</td>\n",
       "    </tr>\n",
       "    <tr>\n",
       "      <th>6</th>\n",
       "      <td>2020-02-05 10:53:12.794918</td>\n",
       "    </tr>\n",
       "    <tr>\n",
       "      <th>7</th>\n",
       "      <td>2020-02-05 13:06:49.794918</td>\n",
       "    </tr>\n",
       "    <tr>\n",
       "      <th>8</th>\n",
       "      <td>2020-02-05 15:20:26.794918</td>\n",
       "    </tr>\n",
       "    <tr>\n",
       "      <th>9</th>\n",
       "      <td>2020-02-05 17:34:03.794918</td>\n",
       "    </tr>\n",
       "  </tbody>\n",
       "</table>\n",
       "</div>"
      ],
      "text/plain": [
       "                   Date_Time\n",
       "0 2020-02-04 21:31:30.794918\n",
       "1 2020-02-04 23:45:07.794918\n",
       "2 2020-02-05 01:58:44.794918\n",
       "3 2020-02-05 04:12:21.794918\n",
       "4 2020-02-05 06:25:58.794918\n",
       "5 2020-02-05 08:39:35.794918\n",
       "6 2020-02-05 10:53:12.794918\n",
       "7 2020-02-05 13:06:49.794918\n",
       "8 2020-02-05 15:20:26.794918\n",
       "9 2020-02-05 17:34:03.794918"
      ]
     },
     "execution_count": 3,
     "metadata": {},
     "output_type": "execute_result"
    }
   ],
   "source": [
    "df = pd.DataFrame()\n",
    "df['Date_Time'] = pd.date_range(start = now_time, periods = 10, freq = '2h13min37s') # 2hr 13min 37sec\n",
    "df"
   ]
  },
  {
   "cell_type": "markdown",
   "metadata": {},
   "source": [
    "Reference: [datetime-properties](https://pandas-docs.github.io/pandas-docs-travis/reference/series.html#datetime-properties)\n",
    "\n",
    "- __Series.dt.time__ : Returns numpy array of datetime.time.\n",
    "- __Series.dt.hour__ : The hours of the datetime.\n",
    "- __Series.dt.minute__: The minutes of the datetime.\n",
    "- __Series.dt.second__: The minutes of the datetime."
   ]
  },
  {
   "cell_type": "code",
   "execution_count": 4,
   "metadata": {
    "ExecuteTime": {
     "end_time": "2020-02-04T16:02:06.822289Z",
     "start_time": "2020-02-04T16:02:06.737341Z"
    }
   },
   "outputs": [
    {
     "data": {
      "text/html": [
       "<div>\n",
       "<style scoped>\n",
       "    .dataframe tbody tr th:only-of-type {\n",
       "        vertical-align: middle;\n",
       "    }\n",
       "\n",
       "    .dataframe tbody tr th {\n",
       "        vertical-align: top;\n",
       "    }\n",
       "\n",
       "    .dataframe thead th {\n",
       "        text-align: right;\n",
       "    }\n",
       "</style>\n",
       "<table border=\"1\" class=\"dataframe\">\n",
       "  <thead>\n",
       "    <tr style=\"text-align: right;\">\n",
       "      <th></th>\n",
       "      <th>Date_Time</th>\n",
       "      <th>time</th>\n",
       "      <th>minute</th>\n",
       "      <th>hour</th>\n",
       "      <th>second</th>\n",
       "    </tr>\n",
       "  </thead>\n",
       "  <tbody>\n",
       "    <tr>\n",
       "      <th>0</th>\n",
       "      <td>2020-02-04 21:31:30.794918</td>\n",
       "      <td>21:31:30.794918</td>\n",
       "      <td>31</td>\n",
       "      <td>21</td>\n",
       "      <td>30</td>\n",
       "    </tr>\n",
       "    <tr>\n",
       "      <th>1</th>\n",
       "      <td>2020-02-04 23:45:07.794918</td>\n",
       "      <td>23:45:07.794918</td>\n",
       "      <td>45</td>\n",
       "      <td>23</td>\n",
       "      <td>7</td>\n",
       "    </tr>\n",
       "    <tr>\n",
       "      <th>2</th>\n",
       "      <td>2020-02-05 01:58:44.794918</td>\n",
       "      <td>01:58:44.794918</td>\n",
       "      <td>58</td>\n",
       "      <td>1</td>\n",
       "      <td>44</td>\n",
       "    </tr>\n",
       "    <tr>\n",
       "      <th>3</th>\n",
       "      <td>2020-02-05 04:12:21.794918</td>\n",
       "      <td>04:12:21.794918</td>\n",
       "      <td>12</td>\n",
       "      <td>4</td>\n",
       "      <td>21</td>\n",
       "    </tr>\n",
       "    <tr>\n",
       "      <th>4</th>\n",
       "      <td>2020-02-05 06:25:58.794918</td>\n",
       "      <td>06:25:58.794918</td>\n",
       "      <td>25</td>\n",
       "      <td>6</td>\n",
       "      <td>58</td>\n",
       "    </tr>\n",
       "    <tr>\n",
       "      <th>5</th>\n",
       "      <td>2020-02-05 08:39:35.794918</td>\n",
       "      <td>08:39:35.794918</td>\n",
       "      <td>39</td>\n",
       "      <td>8</td>\n",
       "      <td>35</td>\n",
       "    </tr>\n",
       "    <tr>\n",
       "      <th>6</th>\n",
       "      <td>2020-02-05 10:53:12.794918</td>\n",
       "      <td>10:53:12.794918</td>\n",
       "      <td>53</td>\n",
       "      <td>10</td>\n",
       "      <td>12</td>\n",
       "    </tr>\n",
       "    <tr>\n",
       "      <th>7</th>\n",
       "      <td>2020-02-05 13:06:49.794918</td>\n",
       "      <td>13:06:49.794918</td>\n",
       "      <td>6</td>\n",
       "      <td>13</td>\n",
       "      <td>49</td>\n",
       "    </tr>\n",
       "    <tr>\n",
       "      <th>8</th>\n",
       "      <td>2020-02-05 15:20:26.794918</td>\n",
       "      <td>15:20:26.794918</td>\n",
       "      <td>20</td>\n",
       "      <td>15</td>\n",
       "      <td>26</td>\n",
       "    </tr>\n",
       "    <tr>\n",
       "      <th>9</th>\n",
       "      <td>2020-02-05 17:34:03.794918</td>\n",
       "      <td>17:34:03.794918</td>\n",
       "      <td>34</td>\n",
       "      <td>17</td>\n",
       "      <td>3</td>\n",
       "    </tr>\n",
       "  </tbody>\n",
       "</table>\n",
       "</div>"
      ],
      "text/plain": [
       "                   Date_Time             time  minute  hour  second\n",
       "0 2020-02-04 21:31:30.794918  21:31:30.794918      31    21      30\n",
       "1 2020-02-04 23:45:07.794918  23:45:07.794918      45    23       7\n",
       "2 2020-02-05 01:58:44.794918  01:58:44.794918      58     1      44\n",
       "3 2020-02-05 04:12:21.794918  04:12:21.794918      12     4      21\n",
       "4 2020-02-05 06:25:58.794918  06:25:58.794918      25     6      58\n",
       "5 2020-02-05 08:39:35.794918  08:39:35.794918      39     8      35\n",
       "6 2020-02-05 10:53:12.794918  10:53:12.794918      53    10      12\n",
       "7 2020-02-05 13:06:49.794918  13:06:49.794918       6    13      49\n",
       "8 2020-02-05 15:20:26.794918  15:20:26.794918      20    15      26\n",
       "9 2020-02-05 17:34:03.794918  17:34:03.794918      34    17       3"
      ]
     },
     "execution_count": 4,
     "metadata": {},
     "output_type": "execute_result"
    }
   ],
   "source": [
    "df['time'] = df['Date_Time'].dt.time\n",
    "df['minute'] = df['Date_Time'].dt.minute\n",
    "df['hour'] = df['Date_Time'].dt.hour\n",
    "df['second'] = df['Date_Time'].dt.second\n",
    "df"
   ]
  }
 ],
 "metadata": {
  "kernelspec": {
   "display_name": "Python 3",
   "language": "python",
   "name": "python3"
  },
  "language_info": {
   "codemirror_mode": {
    "name": "ipython",
    "version": 3
   },
   "file_extension": ".py",
   "mimetype": "text/x-python",
   "name": "python",
   "nbconvert_exporter": "python",
   "pygments_lexer": "ipython3",
   "version": "3.7.6"
  }
 },
 "nbformat": 4,
 "nbformat_minor": 4
}
