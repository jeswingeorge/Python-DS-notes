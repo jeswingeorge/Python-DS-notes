{
 "cells": [
  {
   "cell_type": "markdown",
   "metadata": {},
   "source": [
    "## [Python `*args` and `**kwargs`](https://www.programiz.com/python-programming/args-and-kwargs)\n",
    "\n",
    "In Python, we can pass a variable number of arguments to a function using special symbols. There are two special symbols:\n",
    "\n",
    "1. `*args` (Non Keyword Arguments)\n",
    "2. `**kwargs` (Keyword Arguments)\n",
    "\n",
    "\n",
    "We use `*args` and `**kwargs` as an argument when we are unsure about the number of arguments to pass in the functions."
   ]
  },
  {
   "cell_type": "markdown",
   "metadata": {},
   "source": [
    "### Example 1: Creating a function adder which adds all integer values given to it\n",
    "\n",
    "Here the number of integer values is not specified.\n",
    "\n",
    "In the function, we should use an asterisk `*` before the parameter name to pass variable length arguments.The arguments are passed as a tuple and these passed arguments make tuple inside the function with same name as the parameter excluding asterisk `*`."
   ]
  },
  {
   "cell_type": "code",
   "execution_count": 1,
   "metadata": {},
   "outputs": [],
   "source": [
    "def adder(*num):\n",
    "    sum = 0\n",
    "    \n",
    "    print('All the elements in args: ',num)\n",
    "    \n",
    "    for n in num:\n",
    "        sum+=n\n",
    "        \n",
    "    return(sum)"
   ]
  },
  {
   "cell_type": "code",
   "execution_count": 2,
   "metadata": {},
   "outputs": [
    {
     "name": "stdout",
     "output_type": "stream",
     "text": [
      "All the elements in args:  (4, 5)\n"
     ]
    },
    {
     "data": {
      "text/plain": [
       "9"
      ]
     },
     "execution_count": 2,
     "metadata": {},
     "output_type": "execute_result"
    }
   ],
   "source": [
    "adder(4,5)"
   ]
  },
  {
   "cell_type": "code",
   "execution_count": 3,
   "metadata": {},
   "outputs": [
    {
     "name": "stdout",
     "output_type": "stream",
     "text": [
      "All the elements in args:  (7, 1, 8, 9, 5, 10, 5, 2, 1)\n"
     ]
    },
    {
     "data": {
      "text/plain": [
       "48"
      ]
     },
     "execution_count": 3,
     "metadata": {},
     "output_type": "execute_result"
    }
   ],
   "source": [
    "adder(7,1,8,9,5,10,5,2,1)"
   ]
  },
  {
   "cell_type": "markdown",
   "metadata": {},
   "source": [
    "### Function to add as much details about a student as possible"
   ]
  },
  {
   "cell_type": "code",
   "execution_count": 4,
   "metadata": {},
   "outputs": [],
   "source": [
    "def student(**info):\n",
    "    print('Type of info (kwargs) here', type(info))\n",
    "    print('Student details:')\n",
    "    for key,val in info.items():\n",
    "        print(key, ':', val)"
   ]
  },
  {
   "cell_type": "code",
   "execution_count": 5,
   "metadata": {},
   "outputs": [
    {
     "name": "stdout",
     "output_type": "stream",
     "text": [
      "Type of info (kwargs) here <class 'dict'>\n",
      "Student details:\n",
      "FirstName : Tom\n",
      "LastName : Styles\n",
      "marks : 98\n",
      "age : 17\n"
     ]
    }
   ],
   "source": [
    "student(FirstName = 'Tom', LastName = 'Styles', marks = 98, age = 17)"
   ]
  }
 ],
 "metadata": {
  "kernelspec": {
   "display_name": "Python 3",
   "language": "python",
   "name": "python3"
  },
  "language_info": {
   "codemirror_mode": {
    "name": "ipython",
    "version": 3
   },
   "file_extension": ".py",
   "mimetype": "text/x-python",
   "name": "python",
   "nbconvert_exporter": "python",
   "pygments_lexer": "ipython3",
   "version": "3.7.6"
  }
 },
 "nbformat": 4,
 "nbformat_minor": 4
}
