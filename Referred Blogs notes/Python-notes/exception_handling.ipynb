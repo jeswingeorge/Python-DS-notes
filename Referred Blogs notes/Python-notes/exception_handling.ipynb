{
 "cells": [
  {
   "cell_type": "markdown",
   "metadata": {},
   "source": [
    "# Exception Handling in Python\n",
    "\n",
    "\n",
    "### Exception\n",
    "An __exception__ is an error that happens during execution of a program. When that error occurs, Python generate an exception that can be handled, which avoids your program to crash.\n",
    "\n",
    "Python has many [built-in exceptions](https://www.programiz.com/python-programming/exceptions) which forces your program to output an error when something in it goes wrong.\n",
    "\n",
    "When these exceptions occur, it causes the current process to stop and passes it to the calling process until it is handled. If not handled, our program will crash.\n",
    "\n",
    "## Catching Exceptions in Python\n",
    "\n",
    "In Python, exceptions can be handled using a try statement.\n",
    "\n",
    "A critical operation which can raise exception is placed inside the try clause and the code that handles exception is written in except clause.\n",
    "\n",
    "It is up to us, what operations we perform once we have caught the exception. Here is a simple example."
   ]
  },
  {
   "cell_type": "code",
   "execution_count": 1,
   "metadata": {
    "ExecuteTime": {
     "end_time": "2020-04-10T03:02:05.664843Z",
     "start_time": "2020-04-10T03:02:05.656849Z"
    }
   },
   "outputs": [],
   "source": [
    "# import module sys to get the type of exception\n",
    "import sys\n",
    "randomList = ['a', 0, 2]"
   ]
  },
  {
   "cell_type": "code",
   "execution_count": 2,
   "metadata": {
    "ExecuteTime": {
     "end_time": "2020-04-10T03:02:11.490386Z",
     "start_time": "2020-04-10T03:02:11.474390Z"
    }
   },
   "outputs": [
    {
     "name": "stdout",
     "output_type": "stream",
     "text": [
      "The entry is a\n",
      "Oops! <class 'ValueError'> occured.\n",
      "Next entry.\n",
      "\n",
      "The entry is 0\n",
      "Oops! <class 'ZeroDivisionError'> occured.\n",
      "Next entry.\n",
      "\n",
      "The entry is 2\n",
      "The reciprocal of 2 is 0.5\n"
     ]
    }
   ],
   "source": [
    "for entry in randomList:\n",
    "    try:\n",
    "        print(\"The entry is\", entry)\n",
    "        r = 1/int(entry)\n",
    "        break\n",
    "    except:\n",
    "        print(\"Oops!\",sys.exc_info()[0],\"occured.\")\n",
    "        print(\"Next entry.\")\n",
    "        print()\n",
    "print(\"The reciprocal of\",entry,\"is\",r)"
   ]
  },
  {
   "cell_type": "markdown",
   "metadata": {},
   "source": [
    "Reference: \n",
    "1. [sys.exc_info()](https://pythonprogramming.net/headless-error-handling-intermediate-python-tutorial/) \n",
    "\n",
    "In this program, we loop until the user enters an integer that has a valid reciprocal. The portion that can cause exception is placed inside __try block__.\n",
    "\n",
    "If no exception occurs, except block is skipped and normal flow continues. But if any exception occurs, it is caught by the __except block__.\n",
    "\n",
    "***\n",
    "\n",
    "## Catching Specific Exceptions in Python\n",
    "\n",
    "In the above example, we did not mention any exception in the except clause.\n",
    "\n",
    "This is not a good programming practice as it will catch all exceptions and handle every case in the same way. We can specify which exceptions an except clause will catch.\n",
    "\n",
    "> A try clause can have any number of except clause to handle them differently but only one will be executed in case an exception occurs. We can use a tuple of values to specify multiple exceptions in an except clause. Here is an example pseudo code.\n",
    "\n",
    "```\n",
    "try:\n",
    "   # do something\n",
    "   pass\n",
    "\n",
    "except ValueError:\n",
    "   # handle ValueError exception\n",
    "   pass\n",
    "\n",
    "except (TypeError, ZeroDivisionError):\n",
    "   # handle multiple exceptions\n",
    "   # TypeError and ZeroDivisionError\n",
    "   pass\n",
    "\n",
    "except:\n",
    "   # handle all other exceptions\n",
    "   pass\n",
    "```\n",
    "\n",
    "***\n",
    "\n",
    "### Raising Exceptions\n",
    "\n",
    "In Python programming, exceptions are raised when corresponding errors occur at run time, but we can forcefully raise it using the keyword raise.\n",
    "\n",
    "We can also optionally pass in value to the exception to clarify why that exception was raised.\n",
    "\n"
   ]
  },
  {
   "cell_type": "code",
   "execution_count": 4,
   "metadata": {
    "ExecuteTime": {
     "end_time": "2020-04-10T03:25:22.751047Z",
     "start_time": "2020-04-10T03:25:17.396753Z"
    }
   },
   "outputs": [
    {
     "name": "stdout",
     "output_type": "stream",
     "text": [
      "Enter a positive integer: r\n",
      "invalid literal for int() with base 10: 'r'\n"
     ]
    }
   ],
   "source": [
    "try:\n",
    "    a = int(input(\"Enter a positive integer: \"))\n",
    "    if (a<=0):\n",
    "        raise ValueError(\"That is not a positive number\")\n",
    "except ValueError as ve:\n",
    "    print(ve)"
   ]
  },
  {
   "cell_type": "code",
   "execution_count": 5,
   "metadata": {
    "ExecuteTime": {
     "end_time": "2020-04-10T03:25:42.569327Z",
     "start_time": "2020-04-10T03:25:35.241722Z"
    }
   },
   "outputs": [
    {
     "name": "stdout",
     "output_type": "stream",
     "text": [
      "Enter a positive integer: -7\n",
      "That is not a positive number\n"
     ]
    }
   ],
   "source": [
    "try:\n",
    "    a = int(input(\"Enter a positive integer: \"))\n",
    "    if (a<=0):\n",
    "        raise ValueError(\"That is not a positive number\")\n",
    "except ValueError as ve:\n",
    "    print(ve)"
   ]
  },
  {
   "cell_type": "code",
   "execution_count": 6,
   "metadata": {
    "ExecuteTime": {
     "end_time": "2020-04-10T03:25:52.758164Z",
     "start_time": "2020-04-10T03:25:50.996251Z"
    }
   },
   "outputs": [
    {
     "name": "stdout",
     "output_type": "stream",
     "text": [
      "Enter a positive integer: 0\n",
      "That is not a positive number\n"
     ]
    }
   ],
   "source": [
    "try:\n",
    "    a = int(input(\"Enter a positive integer: \"))\n",
    "    if (a<=0):\n",
    "        raise ValueError(\"That is not a positive number\")\n",
    "except ValueError as ve:\n",
    "    print(ve)\n",
    "    "
   ]
  },
  {
   "cell_type": "markdown",
   "metadata": {},
   "source": [
    "***\n",
    "## try...finally"
   ]
  },
  {
   "cell_type": "markdown",
   "metadata": {},
   "source": [
    "The try statement in Python can have an optional `finally` clause. This clause is executed no matter what, and is generally used to release external resources.\n",
    "\n",
    "For example, we may be connected to a remote data center through the network or working with a file or working with a Graphical User Interface (GUI).\n",
    "\n",
    "In all these circumstances, we must clean up the resource once used, whether it was successful or not. These actions (closing a file, GUI or disconnecting from network) are performed in the finally clause to guarantee execution.\n",
    "\n",
    "Here is an example of file operations to illustrate this.\n",
    "\n",
    "```\n",
    "try:\n",
    "   f = open(\"test.txt\",encoding = 'utf-8')\n",
    "   # perform file operations\n",
    "finally:\n",
    "   f.close()\n",
    "```\n",
    "\n",
    "This type of construct makes sure the file is closed even if an exception occurs."
   ]
  },
  {
   "cell_type": "markdown",
   "metadata": {},
   "source": [
    "References:\n",
    "1. [Python Exception Handling - Try, Except and Finally](https://www.programiz.com/python-programming/exception-handling)\n",
    "2. [Exception Handling in Python](https://www.pythonforbeginners.com/error-handling/exception-handling-in-python)\n",
    "3. [Manually raising (throwing) an exception in Python](https://stackoverflow.com/questions/2052390/manually-raising-throwing-an-exception-in-python)"
   ]
  }
 ],
 "metadata": {
  "kernelspec": {
   "display_name": "Python 3",
   "language": "python",
   "name": "python3"
  },
  "language_info": {
   "codemirror_mode": {
    "name": "ipython",
    "version": 3
   },
   "file_extension": ".py",
   "mimetype": "text/x-python",
   "name": "python",
   "nbconvert_exporter": "python",
   "pygments_lexer": "ipython3",
   "version": "3.7.6"
  }
 },
 "nbformat": 4,
 "nbformat_minor": 4
}
