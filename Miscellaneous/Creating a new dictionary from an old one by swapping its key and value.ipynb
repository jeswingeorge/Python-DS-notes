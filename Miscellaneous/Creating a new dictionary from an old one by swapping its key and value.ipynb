{
 "cells": [
  {
   "cell_type": "code",
   "execution_count": 1,
   "metadata": {},
   "outputs": [
    {
     "data": {
      "text/plain": [
       "{'Aryan': 1, 'Ben': 2, 'Tom': 3, 'Smith': 4, 'Frank': 5}"
      ]
     },
     "execution_count": 1,
     "metadata": {},
     "output_type": "execute_result"
    }
   ],
   "source": [
    "# Create a student dictionary with thier names as keys and roll number as values\n",
    "student = {}\n",
    "student['Aryan'] = 1\n",
    "student['Ben'] = 2\n",
    "student['Tom'] = 3\n",
    "student['Smith'] = 4\n",
    "student['Frank'] = 5\n",
    "student"
   ]
  },
  {
   "cell_type": "code",
   "execution_count": 2,
   "metadata": {},
   "outputs": [
    {
     "data": {
      "text/plain": [
       "{1: 'Aryan', 2: 'Ben', 3: 'Tom', 4: 'Smith', 5: 'Frank'}"
      ]
     },
     "execution_count": 2,
     "metadata": {},
     "output_type": "execute_result"
    }
   ],
   "source": [
    "# create a dictionary roll_no with roll numbers as keys and name of student as values\n",
    "roll_no = dict([(value, key) for key, value in student.items()])\n",
    "roll_no"
   ]
  }
 ],
 "metadata": {
  "kernelspec": {
   "display_name": "Python 3",
   "language": "python",
   "name": "python3"
  },
  "language_info": {
   "codemirror_mode": {
    "name": "ipython",
    "version": 3
   },
   "file_extension": ".py",
   "mimetype": "text/x-python",
   "name": "python",
   "nbconvert_exporter": "python",
   "pygments_lexer": "ipython3",
   "version": "3.7.3"
  }
 },
 "nbformat": 4,
 "nbformat_minor": 2
}
