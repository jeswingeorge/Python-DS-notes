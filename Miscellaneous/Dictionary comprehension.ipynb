{
 "cells": [
  {
   "cell_type": "markdown",
   "metadata": {},
   "source": [
    "## Dictionary Comprehension\n",
    "\n",
    "Using dictionary comprehensions. We can create dictionaries using simple expressions. A dictionary comprehension takes the form \n",
    "\n",
    "`{key: value for (key, value) in iterable}` OR we can apply a function to modify the key/value of the resulting dictionary i.e., `{function(key): function(value) for (key, value) in iterable}`.\n",
    "\n",
    "\n",
    "## Creating a simple dictionary using for loop and dictionary comprehension\n",
    "\n",
    "Q). Create a dictionary which has a list of multiples of given numbers from 1 to 10.\n"
   ]
  },
  {
   "cell_type": "code",
   "execution_count": 1,
   "metadata": {},
   "outputs": [],
   "source": [
    "tables = {i: [i*j for j in range(11)] for i in [2,5,10]}"
   ]
  },
  {
   "cell_type": "code",
   "execution_count": 2,
   "metadata": {},
   "outputs": [
    {
     "data": {
      "text/plain": [
       "[0, 2, 4, 6, 8, 10, 12, 14, 16, 18, 20]"
      ]
     },
     "execution_count": 2,
     "metadata": {},
     "output_type": "execute_result"
    }
   ],
   "source": [
    "tables[2]"
   ]
  },
  {
   "cell_type": "code",
   "execution_count": 3,
   "metadata": {},
   "outputs": [
    {
     "data": {
      "text/plain": [
       "[0, 10, 20, 30, 40, 50, 60, 70, 80, 90, 100]"
      ]
     },
     "execution_count": 3,
     "metadata": {},
     "output_type": "execute_result"
    }
   ],
   "source": [
    "tables[10]"
   ]
  },
  {
   "cell_type": "code",
   "execution_count": 4,
   "metadata": {},
   "outputs": [
    {
     "data": {
      "text/plain": [
       "dict_keys([2, 5, 10])"
      ]
     },
     "execution_count": 4,
     "metadata": {},
     "output_type": "execute_result"
    }
   ],
   "source": [
    "tables.keys()"
   ]
  },
  {
   "cell_type": "code",
   "execution_count": 5,
   "metadata": {},
   "outputs": [
    {
     "data": {
      "text/plain": [
       "dict_items([(2, [0, 2, 4, 6, 8, 10, 12, 14, 16, 18, 20]), (5, [0, 5, 10, 15, 20, 25, 30, 35, 40, 45, 50]), (10, [0, 10, 20, 30, 40, 50, 60, 70, 80, 90, 100])])"
      ]
     },
     "execution_count": 5,
     "metadata": {},
     "output_type": "execute_result"
    }
   ],
   "source": [
    "tables.items()"
   ]
  },
  {
   "cell_type": "markdown",
   "metadata": {},
   "source": [
    "## Creating a dictionary using zip and dictionary comprehension\n"
   ]
  },
  {
   "cell_type": "code",
   "execution_count": 6,
   "metadata": {},
   "outputs": [
    {
     "data": {
      "text/plain": [
       "{'Sachin': 200, 'Dhoni': 183, 'Kohli': 183, 'Dravid': 153}"
      ]
     },
     "execution_count": 6,
     "metadata": {},
     "output_type": "execute_result"
    }
   ],
   "source": [
    "player = ['Sachin', 'Dhoni', 'Kohli', 'Dravid']\n",
    "score = [200, 183, 183, 153]\n",
    "top_score = {key: val for key,val in zip(player, score)}\n",
    "top_score"
   ]
  },
  {
   "cell_type": "markdown",
   "metadata": {},
   "source": [
    "A dictionary can also be created by using __dict(), zip() and the above lists__."
   ]
  },
  {
   "cell_type": "code",
   "execution_count": 7,
   "metadata": {},
   "outputs": [
    {
     "data": {
      "text/plain": [
       "{'Sachin': 200, 'Dhoni': 183, 'Kohli': 183, 'Dravid': 153}"
      ]
     },
     "execution_count": 7,
     "metadata": {},
     "output_type": "execute_result"
    }
   ],
   "source": [
    "player_score = dict(zip(player, score))\n",
    "player_score"
   ]
  },
  {
   "cell_type": "markdown",
   "metadata": {},
   "source": [
    "## Applying if condition to dictionary comprehension\n",
    "\n",
    "Q). Create a dictionary with players having runs more than or equal to 200."
   ]
  },
  {
   "cell_type": "code",
   "execution_count": 8,
   "metadata": {},
   "outputs": [
    {
     "data": {
      "text/plain": [
       "{'Rohit': 264, 'Guptill': 237, 'Sachin': 200}"
      ]
     },
     "execution_count": 8,
     "metadata": {},
     "output_type": "execute_result"
    }
   ],
   "source": [
    "cricketers = ['Rohit', 'Guptill', 'Dhoni', 'Sachin', 'Dravid', 'Ganguly', 'Kohli']\n",
    "runs = [264, 237, 183, 200, 153, 183, 183]\n",
    "players_200 = {player: score for player, score in zip(cricketers, runs) if score>=200}\n",
    "players_200"
   ]
  },
  {
   "cell_type": "markdown",
   "metadata": {},
   "source": [
    "## Applying nested if condition to dictionary comprehension\n",
    "\n",
    "Q). Create a dictionary with keys as prime numbers and the values of the squares of these prime numbers must be odd.\n"
   ]
  },
  {
   "cell_type": "code",
   "execution_count": 9,
   "metadata": {},
   "outputs": [],
   "source": [
    "def check_prime(num):\n",
    "    \"\"\" \n",
    "    Function returns True if the number is prime otherwise it returns False\n",
    "    \"\"\"\n",
    "    ch = 0\n",
    "    for i in range(1,num+1):\n",
    "        if num%i==0:\n",
    "            ch+=1\n",
    "    if ch==2:\n",
    "        return(True)\n",
    "    return(False)"
   ]
  },
  {
   "cell_type": "code",
   "execution_count": 10,
   "metadata": {},
   "outputs": [
    {
     "data": {
      "text/plain": [
       "{3: 9,\n",
       " 5: 25,\n",
       " 7: 49,\n",
       " 11: 121,\n",
       " 13: 169,\n",
       " 17: 289,\n",
       " 19: 361,\n",
       " 23: 529,\n",
       " 29: 841,\n",
       " 31: 961,\n",
       " 37: 1369,\n",
       " 41: 1681,\n",
       " 43: 1849,\n",
       " 47: 2209,\n",
       " 53: 2809,\n",
       " 59: 3481,\n",
       " 61: 3721,\n",
       " 67: 4489,\n",
       " 71: 5041,\n",
       " 73: 5329,\n",
       " 79: 6241,\n",
       " 83: 6889,\n",
       " 89: 7921,\n",
       " 97: 9409}"
      ]
     },
     "execution_count": 10,
     "metadata": {},
     "output_type": "execute_result"
    }
   ],
   "source": [
    "{k: (k**2) for k in range(100) if check_prime(k) if (k**2)%2!=0}"
   ]
  },
  {
   "cell_type": "code",
   "execution_count": 11,
   "metadata": {},
   "outputs": [
    {
     "data": {
      "text/plain": [
       "{1: 'odd',\n",
       " 2: 'even',\n",
       " 3: 'odd',\n",
       " 4: 'even',\n",
       " 5: 'odd',\n",
       " 6: 'even',\n",
       " 7: 'odd',\n",
       " 8: 'even',\n",
       " 9: 'odd',\n",
       " 10: 'even'}"
      ]
     },
     "execution_count": 11,
     "metadata": {},
     "output_type": "execute_result"
    }
   ],
   "source": [
    "numbers_dict = {i: ('even' if i%2==0 else 'odd') for i in range(1,11)}\n",
    "numbers_dict"
   ]
  },
  {
   "cell_type": "markdown",
   "metadata": {},
   "source": [
    "Q). From the above dictionary, create a dictionary which has the prime number as keys."
   ]
  },
  {
   "cell_type": "code",
   "execution_count": 12,
   "metadata": {},
   "outputs": [
    {
     "data": {
      "text/plain": [
       "{2: 'even and prime',\n",
       " 3: 'odd and prime',\n",
       " 5: 'odd and prime',\n",
       " 7: 'odd and prime'}"
      ]
     },
     "execution_count": 12,
     "metadata": {},
     "output_type": "execute_result"
    }
   ],
   "source": [
    "{key: (value + ' and prime') for key, value in numbers_dict.items() if check_prime(key)}"
   ]
  }
 ],
 "metadata": {
  "kernelspec": {
   "display_name": "Python 3",
   "language": "python",
   "name": "python3"
  },
  "language_info": {
   "codemirror_mode": {
    "name": "ipython",
    "version": 3
   },
   "file_extension": ".py",
   "mimetype": "text/x-python",
   "name": "python",
   "nbconvert_exporter": "python",
   "pygments_lexer": "ipython3",
   "version": "3.7.4"
  }
 },
 "nbformat": 4,
 "nbformat_minor": 2
}
