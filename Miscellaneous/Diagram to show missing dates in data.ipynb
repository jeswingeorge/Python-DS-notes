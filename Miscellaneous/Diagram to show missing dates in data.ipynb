{
 "cells": [
  {
   "cell_type": "code",
   "execution_count": 1,
   "metadata": {},
   "outputs": [],
   "source": [
    "import pandas as pd\n",
    "import numpy as np\n",
    "import matplotlib.pyplot as plt\n",
    "import seaborn as sns\n",
    "%matplotlib inline\n",
    "sns.set()"
   ]
  },
  {
   "cell_type": "markdown",
   "metadata": {},
   "source": [
    "## Missing dates in a range of dates\n",
    "- [Date ranges](https://pandas.pydata.org/pandas-docs/stable/reference/api/pandas.date_range.html)\n",
    "- [Numpy zeros like](https://docs.scipy.org/doc/numpy/reference/generated/numpy.zeros_like.html)\n",
    "- [Matplotlib colormap - cmap](https://matplotlib.org/3.1.0/tutorials/colors/colormaps.html)\n",
    "- [cmap-diverging](https://matplotlib.org/3.1.0/tutorials/colors/colormaps.html#diverging)\n",
    "- [Fixing timestamp compatibility issues](https://stackoverflow.com/a/47414817)"
   ]
  },
  {
   "cell_type": "code",
   "execution_count": 2,
   "metadata": {},
   "outputs": [],
   "source": [
    "# For fixing timestamp compatibility issues\n",
    "import pandas.plotting._converter as pandacnv\n",
    "pandacnv.register()"
   ]
  },
  {
   "cell_type": "code",
   "execution_count": 3,
   "metadata": {},
   "outputs": [
    {
     "data": {
      "text/html": [
       "<div>\n",
       "<style scoped>\n",
       "    .dataframe tbody tr th:only-of-type {\n",
       "        vertical-align: middle;\n",
       "    }\n",
       "\n",
       "    .dataframe tbody tr th {\n",
       "        vertical-align: top;\n",
       "    }\n",
       "\n",
       "    .dataframe thead th {\n",
       "        text-align: right;\n",
       "    }\n",
       "</style>\n",
       "<table border=\"1\" class=\"dataframe\">\n",
       "  <thead>\n",
       "    <tr style=\"text-align: right;\">\n",
       "      <th></th>\n",
       "      <th>Dates</th>\n",
       "      <th>Price</th>\n",
       "    </tr>\n",
       "  </thead>\n",
       "  <tbody>\n",
       "    <tr>\n",
       "      <th>0</th>\n",
       "      <td>2018-09-01</td>\n",
       "      <td>23</td>\n",
       "    </tr>\n",
       "    <tr>\n",
       "      <th>1</th>\n",
       "      <td>2018-09-02</td>\n",
       "      <td>11</td>\n",
       "    </tr>\n",
       "    <tr>\n",
       "      <th>2</th>\n",
       "      <td>2018-09-03</td>\n",
       "      <td>50</td>\n",
       "    </tr>\n",
       "    <tr>\n",
       "      <th>3</th>\n",
       "      <td>2018-09-04</td>\n",
       "      <td>100</td>\n",
       "    </tr>\n",
       "    <tr>\n",
       "      <th>4</th>\n",
       "      <td>2018-09-05</td>\n",
       "      <td>8</td>\n",
       "    </tr>\n",
       "  </tbody>\n",
       "</table>\n",
       "</div>"
      ],
      "text/plain": [
       "       Dates  Price\n",
       "0 2018-09-01     23\n",
       "1 2018-09-02     11\n",
       "2 2018-09-03     50\n",
       "3 2018-09-04    100\n",
       "4 2018-09-05      8"
      ]
     },
     "execution_count": 3,
     "metadata": {},
     "output_type": "execute_result"
    }
   ],
   "source": [
    "data = pd.DataFrame()\n",
    "dates = pd.concat([pd.Series(pd.date_range(start = '2018-09-01', end = '2018-12-07')),\n",
    "                   pd.Series(pd.date_range(start = '2018-12-10', end = '2019-05-07')),\n",
    "                   pd.Series(pd.date_range(start = '2019-06-01', end = '2019-08-07')),\n",
    "                  pd.Series(pd.date_range(start = '2019-08-30', end = '2019-10-29')),\n",
    "                  pd.Series(pd.date_range(start = '2019-11-03', end = '2019-12-27')),\n",
    "                  pd.Series(pd.date_range(start = '2020-01-01', end = '2020-08-30'))], ignore_index=True)\n",
    "data['Dates'] = dates\n",
    "data['Price'] = np.random.randint(low = 2, high = 120, size = len(data['Dates']))\n",
    "data.head()"
   ]
  },
  {
   "cell_type": "markdown",
   "metadata": {},
   "source": [
    "Created two dataframes with dates - one having all dates including the missing ones and the other with the actual dates data.\n",
    "On merging using left join on the dates we get NaN value for the missing dates on the resulting dataframe."
   ]
  },
  {
   "cell_type": "code",
   "execution_count": 4,
   "metadata": {},
   "outputs": [
    {
     "data": {
      "text/html": [
       "<div>\n",
       "<style scoped>\n",
       "    .dataframe tbody tr th:only-of-type {\n",
       "        vertical-align: middle;\n",
       "    }\n",
       "\n",
       "    .dataframe tbody tr th {\n",
       "        vertical-align: top;\n",
       "    }\n",
       "\n",
       "    .dataframe thead th {\n",
       "        text-align: right;\n",
       "    }\n",
       "</style>\n",
       "<table border=\"1\" class=\"dataframe\">\n",
       "  <thead>\n",
       "    <tr style=\"text-align: right;\">\n",
       "      <th></th>\n",
       "      <th>dates</th>\n",
       "      <th>IsPresent</th>\n",
       "    </tr>\n",
       "  </thead>\n",
       "  <tbody>\n",
       "    <tr>\n",
       "      <th>2018-09-01</th>\n",
       "      <td>2018-09-01</td>\n",
       "      <td>True</td>\n",
       "    </tr>\n",
       "    <tr>\n",
       "      <th>2018-09-02</th>\n",
       "      <td>2018-09-02</td>\n",
       "      <td>True</td>\n",
       "    </tr>\n",
       "    <tr>\n",
       "      <th>2018-09-03</th>\n",
       "      <td>2018-09-03</td>\n",
       "      <td>True</td>\n",
       "    </tr>\n",
       "    <tr>\n",
       "      <th>2018-09-04</th>\n",
       "      <td>2018-09-04</td>\n",
       "      <td>True</td>\n",
       "    </tr>\n",
       "    <tr>\n",
       "      <th>2018-09-05</th>\n",
       "      <td>2018-09-05</td>\n",
       "      <td>True</td>\n",
       "    </tr>\n",
       "  </tbody>\n",
       "</table>\n",
       "</div>"
      ],
      "text/plain": [
       "                dates  IsPresent\n",
       "2018-09-01 2018-09-01       True\n",
       "2018-09-02 2018-09-02       True\n",
       "2018-09-03 2018-09-03       True\n",
       "2018-09-04 2018-09-04       True\n",
       "2018-09-05 2018-09-05       True"
      ]
     },
     "execution_count": 4,
     "metadata": {},
     "output_type": "execute_result"
    }
   ],
   "source": [
    "date_range = pd.date_range(data['Dates'].min(), data['Dates'].max())\n",
    "data_dates = pd.DataFrame(list(data['Dates']), index = data['Dates'])\n",
    "data_dates.columns = ['dates']\n",
    "df_range = pd.DataFrame(index = date_range)\n",
    "df_range = pd.merge(df_range, data_dates, how = 'left', left_index=True, right_index= True)\n",
    "df_range['IsPresent'] = df_range.dates.notnull()\n",
    "df_range.head()"
   ]
  },
  {
   "cell_type": "code",
   "execution_count": 5,
   "metadata": {},
   "outputs": [
    {
     "data": {
      "image/png": "[encoded data removed]",
      "text/plain": [
       "<Figure size 936x36 with 1 Axes>"
      ]
     },
     "metadata": {
      "needs_background": "light"
     },
     "output_type": "display_data"
    }
   ],
   "source": [
    "plt.figure(figsize=(13,0.5));\n",
    "plt.scatter(x = df_range.index, y = np.zeros_like(list(df_range.index)), c = 1 - df_range.IsPresent, marker = '|',\\\n",
    "            cmap = 'bwr', linewidth = 3);\n",
    "plt.xlabel('Dates');\n",
    "plt.yticks([]);\n",
    "plt.title(\"Missing dates\");\n",
    "plt.xlim(data.Dates.values.min(), data.Dates.values.max());\n",
    "plt.show();"
   ]
  },
  {
   "cell_type": "markdown",
   "metadata": {},
   "source": [
    "The red __|__ shows the missing dates."
   ]
  }
 ],
 "metadata": {
  "kernelspec": {
   "display_name": "Python 3",
   "language": "python",
   "name": "python3"
  },
  "language_info": {
   "codemirror_mode": {
    "name": "ipython",
    "version": 3
   },
   "file_extension": ".py",
   "mimetype": "text/x-python",
   "name": "python",
   "nbconvert_exporter": "python",
   "pygments_lexer": "ipython3",
   "version": "3.7.3"
  }
 },
 "nbformat": 4,
 "nbformat_minor": 2
}
