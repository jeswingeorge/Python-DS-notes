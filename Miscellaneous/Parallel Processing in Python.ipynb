{
 "cells": [
  {
   "cell_type": "markdown",
   "metadata": {},
   "source": [
    "# [Parallel Processing in Python](https://www.machinelearningplus.com/python/parallel-processing-python/)\n",
    "\n",
    "__Parallel processing__ is a mode of operation where the task is executed simultaneously in multiple processors in the same computer. It is meant to reduce the overall processing time.\n",
    "\n",
    "However, there is usually a bit of overhead when communicating between processes which can actually increase the overall time taken for small tasks instead of decreasing it.\n",
    "\n",
    "In python, the __multiprocessing__ module is used to run independent parallel processes by using subprocesses (instead of threads). It allows you to leverage multiple processors on a machine (both Windows and Unix), which means, the processes can be run in completely separate memory locations.\n",
    "\n",
    "### Reference\n",
    "1. [Using Multiprocessing to Make Python Code Faster](https://medium.com/@urban_institute/using-multiprocessing-to-make-python-code-faster-23ea5ef996ba)\n",
    "2. [Python multiprocessing](https://data-flair.training/blogs/python-multiprocessing/)\n",
    "\n",
    "### Difference between Multi-processing and multi-threading\n",
    "1.  [Geek for geeks: Difference between Multiprocessing and Multithreading](https://www.geeksforgeeks.org/difference-between-multiprocessing-and-multithreading/)\n",
    "2. [Difference Between Multiprocessing and Multithreading](https://techdifferences.com/difference-between-multiprocessing-and-multithreading.html)\n",
    "\n",
    "By the end of this tutorial you would know:\n",
    "\n",
    "- How to structure the code and understand the syntax to enable parallel processing using multiprocessing?\n",
    "- How to implement synchronous and asynchronous parallel processing?\n",
    "- How to parallelize a Pandas DataFrame?\n",
    "- Solve 3 different usecases with the multiprocessing.Pool() interface.\n",
    "\n",
    "***\n",
    "\n",
    "### How many maximum parallel processes can you run?\n",
    "The maximum number of processes you can run at a time is limited by the number of processors in your computer. If you don’t know how many processors are present in the machine, the `cpu_count()` function in multiprocessing will show it."
   ]
  },
  {
   "cell_type": "code",
   "execution_count": 1,
   "metadata": {},
   "outputs": [],
   "source": [
    "import multiprocessing as mp"
   ]
  },
  {
   "cell_type": "code",
   "execution_count": 2,
   "metadata": {},
   "outputs": [
    {
     "name": "stdout",
     "output_type": "stream",
     "text": [
      "Number of processors:  4\n"
     ]
    }
   ],
   "source": [
    "print(\"Number of processors: \", mp.cpu_count())"
   ]
  },
  {
   "cell_type": "markdown",
   "metadata": {},
   "source": [
    "### What is Synchronous and Asynchronous execution?\n",
    "In parallel processing, there are two types of execution:\n",
    "\n",
    "1. A __Synchronous execution__ is one the processes are completed in the same order in which it was started. This is achieved by locking the main program until the respective processes are finished.\n",
    "\n",
    "2. A __Asynchronous execution__  doesn’t involve locking. As a result, the order of results can get mixed up but usually gets done quicker.\n",
    "\n",
    "There are 2 main objects in multiprocessing to implement parallel execution of a function: The `Pool` Class and the `Process` Class.\n",
    "\n",
    "1. Pool Class\n",
    "    1. Synchronous execution\n",
    "        - `Pool.map()` and `Pool.starmap()`\n",
    "        - `Pool.apply()`\n",
    "    2. Asynchronous execution\n",
    "        - `Pool.map_async()` and `Pool.starmap_async()`\n",
    "        - `Pool.apply_async())`\n",
    "\n",
    "2. Process Class\n",
    "\n",
    "Here we stick to the __Pool class__, because it is most convenient to use and serves most common practical applications.\n",
    "\n",
    "***\n",
    "\n",
    "### Problem Statement: Count how many numbers exist between a given range in each row\n",
    "The first problem is: Given a 2D matrix (or list of lists), count how many numbers are present between a given range in each row. \n",
    "\n"
   ]
  },
  {
   "cell_type": "code",
   "execution_count": 3,
   "metadata": {},
   "outputs": [],
   "source": [
    "import numpy as np\n",
    "from time import time"
   ]
  },
  {
   "cell_type": "code",
   "execution_count": 4,
   "metadata": {},
   "outputs": [
    {
     "data": {
      "text/plain": [
       "[[9, 2, 7, 7, 6],\n",
       " [1, 2, 7, 5, 1],\n",
       " [2, 4, 8, 5, 3],\n",
       " [4, 8, 2, 6, 6],\n",
       " [8, 6, 5, 4, 3]]"
      ]
     },
     "execution_count": 4,
     "metadata": {},
     "output_type": "execute_result"
    }
   ],
   "source": [
    "# Prepare data\n",
    "np.random.RandomState(100)\n",
    "arr = np.random.randint(0, 10, size=[200000, 5])\n",
    "data = arr.tolist()\n",
    "data[:5]"
   ]
  },
  {
   "cell_type": "markdown",
   "metadata": {},
   "source": [
    "### Solution without parallelization\n",
    "Let’s see how long it takes to compute it without parallelization. For this, we iterate the function `howmany_within_range()` (written below) to check how many numbers lie within range and returns the count."
   ]
  },
  {
   "cell_type": "code",
   "execution_count": 5,
   "metadata": {},
   "outputs": [
    {
     "name": "stdout",
     "output_type": "stream",
     "text": [
      "[3, 2, 3, 4, 4, 3, 3, 3, 2, 3]\n"
     ]
    }
   ],
   "source": [
    "def howmany_within_range(row, minimum, maximum):\n",
    "    \"\"\"Returns how many numbers lie within `maximum` and `minimum` in a given `row`\"\"\"\n",
    "    count = 0\n",
    "    for n in row:\n",
    "        if minimum <= n <= maximum:\n",
    "            count = count + 1\n",
    "    return count\n",
    "\n",
    "results = []\n",
    "for row in data:\n",
    "    results.append(howmany_within_range(row, minimum=4, maximum=8))\n",
    "\n",
    "print(results[:10])"
   ]
  },
  {
   "cell_type": "markdown",
   "metadata": {},
   "source": [
    "## 1. How to parallelize any function?\n",
    "\n",
    "The general way to parallelize any operation is to take a particular function that should be run multiple times and make it run parallelly in different processors.\n",
    "\n",
    "To do this, you initialize a `Pool` with n number of processors and pass the function you want to parallelize to one of Pools parallization methods.\n",
    "\n",
    "`multiprocessing.Pool()` provides the `apply()`, `map()` and `starmap()` methods to make any function run in parallel.\n",
    "\n",
    "Nice! So what’s the difference between `apply()` and `map()`?\n",
    "\n",
    "Both `apply` and `map` take the function to be parallelized as the main argument. But the difference is, `apply()` takes an args argument that accepts the parameters passed to the ‘function-to-be-parallelized’ as an argument, whereas, map can take only one iterable as an argument.\n",
    "\n",
    "So, `map()` is really more suitable for simpler iterable operations but does the job faster.\n",
    "\n",
    "We will get to `starmap()` once we see how to parallelize `howmany_within_range()` function with `apply()` and `map()`.\n",
    "\n",
    "### 1.1 Parallelizing using Pool.apply()\n",
    "\n",
    "Let’s parallelize the `howmany_within_range()` function using `multiprocessing.Pool()`."
   ]
  },
  {
   "cell_type": "code",
   "execution_count": 6,
   "metadata": {},
   "outputs": [],
   "source": [
    "import multiprocessing as mp"
   ]
  },
  {
   "cell_type": "code",
   "execution_count": 7,
   "metadata": {},
   "outputs": [],
   "source": [
    "import time"
   ]
  },
  {
   "cell_type": "code",
   "execution_count": 8,
   "metadata": {},
   "outputs": [
    {
     "data": {
      "text/plain": [
       "0.07705473899841309"
      ]
     },
     "execution_count": 8,
     "metadata": {},
     "output_type": "execute_result"
    }
   ],
   "source": [
    "start = time.time()\n",
    "# Step 1: Init multiprocessing.Pool()\n",
    "pool = mp.Pool(mp.cpu_count())\n",
    "end = time.time()\n",
    "end - start"
   ]
  },
  {
   "cell_type": "code",
   "execution_count": null,
   "metadata": {},
   "outputs": [],
   "source": [
    "start = time.time()\n",
    "# Step 2: `pool.apply` the `howmany_within_range()`\n",
    "results = [pool.apply(howmany_within_range, args=(row, 4, 8)) for row in data]\n",
    "end = time.time()\n",
    "end - start"
   ]
  },
  {
   "cell_type": "code",
   "execution_count": null,
   "metadata": {},
   "outputs": [],
   "source": []
  },
  {
   "cell_type": "code",
   "execution_count": null,
   "metadata": {},
   "outputs": [],
   "source": [
    "\n",
    "\n",
    "# Step 2: `pool.apply` the `howmany_within_range()`\n",
    "results = [pool.apply(howmany_within_range, args=(row, 4, 8)) for row in data]\n",
    "\n",
    "# Step 3: Don't forget to close\n",
    "pool.close()    \n",
    "\n",
    "results[:10]"
   ]
  },
  {
   "cell_type": "markdown",
   "metadata": {},
   "source": [
    "### 1.2 Parallelizing using Pool.map()\n",
    "\n",
    "`Pool.map()` accepts only one iterable as argument. So as a workaround, I modify the howmany_within_range function by setting a default to the minimum and maximum parameters to create a new `howmany_within_range_rowonly()` function so it accetps only an iterable list of rows as input. I know this is not a nice usecase of `map()`, but it clearly shows how it differs from `apply()`."
   ]
  },
  {
   "cell_type": "code",
   "execution_count": null,
   "metadata": {},
   "outputs": [],
   "source": [
    "p = mp.Pool(3)\n",
    "\n",
    "t = p.map(cube, range(5000))\n",
    "print(t)"
   ]
  },
  {
   "cell_type": "code",
   "execution_count": null,
   "metadata": {},
   "outputs": [],
   "source": []
  },
  {
   "cell_type": "code",
   "execution_count": null,
   "metadata": {},
   "outputs": [],
   "source": []
  },
  {
   "cell_type": "code",
   "execution_count": null,
   "metadata": {},
   "outputs": [],
   "source": []
  }
 ],
 "metadata": {
  "kernelspec": {
   "display_name": "Python 3",
   "language": "python",
   "name": "python3"
  },
  "language_info": {
   "codemirror_mode": {
    "name": "ipython",
    "version": 3
   },
   "file_extension": ".py",
   "mimetype": "text/x-python",
   "name": "python",
   "nbconvert_exporter": "python",
   "pygments_lexer": "ipython3",
   "version": "3.7.3"
  }
 },
 "nbformat": 4,
 "nbformat_minor": 2
}
